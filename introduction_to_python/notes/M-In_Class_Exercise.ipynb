{
 "cells": [
  {
   "cell_type": "markdown",
   "metadata": {},
   "source": [
    "# Our Task: Find similar company names\n",
    "\n"
   ]
  },
  {
   "cell_type": "markdown",
   "metadata": {},
   "source": [
    "Now that we have completed our Python Primer, let's try to complete a real task, while at the same time trying to practice loops, iterations, and other Python functionality that we studied."
   ]
  },
  {
   "cell_type": "markdown",
   "metadata": {},
   "source": [
    "## Your high level task\n",
    "\n"
   ]
  },
  {
   "cell_type": "markdown",
   "metadata": {},
   "source": [
    "You are given a list of names. You know that the same entity in the list has different representations. You want to find duplicate companies in the data.\n",
    "\n",
    "As a concrete example, open the file under `data/restaurant-names.txt`. This contains a list of restaurant names, extracted from the [NYC Restaurant inspection data set](https://data.cityofnewyork.us/Health/DOHMH-New-York-City-Restaurant-Inspection-Results/xx67-kt59/data) (available online). The Department of Health has been doing a decent, but not perfect, job in recording the company names. Therefore, the same restaurant appears under different names. **Your task is to find \"almost duplicate\" entries in order to decide whether they correspond to the same business.**\n"
   ]
  },
  {
   "cell_type": "code",
   "execution_count": 1,
   "metadata": {},
   "outputs": [
    {
     "name": "stdout",
     "output_type": "stream",
     "text": [
      "#1 GARDEN CHINESE\r\n",
      "#1 ME. NICK'S\r\n",
      "#1 SABOR LATINO RESTAURANT\r\n",
      "$1.25 PIZZA\r\n",
      "''U'' LIKE CHINESE RESTAURANT\r\n",
      "''W'' CAFE\r\n",
      "'WICHCRAFT\r\n",
      "(LEWIS DRUG STORE) LOCANDA VINI E OLII\r\n",
      "(LIBRARY)  FOUR & TWENTY BLACKBIRDS\r\n",
      "(PUBLIC FARE) 81ST STREET AND CENTRAL PARK WEST (DELACORTE THEATRE)\r\n"
     ]
    }
   ],
   "source": [
    "!head -10 ../data/restaurant-names.txt"
   ]
  },
  {
   "cell_type": "code",
   "execution_count": 2,
   "metadata": {},
   "outputs": [
    {
     "name": "stdout",
     "output_type": "stream",
     "text": [
      "ZUTTO\r\n",
      "ZUZU RAMEN\r\n",
      "ZYMI BAR & GRILL\r\n",
      "ZZ CLAM BAR\r\n",
      "ZZ'S PIZZA & GRILL\r\n"
     ]
    }
   ],
   "source": [
    "!tail -5 ../data/restaurant-names.txt"
   ]
  },
  {
   "cell_type": "markdown",
   "metadata": {},
   "source": [
    "## Matching Company Names"
   ]
  },
  {
   "cell_type": "markdown",
   "metadata": {},
   "source": [
    "Quite often, in our data, we have entries represented as strings that refer to the same entity but have different string representations (e.g., McDonald's vs McDonalds vs McDonald‎). We want to write code that will help in the task of finding such similar entries in our data.\n",
    "\n",
    "Our task can be broken in the following tasks:\n",
    "* **Step 1**: Read the data from a file into a list of strings in memory. We have a data set under the `data` folder: The list of unique restaurant names from the NYC Restaurant Inspection dataset (`data/restaurant-names.txt`). We need to write Python code that will read th file and return a list of strings that are the company names.\n",
    "* **Step 2**: We will then need to figure out how to compare two strings and find their similarity. For that, we will write a function that takes as input **two** strings, and returns back their similarities. We will explore multiple ways of writing that function, using various library functions.\n",
    "* **Step 3**: We will need to write a function that takes as input a company name, and returns back a list of matching company names, together with their similarity. Ideally, we would like to also sort the list based on the similarity (highest similarity metrics on top). As part of our learning process, we will use the _list comprehension_ approach to create the list. We will also use tuples as the elements of the list, so that the list contain elements such as `[(\"McDonalds\", 0.88), (\"McDonald's\", 0.81),....]`.\n",
    "* **Step 4**: In the final step, we will just perform the similarity computation across all companies in the dataset."
   ]
  },
  {
   "cell_type": "markdown",
   "metadata": {},
   "source": [
    "## STEP 1: Read the list of names from a file and create a list of names"
   ]
  },
  {
   "cell_type": "code",
   "execution_count": 99,
   "metadata": {},
   "outputs": [],
   "source": [
    "# STEP 1: Read the list of names from a file and create a list of names\n",
    "filename = '../data/restaurant-names.txt'\n",
    "\n",
    "# We open the filename for reading\n",
    "f =  open(filename, \"r\")\n",
    "# Read the file into memory\n",
    "content = f.read()\n",
    "# Content is a big string, with one restaurant per line\n",
    "# so we split it into lines and create a list with the restaurant names\n",
    "restaurants = content.split(\"\\n\")"
   ]
  },
  {
   "cell_type": "code",
   "execution_count": 4,
   "metadata": {},
   "outputs": [
    {
     "data": {
      "text/plain": [
       "20444"
      ]
     },
     "execution_count": 4,
     "metadata": {},
     "output_type": "execute_result"
    }
   ],
   "source": [
    "len(restaurants)"
   ]
  },
  {
   "cell_type": "code",
   "execution_count": 17,
   "metadata": {},
   "outputs": [
    {
     "data": {
      "text/plain": [
       "['#1 GARDEN CHINESE']"
      ]
     },
     "execution_count": 17,
     "metadata": {},
     "output_type": "execute_result"
    }
   ],
   "source": [
    "restaurants[0:1]"
   ]
  },
  {
   "cell_type": "code",
   "execution_count": 18,
   "metadata": {},
   "outputs": [
    {
     "name": "stdout",
     "output_type": "stream",
     "text": [
      "The dataset contains 20444 restaurants\n"
     ]
    }
   ],
   "source": [
    "print(\"The dataset contains\", len(restaurants), \"restaurants\")"
   ]
  },
  {
   "cell_type": "markdown",
   "metadata": {
    "solution2": "hidden",
    "solution2_first": true
   },
   "source": [
    "### Solution"
   ]
  },
  {
   "cell_type": "code",
   "execution_count": null,
   "metadata": {
    "solution2": "hidden"
   },
   "outputs": [],
   "source": [
    "# STEP 1: Read the list of names from a file and create a list of names\n",
    "filename = '../data/restaurant-names.txt'\n",
    "\n",
    "# We open the filename for reading\n",
    "f = open(filename, 'r')\n",
    "# Read the file into memory\n",
    "content = f.read()\n",
    "# Content is a big string, with one restaurant per line\n",
    "# so we split it into lines and create a list with the restaurant names\n",
    "restaurants = content.split('\\n')"
   ]
  },
  {
   "cell_type": "code",
   "execution_count": null,
   "metadata": {
    "solution2": "hidden"
   },
   "outputs": [],
   "source": [
    "len(restaurants)"
   ]
  },
  {
   "cell_type": "code",
   "execution_count": null,
   "metadata": {
    "solution2": "hidden"
   },
   "outputs": [],
   "source": [
    "restaurants"
   ]
  },
  {
   "cell_type": "markdown",
   "metadata": {},
   "source": [
    "## STEP 2: Implement the similarity function"
   ]
  },
  {
   "cell_type": "markdown",
   "metadata": {},
   "source": [
    "### Computing the similarity between two strings"
   ]
  },
  {
   "cell_type": "markdown",
   "metadata": {},
   "source": [
    "There are many ways that we can calculate the similarity between two strings. For our case, we will focus on a few similarity metrics that already have implementations in Python. \n",
    "\n",
    "#### Some commonly used similarity metrics\n",
    "\n",
    "* [Sequence matching](https://docs.python.org/3.6/library/difflib.html) (part of standard Python) ([example](http://stackoverflow.com/questions/17388213/find-the-similarity-percent-between-two-strings))\n",
    "* [Edit distance](https://en.wikipedia.org/wiki/Edit_distance) ([Python Jellyfish Library](https://github.com/jamesturk/jellyfish))\n",
    "* [N-gram distance](http://pythonhosted.org/ngram/tutorial.html#comparing-and-searching-strings)\n",
    "\n",
    "\n",
    "#### STEP 2.a: Let's install the libraries..."
   ]
  },
  {
   "cell_type": "code",
   "execution_count": 19,
   "metadata": {},
   "outputs": [
    {
     "name": "stdout",
     "output_type": "stream",
     "text": [
      "Requirement already up-to-date: jellyfish in /usr/local/lib/python3.6/dist-packages (0.7.1)\n",
      "\u001b[33mWARNING: You are using pip version 19.1, however version 19.1.1 is available.\n",
      "You should consider upgrading via the 'pip install --upgrade pip' command.\u001b[0m\n"
     ]
    }
   ],
   "source": [
    "# Edit distance\n",
    "!sudo -H pip3 install -U jellyfish"
   ]
  },
  {
   "cell_type": "code",
   "execution_count": 20,
   "metadata": {},
   "outputs": [
    {
     "name": "stdout",
     "output_type": "stream",
     "text": [
      "Requirement already up-to-date: ngram in /usr/local/lib/python3.6/dist-packages (3.3.2)\n",
      "\u001b[33mWARNING: You are using pip version 19.1, however version 19.1.1 is available.\n",
      "You should consider upgrading via the 'pip install --upgrade pip' command.\u001b[0m\n"
     ]
    }
   ],
   "source": [
    "# Ngram\n",
    "!sudo -H pip3 install -U ngram"
   ]
  },
  {
   "cell_type": "markdown",
   "metadata": {},
   "source": [
    "#### STEP 2.b: Now let's test our similarity functions with various examples\n",
    "\n",
    "Once we have installed the necessary libraries for our project, we proceed to `import` them and test the functions."
   ]
  },
  {
   "cell_type": "code",
   "execution_count": 21,
   "metadata": {},
   "outputs": [],
   "source": [
    "import jellyfish"
   ]
  },
  {
   "cell_type": "markdown",
   "metadata": {},
   "source": [
    "##### Edit Distance\n",
    "\n",
    "From Wikipedia:\n",
    "\n",
    "The [edit distance](https://en.wikipedia.org/wiki/Edit_distance) _ is a way of quantifying how dissimilar two strings (e.g., words) are to one another by counting the minimum number of operations required to transform one string into the other._. \n",
    "\n",
    "The Levenshtein distance between \"kitten\" and \"sitting\" is 3. A minimal edit script that transforms the former into the latter is:\n",
    "\n",
    "* kitten → sitten (substitution of \"s\" for \"k\")\n",
    "* sitten → sittin (substitution of \"i\" for \"e\")\n",
    "* sittin → sitting (insertion of \"g\" at the end)."
   ]
  },
  {
   "cell_type": "code",
   "execution_count": 22,
   "metadata": {},
   "outputs": [
    {
     "data": {
      "text/plain": [
       "3"
      ]
     },
     "execution_count": 22,
     "metadata": {},
     "output_type": "execute_result"
    }
   ],
   "source": [
    "jellyfish.levenshtein_distance('kitten', 'sitting')"
   ]
  },
  {
   "cell_type": "markdown",
   "metadata": {},
   "source": [
    "Let's try a few more examples"
   ]
  },
  {
   "cell_type": "code",
   "execution_count": 23,
   "metadata": {},
   "outputs": [
    {
     "data": {
      "text/plain": [
       "3"
      ]
     },
     "execution_count": 23,
     "metadata": {},
     "output_type": "execute_result"
    }
   ],
   "source": [
    "jellyfish.levenshtein_distance('Ipeirotis', 'Iperiotos')"
   ]
  },
  {
   "cell_type": "code",
   "execution_count": 24,
   "metadata": {},
   "outputs": [
    {
     "data": {
      "text/plain": [
       "1"
      ]
     },
     "execution_count": 24,
     "metadata": {},
     "output_type": "execute_result"
    }
   ],
   "source": [
    "jellyfish.levenshtein_distance('Starbucks', 'Starbacks')"
   ]
  },
  {
   "cell_type": "code",
   "execution_count": 25,
   "metadata": {},
   "outputs": [
    {
     "data": {
      "text/plain": [
       "1"
      ]
     },
     "execution_count": 25,
     "metadata": {},
     "output_type": "execute_result"
    }
   ],
   "source": [
    "jellyfish.levenshtein_distance('Starbucks', 'Starbuck')"
   ]
  },
  {
   "cell_type": "code",
   "execution_count": 26,
   "metadata": {},
   "outputs": [
    {
     "data": {
      "text/plain": [
       "8"
      ]
     },
     "execution_count": 26,
     "metadata": {},
     "output_type": "execute_result"
    }
   ],
   "source": [
    "jellyfish.levenshtein_distance('Starbucks', 'Wendys')"
   ]
  },
  {
   "cell_type": "markdown",
   "metadata": {},
   "source": [
    "##### Demerau Levenshtein distance\n",
    "\n",
    "The Demerau Levenshtein distance also allows for  transposition of two adjacent characters."
   ]
  },
  {
   "cell_type": "code",
   "execution_count": 27,
   "metadata": {},
   "outputs": [
    {
     "data": {
      "text/plain": [
       "2"
      ]
     },
     "execution_count": 27,
     "metadata": {},
     "output_type": "execute_result"
    }
   ],
   "source": [
    "jellyfish.levenshtein_distance('Ipeirotis', 'Iperiotis')"
   ]
  },
  {
   "cell_type": "code",
   "execution_count": 28,
   "metadata": {},
   "outputs": [
    {
     "data": {
      "text/plain": [
       "1"
      ]
     },
     "execution_count": 28,
     "metadata": {},
     "output_type": "execute_result"
    }
   ],
   "source": [
    "jellyfish.damerau_levenshtein_distance('Ipeirotis', 'Iperiotis')"
   ]
  },
  {
   "cell_type": "code",
   "execution_count": 29,
   "metadata": {},
   "outputs": [
    {
     "data": {
      "text/plain": [
       "1"
      ]
     },
     "execution_count": 29,
     "metadata": {},
     "output_type": "execute_result"
    }
   ],
   "source": [
    "jellyfish.damerau_levenshtein_distance('Starbucks', 'Starbucsk')"
   ]
  },
  {
   "cell_type": "code",
   "execution_count": 30,
   "metadata": {},
   "outputs": [
    {
     "data": {
      "text/plain": [
       "2"
      ]
     },
     "execution_count": 30,
     "metadata": {},
     "output_type": "execute_result"
    }
   ],
   "source": [
    "jellyfish.levenshtein_distance('Starbucks', 'Starbucsk')"
   ]
  },
  {
   "cell_type": "markdown",
   "metadata": {},
   "source": [
    "###### Jaro–Winkler distance\n",
    "\n",
    "[Jaro–Winkler distance](https://en.wikipedia.org/wiki/Jaro%E2%80%93Winkler_distance) is a string metric for measuring the edit distance between two sequences. Informally, the **Jaro** distance between two words is the minimum number of single-character transpositions required to change one word into the other; the **Jaro–Winkler** distance  gives more favourable ratings to strings that match from the beginning.\n"
   ]
  },
  {
   "cell_type": "code",
   "execution_count": 31,
   "metadata": {},
   "outputs": [
    {
     "data": {
      "text/plain": [
       "0.8222222222222222"
      ]
     },
     "execution_count": 31,
     "metadata": {},
     "output_type": "execute_result"
    }
   ],
   "source": [
    "jellyfish.jaro_winkler('Starbucks', 'Starbarbr')"
   ]
  },
  {
   "cell_type": "code",
   "execution_count": 32,
   "metadata": {},
   "outputs": [
    {
     "data": {
      "text/plain": [
       "0.7037037037037037"
      ]
     },
     "execution_count": 32,
     "metadata": {},
     "output_type": "execute_result"
    }
   ],
   "source": [
    "jellyfish.jaro_winkler('Starbucks', 'Milwbucks')"
   ]
  },
  {
   "cell_type": "markdown",
   "metadata": {},
   "source": [
    "##### Soundex\n",
    "\n",
    "[Soundex](https://en.wikipedia.org/wiki/Soundex) is a phonetic algorithm for indexing names by sound, as pronounced in English. The goal is for homophones to be encoded to the same representation so that they can be matched despite minor differences in spelling. \n",
    "\n",
    "Using this algorithm, both \"Robert\" and \"Rupert\" return the same string \"R163\" while \"Rubin\" yields \"R150\". \"Ashcraft\" and \"Ashcroft\" both yield \"A261\". \"Tymczak\" yields \"T522\" not \"T520\" (the chars 'z' and 'k' in the name are coded as 2 twice since a vowel lies in between them). \"Pfister\" yields \"P236\" not \"P123\" (the first two letters have the same number and are coded once as 'P')."
   ]
  },
  {
   "cell_type": "code",
   "execution_count": 33,
   "metadata": {},
   "outputs": [
    {
     "data": {
      "text/plain": [
       "'R163'"
      ]
     },
     "execution_count": 33,
     "metadata": {},
     "output_type": "execute_result"
    }
   ],
   "source": [
    "jellyfish.soundex('Robert')"
   ]
  },
  {
   "cell_type": "code",
   "execution_count": 34,
   "metadata": {},
   "outputs": [
    {
     "data": {
      "text/plain": [
       "'R163'"
      ]
     },
     "execution_count": 34,
     "metadata": {},
     "output_type": "execute_result"
    }
   ],
   "source": [
    "jellyfish.soundex('Rupert')"
   ]
  },
  {
   "cell_type": "code",
   "execution_count": 35,
   "metadata": {},
   "outputs": [
    {
     "data": {
      "text/plain": [
       "'A226'"
      ]
     },
     "execution_count": 35,
     "metadata": {},
     "output_type": "execute_result"
    }
   ],
   "source": [
    "jellyfish.soundex('Ashcroft')"
   ]
  },
  {
   "cell_type": "code",
   "execution_count": 36,
   "metadata": {},
   "outputs": [
    {
     "data": {
      "text/plain": [
       "'A226'"
      ]
     },
     "execution_count": 36,
     "metadata": {},
     "output_type": "execute_result"
    }
   ],
   "source": [
    "jellyfish.soundex('Ashcraft')"
   ]
  },
  {
   "cell_type": "code",
   "execution_count": 37,
   "metadata": {},
   "outputs": [
    {
     "data": {
      "text/plain": [
       "'P131'"
      ]
     },
     "execution_count": 37,
     "metadata": {},
     "output_type": "execute_result"
    }
   ],
   "source": [
    "jellyfish.soundex('Papadopoylis')"
   ]
  },
  {
   "cell_type": "code",
   "execution_count": 38,
   "metadata": {},
   "outputs": [
    {
     "data": {
      "text/plain": [
       "'P131'"
      ]
     },
     "execution_count": 38,
     "metadata": {},
     "output_type": "execute_result"
    }
   ],
   "source": [
    "jellyfish.soundex('Papadopoulos')"
   ]
  },
  {
   "cell_type": "markdown",
   "metadata": {},
   "source": [
    "##### Ngrams\n",
    "\n",
    "With the n-gram similarity score, we split the word into sequences of n consecutive characters (n-grams) and then compare the sets of n-grams between the two words. For example, the name \"Panos\" has the following 2-grams: \"Pa\", \"an\", \"no\", \"os\". (We can also add \"#P\" and \"s#\" if we want to capture the prefix and suffixes.) Strings that share a large number of q-grams are often similar."
   ]
  },
  {
   "cell_type": "code",
   "execution_count": 39,
   "metadata": {},
   "outputs": [],
   "source": [
    "import ngram"
   ]
  },
  {
   "cell_type": "code",
   "execution_count": 40,
   "metadata": {},
   "outputs": [
    {
     "data": {
      "text/plain": [
       "0.7272727272727273"
      ]
     },
     "execution_count": 40,
     "metadata": {},
     "output_type": "execute_result"
    }
   ],
   "source": [
    "ngram.NGram.compare('Ipeirotis','Iperotis',N=2)"
   ]
  },
  {
   "cell_type": "code",
   "execution_count": 41,
   "metadata": {},
   "outputs": [
    {
     "data": {
      "text/plain": [
       "0.8888888888888888"
      ]
     },
     "execution_count": 41,
     "metadata": {},
     "output_type": "execute_result"
    }
   ],
   "source": [
    "ngram.NGram.compare('Ipeirotis','Iperotis',N=1)"
   ]
  },
  {
   "cell_type": "code",
   "execution_count": 42,
   "metadata": {},
   "outputs": [
    {
     "data": {
      "text/plain": [
       "0.8571428571428571"
      ]
     },
     "execution_count": 42,
     "metadata": {},
     "output_type": "execute_result"
    }
   ],
   "source": [
    "ngram.NGram.compare('New York University','New York Universty',N=2)"
   ]
  },
  {
   "cell_type": "code",
   "execution_count": 43,
   "metadata": {},
   "outputs": [
    {
     "data": {
      "text/plain": [
       "0.8636363636363636"
      ]
     },
     "execution_count": 43,
     "metadata": {},
     "output_type": "execute_result"
    }
   ],
   "source": [
    "ngram.NGram.compare('New York University','University of New York',N=1)"
   ]
  },
  {
   "cell_type": "code",
   "execution_count": 44,
   "metadata": {},
   "outputs": [
    {
     "data": {
      "text/plain": [
       "0.3"
      ]
     },
     "execution_count": 44,
     "metadata": {},
     "output_type": "execute_result"
    }
   ],
   "source": [
    "ngram.NGram.compare('New York University','Columbia Universty',N=2)"
   ]
  },
  {
   "cell_type": "markdown",
   "metadata": {},
   "source": [
    "### Task 1: Create a function that takes as input two strings and returns their similarity\n",
    "\n",
    "Given the experience with the metrics above, we want now to create a function that takes as input a string and returns their similarity. Our key requirement is for the similarity metric to be between 0 and 1, with 0 meaning no similarity, and 1 corresponding to identical strings. Some of the similarity functions above would fit right in, others will need some work. "
   ]
  },
  {
   "cell_type": "code",
   "execution_count": 46,
   "metadata": {},
   "outputs": [],
   "source": [
    "import ngram\n",
    "import jellyfish\n",
    "\n",
    "def normalized_similarity_edit_distance(str1, str2):\n",
    "    # Compute the similarity between str1 and str2\n",
    "    maxlength = max(len(str1),len(str2))\n",
    "    distance = jellyfish.levenshtein_distance(str1,str2)\n",
    "    # Normalize\n",
    "    normalized = 1 - distance/maxlength\n",
    "    # Return the result\n",
    "    return normalized\n",
    "\n",
    "    "
   ]
  },
  {
   "cell_type": "code",
   "execution_count": 50,
   "metadata": {},
   "outputs": [
    {
     "data": {
      "text/plain": [
       "0.6"
      ]
     },
     "execution_count": 50,
     "metadata": {},
     "output_type": "execute_result"
    }
   ],
   "source": [
    "normalized_similarity_edit_distance(\"Borja\", \"Gorka\")"
   ]
  },
  {
   "cell_type": "code",
   "execution_count": 52,
   "metadata": {},
   "outputs": [],
   "source": [
    "#Same with soundex\n",
    "def soundex_similarity(str1,str2):\n",
    "    soundex1 = jellyfish.soundex(str1)\n",
    "    soundex2 = jellyfish.soundex(str2)\n",
    "    if soundex1 == soundex2:\n",
    "        return 1 #Matching soundex codes\n",
    "    else:\n",
    "        return 0"
   ]
  },
  {
   "cell_type": "code",
   "execution_count": 55,
   "metadata": {},
   "outputs": [
    {
     "data": {
      "text/plain": [
       "1"
      ]
     },
     "execution_count": 55,
     "metadata": {},
     "output_type": "execute_result"
    }
   ],
   "source": [
    "soundex_similarity(\"Borja\",\"Brujo\")"
   ]
  },
  {
   "cell_type": "code",
   "execution_count": 61,
   "metadata": {},
   "outputs": [],
   "source": [
    "def ngram2_similarity(str1,str2):\n",
    "    similarity = ngram.NGram.compare(str1,str2,N=2)\n",
    "    return similarity"
   ]
  },
  {
   "cell_type": "code",
   "execution_count": 68,
   "metadata": {},
   "outputs": [
    {
     "data": {
      "text/plain": [
       "0.625"
      ]
     },
     "execution_count": 68,
     "metadata": {},
     "output_type": "execute_result"
    }
   ],
   "source": [
    "ngram2_similarity(\"Borja\",\"Borjas\")"
   ]
  },
  {
   "cell_type": "code",
   "execution_count": 77,
   "metadata": {},
   "outputs": [],
   "source": [
    "def ngram3_similarity(str1,str2):\n",
    "    similarity = ngram.NGram.compare(str1,str2,N=3)\n",
    "    return similarity"
   ]
  },
  {
   "cell_type": "code",
   "execution_count": null,
   "metadata": {},
   "outputs": [],
   "source": []
  },
  {
   "cell_type": "markdown",
   "metadata": {
    "solution2": "shown",
    "solution2_first": true
   },
   "source": [
    "### Solution"
   ]
  },
  {
   "cell_type": "code",
   "execution_count": 70,
   "metadata": {
    "solution2": "shown"
   },
   "outputs": [],
   "source": [
    "# For n-gram similarity it is very simple, we just return the result\n",
    "import ngram\n",
    "def computeSimilarity_ngram(str1, str2, n=3):\n",
    "    similarity = ngram.NGram.compare(str1,str2,N=n)\n",
    "    return similarity\n",
    "\n"
   ]
  },
  {
   "cell_type": "code",
   "execution_count": 71,
   "metadata": {
    "solution2": "shown"
   },
   "outputs": [
    {
     "data": {
      "text/plain": [
       "0.5652173913043478"
      ]
     },
     "execution_count": 71,
     "metadata": {},
     "output_type": "execute_result"
    }
   ],
   "source": [
    "computeSimilarity_ngram(\"New York University\", \"New York Univ\")"
   ]
  },
  {
   "cell_type": "code",
   "execution_count": 72,
   "metadata": {
    "solution2": "shown"
   },
   "outputs": [
    {
     "data": {
      "text/plain": [
       "0.6190476190476191"
      ]
     },
     "execution_count": 72,
     "metadata": {},
     "output_type": "execute_result"
    }
   ],
   "source": [
    "computeSimilarity_ngram(\"New York University\", \"New York Univ\",n=2)"
   ]
  },
  {
   "cell_type": "code",
   "execution_count": 73,
   "metadata": {
    "solution2": "shown"
   },
   "outputs": [
    {
     "data": {
      "text/plain": [
       "0.52"
      ]
     },
     "execution_count": 73,
     "metadata": {},
     "output_type": "execute_result"
    }
   ],
   "source": [
    "computeSimilarity_ngram(\"New York University\", \"New York Univ\",n=4)"
   ]
  },
  {
   "cell_type": "code",
   "execution_count": 74,
   "metadata": {
    "solution2": "shown"
   },
   "outputs": [
    {
     "data": {
      "text/plain": [
       "0.13333333333333333"
      ]
     },
     "execution_count": 74,
     "metadata": {},
     "output_type": "execute_result"
    }
   ],
   "source": [
    "computeSimilarity_ngram(\"New York University\", \"Columbia Univ\", n=2)"
   ]
  },
  {
   "cell_type": "code",
   "execution_count": 75,
   "metadata": {
    "solution2": "shown"
   },
   "outputs": [
    {
     "data": {
      "text/plain": [
       "0.26315789473684215"
      ]
     },
     "execution_count": 75,
     "metadata": {},
     "output_type": "execute_result"
    }
   ],
   "source": [
    "# For edit distance\n",
    "import jellyfish\n",
    "def computeSimilarity_editdistance(str1, str2):\n",
    "    # Compute the maximum length of the two strings, to normalize our distance\n",
    "    maxlength = max( len(str1), len(str2))\n",
    "    # Compute the edit distance between two strings\n",
    "    distance = jellyfish.levenshtein_distance(str1, str2)\n",
    "    similarity = 1 - distance/maxlength\n",
    "    return similarity\n",
    "\n",
    "computeSimilarity_editdistance(\"New York University\", \"New York Univ\")\n",
    "computeSimilarity_editdistance(\"New York University\", \"Columbia Univ\")"
   ]
  },
  {
   "cell_type": "code",
   "execution_count": 76,
   "metadata": {
    "solution2": "shown"
   },
   "outputs": [
    {
     "data": {
      "text/plain": [
       "1.0"
      ]
     },
     "execution_count": 76,
     "metadata": {},
     "output_type": "execute_result"
    }
   ],
   "source": [
    "# For soundex\n",
    "import jellyfish\n",
    "def computeSimilarity_soundex(str1, str2):\n",
    "    soundex1 = jellyfish.soundex(str1)\n",
    "    soundex2 = jellyfish.soundex(str2)\n",
    "    if soundex1 == soundex2:\n",
    "        return 1.0\n",
    "    else: \n",
    "        return 0.0\n",
    "    \n",
    "computeSimilarity_soundex(\"New York University\", \"New York Univ\")"
   ]
  },
  {
   "cell_type": "markdown",
   "metadata": {},
   "source": [
    "### Task 2: Modify the functions above to allow for various similarity calculation methods.\n",
    "\n",
    "We will now up our game, and return back the results of the comparison using various methods. The `method` parameter defines the metric that we will use"
   ]
  },
  {
   "cell_type": "code",
   "execution_count": 78,
   "metadata": {},
   "outputs": [],
   "source": [
    "def computeSimilarity(str1, str2, method):\n",
    "    # The function should check the method\n",
    "    # and then call the appropriate similarity function\n",
    "    # what we implemented above and return the \n",
    "    # corresponding similarity value\n",
    "    if method == \"edit distance\":\n",
    "        similarity = normalized_similarity_edit_distance(str1,str2)\n",
    "    elif method == \"soundex\":\n",
    "        similarity = soundex_similarity(str1,str2)\n",
    "    elif method == \"ngram2\":\n",
    "        similarity = ngram2_similarity(str1,str2)\n",
    "    elif method == \"ngram3\":\n",
    "        similarity = ngram3_similarity(str1,str2)\n",
    "    else:\n",
    "        similarity = -1 #Method not supported\n",
    "    return similarity\n",
    " "
   ]
  },
  {
   "cell_type": "code",
   "execution_count": 81,
   "metadata": {},
   "outputs": [
    {
     "name": "stdout",
     "output_type": "stream",
     "text": [
      "0.4\n",
      "1\n",
      "0.09090909090909091\n",
      "0.07692307692307693\n",
      "-1\n"
     ]
    }
   ],
   "source": [
    "print(computeSimilarity(\"Borja\",\"Brujo\",\"edit distance\"))\n",
    "print(computeSimilarity(\"Borja\",\"Brujo\",\"soundex\"))\n",
    "print(computeSimilarity(\"Borja\",\"Brujo\",\"ngram2\"))\n",
    "print(computeSimilarity(\"Borja\",\"Brujo\",\"ngram3\"))\n",
    "print(computeSimilarity(\"Borja\",\"Brujo\",\"ngram4\"))"
   ]
  },
  {
   "cell_type": "code",
   "execution_count": 89,
   "metadata": {},
   "outputs": [],
   "source": [
    "# Getting closer to a real setting, we can now \n",
    "# compute all the similarity metrics and return them \n",
    "# all. Perhaps even compute an average value\n",
    "def computeSimilarity(str1, str2):\n",
    "    # We return a dictionary with all the metrics\n",
    "    similarities = {\n",
    "        \"ngram2\": ngram2_similarity(str1,str2),\n",
    "        \"soundex\": soundex_similarity(str1,str2),\n",
    "        \"ngram3\": ngram3_similarity(str1,str2),\n",
    "        \"edit distance\": normalized_similarity_edit_distance(str1,str2)\n",
    "    }\n",
    "    similarities[\"average\"] = sum(similarities.values())/len(similarities.values())\n",
    "    similarities[\"panos\"] = (2*similarities[\"ngram2\"] + similarities[\"ngram3\"]) /3\n",
    "    return similarities"
   ]
  },
  {
   "cell_type": "code",
   "execution_count": 90,
   "metadata": {},
   "outputs": [
    {
     "data": {
      "text/plain": [
       "{'ngram2': 0.09090909090909091,\n",
       " 'soundex': 1,\n",
       " 'ngram3': 0.07692307692307693,\n",
       " 'edit distance': 0.4,\n",
       " 'average': 0.39195804195804196,\n",
       " 'panos': 0.08624708624708625}"
      ]
     },
     "execution_count": 90,
     "metadata": {},
     "output_type": "execute_result"
    }
   ],
   "source": [
    "computeSimilarity(\"Borja\",\"Brujo\")"
   ]
  },
  {
   "cell_type": "code",
   "execution_count": null,
   "metadata": {},
   "outputs": [],
   "source": [
    "#Test to get averages\n",
    "def computeSimilarity(str1, str2):\n",
    "    # We return a dictionary with all the metrics\n",
    "    return {\n",
    "        \"ngram2\": ngram2_similarity(str1,str2),\n",
    "        \"soundex\": soundex_similarity(str1,str2),\n",
    "        \"ngram3\": ngram3_similarity(str1,str2),\n",
    "        \"edit distance\": normalized_similarity_edit_distance(str1,str2)\n",
    "    }"
   ]
  },
  {
   "cell_type": "markdown",
   "metadata": {
    "solution2": "shown",
    "solution2_first": true
   },
   "source": [
    "### Solution"
   ]
  },
  {
   "cell_type": "code",
   "execution_count": 91,
   "metadata": {
    "solution2": "shown"
   },
   "outputs": [],
   "source": [
    "def computeSimilarity(str1, str2, method):\n",
    "    if method == 'ngram2':\n",
    "        return computeSimilarity_ngram(str1, str2,n=2)\n",
    "    elif method == 'ngram3':\n",
    "        return computeSimilarity_ngram(str1, str2, n=3)\n",
    "    elif method == 'ngram4':\n",
    "        return computeSimilarity_ngram(str1, str2, n=4)\n",
    "    elif method == 'edit_distance':\n",
    "        return computeSimilarity_editdistance(str1, str2)\n",
    "    elif method == 'soundex':\n",
    "        return computeSimilarity_soundex(str1, str2)\n",
    "    else:\n",
    "        return None"
   ]
  },
  {
   "cell_type": "code",
   "execution_count": 92,
   "metadata": {
    "solution2": "shown"
   },
   "outputs": [
    {
     "data": {
      "text/plain": [
       "0.5652173913043478"
      ]
     },
     "execution_count": 92,
     "metadata": {},
     "output_type": "execute_result"
    }
   ],
   "source": [
    "computeSimilarity(\"New York University\", \"New York Univ\", 'ngram3')"
   ]
  },
  {
   "cell_type": "code",
   "execution_count": 93,
   "metadata": {
    "solution2": "shown"
   },
   "outputs": [
    {
     "data": {
      "text/plain": [
       "0.6842105263157895"
      ]
     },
     "execution_count": 93,
     "metadata": {},
     "output_type": "execute_result"
    }
   ],
   "source": [
    "computeSimilarity(\"New York University\", \"New York Univ\", 'edit_distance')"
   ]
  },
  {
   "cell_type": "code",
   "execution_count": 94,
   "metadata": {
    "solution2": "shown"
   },
   "outputs": [],
   "source": [
    "# Most of the time we are going to compute all similarity metrics\n",
    "# and return back a dictionary with all the metrics\n",
    "def computeSimilarity(str1, str2):\n",
    "    results = {\n",
    "        'ngram2': computeSimilarity_ngram(str1, str2, n=2),\n",
    "        'ngram3': computeSimilarity_ngram(str1, str2, n=3),\n",
    "        'ngram4': computeSimilarity_ngram(str1, str2, n=4),\n",
    "        'edit_distance' : computeSimilarity_editdistance(str1, str2),\n",
    "        'soundex': computeSimilarity_soundex(str1, str2) \n",
    "    }\n",
    "    # Arbitrarily, compute a similarity metric as the average of all\n",
    "    results['average'] = sum(results.values()) / len(results)\n",
    "    # Similarly arbitrarily, we can compute our own metric, by mixing\n",
    "    # the various metrics in our own way. \n",
    "    results['custom'] = (results['ngram3'] + 2.5 * results['edit_distance'] + 0.5 * results['soundex']) / 4\n",
    "    return results"
   ]
  },
  {
   "cell_type": "code",
   "execution_count": 95,
   "metadata": {
    "solution2": "shown"
   },
   "outputs": [
    {
     "data": {
      "text/plain": [
       "{'ngram2': 0.6190476190476191,\n",
       " 'ngram3': 0.5652173913043478,\n",
       " 'ngram4': 0.52,\n",
       " 'edit_distance': 0.6842105263157895,\n",
       " 'soundex': 1.0,\n",
       " 'average': 0.6776951073335512,\n",
       " 'custom': 0.6939359267734554}"
      ]
     },
     "execution_count": 95,
     "metadata": {},
     "output_type": "execute_result"
    }
   ],
   "source": [
    "computeSimilarity(\"New York University\", \"New York Univ\")"
   ]
  },
  {
   "cell_type": "code",
   "execution_count": 96,
   "metadata": {},
   "outputs": [],
   "source": [
    "#Test to add average of similarities"
   ]
  },
  {
   "cell_type": "code",
   "execution_count": null,
   "metadata": {},
   "outputs": [],
   "source": []
  },
  {
   "cell_type": "markdown",
   "metadata": {},
   "source": [
    "## STEP 3: Compute similarity of a company against a list of company names"
   ]
  },
  {
   "cell_type": "markdown",
   "metadata": {},
   "source": [
    "We now create a function that accepts a company name and a list of companies, and computes their similarity. This part will get us to exercise our for-loops, and also illustrate how we can use lists and tuples."
   ]
  },
  {
   "cell_type": "markdown",
   "metadata": {},
   "source": [
    "**Sorting a list of tuples**:_This part is a little bit advanced for now, so I will just give the code below. (Solution taken from http://stackoverflow.com/questions/3121979/how-to-sort-list-tuple-of-lists-tuples). Here is a small example below, which we will reuse in our function:_"
   ]
  },
  {
   "cell_type": "code",
   "execution_count": 97,
   "metadata": {},
   "outputs": [
    {
     "name": "stdout",
     "output_type": "stream",
     "text": [
      "[('Peter', 0.8), ('Pan', 0.8), ('Panos', 0.5)]\n"
     ]
    }
   ],
   "source": [
    "data = [(\"Panos\",0.5), (\"Peter\",0.8), (\"Pan\", 0.8)]\n",
    "\n",
    "# This code sorts the list \"data\", by using the second element\n",
    "# of each tuple as the sorting key, and sorts things in reverse order\n",
    "data.sort(key=lambda tupl: tupl[1], reverse=True)  # sorts in place, in descending order, based on the second element of the tuple\n",
    "print(data)"
   ]
  },
  {
   "cell_type": "code",
   "execution_count": 107,
   "metadata": {},
   "outputs": [],
   "source": [
    "# STEP 3: We now create a function that accepts a company name\n",
    "# and a list of companies, and computes their similarity\n",
    "# We have a 'top' parameter (by default set to be 5)\n",
    "# that restricts the results to only the \"top\" most similar \n",
    "# string pairs. We also define a parameter \"method\" that defines \n",
    "# what is the similarity method that we want to use. We also define a \n",
    "# similarity threshold for keeping only results with sufficient similarity\n",
    "\n",
    "def companySimilarity(query, companyList, top = 5, method = 'average', sim_threshold = 0.25):\n",
    "    for c in restaurants:\n",
    "        sim = computeSimilarity(query, c)\n",
    "        if sim[method] > sim_threshold:\n",
    "            print(query, \"===>\", c, sim[method])\n",
    "    "
   ]
  },
  {
   "cell_type": "code",
   "execution_count": 110,
   "metadata": {},
   "outputs": [
    {
     "name": "stdout",
     "output_type": "stream",
     "text": [
      "STARBUCKS ===> JOSE O SHEA'S/STARBUCKS 0.27899650174912544\n",
      "STARBUCKS ===> SHAHI DARBAR 0.2884169453734671\n",
      "STARBUCKS ===> STAR BILLIARDS 0.4228354978354979\n",
      "STARBUCKS ===> STAR OF SIAM 0.39831644328211835\n",
      "STARBUCKS ===> STARBUCKS 1.0\n",
      "STARBUCKS ===> STARBUCKS # 14840 0.5645943503259427\n",
      "STARBUCKS ===> STARBUCKS (JFK TERMINAL 5-POST SECURITY DEPARTURE) 0.3360915750915751\n",
      "STARBUCKS ===> STARBUCKS (STORE 16628) 0.47899650174912545\n",
      "STARBUCKS ===> STARBUCKS 22420 0.6063334807607254\n",
      "STARBUCKS ===> STARBUCKS COFFEE 0.5843181818181818\n",
      "STARBUCKS ===> STARBUCKS COFFEE  #16608 0.46851648351648356\n",
      "STARBUCKS ===> STARBUCKS COFFEE # 15440 0.46851648351648356\n",
      "STARBUCKS ===> STARBUCKS COFFEE # 7463 0.47899650174912545\n",
      "STARBUCKS ===> STARBUCKS COFFEE # 7540 0.47899650174912545\n",
      "STARBUCKS ===> STARBUCKS COFFEE #14240 0.47899650174912545\n",
      "STARBUCKS ===> STARBUCKS COFFEE #18509 0.47899650174912545\n",
      "STARBUCKS ===> STARBUCKS COFFEE #20679 0.47899650174912545\n",
      "STARBUCKS ===> STARBUCKS COFFEE #21514 0.47899650174912545\n",
      "STARBUCKS ===> STARBUCKS COFFEE #22596 0.47899650174912545\n",
      "STARBUCKS ===> STARBUCKS COFFEE #23266 0.47899650174912545\n",
      "STARBUCKS ===> STARBUCKS COFFEE #23267 0.47899650174912545\n",
      "STARBUCKS ===> STARBUCKS COFFEE #3438 0.4903346653346653\n",
      "STARBUCKS ===> STARBUCKS COFFEE #7344 0.4903346653346653\n",
      "STARBUCKS ===> STARBUCKS COFFEE #7358 0.4903346653346653\n",
      "STARBUCKS ===> STARBUCKS COFFEE #7416 0.4903346653346653\n",
      "STARBUCKS ===> STARBUCKS COFFEE #7682 0.4903346653346653\n",
      "STARBUCKS ===> STARBUCKS COFFEE #7826 0.4903346653346653\n",
      "STARBUCKS ===> STARBUCKS COFFEE #9282 0.4903346653346653\n",
      "STARBUCKS ===> STARBUCKS COFFEE #9722 0.4903346653346653\n",
      "STARBUCKS ===> STARBUCKS COFFEE (#19890) 0.45880014831294036\n",
      "STARBUCKS ===> STARBUCKS COFFEE (#2785) 0.46851648351648356\n",
      "STARBUCKS ===> STARBUCKS COFFEE (@ THE MARRIOTT) 0.40077652077652076\n",
      "STARBUCKS ===> STARBUCKS COFFEE (BANK OF AMERICA BUILDING) 0.35689303133425565\n",
      "STARBUCKS ===> STARBUCKS COFFEE (STORE #13539) 0.4126871907517069\n",
      "STARBUCKS ===> STARBUCKS COFFEE (STORE #7216) 0.4191911764705882\n",
      "STARBUCKS ===> STARBUCKS COFFEE (STORE #7555) 0.4191911764705882\n",
      "STARBUCKS ===> STARBUCKS COFFEE (STORE #7577) 0.4191911764705882\n",
      "STARBUCKS ===> STARBUCKS COFFEE (STORE #7587) 0.4191911764705882\n",
      "STARBUCKS ===> STARBUCKS COFFEE (STORE #7696) 0.4191911764705882\n",
      "STARBUCKS ===> STARBUCKS COFFEE (STORE #8614) 0.4191911764705882\n",
      "STARBUCKS ===> STARBUCKS COFFEE (STORE 17478) 0.4191911764705882\n",
      "STARBUCKS ===> STARBUCKS COFFEE (STORE 7261) 0.4261075076202996\n",
      "STARBUCKS ===> STARBUCKS COFFEE (STORE#11650) 0.4191911764705882\n",
      "STARBUCKS ===> STARBUCKS COFFEE (STORE#20161) 0.4191911764705882\n",
      "STARBUCKS ===> STARBUCKS COFFEE COMPANY 0.46851648351648356\n",
      "STARBUCKS ===> STARBUCKS COFFEE COMPANY #22560 0.4126871907517069\n",
      "STARBUCKS ===> STARBUCKS COFFEE MACY'S 6TH FLOOR 0.40077652077652076\n",
      "STARBUCKS ===> STARBUCKS COFFEE# 7426 0.4903346653346653\n",
      "STARBUCKS ===> STARBUCKS COFFEE#7462 0.5026418219461698\n",
      "STARBUCKS ===> STARBUCKS COFFEE,LIMITED BRANDS CAFE 0.3852255639097744\n",
      "STARBUCKS ===> STARBUCKS JPMC 270 PARK 0.47899650174912545\n",
      "STARBUCKS ===> STARBUCKS/NEW YORK MARRIOTT FINANCIAL CENTER 0.3535395256916996\n",
      "STARBUCKS ===> STARLETS 0.30059523809523814\n",
      "STARBUCKS ===> STARRY BAKERY & CAFE 0.3430222881390846\n",
      "STARBUCKS ===> STRIP HOUSE 0.3093939393939394\n",
      "STARBUCKS ===> SWEET REVENGE 0.2702569057351666\n"
     ]
    }
   ],
   "source": [
    "query = \"STARBUCKS\"\n",
    "companySimilarity(query, restaurants)"
   ]
  },
  {
   "cell_type": "code",
   "execution_count": 104,
   "metadata": {},
   "outputs": [
    {
     "name": "stdout",
     "output_type": "stream",
     "text": [
      "BARCA {'ngram2': 0.2, 'ngram3': 0.16666666666666666, 'ngram4': 0.14285714285714285, 'edit_distance': 0.6, 'soundex': 1.0, 'average': 0.4219047619047619, 'custom': 0.5416666666666667}\n"
     ]
    }
   ],
   "source": [
    "    query = \"BORJA\"\n",
    "    for c in restaurants:\n",
    "        sim = computeSimilarity(query, c)\n",
    "        if sim[\"average\"] > 0.4:\n",
    "            print(c,sim)"
   ]
  },
  {
   "cell_type": "markdown",
   "metadata": {
    "solution2": "shown",
    "solution2_first": true
   },
   "source": [
    "### Solution"
   ]
  },
  {
   "cell_type": "code",
   "execution_count": 114,
   "metadata": {
    "solution2": "shown"
   },
   "outputs": [],
   "source": [
    "# STEP 3: We now create a function that accepts a company name\n",
    "# and a list of companies, and computes their similarity\n",
    "# We have a 'top' parameter (by default set to be 5)\n",
    "# that restricts the results to only the most similar \n",
    "# string pairs. We also define a parameter \"method\" that defines \n",
    "# what is the similarity method that we want to use. We also define a \n",
    "# similarity threshold for keeping only results with sufficient similarity\n",
    "\n",
    "def companySimilarity(query, companyList, top = 5, method = 'average', sim_threshold = 0.25):\n",
    "    # We will use a list to store the similar matches\n",
    "    results = []\n",
    "\n",
    "    # Go through all the restaurants\n",
    "    for c in companyList:\n",
    "        # We compute the similarities (all metrics)\n",
    "        # between the string \"query\" and the string \"c\"\n",
    "        # which is the variable that iterates over the list \"companyList\"\n",
    "        similarities = computeSimilarity(query, c)\n",
    "        # If the ngram similarity is above 0.25\n",
    "        if similarities[method]>sim_threshold:\n",
    "            # Add in results the matching restaurant name r\n",
    "            # and the similarity\n",
    "            results.append( (c, similarities[method]) )\n",
    "\n",
    "    # This list contains the matches. The list contains a list\n",
    "    # of tuples (company name, similarity)\n",
    "    # We sort in decreasing order of similarity\n",
    "    results.sort(key=lambda tupl: tupl[1], reverse=True)\n",
    "    \n",
    "    # We return only the top results\n",
    "    return results[:top]    "
   ]
  },
  {
   "cell_type": "code",
   "execution_count": 133,
   "metadata": {},
   "outputs": [],
   "source": [
    "def companySimilarity(query, companyList, top = 5, method = 'average', sim_threshold = 0.25):\n",
    "    matches = []\n",
    "    for c in companyList:\n",
    "        sim = computeSimilarity(query, c)\n",
    "        if sim[method]>sim_threshold:\n",
    "            matches.append( (c,sim[method]) )\n",
    "    matches.sort(key=lambda tupl: tupl[1], reverse=True)      \n",
    "    return matches[1:top+1] #You put 1 to avoid matching with itself   "
   ]
  },
  {
   "cell_type": "code",
   "execution_count": 134,
   "metadata": {
    "solution2": "shown"
   },
   "outputs": [
    {
     "data": {
      "text/plain": [
       "[('MARGO', 0.3076923076923077),\n",
       " ('MAROO', 0.3076923076923077),\n",
       " ('MORIMOTO NY', 0.2777777777777778),\n",
       " (\"MARIA'S\", 0.26666666666666666),\n",
       " (\"MARIO'S\", 0.26666666666666666)]"
      ]
     },
     "execution_count": 134,
     "metadata": {},
     "output_type": "execute_result"
    }
   ],
   "source": [
    "query = 'MARIMOTO'\n",
    "companySimilarity(query, restaurants, \n",
    "                  top = 5, \n",
    "                  method = 'ngram3', \n",
    "                  sim_threshold = 0.25)\n"
   ]
  },
  {
   "cell_type": "code",
   "execution_count": 135,
   "metadata": {
    "solution2": "shown"
   },
   "outputs": [
    {
     "data": {
      "text/plain": [
       "[('MC DONALDS', 0.6631746031746031),\n",
       " (\"MCDONALD'S\", 0.6166386554621848),\n",
       " ('MCDONALD', 0.5953238866396762),\n",
       " (\"MC DONALD'S\", 0.5415669856459331),\n",
       " (\"MCDONALD'S \", 0.5415669856459331)]"
      ]
     },
     "execution_count": 135,
     "metadata": {},
     "output_type": "execute_result"
    }
   ],
   "source": [
    "query = 'MACDONALDS'\n",
    "companySimilarity(query, restaurants, \n",
    "                  top = 5, \n",
    "                  method = 'average', \n",
    "                  sim_threshold = 0.25)\n"
   ]
  },
  {
   "cell_type": "code",
   "execution_count": 136,
   "metadata": {
    "solution2": "shown"
   },
   "outputs": [
    {
     "data": {
      "text/plain": [
       "[('STARBUCKS 22420', 0.47368421052631576),\n",
       " ('STARBUCKS COFFEE', 0.45),\n",
       " ('STARBUCKS # 14840', 0.42857142857142855),\n",
       " ('STARBUCKS COFFEE#7462', 0.36),\n",
       " ('STARBUCKS COFFEE #3438', 0.34615384615384615)]"
      ]
     },
     "execution_count": 136,
     "metadata": {},
     "output_type": "execute_result"
    }
   ],
   "source": [
    "query = 'STARBUCKS'\n",
    "companySimilarity(query, restaurants, \n",
    "                  top = 5, \n",
    "                  method = 'ngram3', \n",
    "                  sim_threshold = 0.25)\n"
   ]
  },
  {
   "cell_type": "code",
   "execution_count": 137,
   "metadata": {
    "solution2": "shown"
   },
   "outputs": [
    {
     "data": {
      "text/plain": [
       "[('STARBUCKS 22420', 0.6063334807607254),\n",
       " ('STARBUCKS COFFEE', 0.5843181818181818),\n",
       " ('STARBUCKS # 14840', 0.5645943503259427),\n",
       " ('STARBUCKS COFFEE#7462', 0.5026418219461698),\n",
       " ('STARBUCKS COFFEE #3438', 0.4903346653346653),\n",
       " ('STARBUCKS COFFEE #7344', 0.4903346653346653),\n",
       " ('STARBUCKS COFFEE #7358', 0.4903346653346653),\n",
       " ('STARBUCKS COFFEE #7416', 0.4903346653346653),\n",
       " ('STARBUCKS COFFEE #7682', 0.4903346653346653),\n",
       " ('STARBUCKS COFFEE #7826', 0.4903346653346653),\n",
       " ('STARBUCKS COFFEE #9282', 0.4903346653346653),\n",
       " ('STARBUCKS COFFEE #9722', 0.4903346653346653),\n",
       " ('STARBUCKS COFFEE# 7426', 0.4903346653346653),\n",
       " ('STARBUCKS (STORE 16628)', 0.47899650174912545),\n",
       " ('STARBUCKS COFFEE # 7463', 0.47899650174912545),\n",
       " ('STARBUCKS COFFEE # 7540', 0.47899650174912545),\n",
       " ('STARBUCKS COFFEE #14240', 0.47899650174912545),\n",
       " ('STARBUCKS COFFEE #18509', 0.47899650174912545),\n",
       " ('STARBUCKS COFFEE #20679', 0.47899650174912545),\n",
       " ('STARBUCKS COFFEE #21514', 0.47899650174912545)]"
      ]
     },
     "execution_count": 137,
     "metadata": {},
     "output_type": "execute_result"
    }
   ],
   "source": [
    "query = 'STARBUCKS'\n",
    "companySimilarity(query, restaurants, \n",
    "                  top = 20, \n",
    "                  method = 'average', \n",
    "                  sim_threshold = 0.25)\n"
   ]
  },
  {
   "cell_type": "code",
   "execution_count": 140,
   "metadata": {},
   "outputs": [
    {
     "name": "stdout",
     "output_type": "stream",
     "text": [
      "#1 GARDEN CHINESE ==> ('SAGAR CHINESE', 0.34946371275783034)\n",
      "#1 GARDEN CHINESE ==> ('KEW GARDEN CHINESE RESTAURANT', 0.31607148730880985)\n",
      "#1 GARDEN CHINESE ==> ('LEE GARDEN CHINESE RESTAURANT', 0.31607148730880985)\n",
      "#1 GARDEN CHINESE ==> ('NEW GARDEN CHINESE RESTAURANT', 0.31607148730880985)\n",
      "#1 GARDEN CHINESE ==> ('BEST GARDEN CHINESE RESTAURANT', 0.30695763799743264)\n",
      "#1 ME. NICK'S ==> (\"UNCLE NICK'S\", 0.3150466200466201)\n",
      "#1 SABOR LATINO RESTAURANT ==> ('SABOR LATINO RESTAURANT', 0.6382921245421246)\n",
      "#1 SABOR LATINO RESTAURANT ==> ('SABOR LATINO SEAFOOD RESTAURANT', 0.4789956280278861)\n",
      "#1 SABOR LATINO RESTAURANT ==> ('LATINO RESTAURANT', 0.4717811355311355)\n",
      "#1 SABOR LATINO RESTAURANT ==> ('AMANECER LATINO RESTAURANT', 0.45486387486387486)\n",
      "#1 SABOR LATINO RESTAURANT ==> ('EL REY LATINO RESTAURANT', 0.4467730412002858)\n",
      "$1.25 PIZZA ==> ('MR. PIZZA', 0.3289393939393939)\n",
      "$1.25 PIZZA ==> ('LJ PIZZA', 0.32283703912186884)\n",
      "$1.25 PIZZA ==> ('MJ PIZZA', 0.32283703912186884)\n",
      "$1.25 PIZZA ==> ('MY PIZZA', 0.32283703912186884)\n",
      "$1.25 PIZZA ==> ('V.I. PIZZA', 0.3181617144465442)\n",
      "''U'' LIKE CHINESE RESTAURANT ==> ('U LIKE CHINESE RESTAURANT', 0.596923597025017)\n",
      "''U'' LIKE CHINESE RESTAURANT ==> ('LEE CHINESE RESTAURANT', 0.4884335298128402)\n",
      "''U'' LIKE CHINESE RESTAURANT ==> ('FU KEE CHINESE RESTAURANT', 0.47698729582577126)\n",
      "''U'' LIKE CHINESE RESTAURANT ==> ('HO LEE CHINESE RESTAURANT', 0.47698729582577126)\n",
      "''U'' LIKE CHINESE RESTAURANT ==> ('SMILE CHINESE RESTAURANT', 0.4697855111648215)\n",
      "''W'' CAFE ==> ('A CAFE', 0.3024132730015083)\n",
      "''W'' CAFE ==> ('B CAFE', 0.3024132730015083)\n",
      "''W'' CAFE ==> ('O CAFE', 0.3024132730015083)\n",
      "''W'' CAFE ==> ('Y CAFE', 0.3024132730015083)\n",
      "''W'' CAFE ==> ('19 CAFE', 0.28948412698412695)\n",
      "'WICHCRAFT ==> ('WICHCRAFT', 0.5710714285714286)\n",
      "'WICHCRAFT ==> ('CRAFT', 0.31726190476190474)\n",
      "'WICHCRAFT ==> ('WICHCRAFT EXPRESS', 0.2730859010270775)\n",
      "(LIBRARY)  FOUR & TWENTY BLACKBIRDS ==> ('FOUR & TWENTY BLACKBIRDS', 0.5070226806812173)\n"
     ]
    }
   ],
   "source": [
    "#Run it for all restaurants\n",
    "for query in restaurants[:10]:\n",
    "    matches = companySimilarity(query, restaurants)\n",
    "    for m in matches:\n",
    "        print(query, \"==>\", m)"
   ]
  },
  {
   "cell_type": "markdown",
   "metadata": {},
   "source": [
    "## Step 4: Perform the similarity computation across all companies in the dataset."
   ]
  },
  {
   "cell_type": "markdown",
   "metadata": {},
   "source": [
    "We are almost done. We now just go through all the companies in the list\n",
    " and we call the `companySimilarity` function that computes the similar company names\n",
    " _for all the companies in the list_."
   ]
  },
  {
   "cell_type": "code",
   "execution_count": null,
   "metadata": {},
   "outputs": [],
   "source": [
    "# STEP 4: We are almost done. We now just go through all the companies in the list\n",
    "# and we call the companySimilarity function that computes the similar company names\n",
    "# for all the companies in the list. We store the results in a dictionary, with the \n",
    "# key being the company name, and the value being a \"list of tuples\" with the \n",
    "# similar company names and the corresponding similarity value.\n",
    "\n",
    "# Your code here"
   ]
  },
  {
   "cell_type": "markdown",
   "metadata": {
    "solution2": "hidden",
    "solution2_first": true
   },
   "source": [
    "### Solution"
   ]
  },
  {
   "cell_type": "code",
   "execution_count": null,
   "metadata": {
    "solution2": "hidden"
   },
   "outputs": [],
   "source": [
    "# STEP 4: We are almost done. We now just go through all the companies in the list\n",
    "# and we call the companySimilarity function that computes the similar company names\n",
    "# for all the companies in the list. We store the results in a dictionary, with the \n",
    "# key being the company name, and the value being a \"list of tuples\" with the \n",
    "# similar company names and the corresponding similarity value.\n",
    "\n",
    "\n",
    "# The matches counter is just to stop the computation quickly\n",
    "# after we have showed enough matches\n",
    "matches = 0 \n",
    "stop_after = 20\n",
    "\n",
    "for q in restaurants:\n",
    "    results = companySimilarity(q, restaurants, \n",
    "                  top = 6, method = 'average', sim_threshold = 0.4)\n",
    "    # We will print only non-identical matches (remember the top\n",
    "    # match is  the restaurant matching with itself)\n",
    "    if (len(results)>1):\n",
    "        for r in results[1:]:\n",
    "            print(f\"{q}\\t===>\\t{r[0]}\\t{r[1]:2.3%}\")\n",
    "        matches = matches + 1\n",
    "    if matches>stop_after: \n",
    "        break # We stop after a few illustrative matches "
   ]
  },
  {
   "cell_type": "code",
   "execution_count": null,
   "metadata": {},
   "outputs": [],
   "source": []
  }
 ],
 "metadata": {
  "kernelspec": {
   "display_name": "Python 3",
   "language": "python",
   "name": "python3"
  },
  "language_info": {
   "codemirror_mode": {
    "name": "ipython",
    "version": 3
   },
   "file_extension": ".py",
   "mimetype": "text/x-python",
   "name": "python",
   "nbconvert_exporter": "python",
   "pygments_lexer": "ipython3",
   "version": "3.6.7"
  },
  "toc": {
   "nav_menu": {},
   "number_sections": true,
   "sideBar": true,
   "skip_h1_title": false,
   "title_cell": "Table of Contents",
   "title_sidebar": "Contents",
   "toc_cell": false,
   "toc_position": {},
   "toc_section_display": true,
   "toc_window_display": false
  }
 },
 "nbformat": 4,
 "nbformat_minor": 1
}
