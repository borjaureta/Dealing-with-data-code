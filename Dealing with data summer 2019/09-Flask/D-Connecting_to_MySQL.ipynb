{
 "cells": [
  {
   "cell_type": "markdown",
   "metadata": {},
   "source": [
    "# Creating of a Flask application showing Citibike stations\n",
    "\n",
    "\n",
    "In this segment we will create a basic app, where we will connect to the Citibike database, and display the list of stations. \n",
    "\n",
    "Let's remember first how to get data from the database."
   ]
  },
  {
   "cell_type": "code",
   "execution_count": 3,
   "metadata": {},
   "outputs": [],
   "source": [
    "# This code creates a connection to the database\n",
    "from sqlalchemy import create_engine\n",
    "\n",
    "conn_string = 'mysql://{user}:{password}@{host}/{db}?charset={encoding}'.format(\n",
    "    host = 'db.ipeirotis.org', \n",
    "    user = 'student',\n",
    "    db = 'citibike_fall2017',\n",
    "    password = 'dwdstudent2015',\n",
    "    encoding = 'utf8mb4')\n",
    "\n",
    "engine = create_engine(conn_string)\n",
    "con = engine.connect()"
   ]
  },
  {
   "cell_type": "code",
   "execution_count": 4,
   "metadata": {},
   "outputs": [
    {
     "name": "stdout",
     "output_type": "stream",
     "text": [
      "(72, 'W 52 St & 11 Ave', 39, 40.7673, -73.9939)\n",
      "-----\n",
      "(79, 'Franklin St & W Broadway', 33, 40.7191, -74.0067)\n",
      "-----\n",
      "(82, 'St James Pl & Pearl St', 27, 40.7112, -74.0002)\n",
      "-----\n",
      "(83, 'Atlantic Ave & Fort Greene Pl', 62, 40.6838, -73.9763)\n",
      "-----\n",
      "(116, 'W 17 St & 8 Ave', 39, 40.7418, -74.0015)\n",
      "-----\n"
     ]
    }
   ],
   "source": [
    "# cur = con.cursor(mdb.cursors.DictCursor)\n",
    "stations = con.execute(\"SELECT DISTINCT id, name, capacity, lat, lon  FROM status_fall2017 LIMIT 5\")\n",
    "\n",
    "for s in stations:\n",
    "    print(s)\n",
    "    print(\"-----\")"
   ]
  },
  {
   "cell_type": "markdown",
   "metadata": {},
   "source": [
    "## Displaying the database results in HTML"
   ]
  },
  {
   "cell_type": "markdown",
   "metadata": {},
   "source": [
    "Now, we are going to display these data in HTML page in a table format. An HTML table is defined with the [`<table>` tag](https://www.w3schools.com/html/html_tables.asp). Each table row is defined with the `<tr>` tag. A table header is defined with the `<th>` tag. By default, table headings are bold and centered. A table data/cell is defined with the `<td>` tag. \n"
   ]
  },
  {
   "cell_type": "markdown",
   "metadata": {},
   "source": [
    "Let's transfer the code for records retrieving to the `\"webserver.py\"` file:\n",
    "\n",
    "```python\n",
    "from flask import Flask, render_template\n",
    "from sqlalchemy import create_engine\n",
    "\n",
    "app = Flask(__name__)\n",
    "    \n",
    "@app.route('/citibike')\n",
    "def citibike_stations():\n",
    "    \n",
    "    conn_string = 'mysql://{user}:{password}@{host}/{db}?charset={encoding}'.format(\n",
    "        host = 'db.ipeirotis.org', \n",
    "        user = 'student',\n",
    "        db = 'citibike_fall2017',\n",
    "        password = 'dwdstudent2015',\n",
    "        encoding = 'utf8mb4')\n",
    "\n",
    "    engine = create_engine(conn_string)\n",
    "    con = engine.connect()\n",
    "    stations = con.execute(\"SELECT DISTINCT id AS station_id, name, capacity, lat, lon  FROM status_fall2017\")\n",
    "    con.close()\n",
    "\n",
    "    return render_template('citibike.html', stations=stations)\n",
    "\n",
    "app.run(host='0.0.0.0', port=5000, debug=True)\n",
    "```\n",
    "\n"
   ]
  },
  {
   "cell_type": "markdown",
   "metadata": {},
   "source": [
    "and add the following code to the `\"templates/citibike.html\"` file\n",
    "\n",
    "```html\n",
    "<!DOCTYPE html>\n",
    "<html>\n",
    "<body>   <!-- This is a comment in HTML -->\n",
    "    <table>\n",
    "        <thead>\n",
    "            <tr>    <!-- Construct table header -->\n",
    "                <th>Station ID</th>\n",
    "                <th>Address</th>\n",
    "                <th>Capacity</th>\n",
    "                <th>Lon / Lat</th>\n",
    "            </tr>\n",
    "        </thead>\n",
    "        <tbody>\n",
    "            {% for station in stations %}    <!-- Fill table rows for each station --> \n",
    "                <tr>\n",
    "                    <td>{{ station.station_id }}</td>\n",
    "                    <td>{{ station.name }}</td>\n",
    "                    <td>{{ station.capacity }}</td>\n",
    "                    <td>{{ station.lon }}, {{ station.lat }}</td>\n",
    "           \n",
    "                </tr>\n",
    "            {% endfor %}\n",
    "         </tbody>\n",
    "    </table>\n",
    "</body>\n",
    "</html>\n",
    "```\n",
    "\n",
    "Run this code to see how the table looks."
   ]
  },
  {
   "cell_type": "markdown",
   "metadata": {},
   "source": [
    "#### Now let's start our server:\n",
    "\n",
    "\n",
    "\n",
    "```bash\n",
    "$  python3 webserver.py\n",
    "```"
   ]
  }
 ],
 "metadata": {
  "anaconda-cloud": {},
  "kernelspec": {
   "display_name": "Python 3",
   "language": "python",
   "name": "python3"
  },
  "language_info": {
   "codemirror_mode": {
    "name": "ipython",
    "version": 3
   },
   "file_extension": ".py",
   "mimetype": "text/x-python",
   "name": "python",
   "nbconvert_exporter": "python",
   "pygments_lexer": "ipython3",
   "version": "3.6.6"
  }
 },
 "nbformat": 4,
 "nbformat_minor": 2
}
