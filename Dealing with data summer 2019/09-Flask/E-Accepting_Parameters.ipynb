{
 "cells": [
  {
   "cell_type": "markdown",
   "metadata": {},
   "source": [
    "# Getting Parameters and Passing to SQL\n",
    "\n",
    "Now let's see how we can query for the status of a Citibike station over time.\n",
    "\n",
    "For this part, we want to create a new function, where we will pass the `station_id` as a **parameter**. Then our code will read the value of the parameter `station_id` and then will query the database to get the status of that station.\n",
    "\n",
    "The related pieces of code for reading a parameter are the following\n",
    "\n",
    "> `from flask import request`\n",
    "\n",
    "> `station_id = request.args.get('station_id')`"
   ]
  },
  {
   "cell_type": "markdown",
   "metadata": {},
   "source": [
    "Now, let's add the import command `from flask import request` into the `webserver.py` and also add the function below that adds an extra URL `station_status`. \n",
    "\n",
    "```python\n",
    "from flask import request\n",
    "@app.route('/station_status')\n",
    "def station_status():\n",
    "\n",
    "    station_id = int(request.args.get('station_id'))\n",
    "\n",
    "    conn_string = 'mysql://{user}:{password}@{host}/{db}?charset={encoding}'.format(\n",
    "        host = 'db.ipeirotis.org', \n",
    "        user = 'student',\n",
    "        db = 'citibike_fall2017',\n",
    "        password = 'dwdstudent2015',\n",
    "        encoding = 'utf8mb4')\n",
    "\n",
    "    engine = create_engine(conn_string)\n",
    "    con = engine.connect()\n",
    "    query = '''SELECT available_bikes, \n",
    "                      available_docks, \n",
    "                      capacity, \n",
    "                      available_bikes / capacity AS percent_full,\n",
    "                      communication_time \n",
    "               FROM status_fall2017\n",
    "               WHERE id = %s'''\n",
    "    status = con.execute(query, (station_id,))\n",
    "\n",
    "    con.close()\n",
    "\n",
    "    return render_template('station_status.html', station_id = station_id, statuses=status)\n",
    "```"
   ]
  },
  {
   "cell_type": "markdown",
   "metadata": {},
   "source": [
    "And we can create the corresponding template file under `templates/station_status.html` for showing the results:\n",
    "    \n",
    "```html\n",
    "<!DOCTYPE html>\n",
    "<html>\n",
    "<body> \n",
    "    <table>\n",
    "        <thead>\n",
    "            <tr>    <!-- Construct table header -->\n",
    "                    <th> Time </th>\n",
    "                    <th> Bikes available </th>\n",
    "                    <th> Docks available </th>\n",
    "                    <th> Total docks </th>\n",
    "                    <th> Percent full </th>\n",
    "            </tr>\n",
    "        </thead>\n",
    "        <tbody>\n",
    "            {% for status in statuses %}\n",
    "                <tr>\n",
    "                    <td>{{ status.communication_time }}</td>\n",
    "                    <td>{{ status.available_bikes }}</td>\n",
    "                    <td>{{ status.available_docks }}</td>\n",
    "                    <td>{{ status.capacity }}</td>\n",
    "                    <td>{{ status.percent_full }}</td>\n",
    "                </tr>\n",
    "            {% endfor %}\n",
    "         </tbody>\n",
    "    </table>\n",
    "</body>\n",
    "</html>\n",
    "```"
   ]
  },
  {
   "cell_type": "markdown",
   "metadata": {},
   "source": [
    "This function creates a new URL, to which we can pass a parameter `station_id` as follows:\n",
    "\n",
    "> http://your_ip_address:5000/station_status?station_id=72\n",
    "\n"
   ]
  },
  {
   "cell_type": "markdown",
   "metadata": {},
   "source": [
    "#### Now let's start our server:\n",
    "\n",
    "\n",
    "\n",
    "```bash\n",
    "$  python3 webserver.py\n",
    "```"
   ]
  }
 ],
 "metadata": {
  "anaconda-cloud": {},
  "kernelspec": {
   "display_name": "Python 3",
   "language": "python",
   "name": "python3"
  },
  "language_info": {
   "codemirror_mode": {
    "name": "ipython",
    "version": 3
   },
   "file_extension": ".py",
   "mimetype": "text/x-python",
   "name": "python",
   "nbconvert_exporter": "python",
   "pygments_lexer": "ipython3",
   "version": "3.6.6"
  }
 },
 "nbformat": 4,
 "nbformat_minor": 2
}
