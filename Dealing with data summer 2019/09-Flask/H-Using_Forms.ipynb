{
 "cells": [
  {
   "cell_type": "markdown",
   "metadata": {},
   "source": [
    "# Using Forms"
   ]
  },
  {
   "cell_type": "markdown",
   "metadata": {},
   "source": [
    "Now let's see how we can use HTML forms to submit our own data.\n",
    "\n",
    "HTML forms allow us to get user entries and then use the submitted values as parameters in our code. (See [W3 Schools](https://www.w3schools.com/html/html_forms.asp) for more details.)\n",
    "\n",
    "Suppose that you want to have the ability to search the Citibike stations by their name, and get back a list of the stations that contain the search string. A simple HTML form that can do that is listed below. Save the file  `search_stations.html` in your `templates` folder, and add a new route in your webserver.py, so that you can get back this page, when you visit the main page of your website.\n"
   ]
  },
  {
   "cell_type": "markdown",
   "metadata": {},
   "source": [
    "#### `search_stations.html`\n",
    "\n",
    "```html\n",
    "<!DOCTYPE html>\n",
    "<html>\n",
    "<head>\n",
    "    <title>Search Citibike Stations</title>\n",
    "</head>\n",
    "<body>\n",
    "      <form action=\"/search\">\n",
    "      Station Name:<br>\n",
    "      <input type=\"text\" name=\"name\"><br>\n",
    "    </form>\n",
    "</body>\n",
    "```\n",
    "\n",
    "#### `webserver.py`\n",
    "\n",
    "```python\n",
    "@app.route('/')\n",
    "def home():\n",
    "    return render_template('search_stations.html')\n",
    "```"
   ]
  },
  {
   "cell_type": "markdown",
   "metadata": {},
   "source": [
    "A key part of the form is the `action` script.\n",
    "\n",
    "This defines what is the URL that we should go to, when we submit the form. In our case, it will go to the `http://<your IP>:5000/search` with the parameter `name` having the value of the text that the user entered.\n",
    "\n",
    "For example, if we enter `Bleecker` on the form, the form will direct us to the URL `http://<your IP>:5000/search?name=Bleecker`.\n",
    "\n",
    "Now, we need to specify the corresponding route in our webserver (i.e., the `/search` route) and define what it will do.\n",
    "\n",
    "Below we list the code that needs to be added in the `webserver.py` to implement that route."
   ]
  },
  {
   "cell_type": "markdown",
   "metadata": {},
   "source": [
    "#### `webserver.py`\n",
    "\n",
    "```python\n",
    "@app.route('/search')\n",
    "def search():\n",
    "\n",
    "    name = request.args.get('name')\n",
    "\n",
    "    conn_string = 'mysql://{user}:{password}@{host}/{db}?charset={encoding}'.format(\n",
    "        host = 'db.ipeirotis.org', \n",
    "        user = 'student',\n",
    "        db = 'citibike_fall2017',\n",
    "        password = 'dwdstudent2015',\n",
    "        encoding = 'utf8mb4')\n",
    "    engine = create_engine(conn_string)\n",
    "\n",
    "    con = engine.connect()\n",
    "    query = '''SELECT DISTINCT id AS station_id, name, capacity, lat, lon\n",
    "               FROM status_fall2017\n",
    "               WHERE name LIKE %s\n",
    "            '''\n",
    "    stations = con.execute(query, ('%'+name+'%',))\n",
    "    con.close()\n",
    "    \n",
    "    return render_template('citibike.html', stations=stations)\n",
    "```"
   ]
  },
  {
   "cell_type": "code",
   "execution_count": null,
   "metadata": {},
   "outputs": [],
   "source": []
  }
 ],
 "metadata": {
  "kernelspec": {
   "display_name": "Python 3",
   "language": "python",
   "name": "python3"
  },
  "language_info": {
   "codemirror_mode": {
    "name": "ipython",
    "version": 3
   },
   "file_extension": ".py",
   "mimetype": "text/x-python",
   "name": "python",
   "nbconvert_exporter": "python",
   "pygments_lexer": "ipython3",
   "version": "3.6.6"
  }
 },
 "nbformat": 4,
 "nbformat_minor": 2
}
