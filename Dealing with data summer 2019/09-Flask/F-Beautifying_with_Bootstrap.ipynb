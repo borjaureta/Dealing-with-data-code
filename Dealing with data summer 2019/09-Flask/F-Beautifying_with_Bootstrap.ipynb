{
 "cells": [
  {
   "cell_type": "markdown",
   "metadata": {},
   "source": [
    "# Beautifying the app using Bootstrap\n",
    "\n",
    "Honestly, the build HTML pages are not beautiful. Moreover, such way of web development usually brings a lot of problems when large and complex HTML pages are creating. [Twitter's Bootstrap](http://getbootstrap.com/) is an excellent set of carefully crafted user interface elements, layouts and JavaScript tools, easily available to use in your web design project. All you need is to create a link to the [Bootstrap resources](http://getbootstrap.com/getting-started/#download-cdn) in the HTML head and use the predefined CSS styles.\n"
   ]
  },
  {
   "cell_type": "markdown",
   "metadata": {},
   "source": [
    "Let's change the HTML in the `templates/citibike.html` file, to add a few Bootstrap elements:\n",
    "\n",
    "```html\n",
    "<!DOCTYPE html>\n",
    "<html>\n",
    "<head>\n",
    "    <link rel=\"stylesheet\" href=\"https://stackpath.bootstrapcdn.com/bootstrap/4.1.3/css/bootstrap.min.css\" integrity=\"sha384-MCw98/SFnGE8fJT3GXwEOngsV7Zt27NXFoaoApmYm81iuXoPkFOJwJ8ERdknLPMO\" crossorigin=\"anonymous\">\n",
    "</head>\n",
    "<body>  \n",
    "    <div class=\"container\">\n",
    "        <div class=\"panel panel-info\">\n",
    "            <div class=\"panel-heading\">\n",
    "                <h1 class=\"panel-title\">Citibike Stations</h1>\n",
    "            </div>\n",
    "            <table  class=\"table table-striped table-bordered table-hover\">\n",
    "                <thead>\n",
    "                    <tr> \n",
    "                        <th>Station ID</th>\n",
    "                        <th>Address</th>\n",
    "                        <th>Capacity</th>\n",
    "                        <th>Lon / Lat</th>\n",
    "                    </tr>\n",
    "                </thead>\n",
    "                <tbody>\n",
    "                    {% for station in stations %}    <!-- Fill table rows for each station --> \n",
    "                        <tr>\n",
    "                            <td>{{ station.station_id }}</td>\n",
    "                            <td>{{ station.name }}</td>\n",
    "                            <td>{{ station.capacity }}</td>\n",
    "                            <td>{{ station.lon }}, {{ station.lat }}</td>\n",
    "                        </tr>\n",
    "                    {% endfor %}\n",
    "                 </tbody>\n",
    "            </table>\n",
    "        </div>\n",
    "    </div>\n",
    "</body>\n",
    "</html>\n",
    "```"
   ]
  },
  {
   "cell_type": "markdown",
   "metadata": {},
   "source": [
    "And similarly for `station_status.html`:\n",
    "\n",
    "```html\n",
    "<!DOCTYPE html>\n",
    "<html>\n",
    "<head>\n",
    "    <link rel=\"stylesheet\" href=\"https://stackpath.bootstrapcdn.com/bootstrap/4.1.3/css/bootstrap.min.css\" integrity=\"sha384-MCw98/SFnGE8fJT3GXwEOngsV7Zt27NXFoaoApmYm81iuXoPkFOJwJ8ERdknLPMO\" crossorigin=\"anonymous\">\n",
    "</head>\n",
    "<body>\n",
    "    <div class=\"container\">\n",
    "        <div class=\"panel panel-info\">\n",
    "            <div class=\"panel-heading\">\n",
    "                <h1 class=\"panel-title\">Citibike Station {{station_id}} Status Over Time </h1>\n",
    "            </div>\n",
    "            <table  class=\"table table-striped table-bordered table-hover\">\n",
    "                <thead>\n",
    "                    <tr>    <!-- Construct table header -->\n",
    "                            <th> Time </th>\n",
    "                            <th> Bikes available </th>\n",
    "                            <th> Docks available </th>\n",
    "                            <th> Total docks </th>\n",
    "                            <th> Percent full </th>\n",
    "                    </tr>\n",
    "                </thead>\n",
    "                <tbody>\n",
    "                    {% for status in statuses %}\n",
    "                        <tr>\n",
    "                            <td>{{ status.communication_time }}</td>\n",
    "                            <td>{{ status.available_bikes }}</td>\n",
    "                            <td>{{ status.available_docks }}</td>\n",
    "                            <td>{{ status.capacity }}</td>\n",
    "                            <td>{{ status.percent_full }}%</td>\n",
    "                        </tr>\n",
    "                    {% endfor %}\n",
    "                 </tbody>\n",
    "             </table>\n",
    "        </div>\n",
    "    </div>\n",
    "</body>\n",
    "</html>\n",
    "```"
   ]
  },
  {
   "cell_type": "markdown",
   "metadata": {},
   "source": [
    "\n",
    "We are not going to teach Bootstrap in this lesson. We will simply show an example of the main page customization with the help of Bootstrap classes (see below). If you would like to use more components from Bootstrap, we recommend using the official resources: ([this](http://getbootstrap.com/css/) and [this](http://getbootstrap.com/components/)).\n",
    "        \n"
   ]
  },
  {
   "cell_type": "markdown",
   "metadata": {},
   "source": [
    "### Exercise\n",
    "\n",
    "* In the main Citibike page, add a link to the page that shows the status of the station over time\n",
    "* Add an extra parameter, that also passes the name of the station\n",
    "\n",
    "### Advanced Exercise\n",
    "\n",
    "* Add as parameters the longitude and latitude of the station, and display the location of the station at the top of the page. You can yse the Google Maps embed approach (see https://developers.google.com/maps/documentation/embed/guide) or using any other service\n",
    "* Add a plot showing the status of the station over time"
   ]
  },
  {
   "cell_type": "code",
   "execution_count": null,
   "metadata": {},
   "outputs": [],
   "source": []
  }
 ],
 "metadata": {
  "kernelspec": {
   "display_name": "Python 3",
   "language": "python",
   "name": "python3"
  },
  "language_info": {
   "codemirror_mode": {
    "name": "ipython",
    "version": 3
   },
   "file_extension": ".py",
   "mimetype": "text/x-python",
   "name": "python",
   "nbconvert_exporter": "python",
   "pygments_lexer": "ipython3",
   "version": "3.6.6"
  }
 },
 "nbformat": 4,
 "nbformat_minor": 2
}
