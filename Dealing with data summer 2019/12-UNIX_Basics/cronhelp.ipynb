{
 "cells": [
  {
   "cell_type": "markdown",
   "metadata": {},
   "source": [
    "### Cron assignment, all done from a notebook\n",
    "The following cells are an example of how to do the cron assignment\n",
    "without having to go to the terminal, using notepad etc.\n",
    "Everything can be done frpm notebook cells\n"
   ]
  },
  {
   "cell_type": "markdown",
   "metadata": {},
   "source": [
    "#### First, start the cron daemon, to make sure it is running\n"
   ]
  },
  {
   "cell_type": "code",
   "execution_count": 17,
   "metadata": {},
   "outputs": [
    {
     "name": "stdout",
     "output_type": "stream",
     "text": [
      " * Starting periodic command scheduler cron\r\n",
      "   ...done.\r\n"
     ]
    }
   ],
   "source": [
    "!sudo service cron start"
   ]
  },
  {
   "cell_type": "markdown",
   "metadata": {},
   "source": [
    "#### Second, create the getTemp shell file by \"echoing\" the command lines into a file\n",
    "Note: the use of \\'s to escape some of the special characters,\n",
    "but first remove an existing NYC-Temperatures.txt file \n"
   ]
  },
  {
   "cell_type": "code",
   "execution_count": 18,
   "metadata": {},
   "outputs": [],
   "source": [
    "!rm /home/nwhite/NYC-Temperatures.txt\n"
   ]
  },
  {
   "cell_type": "code",
   "execution_count": 26,
   "metadata": {},
   "outputs": [
    {
     "name": "stdout",
     "output_type": "stream",
     "text": [
      "#!/bin/sh\r\n",
      "curl -s \"http://api.openweathermap.org/data/2.5/weather?zip=10012&mode=json&units=imperial&APPID=ffb7b9808e07c9135bdcc7d1e867253d \"|jq '.main.temp' \r\n"
     ]
    }
   ],
   "source": [
    "# create the getTemp file and change it's permissions tø make it readable and executable\n",
    "# First put in the line for the \n",
    "# That tells linux to interpret this line with the bourne shell\n",
    "\n",
    "!rm /home/nwhite/getTemp\n",
    "!echo \"#!/bin/sh\" >/home/nwhite/getTemp\n",
    "\n",
    "# Next, add the line to retrieve the temperature from openweather\n",
    "#\n",
    "# Put your APIKEY to replace the APPID below below....\n",
    "#\n",
    "# now add the call to the openweathermap api\n",
    "# Note that we need to surround the curl URL in escaped single quotes\n",
    "!echo \"curl -s \\\"http://api.openweathermap.org/data/2.5/weather?zip=10012&mode=json&units=imperial&APPID=ffb7b9808e07c9135bdcc7d1e867253d \\\"|jq '.main.temp' \" >>/home/nwhite/getTemp \n",
    "\n",
    "# change permissions\n",
    "!chmod a+rx /home/nwhite/getTemp\n",
    "# look at the file....\n",
    "!cat /home/nwhite/getTemp\n"
   ]
  },
  {
   "cell_type": "markdown",
   "metadata": {},
   "source": [
    "### We should now have a good getTemp file, so create the crontab entry ...\n",
    "echo the crontyab entry as input to crontab\n",
    "`!echo \"/10 * * * *  /home/nwhite/getTemp\"|crontab`\n",
    "(You  might start with 1 minute intervals to test)"
   ]
  },
  {
   "cell_type": "code",
   "execution_count": 30,
   "metadata": {},
   "outputs": [
    {
     "name": "stdout",
     "output_type": "stream",
     "text": [
      "*/10 * * * * /home/nwhite/getTemp >>/home/nwhite/NYC-Temperatures.txt\r\n"
     ]
    }
   ],
   "source": [
    "!echo \"*/10 * * * * /home/nwhite/getTemp >>/home/nwhite/NYC-Temperatures.txt\"|crontab\n",
    "#list the crontab entry to see if it is correct\n",
    "!crontab -l\n"
   ]
  },
  {
   "cell_type": "code",
   "execution_count": 31,
   "metadata": {},
   "outputs": [
    {
     "name": "stdout",
     "output_type": "stream",
     "text": [
      "76.5\r\n",
      "76.5\r\n",
      "76.5\r\n",
      "76.5\r\n",
      "76.5\r\n"
     ]
    }
   ],
   "source": [
    "### Now look at the NYC-Temperatures file (Note it may take a few minutes to be created)callable\n",
    "!cat /home/nwhite/NYC-Temperatures.txt\n",
    "# in 5 minutes, you should see an entry !!!\n"
   ]
  },
  {
   "cell_type": "code",
   "execution_count": 32,
   "metadata": {},
   "outputs": [
    {
     "name": "stdout",
     "output_type": "stream",
     "text": [
      "*/10 * * * * /home/nwhite/getTemp >>/home/nwhite/NYC-Temperatures.txt\r\n"
     ]
    }
   ],
   "source": [
    "!crontab -l"
   ]
  },
  {
   "cell_type": "code",
   "execution_count": 33,
   "metadata": {},
   "outputs": [
    {
     "name": "stdout",
     "output_type": "stream",
     "text": [
      "\u001b[0;39m76.5\u001b[0m\r\n"
     ]
    }
   ],
   "source": [
    "!/home/nwhite/getTemp"
   ]
  },
  {
   "cell_type": "code",
   "execution_count": null,
   "metadata": {},
   "outputs": [],
   "source": []
  }
 ],
 "metadata": {
  "kernelspec": {
   "display_name": "Python 3",
   "language": "python",
   "name": "python3"
  },
  "language_info": {
   "codemirror_mode": {
    "name": "ipython",
    "version": 3
   },
   "file_extension": ".py",
   "mimetype": "text/x-python",
   "name": "python",
   "nbconvert_exporter": "python",
   "pygments_lexer": "ipython3",
   "version": "3.6.5"
  }
 },
 "nbformat": 4,
 "nbformat_minor": 2
}
