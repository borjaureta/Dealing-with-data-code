{
 "cells": [
  {
   "cell_type": "markdown",
   "metadata": {},
   "source": [
    "## Creating Scripts\n",
    "\n",
    "Now, let's try to create our first \"script\", which we can execute from the shell directly.\n",
    "\n",
    "* Create a file called `get_weather.py`\n",
    "* Type the commands from the earlier module\n",
    "```python\n",
    "    #!/usr/bin/python3\n",
    "    import requests\n",
    "    freegeoip_url = 'http://freegeoip.net/json/'\n",
    "    resp = requests.get(freegeoip_url)\n",
    "    data = resp.json()\n",
    "    lon = data[\"longitude\"]\n",
    "    lat = data[\"latitude\"]\n",
    "\n",
    "    openweathermap_url = \"http://api.openweathermap.org/data/2.5/weather\"\n",
    "    parameters = {\n",
    "        'lat'   : str(lat),\n",
    "        'lon'   : str(lon),\n",
    "        'units' : 'imperial',\n",
    "        'mode'  : 'json',\n",
    "        'appid' : 'ffb7b9808e07c9135bdcc7d1e867253d'\n",
    "    }\n",
    "    resp = requests.get(openweathermap_url, params=parameters)\n",
    "    data = resp.json()\n",
    "    print(\"Location:\", data['name'])\n",
    "    print(\"Weather:\", data['weather'][0]['description'])\n",
    "    print(\"Temperature:\", data['main']['temp'])\n",
    "```\n",
    "* Finally type `python3 get_weather.py` and see what happens."
   ]
  },
  {
   "cell_type": "markdown",
   "metadata": {},
   "source": [
    "#### Exercise\n",
    "\n",
    "* Modify the script, to print the location, weather and temperature in tab-separated columns.\n",
    "* Modify the script, to print a header at the beginning; then put the code in an infinite loop (`while True:...`) and get the code the execute for ever. Use the `import time` and `time.sleep(...)` to add a delay of a few seconds between continuous executions of the code.\n",
    "* Modify the script, write the output to a file instead of print to the screen.\n"
   ]
  },
  {
   "cell_type": "markdown",
   "metadata": {},
   "source": []
  },
  {
   "cell_type": "markdown",
   "metadata": {},
   "source": [
    "### Running Jobs in the Background (until terminating the Terminal)\n",
    "\n",
    "Sometimes, we would like to start a task, and let it run in the background. To do so, we simply add the character `&` at the end of the command. For example, if we want to run our script from above and get the task to run in the background,  we can type:\n",
    "\n",
    "`python3 get_weather.py  &`\n",
    "\n",
    "### Running Jobs in the Background (even after terminating the Terminal)\n",
    "\n",
    "When we use the `&` operator, the task runs in the background, but stops running the moment we logout from our ssh session. To allow the task to continue running, even after we log out, we can use the `nohup` command, as follows:\n",
    "\n",
    "`nohup python3 get_weather.py  &`\n",
    "\n",
    "### Redirecting the output\n",
    "\n",
    "If your script has an output on the screen, you often want to save this. To store the output of your screen to a file, when you put a script to run in the background, you use the `> filename.txt` command to store the output in the `filename.txt`. For example:\n",
    "\n",
    "`nohup python3 get_weather.py > weather.txt  &`\n",
    "\n",
    "will store the outputinto the file weather.txt instead of printing on the screen."
   ]
  },
  {
   "cell_type": "markdown",
   "metadata": {},
   "source": []
  },
  {
   "cell_type": "markdown",
   "metadata": {},
   "source": [
    "## Cron: Scheduling Tasks (vs running them continuously in the background)"
   ]
  },
  {
   "cell_type": "markdown",
   "metadata": {},
   "source": [
    "The approach that we described above assumes that the task will be running forever in the background. However, most of the time our script is waiting, executing the `time.sleep` command. \n",
    "\n",
    "Instead of having our script sleeping, we can use the **cron** command to execute desired tasks (in the background) at designated times. So, let's remove the **while True** and the **time.sleep** commands from our script, and let's see how we can use cron instead.\n",
    "\n",
    "To use cron for task, add entries to your crontab file. Start the crontab editor from a terminal window:\n",
    "\n",
    "`sudo crontab -e`\n",
    "\n",
    "A crontab is a simple text file with a list of commands meant to be run at specified times and these jobs will run regardless of whether the user is actually logged into the system. \n",
    "\n",
    "\n",
    "\n",
    "### The structure of the crontab file\n",
    "\n",
    "This is how a cron job is laid out:\n",
    "\n",
    "minute (0-59), hour (0-23, 0 = midnight), day (1-31), month (1-12), weekday (0-6, 0 = Sunday), command\n",
    "\n",
    "and each line of the crontab file has the following format:\n",
    "\n",
    "`minute hour day_of_month month day_of_week   command`\n",
    "\n",
    "Each of the parts is separated by a space, with the final part (the command) having one or more spaces in it. \n",
    "For example, you can run your script at 5 a.m every week with:\n",
    "\n",
    "`0 5 * * 1 /usr/bin/python3 /home/ubuntu/get_temperature.py`\n",
    "\n",
    "#### More examples\n",
    "\n",
    "`01 04 1 1 1 /usr/bin/python3 /home/ubuntu/get_temperature.py`\n",
    "\n",
    "The above example will run our script at 4:01am on January 1st plus every Monday in January. An asterisk (\\*) can be used so that every instance (every hour, every weekday, every month, etc.) of a time period is used. Code:\n",
    "\n",
    "\n",
    "`01 04 * * * /usr/bin/python3 /home/ubuntu/get_temperature.py`\n",
    "\n",
    "The above example will run /usr/bin/somedirectory/somecommand at 4:01am on every day of every month.\n",
    "\n",
    "Comma-separated values can be used to run more than one instance of a particular command within a time period. Dash-separated values can be used to run a command continuously. For example:\n",
    "\n",
    "`01,31 04,05 1-15 1,6 * /usr/bin/python3 /home/ubuntu/get_temperature.py`\n",
    "\n",
    "The above example will run /usr/bin/somedirectory/somecommand at 01 and 31 past the hours of 4:00am and 5:00am on the 1st through the 15th of every January and June.\n",
    "\n",
    "The `/usr/bin/python3 /home/ubuntu/get_temperature.py` text in the above examples indicates the task which will be run at the specified times. It is recommended that you use the full path to the desired commands as shown in the above examples. Enter which somecommand in the terminal to find the full path to somecommand. The crontab will begin running as soon as it is properly edited and saved.\n",
    "\n",
    "(See https://help.ubuntu.com/community/CronHowto for more details)\n"
   ]
  },
  {
   "cell_type": "markdown",
   "metadata": {},
   "source": [
    "### Exercise\n",
    "\n",
    "* Use a cron job to keep track of the temperature in New York, running every minute. Use the redirect operator to store the temperature in a text file called /home/ubuntu/nyc-temperatures.txt, appending a new line for every measurement."
   ]
  },
  {
   "cell_type": "code",
   "execution_count": null,
   "metadata": {},
   "outputs": [],
   "source": []
  },
  {
   "cell_type": "markdown",
   "metadata": {},
   "source": [
    "* Use the `http://api.open-notify.org/iss-now.json` API and keep track of the location of the International Space Station (ISS) over time."
   ]
  },
  {
   "cell_type": "code",
   "execution_count": null,
   "metadata": {},
   "outputs": [],
   "source": []
  }
 ],
 "metadata": {
  "colabVersion": "0.1",
  "kernelspec": {
   "display_name": "Python 3",
   "language": "python",
   "name": "python3"
  },
  "language_info": {
   "codemirror_mode": {
    "name": "ipython",
    "version": 3
   },
   "file_extension": ".py",
   "mimetype": "text/x-python",
   "name": "python",
   "nbconvert_exporter": "python",
   "pygments_lexer": "ipython3",
   "version": "3.6.6"
  }
 },
 "nbformat": 4,
 "nbformat_minor": 1
}
