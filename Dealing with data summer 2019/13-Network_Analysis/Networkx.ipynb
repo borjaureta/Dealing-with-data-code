{
 "cells": [
  {
   "cell_type": "markdown",
   "metadata": {},
   "source": [
    "# Graphs and networkx"
   ]
  },
  {
   "cell_type": "markdown",
   "metadata": {},
   "source": [
    "#### Network analysis\n",
    "Vast amounts of network data are being generated and collected today. These include click stream data from websites, mobile phone call data, data from social networks (Twitter streams, Facebook updates), vehicular flow data from roadways, and power grid data, to name just a few. In this lab, we will introduce you to networkx which is a “Python package for the creation, manipulation and study of the structure, dynamics and functions of complex networks.” networkx is built on Python — its focus is on computational network modeling. It has many algorithms and models implemented, so you can focus on the analysis problem at hand.\n",
    "\n",
    "#### Getting started with networkx\n",
    "Start IPython interactively, or start up your IPython notebook. You will import the networkx package."
   ]
  },
  {
   "cell_type": "code",
   "execution_count": 1,
   "metadata": {
    "collapsed": false
   },
   "outputs": [],
   "source": [
    "import networkx as nx"
   ]
  },
  {
   "cell_type": "markdown",
   "metadata": {},
   "source": [
    "This command imports the networkx package and allows us to refer to it later as nx. So insteading of typing networkx from now on, we will use the abbreviation nx. Here’s a cartoon that shows off the import directive in Python. The vast functionality of networkx is available for your use!\n",
    "\n",
    "We will now make a simple graph. There are two types of graphs: undirected and directed graphs. Here we will make an undirected graph g."
   ]
  },
  {
   "cell_type": "code",
   "execution_count": 2,
   "metadata": {
    "collapsed": false
   },
   "outputs": [
    {
     "data": {
      "text/plain": [
       "<networkx.classes.graph.Graph at 0x7f5e1cc59390>"
      ]
     },
     "execution_count": 2,
     "metadata": {},
     "output_type": "execute_result"
    }
   ],
   "source": [
    "g = nx.Graph()\n",
    "g"
   ]
  },
  {
   "cell_type": "markdown",
   "metadata": {},
   "source": [
    "g is a graph object created by the constructor Graph(). We can get a list of a graph’s nodes and edges."
   ]
  },
  {
   "cell_type": "code",
   "execution_count": 3,
   "metadata": {
    "collapsed": false
   },
   "outputs": [
    {
     "data": {
      "text/plain": [
       "[]"
      ]
     },
     "execution_count": 3,
     "metadata": {},
     "output_type": "execute_result"
    }
   ],
   "source": [
    "g.nodes()"
   ]
  },
  {
   "cell_type": "code",
   "execution_count": 4,
   "metadata": {
    "collapsed": false
   },
   "outputs": [
    {
     "data": {
      "text/plain": [
       "[]"
      ]
     },
     "execution_count": 4,
     "metadata": {},
     "output_type": "execute_result"
    }
   ],
   "source": [
    "g.edges()"
   ]
  },
  {
   "cell_type": "markdown",
   "metadata": {},
   "source": [
    "This is an empty graph, because it is has no nodes and no edges. We can grow the graphs in several ways. We can add nodes one at a time, or all at once as shown below."
   ]
  },
  {
   "cell_type": "code",
   "execution_count": 5,
   "metadata": {
    "collapsed": false
   },
   "outputs": [
    {
     "data": {
      "text/plain": [
       "[1, 2, 3]"
      ]
     },
     "execution_count": 5,
     "metadata": {},
     "output_type": "execute_result"
    }
   ],
   "source": [
    "g.add_node(1)\n",
    "g.add_nodes_from([2,3])\n",
    "g.nodes()"
   ]
  },
  {
   "cell_type": "code",
   "execution_count": 6,
   "metadata": {
    "collapsed": false
   },
   "outputs": [
    {
     "data": {
      "text/plain": [
       "[1, 2, 3, 4, 5, 6, 7, 8, 9, 10]"
      ]
     },
     "execution_count": 6,
     "metadata": {},
     "output_type": "execute_result"
    }
   ],
   "source": [
    "g.add_nodes_from(range(4,11,1))\n",
    "g.nodes()"
   ]
  },
  {
   "cell_type": "markdown",
   "metadata": {},
   "source": [
    "A node can be any hashable object, such as strings, numbers, files, functions and more. This provides great flexibility for computational modeling."
   ]
  },
  {
   "cell_type": "code",
   "execution_count": 7,
   "metadata": {
    "collapsed": false
   },
   "outputs": [
    {
     "data": {
      "text/plain": [
       "['x', <function math.cos>]"
      ]
     },
     "execution_count": 7,
     "metadata": {},
     "output_type": "execute_result"
    }
   ],
   "source": [
    "g_new = nx.Graph()\n",
    "import math\n",
    "g_new.add_node(math.cos)\n",
    "g_new.add_node('x')\n",
    "g_new.nodes()"
   ]
  },
  {
   "cell_type": "markdown",
   "metadata": {},
   "source": [
    "A graph has nodes and edges between them. Now that we have added nodes to a graph, it is time to add edges. You can add edges one at a time, or add a whole list of edges. An edge is represented as a tuple and an edge list is a list of edge tuples."
   ]
  },
  {
   "cell_type": "code",
   "execution_count": 8,
   "metadata": {
    "collapsed": false
   },
   "outputs": [
    {
     "data": {
      "text/plain": [
       "[(1, 2), (2, 3), (3, 4), (4, 5), (5, 6), (6, 7), (7, 8), (8, 9), (9, 10)]"
      ]
     },
     "execution_count": 8,
     "metadata": {},
     "output_type": "execute_result"
    }
   ],
   "source": [
    "g.add_edge(1,2)\n",
    "g.add_edges_from([(2,3),(3,4)])\n",
    "for i in range(4,10,1):\n",
    "    g.add_edge(i,i+1)\n",
    "g.edges()"
   ]
  },
  {
   "cell_type": "markdown",
   "metadata": {},
   "source": [
    "If you want to know the number of nodes and edges in a graph, you can use the functions shown below."
   ]
  },
  {
   "cell_type": "code",
   "execution_count": 9,
   "metadata": {
    "collapsed": false
   },
   "outputs": [
    {
     "data": {
      "text/plain": [
       "10"
      ]
     },
     "execution_count": 9,
     "metadata": {},
     "output_type": "execute_result"
    }
   ],
   "source": [
    "g.number_of_nodes()"
   ]
  },
  {
   "cell_type": "code",
   "execution_count": 10,
   "metadata": {
    "collapsed": false
   },
   "outputs": [
    {
     "data": {
      "text/plain": [
       "9"
      ]
     },
     "execution_count": 10,
     "metadata": {},
     "output_type": "execute_result"
    }
   ],
   "source": [
    "g.number_of_edges()"
   ]
  },
  {
   "cell_type": "markdown",
   "metadata": {},
   "source": [
    "We can annotate nodes and edges with attributes. For example, we can add a weight to an edge as follows. Weights should always be numeric. networkx represents attributes as a dictionary associated with a node or an edge."
   ]
  },
  {
   "cell_type": "code",
   "execution_count": 11,
   "metadata": {
    "collapsed": false
   },
   "outputs": [
    {
     "data": {
      "text/plain": [
       "{'weight': 1.0}"
      ]
     },
     "execution_count": 11,
     "metadata": {},
     "output_type": "execute_result"
    }
   ],
   "source": [
    "g[1][2]['weight'] = 1.0 # edge already present\n",
    "g[1][2]"
   ]
  },
  {
   "cell_type": "code",
   "execution_count": 12,
   "metadata": {
    "collapsed": false
   },
   "outputs": [
    {
     "data": {
      "text/plain": [
       "{'name': 'one'}"
      ]
     },
     "execution_count": 12,
     "metadata": {},
     "output_type": "execute_result"
    }
   ],
   "source": [
    "for i in range(2,10,1):\n",
    "    g[i][i+1]['weight'] = i*1.0\n",
    "g.node[1]['name']='one'\n",
    "g.node[1]"
   ]
  },
  {
   "cell_type": "markdown",
   "metadata": {},
   "source": [
    "Many computations require you to iterate over the nodes and edges of a graph. networkx makes it easy to do that. To name every node in the graph g, we define a list of names and iterate over the nodes as shown."
   ]
  },
  {
   "cell_type": "code",
   "execution_count": 13,
   "metadata": {
    "collapsed": true
   },
   "outputs": [],
   "source": [
    "names = ['one','two','three','four','five','six','seven','eight','nine','ten']\n",
    "for node in g.nodes():\n",
    "    g.node[node]['name'] = names[node-1]"
   ]
  },
  {
   "cell_type": "markdown",
   "metadata": {},
   "source": [
    "To print all the edge weights, we can iterate over the edges in g. Note how we unpack each edge as a pair of nodes in the for loop."
   ]
  },
  {
   "cell_type": "code",
   "execution_count": 14,
   "metadata": {
    "collapsed": false
   },
   "outputs": [
    {
     "name": "stdout",
     "output_type": "stream",
     "text": [
      "1 2 1.0\n",
      "2 3 2.0\n",
      "3 4 3.0\n",
      "4 5 4.0\n",
      "5 6 5.0\n",
      "6 7 6.0\n",
      "7 8 7.0\n",
      "8 9 8.0\n",
      "9 10 9.0\n"
     ]
    }
   ],
   "source": [
    "for u,v in g.edges():\n",
    "    print u,v, g[u][v]['weight']"
   ]
  },
  {
   "cell_type": "markdown",
   "metadata": {},
   "source": [
    "To find neighbors of a particular node, we use the neighbors function. To get the neighbors of every node in g, we use the iterator on nodes."
   ]
  },
  {
   "cell_type": "code",
   "execution_count": 15,
   "metadata": {
    "collapsed": false
   },
   "outputs": [
    {
     "name": "stdout",
     "output_type": "stream",
     "text": [
      "1 [2]\n",
      "2 [1, 3]\n",
      "3 [2, 4]\n",
      "4 [3, 5]\n",
      "5 [4, 6]\n",
      "6 [5, 7]\n",
      "7 [8, 6]\n",
      "8 [9, 7]\n",
      "9 [8, 10]\n",
      "10 [9]\n"
     ]
    }
   ],
   "source": [
    "for node in g.nodes():\n",
    "    print node, g.neighbors(node)"
   ]
  },
  {
   "cell_type": "markdown",
   "metadata": {},
   "source": [
    "#### The bridges of Konigsberg\n",
    "To model the bridges of Konigsberg problem that Euler solved, we need a graph that supports multiple edges between nodes. Such a graph is called a multigraph. We set up the graph with four nodes and edges labeled by bridges"
   ]
  },
  {
   "cell_type": "code",
   "execution_count": 16,
   "metadata": {
    "collapsed": true
   },
   "outputs": [],
   "source": [
    "mg = nx.MultiGraph()\n",
    "mg.add_nodes_from(['A','B','C','D'])\n",
    "mg.add_edge('A','C','b1')\n",
    "mg.add_edge('A','C','b2')\n",
    "mg.add_edge('A','D','b4')\n",
    "mg.add_edge('A','D','b5')\n",
    "mg.add_edge('A','B','b7')\n",
    "mg.add_edge('C','B','b3')\n",
    "mg.add_edge('D','B','b6')"
   ]
  },
  {
   "cell_type": "markdown",
   "metadata": {},
   "source": [
    "Now we can check if there is a walk through the city that crosses each bridge once and only once, and begins and ends at the same point. Such a walk is called an Eulerian circuit of a multigraph. The networkx function is_eulerian computes whether or not a Eulerian circuit exists in a multigraph."
   ]
  },
  {
   "cell_type": "code",
   "execution_count": 17,
   "metadata": {
    "collapsed": false
   },
   "outputs": [
    {
     "data": {
      "text/plain": [
       "False"
      ]
     },
     "execution_count": 17,
     "metadata": {},
     "output_type": "execute_result"
    }
   ],
   "source": [
    "nx.is_eulerian(mg)"
   ]
  },
  {
   "cell_type": "markdown",
   "metadata": {},
   "source": [
    "#### Drawing graphs\n",
    "NetworkX is not primarily a graph drawing package but it provides basic drawing capabilities by using matplotlib. If you are using IPython notebook you do not need plt.show(). If you are on an IPython terminal, you do need it."
   ]
  },
  {
   "cell_type": "code",
   "execution_count": 19,
   "metadata": {
    "collapsed": false
   },
   "outputs": [
    {
     "data": {
      "image/png": "[encoded data removed]",
      "text/plain": [
       "<matplotlib.figure.Figure at 0x7f5e1646eed0>"
      ]
     },
     "metadata": {},
     "output_type": "display_data"
    }
   ],
   "source": [
    "%matplotlib inline\n",
    "import matplotlib.pyplot as plt\n",
    "nx.draw(g)\n",
    "plt.show()"
   ]
  },
  {
   "cell_type": "markdown",
   "metadata": {},
   "source": [
    "Drawing large graphs is hard and networkx has a number of algorithms for laying out nodes. Here are four of them. After each draw statement, use plt.show() to see the graph."
   ]
  },
  {
   "cell_type": "code",
   "execution_count": 27,
   "metadata": {
    "collapsed": false
   },
   "outputs": [
    {
     "data": {
      "image/png": "[encoded data removed]",
      "text/plain": [
       "<matplotlib.figure.Figure at 0x7f5e162c69d0>"
      ]
     },
     "metadata": {},
     "output_type": "display_data"
    }
   ],
   "source": [
    "nx.draw_random(g)"
   ]
  },
  {
   "cell_type": "code",
   "execution_count": 28,
   "metadata": {
    "collapsed": false
   },
   "outputs": [
    {
     "data": {
      "image/png": "[encoded data removed]",
      "text/plain": [
       "<matplotlib.figure.Figure at 0x7f5e161d30d0>"
      ]
     },
     "metadata": {},
     "output_type": "display_data"
    }
   ],
   "source": [
    "nx.draw_circular(g)\n"
   ]
  },
  {
   "cell_type": "code",
   "execution_count": 29,
   "metadata": {
    "collapsed": false
   },
   "outputs": [
    {
     "data": {
      "image/png": "[encoded data removed]",
      "text/plain": [
       "<matplotlib.figure.Figure at 0x7f5e16257450>"
      ]
     },
     "metadata": {},
     "output_type": "display_data"
    }
   ],
   "source": [
    "nx.draw_spectral(g)\n"
   ]
  },
  {
   "cell_type": "code",
   "execution_count": 30,
   "metadata": {
    "collapsed": false
   },
   "outputs": [
    {
     "data": {
      "image/png": "[encoded data removed]",
      "text/plain": [
       "<matplotlib.figure.Figure at 0x7f5e16451a90>"
      ]
     },
     "metadata": {},
     "output_type": "display_data"
    }
   ],
   "source": [
    "nx.draw_spring(g)"
   ]
  },
  {
   "cell_type": "markdown",
   "metadata": {},
   "source": [
    "The spring layout produces some of the most visually pleasing graphs. However, do check the other layout algorithms too for your specific graph. Once you settle on a graph layout you like, you can save the figure using the savefig function."
   ]
  },
  {
   "cell_type": "code",
   "execution_count": 31,
   "metadata": {
    "collapsed": false
   },
   "outputs": [
    {
     "data": {
      "text/plain": [
       "<matplotlib.figure.Figure at 0x7f5e162acb90>"
      ]
     },
     "metadata": {},
     "output_type": "display_data"
    }
   ],
   "source": [
    "plt.savefig('g.png')"
   ]
  },
  {
   "cell_type": "markdown",
   "metadata": {},
   "source": [
    "#### Basic network analysis\n",
    "For this section, we will play with a network which represents the topology of the power grid of Western States of the US. Download the file power.gml and save it in your Lab04 folder. This graph was compiled by Duncan Watts and Steven Strogatz of Columbia University. We will first read the graph and create a corresponding networkx graph object."
   ]
  },
  {
   "cell_type": "code",
   "execution_count": 32,
   "metadata": {
    "collapsed": false
   },
   "outputs": [],
   "source": [
    "G = nx.path_graph(4)\n",
    "nx.write_gml(G, 'test.gml')\n",
    "power_grid = nx.read_gml('test.gml')"
   ]
  },
  {
   "cell_type": "markdown",
   "metadata": {},
   "source": [
    "#### Exercise 1\n",
    "How many nodes and edges are in the graph power_grid?\n",
    "\n",
    "The degree of a node in a graph is the number of nodes that it is connected to by an edge, i.e., the number of neighbors it has. networkx has a function called degree that gives the degree of a node in a graph. To get the degree of node 0 in power_grid type in the expression below."
   ]
  },
  {
   "cell_type": "code",
   "execution_count": 33,
   "metadata": {
    "collapsed": false
   },
   "outputs": [
    {
     "data": {
      "text/plain": [
       "1"
      ]
     },
     "execution_count": 33,
     "metadata": {},
     "output_type": "execute_result"
    }
   ],
   "source": [
    "power_grid.degree(0)"
   ]
  },
  {
   "cell_type": "markdown",
   "metadata": {},
   "source": [
    "To get the degree of all the nodes in a graph, use the degree function without an input argument. You get back a dictionary keyed by the nodes of the graph, whose values are the degrees of the nodes."
   ]
  },
  {
   "cell_type": "code",
   "execution_count": 34,
   "metadata": {
    "collapsed": false
   },
   "outputs": [
    {
     "data": {
      "text/plain": [
       "dict"
      ]
     },
     "execution_count": 34,
     "metadata": {},
     "output_type": "execute_result"
    }
   ],
   "source": [
    "d = power_grid.degree()\n",
    "type(d)"
   ]
  },
  {
   "cell_type": "markdown",
   "metadata": {},
   "source": [
    "The average degree of an undirected graph is the sum of the degrees of all its nodes divided by the number of nodes in the graph. It is a measure of the connectedness of a graph."
   ]
  },
  {
   "cell_type": "markdown",
   "metadata": {},
   "source": [
    "#### Exercise 2\n",
    "Write a function average_degree to compute the average degree of a networkx graph G. Use the function to calculate the average degree of the graph power_grid. Remember to use floating point division."
   ]
  },
  {
   "cell_type": "code",
   "execution_count": 35,
   "metadata": {
    "collapsed": true
   },
   "outputs": [],
   "source": [
    "def average_degree(G):\n",
    "    return"
   ]
  },
  {
   "cell_type": "markdown",
   "metadata": {},
   "source": [
    "Sometimes, the average degree does not reveal enough about the structure of a graph. Examining the distribution of degrees through the nodes of a graph is a much more useful measure. For instance, it would be helpful to know if almost all the nodes have degrees near the average degree, or if there are a few nodes with significantly higher degrees in the graph. The networkx function degree_histogram generates a list of length equal to the maximum degree in the graph. Element i of the list is the count of nodes with degree i. Use help(nx.degree_histogram) to learn how to use the function. To plot the histogram it is easier to work with the dictionary of degrees we generated above."
   ]
  },
  {
   "cell_type": "markdown",
   "metadata": {},
   "source": [
    "#### Exercise 3\n",
    "Use the degree function in networkx to compute the dictionary d of degrees for nodes in power_grid. Then use the hist function in matplotlib.pyplot to draw it. The hist function expects a list of values; so remember to extract the values using d.values().\n",
    "\n",
    "- What do you observe about the distribution of degrees in the graph?\n",
    "\n",
    "- Write a Python function find_nodes_with_degree which takes a graph and an integer N as input and returns a list of all the nodes in the graph which degree N. Find the node(s) with the highest degree in power_grid.\n",
    "\n",
    "A connected component of a graph is a subgraph where every node can be reached from every other node. There is a networkx function to find all the connected components of a graph."
   ]
  },
  {
   "cell_type": "code",
   "execution_count": 36,
   "metadata": {
    "collapsed": false
   },
   "outputs": [
    {
     "ename": "TypeError",
     "evalue": "object of type 'generator' has no len()",
     "output_type": "error",
     "traceback": [
      "\u001b[1;31m---------------------------------------------------------------------------\u001b[0m",
      "\u001b[1;31mTypeError\u001b[0m                                 Traceback (most recent call last)",
      "\u001b[1;32m<ipython-input-36-ce9160edca02>\u001b[0m in \u001b[0;36m<module>\u001b[1;34m()\u001b[0m\n\u001b[0;32m      1\u001b[0m \u001b[0mcc\u001b[0m \u001b[1;33m=\u001b[0m \u001b[0mnx\u001b[0m\u001b[1;33m.\u001b[0m\u001b[0mconnected_component_subgraphs\u001b[0m\u001b[1;33m(\u001b[0m\u001b[0mpower_grid\u001b[0m\u001b[1;33m)\u001b[0m\u001b[1;33m\u001b[0m\u001b[0m\n\u001b[1;32m----> 2\u001b[1;33m \u001b[0mlen\u001b[0m\u001b[1;33m(\u001b[0m\u001b[0mcc\u001b[0m\u001b[1;33m)\u001b[0m\u001b[1;33m\u001b[0m\u001b[0m\n\u001b[0m",
      "\u001b[1;31mTypeError\u001b[0m: object of type 'generator' has no len()"
     ]
    }
   ],
   "source": [
    "cc = nx.connected_component_subgraphs(power_grid)"
   ]
  },
  {
   "cell_type": "markdown",
   "metadata": {},
   "source": [
    "#### Exercise 4\n",
    "The diameter of a connected component of a graph is the longest shortest path in the graph. The networkx function diameter computes this property. The diameter helps us understand how wide the graph is."
   ]
  },
  {
   "cell_type": "code",
   "execution_count": null,
   "metadata": {
    "collapsed": false
   },
   "outputs": [],
   "source": [
    "nx.diameter(power_grid)"
   ]
  },
  {
   "cell_type": "markdown",
   "metadata": {},
   "source": [
    "This function may take a while to finish on a graph as large as power_grid.\n",
    "\n",
    "The center of a graph is a most centrally located node in the graph. A center is a node whose maximum distance from every other node in the graph is the least compared to all other nodes."
   ]
  },
  {
   "cell_type": "code",
   "execution_count": null,
   "metadata": {
    "collapsed": false
   },
   "outputs": [],
   "source": [
    "nx.center(power_grid)"
   ]
  },
  {
   "cell_type": "markdown",
   "metadata": {},
   "source": [
    "- What is the diameter of the power_grid graph?\n",
    "\n",
    "- How many centers does power_grid have? Are the centers related to the nodes with highest degree in this graph?"
   ]
  },
  {
   "cell_type": "markdown",
   "metadata": {},
   "source": [
    "#### Exercise 5\n",
    "networkx gives you the ability to construct subgraphs. For the power_grid graph, find all nodes that have degree greater than or equal to 10. Construct the subgraph of power_grid on these high degree nodes, using the networkx function subgraph which takes two inputs: a network and a subset of the nodes. Use help(nx.subgraph) to find how to construct the subgraph.\n",
    "\n",
    "- How many connected components does the subgraph have?\n",
    "\n",
    "- What is the size of the largest component?\n",
    "\n",
    "- Draw the largest component and save the figure as “largest_connected_component.png”.\n"
   ]
  },
  {
   "cell_type": "markdown",
   "metadata": {},
   "source": [
    "#### Exercise 6: Graph construction exercises\n",
    "\n",
    "- Write a function called make_largest_diameter_graph which takes an integer N as input and returns an undirected networkx graph with N nodes that has the largest possible diameter. Print the graph’s average degree and its centers for N = 10. Draw the graph for N = 10 and save it as “largest_diameter_10.png”.\n",
    "\n",
    "\n",
    "- Write a function called make_smallest_diameter_graph which takes an integer N as input and returns an undirected networkx graph with N nodes that has the smallest possible diameter. Print the graph’s average degree and its centers for N = 10. Draw the graph for N = 10 and save it as “smallest_diameter_10.png”.\n",
    "\n",
    "\n",
    "- Write a function called make_circle_graph which takes an integer N as input and returns an undirected networkx graph with N nodes in a circle. Print the graph’s average degree and its centers for N = 10. Draw the graph for N = 10 and save it as “circle_10.png”.\n",
    "\n",
    "\n",
    "- Write a function called make_complete_graph which takes an integer N and returns an undirected networkx graph with N nodes where each node is connected to every other node in the graph. Print the graph’s centers for N = 10. Do not use the networkx built-in function to make a complete graph! Draw the graph for N = 10 and save it as “complete_graph_10.png”.\n",
    "\n",
    "\n",
    "- Write a function called make_erdos_renyi_graph which takes an integer N and a probability p (between 0.0 and 1.0) and returns an undirected Erdos-Renyi networkx graph with N nodes constructed according to the following recipe.\n",
    "\n",
    "\n"
   ]
  },
  {
   "cell_type": "markdown",
   "metadata": {},
   "source": [
    "    G <- empty undirected graph\n",
    "    add nodes [0,...,N-1] to G.\n",
    "    for i in [0,...,N-1]\n",
    "       for j in [i+1,...,N-1]\n",
    "           r <- pick a uniform random number in [0,1]\n",
    "           if r < p then add an edge between nodes i and j"
   ]
  },
  {
   "cell_type": "markdown",
   "metadata": {},
   "source": [
    "- For N = 100 and for p ranging from 0.005 to 0.1 in steps of 0.01, find the number of connected components in the Erdos-Renyi graph of size N with probability p. Use matplotlib to plot p on the x axis and the number of connected components on the y axis. What do you observe about this plot?"
   ]
  },
  {
   "cell_type": "code",
   "execution_count": null,
   "metadata": {
    "collapsed": true
   },
   "outputs": [],
   "source": []
  }
 ],
 "metadata": {
  "kernelspec": {
   "display_name": "Python 3",
   "language": "python",
   "name": "python3"
  },
  "language_info": {
   "codemirror_mode": {
    "name": "ipython",
    "version": 3
   },
   "file_extension": ".py",
   "mimetype": "text/x-python",
   "name": "python",
   "nbconvert_exporter": "python",
   "pygments_lexer": "ipython3",
   "version": "3.5.2"
  }
 },
 "nbformat": 4,
 "nbformat_minor": 0
}
