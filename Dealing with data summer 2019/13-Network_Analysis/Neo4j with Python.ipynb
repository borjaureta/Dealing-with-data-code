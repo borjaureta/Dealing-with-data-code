{
 "cells": [
  {
   "cell_type": "markdown",
   "metadata": {},
   "source": [
    "---\n",
    "# Neo4j with Python\n",
    "\n",
    "---"
   ]
  },
  {
   "cell_type": "markdown",
   "metadata": {},
   "source": [
    "<img src=\"images/neo4j-python.png\">"
   ]
  },
  {
   "cell_type": "markdown",
   "metadata": {},
   "source": [
    "**Neo4j** is a one of the popular Graph Databases and CQL stands for _Cypher Query Language_. Neo4j is written in Java.\n",
    "\n",
    "_Graph Database_ is a database which stores data in the form of graph structures. It stores our application's data in terms of nodes, relationships and properties. Just like RDBMS (Relational DataBase Management System) stores data in the form of \"rows,columns\" of Tables, GDBMS stores data in the form of \"graphs\".\n",
    "\n",
    "A Graph is a set of nodes and the relationships that connect those nodes. Graphs stores data in _nodes_ and _relationships_ in the form of _properties_. Properties are key-value pairs to represent data. In Graph theory, we can represent a node with a circle and relationship between nodes is represented with an arrow mark."
   ]
  },
  {
   "cell_type": "markdown",
   "metadata": {},
   "source": [
    "## Fundamental building blocks of Neo4j\n",
    "\n",
    "Neo4j is a graph database, adopting a labeled property graph model. In Neo4j terminology, vertices are called nodes, and edges are called relationships.\n",
    "\n",
    "**Nodes:**\n",
    "\n",
    "- Nodes are typically used to represent entities (or complex value types).\n",
    "- Nodes can have properties, which are key/value pairs. Values can be primitives or collections of primitives.\n",
    "- Nodes can have zero or more relationships connecting them to other nodes.\n",
    "\n",
    "**Relationships:**\n",
    "\n",
    "- Relationships are used to represent the relationships between nodes; to provide context to the nodes.\n",
    "- Relationships must have a start and end node, thus relationships must have a direction. Direction can be ignored at query time, so the fact that direction is there does not mean it must be used.\n",
    "- Relationships must have a relationship type.\n",
    "- Relationships can have properties (key/value pairs. values can be primitives or collections of primitives).\n",
    "\n",
    "**Properties:**\n",
    "\n",
    "- Nodes and relationships can have properties (key/value pairs. values can be primitives or collections of primitives).\n",
    "- Properties can quantify relationships.\n",
    "\n",
    "**Labels:**\n",
    "\n",
    "- Nodes can have zero or more labels.\n",
    "- Labels can represent roles, categories or types.\n",
    "- Labels are used to define indexes and constraints.\n",
    "\n",
    "Here is a visual representaion how a RDBMS can be transform to a graph database:\n",
    "\n",
    "<img src=\"images/RDBMS_vs_GRAPHDB.png\">"
   ]
  },
  {
   "cell_type": "markdown",
   "metadata": {
    "collapsed": true
   },
   "source": [
    "## Installing Neo4j\n",
    "\n",
    "Head to http://neo4j.com/download/ and click on the link to download. You'll need to have [Java 7](http://java.com/en/download/windows_xpi.jsp?locale=en) installed as well. On Mac or Linux, untar the download to the folder of your choice, and then run `bin/neo4j` start from the folder where you put it. Windows users will receive an installer package, and you can run the service from the dashboard that starts up after installing. Once you're done, you should be able to visit http://localhost:7474/ to test your server."
   ]
  },
  {
   "cell_type": "markdown",
   "metadata": {
    "collapsed": true
   },
   "source": [
    "# Interaction of Python and Neo4j through `py2neo` Library"
   ]
  },
  {
   "cell_type": "markdown",
   "metadata": {
    "collapsed": true
   },
   "source": [
    "[`py2neo`](http://py2neo.org/) is a client library and comprehensive toolkit for working with Neo4j from within Python applications and from the command line. The core library has no external dependencies and has been carefully designed to be easy and intuitive to use. The simplest way of installation `py2neo` is using `pip`\n",
    "    \n",
    "    pip install py2neo\n",
    "    \n",
    "The simplest way to try out a connection to the Neo4j server is via the console. You need type `neo4j` in console and then confirm the connection to the Neo4j server. \n",
    "\n",
    "Neo4j introduces optional authentication for database servers, enabled by default. To use a server with authentication enabled, a user name and password must be specified for the host:port combination. This can either be passed in code using the authenticate() function or specified in the NEO4J_AUTH environment variable. By default the user name and password are neo4j and neo4j respectively. This default password generally requires an initial change before the database can be used.\n",
    "\n",
    "There are two ways to set up authentication for a new server installation:\n",
    "\n",
    "* Set an initial password for the neo4j user.\n",
    "* Copy auth details from another (initialised) server.\n",
    "\n",
    "`py2neo` provides a command line tool to help with changing user passwords as well as checking whether a password change is required. For a new installation, use:\n",
    "\n",
    "    $ neoauth neo4j neo4j my-p4ssword\n",
    "    Password change succeeded\n",
    "\n",
    "After a password has been set, the tool can also be used to validate credentials:\n",
    "\n",
    "    $ neoauth neo4j my-p4ssword\n",
    "    Password change not required\n",
    "\n",
    "Once you have started a local Neo4j server, open a new Python console and enter the following:"
   ]
  },
  {
   "cell_type": "code",
   "execution_count": 3,
   "metadata": {
    "collapsed": false
   },
   "outputs": [
    {
     "name": "stdout",
     "output_type": "stream",
     "text": [
      "Connected successfully!\n"
     ]
    }
   ],
   "source": [
    "from py2neo import authenticate, Graph\n",
    "\n",
    "# set up authentication parameters\n",
    "authenticate(\"localhost:7474\", \"YOUR_USERNAME\", \"YOUR_PASSWORD\")\n",
    "\n",
    "# connect to authenticated graph database\n",
    "try:\n",
    "    graph = Graph()\n",
    "    print \"Connected successfully!\"\n",
    "except: \n",
    "    print \"Something went wrong.\""
   ]
  },
  {
   "cell_type": "code",
   "execution_count": 4,
   "metadata": {
    "collapsed": false
   },
   "outputs": [
    {
     "data": {
      "text/plain": [
       "(2, 3, 1)"
      ]
     },
     "execution_count": 4,
     "metadata": {},
     "output_type": "execute_result"
    }
   ],
   "source": [
    "graph.neo4j_version"
   ]
  },
  {
   "cell_type": "markdown",
   "metadata": {
    "collapsed": true
   },
   "source": [
    "This imports the Graph class from `py2neo` and creates a instance bound to the default Neo4j server URI http://localhost:7474/db/data/. To connect to a server at an alternative address, simply pass in the URI value as a string argument to the Graph constructor.\n",
    "\n",
    "Now, you may open Neo4j local server by the URL http://localhost:7474/browser/ or using command:"
   ]
  },
  {
   "cell_type": "code",
   "execution_count": 5,
   "metadata": {
    "collapsed": true
   },
   "outputs": [],
   "source": [
    "graph.open_browser()"
   ]
  },
  {
   "cell_type": "markdown",
   "metadata": {
    "collapsed": true
   },
   "source": [
    "As we said above, nodes and relationships are the fundamental building blocks of a Neo4j graph and both have a corresponding class in `py2neo`.\n",
    "\n",
    "Let's create a new database, where we will collect data about movies, actors, directors, etc. with various additional information. Below scheme represents a graph for [\"Forrest Gump\"](https://en.wikipedia.org/wiki/Forrest_Gump). \n",
    "\n",
    "<img src=\"images/scheme.jpg\" width=\"70%\">\n",
    "\n",
    "Of course, all fields and data from this graph may be collected with the help of relational databases. The variant of MySQL usage are shown below: \n",
    "\n",
    "<img src=\"images/MySQL_scheme.jpg\" width=\"60%\">"
   ]
  },
  {
   "cell_type": "code",
   "execution_count": 11,
   "metadata": {
    "collapsed": false
   },
   "outputs": [
    {
     "data": {
      "text/plain": [
       "(<Relationship graph=u'http://localhost:7474/db/data/' ref=u'relationship/93' start=u'node/95' end=u'node/93' type=u'DIRECTED' properties={}>,)"
      ]
     },
     "execution_count": 11,
     "metadata": {},
     "output_type": "execute_result"
    }
   ],
   "source": [
    "from py2neo import Node, Relationship\n",
    "\n",
    "tom_hanks = Node(\"Person\", name=\"Tom Hanks\", born=1956, country=\"USA\")\n",
    "gary_sinise = Node(\"Person\", name=\"Gary Sinise\", born=1955, country=\"USA\")\n",
    "robert_zemeckis = Node(\"Person\", name=\"Robert Zemeckis\", born=1952, country=\"USA\")\n",
    "forrest_gump = Node(\"Movie\", title=\"Forrest Gump\", released=1994, duration_min=142, \n",
    "                    country=\"USA\", lang=\"English\")\n",
    "\n",
    "tom_hanks_acted_in_forrest_gump = Relationship(tom_hanks, \"ACTED_IN\", forrest_gump, role=\"Forrest Gump\")\n",
    "gary_sinise_acted_in_forrest_gump = Relationship(gary_sinise, \"ACTED_IN\", forrest_gump, role=\"Lieutenant Dan Taylor\")\n",
    "robert_zemeckis_directed_forrest_gump = Relationship(robert_zemeckis, \"DIRECTED\", forrest_gump)\n",
    "\n",
    "graph.create(tom_hanks_acted_in_forrest_gump)\n",
    "graph.create(gary_sinise_acted_in_forrest_gump)\n",
    "graph.create(robert_zemeckis_directed_forrest_gump)"
   ]
  },
  {
   "cell_type": "markdown",
   "metadata": {
    "collapsed": true
   },
   "source": [
    "When first created, `Node` and `Relationship` objects exist only in the client; nothing has yet been written to the server. The `Graph.create` method shown above creates corresponding server-side objects and automatically binds each local object to its remote counterpart."
   ]
  },
  {
   "cell_type": "code",
   "execution_count": 12,
   "metadata": {
    "collapsed": true
   },
   "outputs": [],
   "source": [
    "# After graph's Node or Relation creation you may add a new property in such way \n",
    "forrest_gump.properties[\"box_office_Mdol\"] = 677.9\n",
    "forrest_gump.push()"
   ]
  },
  {
   "cell_type": "markdown",
   "metadata": {},
   "source": [
    "After the running of provided above code you will see the following graph in \"Database information\" window in Neo4j browser \n",
    "\n",
    "<img src=\"images/graph.jpg\">\n",
    "\n",
    "Available properties became visible when you hover or type on some `Node` or `Relationship`. \n",
    "\n",
    "Basic information about the graph:"
   ]
  },
  {
   "cell_type": "code",
   "execution_count": 70,
   "metadata": {
    "collapsed": false
   },
   "outputs": [
    {
     "name": "stdout",
     "output_type": "stream",
     "text": [
      "Relationships amount:\n",
      "8\n",
      "\n",
      "Relationships types:\n",
      "frozenset([u'DIRECTED', u'ACTED_IN', u'BASED_ON'])\n",
      "\n",
      "Nodes amount:\n",
      "8\n",
      "\n",
      "Existing Labels:\n",
      "frozenset([u'Movie', u'Person'])\n",
      "\n",
      "Info about Node with id = 11:\n",
      "(n11:Movie {box_office_Mdol:677.9,country:\"USA\",duration_min:142,lang:\"English\",released:1994,title:\"Forrest Gump\"})\n",
      "\n",
      "The number of relationships attached to the node:\n",
      "tom_hanks: 2\n",
      "forrest_gump: 3\n",
      "\n",
      "tom_hanks Label: LabelSet(['Person'])\n",
      "tom_hanks was born: 1956\n",
      "\n",
      "Info about Relationship with id = 21:\n",
      "(:Person {born:1952,country:\"USA\",name:\"Robert Zemeckis\"})-[r21:DIRECTED]->(:Movie {box_office_Mdol:677.9,country:\"USA\",duration_min:142,lang:\"English\",released:1994,title:\"Forrest Gump\"})\n",
      "\n",
      "Relationship's nodes:\n",
      "(<Node graph=u'http://localhost:7474/db/data/' ref=u'node/24' labels=set(['Person']) properties={'country': u'USA', 'name': u'Tom Hanks', 'born': 1956}>, <Node graph=u'http://localhost:7474/db/data/' ref=u'node/25' labels=set(['Movie']) properties={'lang': u'English', 'title': u'Forrest Gump', 'country': u'USA', 'box_office_Mdol': 677.9, 'released': 1994, 'duration_min': 142}>)\n"
     ]
    }
   ],
   "source": [
    "print \"Relationships amount:\"\n",
    "print graph.size\n",
    "\n",
    "print \"\\nRelationships types:\"\n",
    "print graph.relationship_types\n",
    "\n",
    "print \"\\nNodes amount:\"\n",
    "print graph.order\n",
    "\n",
    "print \"\\nExisting Labels:\"\n",
    "print graph.node_labels\n",
    "\n",
    "print \"\\nInfo about Node with id = 11:\"\n",
    "# You may have another id of the same Node or Relationship\n",
    "print graph.node(11)\n",
    "\n",
    "print \"\\nThe number of relationships attached to the node:\"\n",
    "print \"tom_hanks:\", tom_hanks.degree\n",
    "print \"forrest_gump:\", forrest_gump.degree\n",
    "\n",
    "# Properties and Labels of a Node (the same for Relationships) can be obtained also in such way:\n",
    "print \"\\ntom_hanks Label:\", tom_hanks.labels\n",
    "print \"tom_hanks was born:\", tom_hanks.properties['born']\n",
    "\n",
    "print \"\\nInfo about Relationship with id = 21:\"\n",
    "print graph.relationship(21)\n",
    "\n",
    "print \"\\nRelationship's nodes:\"\n",
    "print tom_hanks_acted_in_forrest_gump.nodes"
   ]
  },
  {
   "cell_type": "markdown",
   "metadata": {
    "collapsed": false
   },
   "source": [
    "The last output line represets Cypher code. We will consider it further.\n",
    "\n",
    "Let's extend our graph database with one new movie [\"The Green Mile\"](https://en.wikipedia.org/wiki/The_Green_Mile):"
   ]
  },
  {
   "cell_type": "code",
   "execution_count": 13,
   "metadata": {
    "collapsed": false
   },
   "outputs": [
    {
     "data": {
      "text/plain": [
       "(<Relationship graph=u'http://localhost:7474/db/data/' ref=u'relationship/98' start=u'node/99' end=u'node/96' type=u'BASED_ON' properties={}>,)"
      ]
     },
     "execution_count": 13,
     "metadata": {},
     "output_type": "execute_result"
    }
   ],
   "source": [
    "michael_clarke_duncan = Node(\"Person\", name=\"Michael Clarke Duncan\", born=1957, country=\"USA\")\n",
    "frank_darabont = Node(\"Person\", name=\"Frank Darabont\", born=1959, country=\"France\")\n",
    "stephen_king = Node(\"Person\", name=\"Stephen King\", born=1947, country=\"USA\")\n",
    "green_mile  = Node(\"Movie\", title=\"The Green Mile\", released=1999, duration_min=188, \n",
    "                    country=\"USA\", lang=\"English\", box_office_Mdol=290.7)\n",
    "\n",
    "graph.create(Relationship(tom_hanks, \"ACTED_IN\", green_mile, role=\"Paul Edgecomb\"))\n",
    "graph.create(Relationship(gary_sinise, \"ACTED_IN\", green_mile, role=\"Burt Hammersmith\"))\n",
    "graph.create(Relationship(michael_clarke_duncan, \"ACTED_IN\", green_mile, role=\"John Coffey\"))\n",
    "graph.create(Relationship(frank_darabont, \"DIRECTED\", green_mile))\n",
    "graph.create(Relationship(stephen_king, \"BASED_ON\", green_mile))"
   ]
  },
  {
   "cell_type": "markdown",
   "metadata": {
    "collapsed": true
   },
   "source": [
    "Update http://localhost:7474/browser/ page and look at renewed graph."
   ]
  },
  {
   "cell_type": "markdown",
   "metadata": {
    "collapsed": true
   },
   "source": [
    "# A quick Cypher introduction\n",
    "\n",
    "**Cypher** is a pattern-oriented, declarative query language; a mix of SQL and graph traversal patterns. If you know SQL well, you'll probably quickly see the parallels. This is just a brief introduction to get you started — if you want more complete documentation, see the documentation [here](http://neo4j.com/docs/stable/cypher-query-lang.html) and [here](http://neo4j.com/developer/cypher-query-language/). Note that much of Cypher is case-insensitive, like SQL. Notable exceptions to this rule include identifiers, labels, property keys, and relationship types.\n",
    "\n",
    "`py2neo` provides Cypher execution functionality via the HTTP transactional endpoint. Method `execute()` allows using pure Cypher inside Python code."
   ]
  },
  {
   "cell_type": "markdown",
   "metadata": {},
   "source": [
    "### `CREATE` clause for new data insertion:\n",
    "\n",
    "Neo4j CQL `CREATE` command is used to create Nodes without and with properties, to create Relationships between Nodes without and with Properties and to create single or multiple labels to a Node or a Relationship.\n",
    "\n",
    "_**Basic syntax**_:\n",
    "* for a single Node: \n",
    " \n",
    "    CREATE (\n",
    "            <node_name>:<label_name>: ... :<label_name_N> \n",
    "            {\n",
    "                <property_1_name>:<property_1_value>, ..., <property_M_name>:<property_M_value>\n",
    "             }\n",
    "            )\n",
    "* for Relationship between nodes:\n",
    "    \n",
    "    CREATE (\n",
    "            <node_1_name>:<label_1_name>: ... :<label_1_name_N1> \n",
    "            {\n",
    "                <property_1_name>:<property_1_value>, ..., <property_M1_name>:<property_M1_value>\n",
    "             }\n",
    "            )-\n",
    "           [ (<relationship_name>:<relationship_label_name_1>: ... :<relationship_label_name_K>) ]\n",
    "           ->(\n",
    "            <node_2_name>:<label_2_name>: ... :<label_2_name_N2> \n",
    "            {\n",
    "                <property_1_name>:<property_1_value>, ..., <property_M2_name>:<property_M2_value>\n",
    "             }\n",
    "           )\n",
    "\n",
    "_**Analogy with SQL**_:\n",
    "\n",
    "    INSERT INTO <table_name> (<value_of_field_1>, ..., <value_of_field_N>);"
   ]
  },
  {
   "cell_type": "markdown",
   "metadata": {},
   "source": [
    "Let's create a new Person, a new film [\"Inception\"](https://en.wikipedia.org/wiki/Inception) and \"Matrix\" trilogy using `py2neo.Graph.cypher` attribute:"
   ]
  },
  {
   "cell_type": "code",
   "execution_count": 81,
   "metadata": {
    "collapsed": false
   },
   "outputs": [
    {
     "data": {
      "text/plain": []
     },
     "execution_count": 81,
     "metadata": {},
     "output_type": "execute_result"
    }
   ],
   "source": [
    "graph.cypher.execute(\"CREATE (single_actor:Person { name:'Sylvester Stallone', born:1946, country:'USA' })\")"
   ]
  },
  {
   "cell_type": "code",
   "execution_count": 15,
   "metadata": {
    "collapsed": false
   },
   "outputs": [
    {
     "data": {
      "text/plain": []
     },
     "execution_count": 15,
     "metadata": {},
     "output_type": "execute_result"
    }
   ],
   "source": [
    "graph.cypher.execute(\"\"\"\n",
    "                      CREATE (actor:«label_1» { name:'Leonardo DiCaprio', born:1974, country:'USA' })-\n",
    "                      [:«rel»]->\n",
    "                      (film:«label_2» { title:\"Inseption\", released:2010, duration_min:148, \n",
    "                                        country:\"USA\", lang:\"English\", box_office_Mdol:825.5 })\n",
    "                     \"\"\",\n",
    "                     actor=\"leonardo_diCaprio\", label_1=\"Person\",\n",
    "                     rel=\"ACTED_IN\",\n",
    "                     film=\"Inception\", label_2=\"Movie\"\n",
    "                    )"
   ]
  },
  {
   "cell_type": "code",
   "execution_count": 16,
   "metadata": {
    "collapsed": false
   },
   "outputs": [
    {
     "data": {
      "text/plain": []
     },
     "execution_count": 16,
     "metadata": {},
     "output_type": "execute_result"
    }
   ],
   "source": [
    "graph.cypher.execute(\n",
    "    \"\"\" \n",
    "    CREATE (matrix1:Movie { title: 'The Matrix', released: 1999, duration_min:136, box_office_Mdol:463.5 })\n",
    "    CREATE (matrix2:Movie { title: 'The Matrix Reloaded', released: 2003, duration_min:138, box_office_Mdol:742.1 })\n",
    "    CREATE (matrix3:Movie { title: 'The Matrix Revolutions', released: 2003, duration_min:129, box_office_Mdol:427.3 })\n",
    "    CREATE (keanu:Person { name:'Keanu Reeves', born:1964, country:\"Canada\" })\n",
    "    CREATE (laurence:Person { name:'Laurence Fishburne', born:1961, country:\"USA\" })\n",
    "    CREATE (carrieanne:Person { name:'Carrie-Anne Moss', born:1967, country:\"Canada\" })\n",
    "    CREATE (keanu)-[:ACTED_IN { role: 'Neo' }]->(matrix1)\n",
    "    CREATE (keanu)-[:ACTED_IN { role: 'Neo' }]->(matrix2)\n",
    "    CREATE (keanu)-[:ACTED_IN { role: 'Neo' }]->(matrix3)\n",
    "    CREATE (laurence)-[:ACTED_IN { role: 'Morpheus' }]->(matrix1)\n",
    "    CREATE (laurence)-[:ACTED_IN { role: 'Morpheus' }]->(matrix2)\n",
    "    CREATE (laurence)-[:ACTED_IN { role: 'Morpheus' }]->(matrix3)\n",
    "    CREATE (carrieanne)-[:ACTED_IN { role: 'Trinity' }]->(matrix1)\n",
    "    CREATE (carrieanne)-[:ACTED_IN { role: 'Trinity' }]->(matrix2)\n",
    "    CREATE (carrieanne)-[:ACTED_IN { role: 'Trinity' }]->(matrix3)\n",
    "    \"\"\"\n",
    ")"
   ]
  },
  {
   "cell_type": "markdown",
   "metadata": {},
   "source": [
    "### `RETURN` clause for returning query result:\n",
    "\n",
    "Neo4j CQL `RETURN` clause is used to retrieve some or all properties of a Node, of Nodes and associated Relationships. We should use it with either `MATCH` or `CREATE` Commands.\n",
    "\n",
    "_**Basic syntax**_:\n",
    "    \n",
    "    RETURN <node_name>.<property_1_name>, ... , <node_name>.<property_N_name>"
   ]
  },
  {
   "cell_type": "markdown",
   "metadata": {
    "collapsed": false
   },
   "source": [
    "### `MATCH` clause for data selection:\n",
    "\n",
    "Neo4j CQL `MATCH` command is used to get data about nodes, relationships and properties from database. We can use `MATCH` command with `RETURN` clause or an update clause.\n",
    "\n",
    "_**Basic syntax**_:\n",
    "    \n",
    "    MATCH (<node_name>:<label_name>)\n",
    "    RETURN <node_name>.<property_1_name>, ... , <node_name>.<property_N_name>\n",
    "    \n",
    "_**Analogy with SQL**_:\n",
    "\n",
    "    SELECT <field_1>, ..., <field_N> FROM <table_name>;"
   ]
  },
  {
   "cell_type": "code",
   "execution_count": 32,
   "metadata": {
    "collapsed": false
   },
   "outputs": [
    {
     "data": {
      "text/plain": [
       "    | n                                                                                                                     \n",
       "----+------------------------------------------------------------------------------------------------------------------------\n",
       "  1 | (n92:Person {born:1956,country:\"USA\",name:\"Tom Hanks\"})                                                               \n",
       "  2 | (n93:Movie {box_office_Mdol:677.9,country:\"USA\",duration_min:142,lang:\"English\",released:1994,title:\"Forrest Gump\"})  \n",
       "  3 | (n94:Person {born:1955,country:\"USA\",name:\"Gary Sinise\"})                                                             \n",
       "  4 | (n95:Person {born:1952,country:\"USA\",name:\"Robert Zemeckis\"})                                                         \n",
       "  5 | (n96:Movie {box_office_Mdol:290.7,country:\"USA\",duration_min:188,lang:\"English\",released:1999,title:\"The Green Mile\"})\n",
       "  6 | (n97:Person {born:1957,country:\"USA\",name:\"Michael Clarke Duncan\"})                                                   \n",
       "  7 | (n98:Person {born:1959,country:\"France\",name:\"Frank Darabont\"})                                                       \n",
       "  8 | (n99:Person {born:1947,country:\"USA\",name:\"Stephen King\"})                                                            \n",
       "  9 | (n100:Person {born:1946,country:\"USA\",name:\"Sylvester Stallone\"})                                                     \n",
       " 10 | (n101:Person {born:1974,country:\"USA\",name:\"Leonardo DiCaprio\"})                                                      \n",
       " 11 | (n102:Movie {box_office_Mdol:825.5,country:\"USA\",duration_min:148,lang:\"English\",released:2010,title:\"Inseption\"})    \n",
       " 12 | (n103:Movie {box_office_Mdol:463.5,duration_min:136,released:1999,title:\"The Matrix\"})                                \n",
       " 13 | (n104:Movie {box_office_Mdol:742.1,duration_min:138,released:2003,title:\"The Matrix Reloaded\"})                       \n",
       " 14 | (n105:Movie {box_office_Mdol:427.3,duration_min:129,released:2003,title:\"The Matrix Revolutions\"})                    \n",
       " 15 | (n106:Person {born:1964,country:\"Canada\",name:\"Keanu Reeves\"})                                                        \n",
       " 16 | (n107:Person {born:1961,country:\"USA\",name:\"Laurence Fishburne\"})                                                     \n",
       " 17 | (n108:Person {born:1967,country:\"Canada\",name:\"Carrie-Anne Moss\"})                                                    "
      ]
     },
     "execution_count": 32,
     "metadata": {},
     "output_type": "execute_result"
    }
   ],
   "source": [
    "# Return all items\n",
    "graph.cypher.execute(\"MATCH (n) RETURN n\")\n",
    "# is equivalent to \n",
    "# SELECT * FROM table_1\n",
    "# UNION\n",
    "# SELECT * FROM table_2\n",
    "# ..."
   ]
  },
  {
   "cell_type": "code",
   "execution_count": 33,
   "metadata": {
    "collapsed": false
   },
   "outputs": [
    {
     "data": {
      "text/plain": [
       "   | movie                                                                                 \n",
       "---+----------------------------------------------------------------------------------------\n",
       " 1 | (n103:Movie {box_office_Mdol:463.5,duration_min:136,released:1999,title:\"The Matrix\"})"
      ]
     },
     "execution_count": 33,
     "metadata": {},
     "output_type": "execute_result"
    }
   ],
   "source": [
    "# Return specific Movie object \n",
    "graph.cypher.execute(\"MATCH (movie:Movie { title:'The Matrix' }) RETURN movie\")"
   ]
  },
  {
   "cell_type": "code",
   "execution_count": 34,
   "metadata": {
    "collapsed": false
   },
   "outputs": [
    {
     "data": {
      "text/plain": [
       "   | movie.title | movie.released\n",
       "---+-------------+----------------\n",
       " 1 | The Matrix  |           1999"
      ]
     },
     "execution_count": 34,
     "metadata": {},
     "output_type": "execute_result"
    }
   ],
   "source": [
    "# Return the title and date of the film\n",
    "graph.cypher.execute(\"MATCH (movie:Movie { title:'The Matrix' }) RETURN movie.title, movie.released\")"
   ]
  },
  {
   "cell_type": "code",
   "execution_count": 35,
   "metadata": {
    "collapsed": false
   },
   "outputs": [
    {
     "data": {
      "text/plain": [
       "   | movie.title            | movie.released\n",
       "---+------------------------+----------------\n",
       " 1 | Forrest Gump           |           1994\n",
       " 2 | The Green Mile         |           1999\n",
       " 3 | Inseption              |           2010\n",
       " 4 | The Matrix             |           1999\n",
       " 5 | The Matrix Reloaded    |           2003\n",
       " 6 | The Matrix Revolutions |           2003"
      ]
     },
     "execution_count": 35,
     "metadata": {},
     "output_type": "execute_result"
    }
   ],
   "source": [
    "# Return the title and date of all films\n",
    "graph.cypher.execute(\"MATCH (movie:Movie) RETURN movie.title, movie.released\")\n",
    "# Analogy with SQL:\n",
    "# SELECT title, released FROM movie;"
   ]
  },
  {
   "cell_type": "code",
   "execution_count": 36,
   "metadata": {
    "collapsed": false
   },
   "outputs": [
    {
     "data": {
      "text/plain": [
       "    | person.name           | person.born\n",
       "----+-----------------------+-------------\n",
       "  1 | Leonardo DiCaprio     |        1974\n",
       "  2 | Carrie-Anne Moss      |        1967\n",
       "  3 | Keanu Reeves          |        1964\n",
       "  4 | Laurence Fishburne    |        1961\n",
       "  5 | Frank Darabont        |        1959\n",
       "  6 | Michael Clarke Duncan |        1957\n",
       "  7 | Tom Hanks             |        1956\n",
       "  8 | Gary Sinise           |        1955\n",
       "  9 | Robert Zemeckis       |        1952\n",
       " 10 | Stephen King          |        1947\n",
       " 11 | Sylvester Stallone    |        1946"
      ]
     },
     "execution_count": 36,
     "metadata": {},
     "output_type": "execute_result"
    }
   ],
   "source": [
    "# Return Person names and year of birth, and order them by year in descending order:\n",
    "graph.cypher.execute(\"\"\"\n",
    "    MATCH (person:Person)\n",
    "    RETURN person.name, person.born\n",
    "    ORDER BY person.born DESC\n",
    "\"\"\")\n",
    "# Analogy with SQL:\n",
    "# SELECT name, born FROM person ORDER BY born DESC;"
   ]
  },
  {
   "cell_type": "code",
   "execution_count": 37,
   "metadata": {
    "collapsed": false
   },
   "outputs": [
    {
     "data": {
      "text/plain": [
       "   | count(*)\n",
       "---+----------\n",
       " 1 |       17"
      ]
     },
     "execution_count": 37,
     "metadata": {},
     "output_type": "execute_result"
    }
   ],
   "source": [
    "# Count all objects:\n",
    "graph.cypher.execute(\"MATCH (n) RETURN COUNT(*)\")"
   ]
  },
  {
   "cell_type": "code",
   "execution_count": 38,
   "metadata": {
    "collapsed": false
   },
   "outputs": [
    {
     "data": {
      "text/plain": [
       "   | count(*)\n",
       "---+----------\n",
       " 1 |       11"
      ]
     },
     "execution_count": 38,
     "metadata": {},
     "output_type": "execute_result"
    }
   ],
   "source": [
    "# Count Person's:\n",
    "graph.cypher.execute(\"MATCH (n:Person) RETURN COUNT(*)\")\n",
    "# Analogy with SQL:\n",
    "# SELECT COUNT(*) FROM person"
   ]
  },
  {
   "cell_type": "code",
   "execution_count": 39,
   "metadata": {
    "collapsed": false
   },
   "outputs": [
    {
     "data": {
      "text/plain": [
       "   | type(r)  | count(*)\n",
       "---+----------+----------\n",
       " 1 | BASED_ON |        1\n",
       " 2 | ACTED_IN |       15\n",
       " 3 | DIRECTED |        2"
      ]
     },
     "execution_count": 39,
     "metadata": {},
     "output_type": "execute_result"
    }
   ],
   "source": [
    "# Count relationship types:\n",
    "graph.cypher.execute(\"MATCH (n)-[r]->() RETURN TYPE(r), COUNT(*)\")"
   ]
  },
  {
   "cell_type": "code",
   "execution_count": 101,
   "metadata": {
    "collapsed": false
   },
   "outputs": [
    {
     "data": {
      "text/plain": [
       "    | FROM                  | ->       | TO                 \n",
       "----+-----------------------+----------+---------------------\n",
       "  1 | Tom Hanks             | ACTED_IN | The Green Mile     \n",
       "  2 | Tom Hanks             | ACTED_IN | Forrest Gump       \n",
       "  3 | Gary Sinise           | ACTED_IN | The Green Mile     \n",
       "  4 | Gary Sinise           | ACTED_IN | Forrest Gump       \n",
       "  5 | Robert Zemeckis       | DIRECTED | Forrest Gump       \n",
       "  6 | Michael Clarke Duncan | ACTED_IN | The Green Mile     \n",
       "  7 | Frank Darabont        | DIRECTED | The Green Mile     \n",
       "  8 | Stephen King          | BASED_ON | The Green Mile     \n",
       "  9 | Leonardo DiCaprio     | ACTED_IN | Inseption          \n",
       " 10 | Keanu Reeves          | ACTED_IN | The Matrix Reloaded"
      ]
     },
     "execution_count": 101,
     "metadata": {},
     "output_type": "execute_result"
    }
   ],
   "source": [
    "# List all nodes and their relationships:\n",
    "graph.cypher.execute(\"\"\"\n",
    "    MATCH (n)-[r]->(m)\n",
    "    RETURN n.name AS FROM, type(r) AS `->`, m.title AS TO\n",
    "    LIMIT 10\n",
    "\"\"\")"
   ]
  },
  {
   "cell_type": "markdown",
   "metadata": {},
   "source": [
    "### `WHERE` clause:\n",
    "\n",
    "Like SQL, Neo4j CQL has provided `WHERE` clause in CQL `MATCH` command to filter the results of a `MATCH` query.\n",
    "\n",
    "\n",
    "_**Basic syntax**_:\n",
    "    \n",
    "    MATCH (<node_name>:<label_name>)\n",
    "    WHERE <condition> <boolean_operator> <condition>\n",
    "    RETURN <node_name>.<property_1_name>, ... , <node_name>.<property_N_name>\n",
    "    \n",
    "_**Analogy with SQL**_:\n",
    "\n",
    "    SELECT <field_1>, ..., <field_N> \n",
    "    FROM <table_name>\n",
    "    WHERE <condition> <boolean_operator> <condition>;\n",
    "    \n",
    "Cypher suppots the same operators as SQL: \"=\", \"<>\"\t\"<\", \">\", \"<=\", \">=\", \"`AND`\", \"`OR`\", \"`NOT`\", \"`XOR`\"."
   ]
  },
  {
   "cell_type": "code",
   "execution_count": 41,
   "metadata": {
    "collapsed": false
   },
   "outputs": [
    {
     "data": {
      "text/plain": [
       "   | person.name      | person.country\n",
       "---+------------------+----------------\n",
       " 1 | Frank Darabont   | France        \n",
       " 2 | Keanu Reeves     | Canada        \n",
       " 3 | Carrie-Anne Moss | Canada        "
      ]
     },
     "execution_count": 41,
     "metadata": {},
     "output_type": "execute_result"
    }
   ],
   "source": [
    "# Get only those persons who was born not in USA:\n",
    "graph.cypher.execute(\"\"\"\n",
    "    MATCH (person:Person)\n",
    "    WHERE person.country <> \"USA\"\n",
    "    RETURN person.name, person.country\n",
    "\"\"\")\n",
    "# Analogy with SQL:\n",
    "# SELECT name FROM person WHERE country <> \"USA\";"
   ]
  },
  {
   "cell_type": "code",
   "execution_count": 42,
   "metadata": {
    "collapsed": false
   },
   "outputs": [
    {
     "data": {
      "text/plain": [
       "   | person.name     \n",
       "---+------------------\n",
       " 1 | Tom Hanks       \n",
       " 2 | Robert Zemeckis \n",
       " 3 | Keanu Reeves    \n",
       " 4 | Carrie-Anne Moss"
      ]
     },
     "execution_count": 42,
     "metadata": {},
     "output_type": "execute_result"
    }
   ],
   "source": [
    "# Get only the persons whose names end with “s”:\n",
    "graph.cypher.execute(\"\"\"\n",
    "    MATCH (person:Person)\n",
    "    WHERE person.name =~ \".*s$\" \n",
    "    RETURN person.name\n",
    "\"\"\")\n",
    "# \"WHERE person.name =~ '.*s$'\" is equivalent to \"WHERE person.name ENDS WITH 's'\"\n",
    "\n",
    "# Analogy with SQL:\n",
    "# SELECT name FROM person WHERE name LIKE '%s';"
   ]
  },
  {
   "cell_type": "code",
   "execution_count": 105,
   "metadata": {
    "collapsed": false
   },
   "outputs": [
    {
     "data": {
      "text/plain": [
       "   | person.name           | person.born\n",
       "---+-----------------------+-------------\n",
       " 1 | Tom Hanks             |        1956\n",
       " 2 | Michael Clarke Duncan |        1957\n",
       " 3 | Frank Darabont        |        1959\n",
       " 4 | Stephen King          |        1947\n",
       " 5 | Leonardo DiCaprio     |        1974\n",
       " 6 | Laurence Fishburne    |        1961"
      ]
     },
     "execution_count": 105,
     "metadata": {},
     "output_type": "execute_result"
    }
   ],
   "source": [
    "# Get those persons who was born after 1955 in USA or France OR whose name starts with 'S' and contains 'St'\n",
    "graph.cypher.execute(\"\"\"\n",
    "    MATCH (person:Person)\n",
    "    WHERE (person.born > 1955 AND person.country IN [\"USA\", \"France\"]) \n",
    "    OR (person.name STARTS WITH 'S' AND person.name CONTAINS 'St')\n",
    "    RETURN person.name, person.born\n",
    "\"\"\")\n",
    "# Analogy with SQL:\n",
    "# SELECT name FROM person \n",
    "# WHERE (born > 1955 AND country IN [\"USA\", \"France\"]) OR (name LIKE 'S%' AND LIKE '%St%');"
   ]
  },
  {
   "cell_type": "code",
   "execution_count": 44,
   "metadata": {
    "collapsed": false
   },
   "outputs": [
    {
     "data": {
      "text/plain": [
       "   | total  | avg(movie.duration_min)\n",
       "---+--------+-------------------------\n",
       " 1 | 1632.9 |           134.333333333"
      ]
     },
     "execution_count": 44,
     "metadata": {},
     "output_type": "execute_result"
    }
   ],
   "source": [
    "# Calculate sum of total box office and the duration average value of \"The Matrix\" trilogy:\n",
    "graph.cypher.execute(\"\"\"\n",
    "    MATCH (movie:Movie)\n",
    "    WHERE movie.title STARTS WITH 'The Matrix'\n",
    "    RETURN SUM(movie.box_office_Mdol) AS total, AVG(movie.duration_min)\n",
    "\"\"\")\n",
    "# Analogy with SQL:\n",
    "# SELECT SUM(box_office_Mdol), AVG(duration_min) FROM movie \n",
    "# WHERE title LIKE 'The Matrix%';"
   ]
  },
  {
   "cell_type": "code",
   "execution_count": 128,
   "metadata": {
    "collapsed": false
   },
   "outputs": [
    {
     "data": {
      "text/plain": [
       "   | actor.name | movie.title   \n",
       "---+------------+----------------\n",
       " 1 | Tom Hanks  | The Green Mile\n",
       " 2 | Tom Hanks  | Forrest Gump  "
      ]
     },
     "execution_count": 128,
     "metadata": {},
     "output_type": "execute_result"
    }
   ],
   "source": [
    "# Find all movies, which Tom Hanks was acted in\n",
    "graph.cypher.execute(\"\"\"\n",
    "    MATCH (movie:Movie)<-[:ACTED_IN]-(actor:Person { name: \"Tom Hanks\" })\n",
    "    RETURN actor.name, movie.title\n",
    "\"\"\")"
   ]
  },
  {
   "cell_type": "code",
   "execution_count": 122,
   "metadata": {
    "collapsed": false
   },
   "outputs": [
    {
     "data": {
      "text/plain": [
       "   | movie.title            | count(*)\n",
       "---+------------------------+----------\n",
       " 1 | The Matrix Revolutions |        3\n",
       " 2 | The Matrix Reloaded    |        3"
      ]
     },
     "execution_count": 122,
     "metadata": {},
     "output_type": "execute_result"
    }
   ],
   "source": [
    "# All other movies that actors in “The Matrix” acted in ordered by occurrence:\n",
    "graph.cypher.execute(\"\"\"\n",
    "    MATCH (:Movie { title: \"The Matrix\" })<-[:ACTED_IN]-(actor)-[:ACTED_IN]->(movie)\n",
    "    RETURN movie.title, COUNT(*)\n",
    "    ORDER BY COUNT(*) DESC\n",
    "\"\"\")"
   ]
  },
  {
   "cell_type": "markdown",
   "metadata": {},
   "source": [
    "Pay attention how we can filter movies without `WHERE` clause and only determining additionally some properties."
   ]
  },
  {
   "cell_type": "code",
   "execution_count": 124,
   "metadata": {
    "collapsed": false
   },
   "outputs": [
    {
     "data": {
      "text/plain": [
       "   | movie.title            | COLLECT(actor.name)                                           | count\n",
       "---+------------------------+---------------------------------------------------------------+-------\n",
       " 1 | The Matrix Revolutions | [u'Carrie-Anne Moss', u'Keanu Reeves', u'Laurence Fishburne'] |     3\n",
       " 2 | The Matrix Reloaded    | [u'Carrie-Anne Moss', u'Keanu Reeves', u'Laurence Fishburne'] |     3"
      ]
     },
     "execution_count": 124,
     "metadata": {},
     "output_type": "execute_result"
    }
   ],
   "source": [
    "# Let’s see who acted in each of these movies:\n",
    "graph.cypher.execute(\"\"\"\n",
    "    MATCH (:Movie { title: \"The Matrix\" })<-[:ACTED_IN]-(actor)-[:ACTED_IN]->(movie)\n",
    "    RETURN movie.title, COLLECT(actor.name), COUNT(*) AS count\n",
    "    ORDER BY COUNT(*) DESC\n",
    "\"\"\")"
   ]
  },
  {
   "cell_type": "code",
   "execution_count": 126,
   "metadata": {
    "collapsed": false
   },
   "outputs": [
    {
     "data": {
      "text/plain": [
       "   | actor.name         | COLLECT(DISTINCT colleague.name)            \n",
       "---+--------------------+----------------------------------------------\n",
       " 1 | Carrie-Anne Moss   | [u'Laurence Fishburne', u'Keanu Reeves']    \n",
       " 2 | Laurence Fishburne | [u'Carrie-Anne Moss', u'Keanu Reeves']      \n",
       " 3 | Keanu Reeves       | [u'Laurence Fishburne', u'Carrie-Anne Moss']"
      ]
     },
     "execution_count": 126,
     "metadata": {},
     "output_type": "execute_result"
    }
   ],
   "source": [
    "# What about co-acting, that is actors that acted together:\n",
    "graph.cypher.execute(\"\"\"\n",
    "    MATCH (:Movie { title: \"The Matrix\" })<-[:ACTED_IN]-(actor)-[:ACTED_IN]->(movie)<-[:ACTED_IN]-(colleague)\n",
    "    RETURN actor.name, COLLECT(DISTINCT colleague.name)\n",
    "\"\"\")"
   ]
  },
  {
   "cell_type": "code",
   "execution_count": 127,
   "metadata": {
    "collapsed": false
   },
   "outputs": [
    {
     "data": {
      "text/plain": [
       "   | actor.name         | COLLECT(DISTINCT colleague.name)            \n",
       "---+--------------------+----------------------------------------------\n",
       " 1 | Carrie-Anne Moss   | [u'Laurence Fishburne', u'Keanu Reeves']    \n",
       " 2 | Laurence Fishburne | [u'Carrie-Anne Moss', u'Keanu Reeves']      \n",
       " 3 | Keanu Reeves       | [u'Laurence Fishburne', u'Carrie-Anne Moss']"
      ]
     },
     "execution_count": 127,
     "metadata": {},
     "output_type": "execute_result"
    }
   ],
   "source": [
    "# What about co-acting, that is actors that acted together:\n",
    "graph.cypher.execute(\"\"\"\n",
    "    MATCH (:Movie { title: \"The Matrix\" })<-[:ACTED_IN]-(actor)-[:ACTED_IN]->(movie)<-[:ACTED_IN]-(colleague)\n",
    "    RETURN actor.name, COLLECT(DISTINCT colleague.name)\n",
    "\"\"\")"
   ]
  },
  {
   "cell_type": "markdown",
   "metadata": {},
   "source": [
    "Let's list some of the important and frequently used functions:\n",
    "\n",
    "**String functions:**\n",
    "\n",
    "* `UPPER` - it is used to change all letters into upper case letters;\n",
    "* `LOWER` - it is used to change all letters into lower case letters;\n",
    "* `SUBSTRING` - it is used to get substring of a given string;\n",
    "* `REPLACE`\t- it is used to replace a substring with give substring of a string;\n",
    "* `LENGTH(string)` - it returns the length of a string;\n",
    "* `TRIM` - it returns the original string with whitespace removed from both sides;\n",
    "* `SPLIT(original, splitPattern)` - it returns the sequence of strings witch are delimited by split patterns.\n",
    "* `REVERSE` - it returns the original string reversed.\n",
    "\n",
    "**Relationship functions:**\n",
    "\n",
    "* `STARTNODE` - it is used to know the Start Node of a Relationship;\n",
    "* `ENDNODE` - it is used to know the End Node of a Relationship;\n",
    "* `ID` - it is used to know the `ID` of a Relationship;\n",
    "* `TYPE` -it is used to know the `TYPE` of a Relationship in string representation.\n",
    "\n",
    "**Aggregation functions:**\n",
    "\n",
    "* `COUNT` - it returns the number of rows returned by `MATCH` command;\n",
    "* `MAX` - it returns the maximum value from a set of rows returned by `MATCH` command;\n",
    "* `MIN` - it returns the minimum value from a set of rows returned by `MATCH` command;\n",
    "* `SUM` - it returns the summation value of all rows returned by `MATCH` command;\n",
    "* `AVG` - it returns the average value of all rows returned by `MATCH` command;\n",
    "* `COLLECT` - it collects all the values into a list. It will ignore `NULL`s;\n",
    "* `DISTINCT` - it removes duplicates from the values.\n",
    "\n",
    "**Predicates:**\n",
    "\n",
    "* `ALL` - it tests whether a predicate holds for all element of this collection collection;\n",
    "* `ANY` - it tests whether a predicate holds for at least one element in the collection;\n",
    "* `EXISTS` - it returns true if a match for the pattern exists in the graph, or the property exists in the node, relationship or map.\n",
    "\n",
    "**Collection functions:**\n",
    "\n",
    "* `NODES` - it returns all nodes in a path;\n",
    "* `RELATIONSHIPS` - it returns all relationships in a path;\n",
    "* `LABELS` - it returns a collection of string representations for the labels attached to a node;\n",
    "* `KEYS` - it returns a collection of string representations for the property names of a node, relationship, or map;\n",
    "* `RANGE(start, end [, step])` - it returns numerical values in a range with a non-zero step value step;\n",
    "* `HEAD` - it returns the first element in a collection;\n",
    "* `LAST` - it returns the last element in a collection."
   ]
  },
  {
   "cell_type": "code",
   "execution_count": 115,
   "metadata": {
    "collapsed": false
   },
   "outputs": [
    {
     "data": {
      "text/plain": [
       "   | STARTNODE(movie)                                                | length\n",
       "---+-----------------------------------------------------------------+--------\n",
       " 1 | (n95:Person {born:1952,country:\"USA\",name:\"Robert Zemeckis\"})   |     15\n",
       " 2 | (n98:Person {born:1959,country:\"France\",name:\"Frank Darabont\"}) |     14"
      ]
     },
     "execution_count": 115,
     "metadata": {},
     "output_type": "execute_result"
    }
   ],
   "source": [
    "graph.cypher.execute(\"\"\"\n",
    "    MATCH (a)-[movie:DIRECTED]->(b) \n",
    "    RETURN STARTNODE(movie), LENGTH(STARTNODE(movie).name) AS length\n",
    "\"\"\")"
   ]
  },
  {
   "cell_type": "code",
   "execution_count": 112,
   "metadata": {
    "collapsed": false
   },
   "outputs": [
    {
     "data": {
      "text/plain": [
       "   | title                  | director_is_known\n",
       "---+------------------------+-------------------\n",
       " 1 | Forrest Gump           |              True\n",
       " 2 | The Green Mile         |              True\n",
       " 3 | Inseption              |             False\n",
       " 4 | The Matrix             |             False\n",
       " 5 | The Matrix Reloaded    |             False\n",
       " 6 | The Matrix Revolutions |             False"
      ]
     },
     "execution_count": 112,
     "metadata": {},
     "output_type": "execute_result"
    }
   ],
   "source": [
    "graph.cypher.execute(\"\"\"\n",
    "    MATCH (a:Movie)\n",
    "    RETURN a.title AS title, EXISTS((a)<-[:DIRECTED]-()) AS director_is_known\n",
    "\"\"\")   "
   ]
  },
  {
   "cell_type": "code",
   "execution_count": 120,
   "metadata": {
    "collapsed": false
   },
   "outputs": [
    {
     "data": {
      "text/plain": [
       "   | REVERSE(a.title)       | HEAD(KEYS(a)) | LABELS(a) \n",
       "---+------------------------+---------------+------------\n",
       " 1 | eliM neerG ehT         | lang          | [u'Movie']\n",
       " 2 | xirtaM ehT             | title         | [u'Movie']\n",
       " 3 | dedaoleR xirtaM ehT    | title         | [u'Movie']\n",
       " 4 | snoituloveR xirtaM ehT | title         | [u'Movie']"
      ]
     },
     "execution_count": 120,
     "metadata": {},
     "output_type": "execute_result"
    }
   ],
   "source": [
    "graph.cypher.execute(\"\"\"\n",
    "    MATCH (a:Movie)\n",
    "    WHERE a.released IN RANGE(1999, 2005) AND ANY (x IN SPLIT(a.title, ' ') WHERE LOWER(x) = \"the\")\n",
    "    RETURN REVERSE(a.title), HEAD(KEYS(a)), LABELS(a)\n",
    "\"\"\")       "
   ]
  },
  {
   "cell_type": "markdown",
   "metadata": {
    "collapsed": true
   },
   "source": [
    "### `DELETE` and `REMOVE` clauses:\n",
    "\n",
    "Neo4j CQL `DELETE` clause is used to delete a Node, a Node and associated Nodes and Relationships.\n",
    "\n",
    "_**Basic syntax**_:\n",
    "    \n",
    "    MATCH (<node_name>:<label_name>)\n",
    "    DELETE <node_name_list>\n",
    "    \n",
    "_**Analogy with SQL**_:\n",
    "\n",
    "    DELETE FROM <table_name>\n",
    "    WHERE <some_column> = <some_value>;\n",
    "\n",
    "Neo4j CQL `REMOVE` command is used to remove labels and properties of a Node or a Relationship\n",
    "\n",
    "_**Basic syntax**_:\n",
    "\n",
    "    MATCH (<node_name>:<label_name>)\n",
    "    REMOVE <node_name>.<property_1_name>, ..., <node_name>.<property_N_name> \n",
    "    \n",
    "_**Analogy with SQL**_:\n",
    "\n",
    "    ALTER TABLE <table_name>\n",
    "    DROP COLUMN <column_name>;\n",
    "    \n",
    "Besides, the following code clear the whole database:\n",
    "\n",
    "    MATCH (n)\n",
    "    OPTIONAL MATCH (n)-[r]-()\n",
    "    DELETE n, r"
   ]
  },
  {
   "cell_type": "code",
   "execution_count": 82,
   "metadata": {
    "collapsed": false
   },
   "outputs": [
    {
     "data": {
      "text/plain": [
       "   | a                                                                \n",
       "---+-------------------------------------------------------------------\n",
       " 1 | (n111:Person {born:1946,country:\"USA\",name:\"Sylvester Stallone\"})"
      ]
     },
     "execution_count": 82,
     "metadata": {},
     "output_type": "execute_result"
    }
   ],
   "source": [
    "# Look at the single Person Node (without any connection)\n",
    "graph.cypher.execute(\"\"\"\n",
    "    MATCH (a:Person) \n",
    "    WHERE NOT (a)-[]->()\n",
    "    RETURN a\n",
    "\"\"\")"
   ]
  },
  {
   "cell_type": "code",
   "execution_count": 87,
   "metadata": {
    "collapsed": false
   },
   "outputs": [
    {
     "data": {
      "text/plain": [
       "   | a.name             | a.born | a.country | labels(a)  \n",
       "---+--------------------+--------+-----------+-------------\n",
       " 1 | Sylvester Stallone |        | USA       | [u'Person']"
      ]
     },
     "execution_count": 87,
     "metadata": {},
     "output_type": "execute_result"
    }
   ],
   "source": [
    "# Remove *born* property\n",
    "graph.cypher.execute(\"\"\"\n",
    "    MATCH (a:Person) \n",
    "    WHERE NOT (a)-[]->()\n",
    "    REMOVE a.born\n",
    "    RETURN a.name, a.born, a.country, labels(a)\n",
    "\"\"\")"
   ]
  },
  {
   "cell_type": "code",
   "execution_count": 88,
   "metadata": {
    "collapsed": false
   },
   "outputs": [
    {
     "data": {
      "text/plain": [
       "   | a.name             | a.born | a.country | labels(a)\n",
       "---+--------------------+--------+-----------+-----------\n",
       " 1 | Sylvester Stallone |        | USA       | []       "
      ]
     },
     "execution_count": 88,
     "metadata": {},
     "output_type": "execute_result"
    }
   ],
   "source": [
    "# Remove label\n",
    "graph.cypher.execute(\"\"\"\n",
    "    MATCH (a:Person) \n",
    "    WHERE NOT (a)-[]->()\n",
    "    REMOVE a:Person\n",
    "    RETURN a.name, a.born, a.country, labels(a)\n",
    "\"\"\")"
   ]
  },
  {
   "cell_type": "code",
   "execution_count": 89,
   "metadata": {
    "collapsed": false
   },
   "outputs": [
    {
     "data": {
      "text/plain": []
     },
     "execution_count": 89,
     "metadata": {},
     "output_type": "execute_result"
    }
   ],
   "source": [
    "# Delete the Node for Sylvester Stallone\n",
    "graph.cypher.execute(\"\"\"\n",
    "    MATCH (a:Person) \n",
    "    WHERE NOT (a)-[]->()\n",
    "    DELETE a\n",
    "\"\"\")"
   ]
  },
  {
   "cell_type": "code",
   "execution_count": 90,
   "metadata": {
    "collapsed": false
   },
   "outputs": [
    {
     "data": {
      "text/plain": [
       "  | a\n",
       "--+---"
      ]
     },
     "execution_count": 90,
     "metadata": {},
     "output_type": "execute_result"
    }
   ],
   "source": [
    "# See if  the Node for Sylvester Stallone remained\n",
    "graph.cypher.execute(\"\"\"\n",
    "    MATCH (a:Person) \n",
    "    WHERE NOT (a)-[]->()\n",
    "    RETURN a\n",
    "\"\"\")"
   ]
  },
  {
   "cell_type": "markdown",
   "metadata": {},
   "source": [
    "### `SET` clause for adding of new properties:\n",
    "\n",
    "Neo4j CQL has provided SET clause to add new properties to existing Node or Relationship, add or update Properties values.\n",
    "\n",
    "_**Basic syntax**_:\n",
    "    \n",
    "    MATCH (<node_name>:<label_name>)\n",
    "    SET <node_label_name>.<property_1_name>, ..., <node_label_name>.<property_N_name>\n",
    "   \n",
    "_**Analogy with SQL**_:\n",
    "    \n",
    "    ALTER TABLE <table_name>\n",
    "    ADD <column_name> <datatype>"
   ]
  },
  {
   "cell_type": "code",
   "execution_count": 132,
   "metadata": {
    "collapsed": false
   },
   "outputs": [
    {
     "data": {
      "text/plain": [
       "   | a                                                                                                                               \n",
       "---+----------------------------------------------------------------------------------------------------------------------------------\n",
       " 1 | (n102:Movie {IMDb_rating:9,box_office_Mdol:825.5,country:\"USA\",duration_min:148,lang:\"English\",released:2010,title:\"Inseption\"})\n",
       " 2 | (n103:Movie {IMDb_rating:9,box_office_Mdol:463.5,duration_min:136,released:1999,title:\"The Matrix\"})                            \n",
       " 3 | (n104:Movie {IMDb_rating:9,box_office_Mdol:742.1,duration_min:138,released:2003,title:\"The Matrix Reloaded\"})                   \n",
       " 4 | (n105:Movie {IMDb_rating:9,box_office_Mdol:427.3,duration_min:129,released:2003,title:\"The Matrix Revolutions\"})                "
      ]
     },
     "execution_count": 132,
     "metadata": {},
     "output_type": "execute_result"
    }
   ],
   "source": [
    "# Let's add new property *IMDb_rating* to all movies; default value is 9\n",
    "graph.cypher.execute(\"\"\"\n",
    "    MATCH (a:Movie) \n",
    "    SET a.IMDb_rating = 9\n",
    "    RETURN a\n",
    "    SKIP 2\n",
    "\"\"\")\n",
    "# SKIP command allows missing N the first rows"
   ]
  },
  {
   "cell_type": "code",
   "execution_count": 107,
   "metadata": {
    "collapsed": false
   },
   "outputs": [
    {
     "data": {
      "text/plain": [
       "   | a.title   | a.IMDb_rating\n",
       "---+-----------+---------------\n",
       " 1 | Inseption |           8.7"
      ]
     },
     "execution_count": 107,
     "metadata": {},
     "output_type": "execute_result"
    }
   ],
   "source": [
    "# Let's update property *IMDb_rating* of 'Inseption'\n",
    "graph.cypher.execute(\"\"\"\n",
    "    MATCH (a:Movie {title: 'Inseption'})\n",
    "    SET a.IMDb_rating = 8.7\n",
    "    RETURN a.title, a.IMDb_rating\n",
    "\"\"\")"
   ]
  },
  {
   "cell_type": "markdown",
   "metadata": {},
   "source": [
    "### `MERGE` clause (`CREATE + MATCH` together):\n",
    "\n",
    "Neo4j CQL `MERGE` command is used to create nodes, relationships and properties and to retrieve data from database. `MERGE` command is a combination of `CREATE` command and `MATCH` command. `MERGE` command searches for given pattern in the graph, if it exists then it returns the results. If it does NOT exist in the graph, then it creates new node/relationship and returns the results.\n",
    "\n",
    "`MERGE` command is equivalent to `merge` or `merge_one` functions of `py2neo` library. We will show its usage below.\n",
    "\n",
    "_**Basic syntax**_:\n",
    "    \n",
    "    MERGE (<node_name>:<label_name> { <property_1_name>:<property_1_value>, ..., <property_N_name>:<property_N_value> })"
   ]
  },
  {
   "cell_type": "code",
   "execution_count": 129,
   "metadata": {
    "collapsed": false
   },
   "outputs": [
    {
     "data": {
      "text/plain": [
       "   | a                                    \n",
       "---+---------------------------------------\n",
       " 1 | (n112 {age:72,name:\"Robert De Niro\"})"
      ]
     },
     "execution_count": 129,
     "metadata": {},
     "output_type": "execute_result"
    }
   ],
   "source": [
    "# Create a new Node\n",
    "graph.cypher.execute(\"\"\"\n",
    "    MERGE (a { name:'Robert De Niro', age:72 })\n",
    "    RETURN a\n",
    "\"\"\")"
   ]
  },
  {
   "cell_type": "markdown",
   "metadata": {},
   "source": [
    "### `UNION` clause:\n",
    "\n",
    "It combines and returns common rows from two set of results into a single set of results. It does not return duplicate rows from two nodes. Result column types and names from two set of results have to match that means column names should be same and column's data types should be same.\n",
    "\n",
    "\n",
    "_**Basic syntax**_:\n",
    "    \n",
    "    <MATCH Command_1>\n",
    "        UNION\n",
    "    <MATCH Command_2>\n",
    "   \n",
    "_**Analogy with SQL**_:\n",
    "    \n",
    "    SELECT <selection_1>\n",
    "        UNION\n",
    "    SELECT <selection_2>;"
   ]
  },
  {
   "cell_type": "code",
   "execution_count": 134,
   "metadata": {
    "collapsed": false
   },
   "outputs": [
    {
     "data": {
      "text/plain": [
       "    | name                  \n",
       "----+------------------------\n",
       "  1 | Tom Hanks             \n",
       "  2 | Gary Sinise           \n",
       "  3 | Robert Zemeckis       \n",
       "  4 | Michael Clarke Duncan \n",
       "  5 | Frank Darabont        \n",
       "  6 | Stephen King          \n",
       "  7 | Leonardo DiCaprio     \n",
       "  8 | Keanu Reeves          \n",
       "  9 | Laurence Fishburne    \n",
       " 10 | Carrie-Anne Moss      \n",
       " 11 | Forrest Gump          \n",
       " 12 | The Green Mile        \n",
       " 13 | Inseption             \n",
       " 14 | The Matrix            \n",
       " 15 | The Matrix Reloaded   \n",
       " 16 | The Matrix Revolutions"
      ]
     },
     "execution_count": 134,
     "metadata": {},
     "output_type": "execute_result"
    }
   ],
   "source": [
    "graph.cypher.execute(\"\"\"\n",
    "    MATCH (n:Person)\n",
    "    RETURN n.name AS name\n",
    "    UNION ALL MATCH (n:Movie)\n",
    "    RETURN n.title AS name\n",
    "\"\"\")    "
   ]
  },
  {
   "cell_type": "markdown",
   "metadata": {},
   "source": [
    "---\n",
    ">### Exersice:\n",
    "> On of the ways of creation of a new Neo4j database is the following:\n",
    "> Before Starting neo4j community click the browse option and choose an other directory or create a new one. After that you should to connect to this directory.\n",
    "> <img src=\"images/new_db_1.jpg\">\n",
    "> <img src=\"images/new_db_2.jpg\">\n",
    "\n",
    "> 1\\. Create a new Neo4j database and call it as \"imdb\". We will collect data scrapped earlier from IMDB web site. Connect to this database.\n",
    "\n",
    "> 2\\. Read \"imdb_movies_1500.json\" file to the `data` variable, that contains the 1500 records of scrapped data about most popular movies, its main actors and director(s).\n",
    "\n",
    "> 3\\. It is very easy to save JSON data to Neo4j database. The following code demonstrates how it can be done for the case of \"imdb_movies_1500.json\" file (Please, look at the this JSON file content and available fields before working with the following code).\n",
    "\n",
    "> <span style=\"margin-left:4.5em\"></span><code style=\"color: darkblue\"># Create a new \\`py2neo\\` graph object</code><br></br>\n",
    "> <span style=\"margin-left:4.5em\"></span>`graph = Graph()`<br></br>\n",
    "\n",
    "> <span style=\"margin-left:4.5em\"></span><code style=\"color: darkblue\"># To create a constraint that makes sure that your database will never contain  more</code><br></br>\n",
    "> <span style=\"margin-left:4.5em\"></span><code style=\"color: darkblue\"># than one node with a specific label and one property value, use the IS UNIQUE syntax.</code><br></br>\n",
    "> <span style=\"margin-left:4.5em\"></span><code style=\"color: darkblue\"># The following construction allows define a new label class with one unique property</code><br></br>\n",
    "> <span style=\"margin-left:4.5em\"></span>`graph.cypher.execute(\"CREATE CONSTRAINT ON (m:Movie) ASSERT m.title IS UNIQUE\")`<br></br>\n",
    "> <span style=\"margin-left:4.5em\"></span>`graph.cypher.execute(\"CREATE CONSTRAINT ON (a:Actor) ASSERT a.name IS UNIQUE\")`<br></br>\n",
    "> <span style=\"margin-left:4.5em\"></span>`graph.cypher.execute(\"CREATE CONSTRAINT ON (d:Director) ASSERT d.name IS UNIQUE\")`<br></br>\n",
    "\n",
    "> <span style=\"margin-left:4.5em\"></span>`for row in data:`<br></br>\n",
    "> <span style=\"margin-left:6.5em\"></span>`actors = row[\"actors\"]`<code style=\"margin-left:5.8em; color: darkblue\"># Collect all actors</code><br></br>\n",
    "> <span style=\"margin-left:6.5em\"></span>`directors = row[\"directors\"]`<code style=\"margin-left:2.5em; color: darkblue\"># Collect all directors</code><br></br>\n",
    "\n",
    "> <span style=\"margin-left:6.5em\"></span><code style=\"color: darkblue\"># Add a new record to \"Movie\" label with the unique \"title\" value using \\`merge_one()\\` function</code><br></br>\n",
    "> <span style=\"margin-left:6.5em\"></span>`movie = graph.merge_one(\"Movie\", \"title\", row[\"title\"])`<br></br>\n",
    "> <span style=\"margin-left:6.5em\"></span><code style=\"color: darkblue\"># All other fields are movie's properties</code><br></br>\n",
    "> <span style=\"margin-left:6.5em\"></span>`movie.properties[\"description\"] = row[\"description\"]`<br></br>\n",
    "> <span style=\"margin-left:6.5em\"></span>`movie.properties[\"genres\"]      = row[\"genres\"]`<br></br>\n",
    "> <span style=\"margin-left:6.5em\"></span>`movie.properties[\"rating\"]      = row[\"rating\"]`<br></br>\n",
    "> <span style=\"margin-left:6.5em\"></span>`movie.properties[\"released\"]    = row[\"released\"]`<br></br>\n",
    "> <span style=\"margin-left:6.5em\"></span>`movie.properties[\"runtime\"]     = row[\"runtime\"]`<br></br>\n",
    "> <span style=\"margin-left:6.5em\"></span><code style=\"color: darkblue\"># Save properties</code><br></br>\n",
    "> <span style=\"margin-left:6.5em\"></span>`movie.push()`<br></br>\n",
    "\n",
    "> <span style=\"margin-left:6.5em\"></span><code style=\"color: darkblue\"># Add data about actor(s) to the database as before</code><br></br>\n",
    "> <span style=\"margin-left:6.5em\"></span>`for person in actors:`<br></br>\n",
    "> <span style=\"margin-left:8.5em\"></span>`actor = graph.merge_one(\"Actor\", \"name\", person[\"name\"])`<br></br>\n",
    "> <span style=\"margin-left:8.5em\"></span>`actor.properties[\"born\"] = person[\"born\"]`<br></br>\n",
    "> <span style=\"margin-left:8.5em\"></span>`actor.properties[\"city\"] = person[\"city\"]`<br></br>\n",
    "> <span style=\"margin-left:8.5em\"></span>`actor.properties[\"country\"] = person[\"country\"]`<br></br>\n",
    "> <span style=\"margin-left:8.5em\"></span>`actor.properties[\"died\"] = person[\"died\"]`<br></br>\n",
    "> <span style=\"margin-left:8.5em\"></span>`actor.properties[\"image_url\"] = person[\"image_url\"]`<br></br>\n",
    "       \n",
    "> <span style=\"margin-left:8.5em\"></span><code style=\"color: darkblue\"># Define a relationship between the actor and the movie</code><br></br>\n",
    "> <span style=\"margin-left:8.5em\"></span>`graph.create_unique(Relationship(actor, \"ACTED_IN\", movie))`<br></br>\n",
    "\n",
    "> <span style=\"margin-left:6.5em\"></span><code style=\"color: darkblue\"># Add data about director(s) to the database as before</code><br></br>\n",
    "> <span style=\"margin-left:6.5em\"></span>`for person in directors:`<br></br>\n",
    "> <span style=\"margin-left:8.5em\"></span>`director = graph.merge_one(\"Director\", \"name\", person[\"name\"])`<br></br>\n",
    "> <span style=\"margin-left:8.5em\"></span>`director.properties[\"born\"] = person[\"born\"]`<br></br>\n",
    "> <span style=\"margin-left:8.5em\"></span>`director.properties[\"city\"] = person[\"city\"]`<br></br>\n",
    "> <span style=\"margin-left:8.5em\"></span>`director.properties[\"country\"] = person[\"country\"]`<br></br>\n",
    "> <span style=\"margin-left:8.5em\"></span>`director.properties[\"died\"] = person[\"died\"]`<br></br>\n",
    "> <span style=\"margin-left:8.5em\"></span>`director.properties[\"image_url\"] = person[\"image_url\"]`<br></br>\n",
    "        \n",
    "> <span style=\"margin-left:8.5em\"></span><code style=\"color: darkblue\"># Define a relationship between the director and the movie</code><br></br>\n",
    "> <span style=\"margin-left:8.5em\"></span>`graph.create_unique(Relationship(director, \"DIRECTED\", movie))`<br></br>\n",
    "\n",
    "> Use above code to fill your database with data from \"imdb_movies_1500.json\" file. \n",
    "\n",
    "> 4\\. Display the total links and nodes amount and also nodes and links amount for each label category.\n",
    "\n",
    "> 5\\. Display in chronological order the list of movies (show only its title and released year) where Keanu Reeves was acted.\n",
    "\n",
    "> 6\\. Find the amount of all actors (unique!) in the database and amount of actors (also unique) that were acted in movies released after 1990 and with rating from 3 to 4.\n",
    "\n",
    "> 7\\. Display all movies with at least two known directors and movies (call them as \"free movies\") that have no relationships with other movies, i.e. its actors were not acted in other movies from the database and there are also no movies with the director of a \"free movie\". \"Free movies\" look in the Neo4j browser like\n",
    "\n",
    "> <img src=\"images/free_movies.jpg\">"
   ]
  },
  {
   "cell_type": "code",
   "execution_count": null,
   "metadata": {
    "collapsed": true
   },
   "outputs": [],
   "source": []
  }
 ],
 "metadata": {
  "kernelspec": {
   "display_name": "Python 2",
   "language": "python",
   "name": "python2"
  },
  "language_info": {
   "codemirror_mode": {
    "name": "ipython",
    "version": 2
   },
   "file_extension": ".py",
   "mimetype": "text/x-python",
   "name": "python",
   "nbconvert_exporter": "python",
   "pygments_lexer": "ipython2",
   "version": "2.7.10"
  }
 },
 "nbformat": 4,
 "nbformat_minor": 0
}
