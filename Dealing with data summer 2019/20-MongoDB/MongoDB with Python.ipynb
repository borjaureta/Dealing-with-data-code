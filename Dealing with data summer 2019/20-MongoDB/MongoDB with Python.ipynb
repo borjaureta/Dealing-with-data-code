{
 "cells": [
  {
   "cell_type": "markdown",
   "metadata": {},
   "source": [
    "# MongoDB with Python\n",
    "\n",
    "---"
   ]
  },
  {
   "cell_type": "markdown",
   "metadata": {},
   "source": [
    "<img src=\"images/mongodb_logo.png\" width=\"80%\">\n",
    "\n",
    "**MongoDB** is an open-source document database that provides high performance, high availability and automatic scaling. MongoDB is written in C++.\n",
    "\n",
    "MongoDB stores data in the form of documents, which are JSON-like field and value pairs. Documents are analogous to structures in programming languages that associate keys with values (e.g. dictionaries, hashes, maps, and associative arrays). _Documents are analogous to one row of a table in relational databases_. Formally, MongoDB documents are BSON documents. _BSON_ is a binary representation of JSON with additional type information. In the documents, the value of a field can be any of the BSON data types, including other documents, arrays, and arrays of documents. \n",
    "\n",
    "MongoDB stores all documents in collections. A collection is a group of related documents that have a set of shared common indexes. _Collections are analogous to a table in relational databases_. A collection exists within a single database. Collections do not enforce a schema. Documents within a collection can have different fields. Typically, all documents in a collection are of similar or related purpose.\n",
    "\n",
    "Documents have dynamic schema. Dynamic schema means that documents in the same collection do not need to have the same set of fields or structure, and common fields in a collection's documents may hold different types of data\n",
    "\n",
    "<img src=\"images/document.jpg\">\n",
    "\n",
    "### Advantages of MongoDB over RDBMS\n",
    "\n",
    "* Schema less : MongoDB is document database in which one collection holds different different documents. Number of fields, content and size of the document can be differ from one document to another.\n",
    "* Structure of a single object is clear.\n",
    "* No complex joins.\n",
    "* Deep query-ability. MongoDB supports dynamic queries on documents using a document-based query language that's nearly as powerful as SQL.\n",
    "* Tuning.\n",
    "* Ease of scale-out: MongoDB is easy to scale.\n",
    "* Conversion / mapping of application objects to database objects not needed.\n",
    "* Uses internal memory for storing the (windowed) working set, enabling faster access of data\n",
    "* Flexible schema - supports hierarchical data structure.\n",
    "* Oriented toward programmers - it supports associative arrays such as php arrays, python dictionaries, JSON objects, Ruby hash etc.\n",
    "* Lots of MongoDB Drivers and Client Libraries \n",
    "* Drivers in MongoDB are used for connectivity between client applications and the database. For example, if we have a Python program and we want to connect to MongoDB, then we need to download and integrate the Python driver so that the program can work with the MongoDB database.\n",
    "* Flexible deployment.\n",
    "* Documents correspond to native data types in many programming languages.\n",
    "* Dynamic schema supports fluent polymorphism. "
   ]
  },
  {
   "cell_type": "markdown",
   "metadata": {},
   "source": [
    "---\n",
    "## Installing MongoDB\n",
    "\n",
    "### <span style=\"color: blue\"><u>Windows OS</u></span>\n",
    "\n",
    "1. **_Download MongoDB:_**\n",
    "    \n",
    "    Download MongoDB from the [MongoDB downloads page](https://www.mongodb.org/downloads?_ga=1.49600800.705977082.1452086983#production). Choose Windows 32 bits or 64 bits. Unzip, extracts to your prefer location, for example: \"C:\\mongodb\\\"\n",
    "    \n",
    "2. **_Configuration File:_**\n",
    "\n",
    "    Create a MongoDB config file, it’s just a text file, for example: \"d:\\mongodb\\mongo.config\"\n",
    "\n",
    "        ##store data here\n",
    "        dbpath=C:\\mongodb\\data\n",
    "\n",
    "        ##all output go here\n",
    "        logpath=C:\\mongodb\\log\\mongo.log\n",
    "\n",
    "        ##log read and write operations\n",
    "        diaglog=3\n",
    "\n",
    "    _Note_: MongoDB need a folder (data directory) to store its data. By default, it will store in \"C:\\data\\db\"\", create this folder manually. MongoDB won’t create it for you. You can also specify an alternate data directory with `--dbpath` option.\n",
    "    \n",
    "3. **_Run MongoDB server:_**\n",
    "\n",
    "    Use `mongod.exe --config C:\\mongodb\\mongo.config` to start MongoDB server:\n",
    "\n",
    "        C:\\mongodb\\bin>mongod --config C:\\mongodb\\mongo.config\n",
    "        all output going to: C:\\mongodb\\log\\mongo.log\n",
    "        \n",
    "4. **_Connect to MongoDB:_**\n",
    "\n",
    "    Uses mongo.exe to connect to the started MongoDB server.\n",
    "\n",
    "        C:\\mongodb\\bin>mongo\n",
    "        MongoDB shell version: 3.2.1\n",
    "        connecting to: test\n",
    "        > //mongodb shell\n",
    "        \n",
    "5. **_MongoDB as Windows Service:_**\n",
    "\n",
    "    Add MongoDB as Windows Service, so that MongoDB will start automatically following each system restart:\n",
    "            \n",
    "        C:\\mongodb\\bin> mongod --config C:\\mongodb\\mongo.config --install\n",
    "\n",
    "    To start MongoDB Service\n",
    "\n",
    "        net start MongoDB\n",
    "\n",
    "    To stop MongoDB Service\n",
    "\n",
    "        net stop MongoDB\n",
    "    To remove MongoDB Service\n",
    "\n",
    "        C:\\mongodb\\bin>mongod --remove\n",
    "\n",
    "### <span style=\"color: blue\"><u>Linux</u></span>\n",
    "\n",
    "The following steps are written for Ubuntu. Other types of Linux platform may have slightly other approach to installation (see [official site](https://docs.mongodb.org/manual/installation/)).\n",
    "\n",
    "1. **_Importing the Public Key:_**\n",
    "    \n",
    "    MongoDB is already included in Ubuntu package repositories, but the official MongoDB repository provides most up-to-date version and is the recommended way of installing the software. Ubuntu ensures the authenticity of software packages by verifying that they are signed with GPG keys, so we first have to import they key for the official MongoDB repository:\n",
    "\n",
    "        sudo apt-key adv --keyserver hkp://keyserver.ubuntu.com:80 --recv 7F0CEB10\n",
    "\n",
    "2. **_Creating a List File:_**\n",
    "\n",
    "    Next, we have to add the MongoDB repository details so APT will know where to download the packages from. Issue the following command to create a list file for MongoDB:\n",
    "    \n",
    "        echo \"deb http://repo.mongodb.org/apt/ubuntu \"$(lsb_release -sc)\"/mongodb-org/3.2 multiverse\" | sudo tee /etc/apt/sources.list.d/mongodb-org-3.2.list\n",
    "\n",
    "    After adding the repository details, we need to update the packages list.\n",
    "\n",
    "        sudo apt-get update\n",
    "\n",
    "3. **_Installing and Verifying MongoDB:_**\n",
    "\n",
    "    Now we can install the MongoDB package itself.\n",
    "\n",
    "        sudo apt-get install -y mongodb-org\n",
    "\n",
    "    This command will install several packages containing latest stable version of MongoDB along with helpful management tools for the MongoDB server. After package installation MongoDB will be automatically started. You can check this by running the following command.\n",
    "\n",
    "        service mongod status\n",
    "\n",
    "    If MongoDB is running, you'll see an output like this (with a different process ID).\n",
    "\n",
    "        mongod start/running, process 1611\n",
    "\n",
    "    You can also stop, start, and restart MongoDB using the service command (e.g. `service mongod stop`, `server mongod start`).\n",
    "\n",
    "\n",
    "### <span style=\"color: blue\"><u>Mac OS\n",
    "\n",
    "1. **_Download MongoDB:_**\n",
    "\n",
    "    Get MongoDB from official website, extracts it :\n",
    "\n",
    "        $ cd ~/Download\n",
    "        $ tar xzf mongodb-osx-x86_64-3.2.1.tgz\n",
    "        $ sudo mv mongodb-osx-x86_64-3.2.1 /usr/local/mongodb\n",
    "        \n",
    "2. **_MongoDB Data:_**\n",
    "    \n",
    "    By default, MongoDB write/store data into the \"/data/db\" folder, you need to create this folder manually and assign proper permission.\n",
    "\n",
    "        $ sudo mkdir -p /data/db\n",
    "        $ whoami\n",
    "        mkyong\n",
    "        $ sudo chown mkyong /data/db\n",
    "\n",
    "3. **_Add mongodb/bin to `$PATH`:_**\n",
    "\n",
    "    Create a `~/.bash_profile` file and assign \"/usr/local/mongodb/bin\" to `$PATH` environment variable, so that you can access Mongo’s commands easily.\n",
    "\n",
    "        $ cd ~\n",
    "        $ pwd\n",
    "        /Users/mkyong\n",
    "        $ touch .bash_profile\n",
    "        $ vim .bash_profile\n",
    "\n",
    "        export MONGO_PATH=/usr/local/mongodb\n",
    "        export PATH=$PATH:$MONGO_PATH/bin\n",
    "\n",
    "        ##restart terminal\n",
    "\n",
    "        $ mongo -version\n",
    "        MongoDB shell version: 3.2.1\n",
    "        \n",
    "4. **_Start MongoDB:_**\n",
    "\n",
    "    Start MongoDB with mongod and make a simple mongo connection with mongo.\n",
    "\n",
    "    Terminal 1\n",
    "\n",
    "        $ mongod\n",
    "        MongoDB starting : pid=34022 port=27017 dbpath=/data/db/ 64-bit host=mkyong.local\n",
    "        //...\n",
    "        waiting for connections on port 27017\n",
    "\n",
    "    Terminal 2\n",
    "\n",
    "        $ mongo\n",
    "        MongoDB shell version: 3.2.1\n",
    "        connecting to: test\n",
    "        > show dbs\n",
    "        local\t(empty)\n",
    "\n",
    "    _Note_: If you don’t like the default \"/data/db\" folder, just specify an alternate path with `--dbpath`\n",
    "        \n",
    "        $ mongod --dbpath /any-directory\n",
    "\n",
    "5. **_Auto Start MongoDB:_**\n",
    "\n",
    "    To auto start mongoDB, create a launchd job on Mac.\n",
    "\n",
    "        $ sudo vim /Library/LaunchDaemons/mongodb.plist\n",
    "\n",
    "The instruction of installing MongoDB on different platforms is also described in details on [official site](https://docs.mongodb.org/manual/installation/) of MongoDB. \n",
    "\n",
    "---"
   ]
  },
  {
   "cell_type": "markdown",
   "metadata": {
    "collapsed": true
   },
   "source": [
    "# Interaction of Python and MongoDB through PyMongo Library"
   ]
  },
  {
   "cell_type": "markdown",
   "metadata": {
    "collapsed": true
   },
   "source": [
    "PyMongo is a Python distribution containing tools for working with MongoDB, and is the recommended way to work with MongoDB from Python. The most recommended way of intalling PyMongo on your computer is using pip\n",
    "\n",
    "    pip install pymongo\n",
    "    \n",
    "Before starting make sure that you run [mongod](https://docs.mongodb.org/manual/reference/program/mongod/#bin.mongod) process:\n",
    "\n",
    "* **For Windows OS** (we suppose, that you have installed MongoDB in the folder `C:\\mongodb`):\n",
    "    \n",
    "    `C:\\mongodb\\bin\\mongod.exe`\n",
    "    \n",
    "    \n",
    "* **For Linux:**\n",
    "    \n",
    "    \n",
    "    sudo service mongod start\n",
    "    \n",
    "    \n",
    "* **For Mac OS:**\n",
    "   \n",
    "   `mongod`\n",
    "   \n",
    "This material contains only base MongoDB commands and basic usage of PyMongo. More information you can find on [official site of MongoDB](https://docs.mongodb.org/manual/)."
   ]
  },
  {
   "cell_type": "markdown",
   "metadata": {},
   "source": [
    "### Connection to the server\n",
    "\n",
    "The first step when working with PyMongo is to create a `MongoClient` to the running mongod instance:"
   ]
  },
  {
   "cell_type": "code",
   "execution_count": null,
   "metadata": {
    "collapsed": false
   },
   "outputs": [],
   "source": [
    "import pymongo\n",
    "from pymongo import MongoClient\n",
    "from pymongo.errors import ConnectionFailure\n",
    "\n",
    "print \"pymongo.__version__ =\", pymongo.__version__, '\\n'\n",
    "\n",
    "# Connection to Mongo DB\n",
    "try:\n",
    "    client = MongoClient()\n",
    "    print \"Connected successfully to\", client.address\n",
    "    print \"MongoDB version:\", client.server_info()['version']\n",
    "except ConnectionFailure, e:\n",
    "    print \"Could not connect to MongoDB:\", e \n",
    "\n",
    "# We can also specify the host and port explicitly, as follows:\n",
    "# `client = MongoClient('localhost', 27017)`\n",
    "# or MongoDB URI format:\n",
    "# `client = MongoClient('mongodb://localhost:27017/')`\n",
    "    \n",
    "client"
   ]
  },
  {
   "cell_type": "markdown",
   "metadata": {},
   "source": [
    "### Quick start"
   ]
  },
  {
   "cell_type": "markdown",
   "metadata": {
    "collapsed": true
   },
   "source": [
    "MongoDB creates databases and collections automatically for you if they don't exist already. A single instance of MongoDB can support multiple independent databases. When working with PyMongo you access databases using attribute style access:"
   ]
  },
  {
   "cell_type": "code",
   "execution_count": null,
   "metadata": {
    "collapsed": false
   },
   "outputs": [],
   "source": [
    "db = client.my_database   \n",
    "# If your database name is such that using attribute style access won’t work (like db-name), \n",
    "# you can use dictionary style access instead \n",
    "# db = client['my-database']\n",
    "db"
   ]
  },
  {
   "cell_type": "code",
   "execution_count": null,
   "metadata": {
    "collapsed": false
   },
   "outputs": [],
   "source": [
    "# To know which databases are available:\n",
    "client.database_names()"
   ]
  },
  {
   "cell_type": "markdown",
   "metadata": {
    "collapsed": true
   },
   "source": [
    "We have already created one new database. Why didn't show up with the above command? Well, databases with no collections or with empty collections will not show up with `database_names()`. Same goes when we try to list empty collections in a database.\n",
    "\n",
    "A collection is a group of documents stored in MongoDB, and can be thought of as roughly the equivalent of a table in a relational database. Getting a collection in PyMongo works the same as getting a database:"
   ]
  },
  {
   "cell_type": "code",
   "execution_count": null,
   "metadata": {
    "collapsed": false
   },
   "outputs": [],
   "source": [
    "collection = db.my_collection\n",
    "collection"
   ]
  },
  {
   "cell_type": "code",
   "execution_count": null,
   "metadata": {
    "collapsed": false
   },
   "outputs": [],
   "source": [
    "# To see all NOT empty collections\n",
    "db.collection_names()"
   ]
  },
  {
   "cell_type": "markdown",
   "metadata": {},
   "source": [
    "> However one must be careful when trying to get existing collections. For example, if you have a collection `db.user` and you type `db.usr` this is clearly a mistake. Unlike an RDBMS, MongoDB won't protect you from this class of mistake.\n",
    "\n",
    "To **insert** some data into MongoDB, all we need to do is create a dict and call `insert_one()` or `insert_many()` methods on the collection object:"
   ]
  },
  {
   "cell_type": "code",
   "execution_count": null,
   "metadata": {
    "collapsed": false
   },
   "outputs": [],
   "source": [
    "collection.insert_one({\"name\": \"Frodo\", \"surname\": \"Baggins\", \"age\": 20})\n",
    "collection.insert_many(\n",
    "    [\n",
    "        {\"name\": \"Rocky\", \"surname\": \"Balboa\", \"age\": 38},\n",
    "        {\"name\": \"Luke\", \"surname\": \"Skywalker\", \"age\": 32}\n",
    "    ]\n",
    ")"
   ]
  },
  {
   "cell_type": "markdown",
   "metadata": {
    "collapsed": false
   },
   "source": [
    "When a document is inserted a special key, `_id`, is automatically added if the document doesn’t already contain an `_id` key. The value of `_id` must be unique across the collection. `insert_one()` returns an instance of `InsertOneResult`."
   ]
  },
  {
   "cell_type": "code",
   "execution_count": null,
   "metadata": {
    "collapsed": false
   },
   "outputs": [],
   "source": [
    "# Let's see collections now\n",
    "db.collection_names()"
   ]
  },
  {
   "cell_type": "code",
   "execution_count": null,
   "metadata": {
    "collapsed": false
   },
   "outputs": [],
   "source": [
    "# Get full name of collection including database name\n",
    "db.my_collection.full_name"
   ]
  },
  {
   "cell_type": "code",
   "execution_count": null,
   "metadata": {
    "collapsed": false
   },
   "outputs": [],
   "source": [
    "# Select the last created document\n",
    "my_document = collection.find_one()\n",
    "my_document"
   ]
  },
  {
   "cell_type": "markdown",
   "metadata": {},
   "source": [
    "You may **delete** documents, collections and databases. `delete_one()` or `remove()` delete a single document, `delete_many()` deletes one or more documents."
   ]
  },
  {
   "cell_type": "code",
   "execution_count": null,
   "metadata": {
    "collapsed": false
   },
   "outputs": [],
   "source": [
    "# Delete a document\n",
    "collection.delete_one(my_document)"
   ]
  },
  {
   "cell_type": "code",
   "execution_count": null,
   "metadata": {
    "collapsed": true
   },
   "outputs": [],
   "source": [
    "# Delete a collection\n",
    "db.drop_collection('my_collection')"
   ]
  },
  {
   "cell_type": "code",
   "execution_count": null,
   "metadata": {
    "collapsed": true
   },
   "outputs": [],
   "source": [
    "# Delete a database\n",
    "client.drop_database(\"my_database\")"
   ]
  },
  {
   "cell_type": "code",
   "execution_count": null,
   "metadata": {
    "collapsed": false
   },
   "outputs": [],
   "source": [
    "# Let;s see whether database was removed:\n",
    "client.database_names()"
   ]
  },
  {
   "cell_type": "markdown",
   "metadata": {
    "collapsed": true
   },
   "source": [
    "### Bacis usage\n",
    "\n",
    "Let's create a new database \"cinema\" with the collection \"movies\", where we will collect data about films, its actors, director, etc. in each new document. So, at first let's create the document for the film [\"Forrest Gump\"](https://en.wikipedia.org/wiki/Forrest_Gump). The following picture shows how a SQL table may be transformed to a MongoDB document, i.e. how the relationship one-to-many can be realized.  \n",
    "\n",
    "<img src=\"images/forrest_gump.jpg\">"
   ]
  },
  {
   "cell_type": "code",
   "execution_count": null,
   "metadata": {
    "collapsed": true
   },
   "outputs": [],
   "source": [
    "db = client.cinema\n",
    "collection = db.movies"
   ]
  },
  {
   "cell_type": "code",
   "execution_count": null,
   "metadata": {
    "collapsed": false
   },
   "outputs": [],
   "source": [
    "forrest_gump_dict = {\n",
    "    \"title\": \"Forrest Gump\", \n",
    "    \"released\": 1994,\n",
    "    \"duration_min\": 142,\n",
    "    \"country\": \"USA\",\n",
    "    \"lang\": \"English\",\n",
    "    \"persons\": [\n",
    "        {\n",
    "            \"name\": \"Tom Hanks\",\n",
    "            \"born\": 1956,\n",
    "            \"country\": \"USA\",\n",
    "            \"relation\": \"ACTED_IN\",\n",
    "            \"role\": \"Forrest Gump\"\n",
    "        },\n",
    "        {\n",
    "            \"name\": \"Gary Sinise\",\n",
    "            \"born\": 1955,\n",
    "            \"country\": \"USA\",\n",
    "            \"relation\": \"ACTED_IN\",\n",
    "            \"role\": \"Lieutenant Dan Taylor\"\n",
    "        },\n",
    "        {\n",
    "            \"name\": \"Robert Zemeckis\",\n",
    "            \"born\": 1952,\n",
    "            \"country\": \"USA\",\n",
    "            \"relation\": \"DIRECTED\",\n",
    "        }\n",
    "    ]\n",
    "}\n",
    "\n",
    "collection.insert_one(forrest_gump_dict)"
   ]
  },
  {
   "cell_type": "markdown",
   "metadata": {
    "collapsed": true
   },
   "source": [
    "The `find_one()` method **selects and returns** a single document from a collection and returns that document (or None if there are no matches). It is useful when you know there is only one matching document, or are only interested in the first match:"
   ]
  },
  {
   "cell_type": "code",
   "execution_count": null,
   "metadata": {
    "collapsed": false
   },
   "outputs": [],
   "source": [
    "forrest_gump = collection.find_one()\n",
    "forrest_gump"
   ]
  },
  {
   "cell_type": "markdown",
   "metadata": {},
   "source": [
    "To **get more than a single document** as the result of a query we use the `find()` method. `find()` returns a `Cursor` instance, which allows us to iterate over all matching documents."
   ]
  },
  {
   "cell_type": "markdown",
   "metadata": {},
   "source": [
    "JSON file \"data/movies.json\" contains data for a few other movies. Let's read it and insert data to `movies` collection:"
   ]
  },
  {
   "cell_type": "code",
   "execution_count": null,
   "metadata": {
    "collapsed": false
   },
   "outputs": [],
   "source": [
    "import json\n",
    "\n",
    "# Read JSON file and collect its data into dict `data`\n",
    "with open('data/movies.json', 'r') as f:    \n",
    "    data = json.load(f)\n",
    "\n",
    "collection.insert_many(data[\"movies\"])"
   ]
  },
  {
   "cell_type": "markdown",
   "metadata": {},
   "source": [
    "To **know how many documents** match a query we can perform a `count()` operation: "
   ]
  },
  {
   "cell_type": "code",
   "execution_count": null,
   "metadata": {
    "collapsed": false
   },
   "outputs": [],
   "source": [
    "collection.count()"
   ]
  },
  {
   "cell_type": "code",
   "execution_count": null,
   "metadata": {
    "collapsed": false
   },
   "outputs": [],
   "source": [
    "db.collection_names(include_system_collections=False)\n",
    "# `include_system_collections=False` miss \"local\" collection"
   ]
  },
  {
   "cell_type": "code",
   "execution_count": null,
   "metadata": {
    "collapsed": false
   },
   "outputs": [],
   "source": [
    "# Print movie titles \n",
    "for movie in collection.find():\n",
    "    print movie['title']"
   ]
  },
  {
   "cell_type": "markdown",
   "metadata": {},
   "source": [
    "MongoDB queries are represented as JSON-like structure, just like documents. To build a query, you just need to specify a dictionary with the properties you wish the results to match. For example, this query will match all documents in the \"movies\" collection with `\"country\" == \"USA\"`:"
   ]
  },
  {
   "cell_type": "code",
   "execution_count": null,
   "metadata": {
    "collapsed": false
   },
   "outputs": [],
   "source": [
    "for movie in collection.find({\"country\": \"USA\"}):\n",
    "    print '{}, {}'.format(movie['title'], movie[\"country\"])"
   ]
  },
  {
   "cell_type": "markdown",
   "metadata": {},
   "source": [
    "Let's see what is a country of that movie (\"Taxi\"), which was not included in the above list:"
   ]
  },
  {
   "cell_type": "code",
   "execution_count": null,
   "metadata": {
    "collapsed": false
   },
   "outputs": [],
   "source": [
    "print collection.find_one({\"title\": \"Taxi\"})['country']"
   ]
  },
  {
   "cell_type": "markdown",
   "metadata": {},
   "source": [
    "Queries can also use **special query operators**. These operators include `gt` (`>`), `gte` (`>=`), `lt` (`<`), `lte` (`<=`), `ne` (`!=`), `in` (in array), `nin` (not in array), `exists`, `size` (for arrays), `not`, `or` and many more. The full list of operators of this kind you  may find [here](https://docs.mongodb.org/manual/reference/operator/query/). The following queries show the use of some of these operators:"
   ]
  },
  {
   "cell_type": "code",
   "execution_count": null,
   "metadata": {
    "collapsed": false
   },
   "outputs": [],
   "source": [
    "for movie in collection.find({\"released\": {\"$gte\":1999}}):\n",
    "    print '{}, {}'.format(movie['title'], movie[\"released\"])"
   ]
  },
  {
   "cell_type": "code",
   "execution_count": null,
   "metadata": {
    "collapsed": false
   },
   "outputs": [],
   "source": [
    "q = {\n",
    "    \"$or\":[\n",
    "        {\"country\": \"USA\", \"released\": {\"$not\": {\"$in\": [1994, 2010]}}},\n",
    "        {\"continuation\": {\"$exists\": True}, \"persons\": {\"$size\": 1}}\n",
    "    ]\n",
    "}\n",
    "for movie in collection.find(q):\n",
    "    print '{}, {}'.format(movie['title'], movie[\"released\"])"
   ]
  },
  {
   "cell_type": "markdown",
   "metadata": {},
   "source": [
    "MongoDB can sort query results for you on the server-side. Especially if you are sorting results on a property which has an index, it can sort these far more efficiently than your client program can:"
   ]
  },
  {
   "cell_type": "code",
   "execution_count": null,
   "metadata": {
    "collapsed": false
   },
   "outputs": [],
   "source": [
    "for movie in collection.find().sort([(\"released\", pymongo.DESCENDING)]):\n",
    "    print '{}, {}'.format(movie['title'], movie[\"released\"])"
   ]
  },
  {
   "cell_type": "markdown",
   "metadata": {},
   "source": [
    "The above queries are not very optimal when you have large result sets. Pymongo have a `limit()` and `skip()` methods which let you fetch a limited number of results or miss some of them:"
   ]
  },
  {
   "cell_type": "code",
   "execution_count": null,
   "metadata": {
    "collapsed": false
   },
   "outputs": [],
   "source": [
    "for movie in collection.find().sort([(\"released\", pymongo.ASCENDING)]).limit(3):\n",
    "    print '{}, {}'.format(movie['title'], movie[\"released\"])"
   ]
  },
  {
   "cell_type": "code",
   "execution_count": null,
   "metadata": {
    "collapsed": false
   },
   "outputs": [],
   "source": [
    "for movie in collection.find().sort([(\"released\", pymongo.ASCENDING)]).skip(2).limit(2):\n",
    "    print '{}, {}'.format(movie['title'], movie[\"released\"])"
   ]
  },
  {
   "cell_type": "markdown",
   "metadata": {},
   "source": [
    "`distinct()` method allows returning only unigue items for some field:"
   ]
  },
  {
   "cell_type": "code",
   "execution_count": null,
   "metadata": {
    "collapsed": false
   },
   "outputs": [],
   "source": [
    "print \"All present languages:\"\n",
    "for movie in collection.find():\n",
    "    print movie[\"lang\"]\n",
    "\n",
    "print \"\\nOnly unique languages:\"\n",
    "for lang in collection.find().distinct(\"lang\"):\n",
    "    print lang"
   ]
  },
  {
   "cell_type": "markdown",
   "metadata": {},
   "source": [
    "PyMongo can **update documents** in a number of different ways. Let's start for adding a new document to our collection.\n",
    "\n",
    "Now we can use the `update()` method to modify the document:"
   ]
  },
  {
   "cell_type": "code",
   "execution_count": null,
   "metadata": {
    "collapsed": false
   },
   "outputs": [],
   "source": [
    "forrest_gump"
   ]
  },
  {
   "cell_type": "code",
   "execution_count": null,
   "metadata": {
    "collapsed": false
   },
   "outputs": [],
   "source": [
    "forrest_gump.update({\"box_office_Mdol\": 177.9})\n",
    "forrest_gump"
   ]
  },
  {
   "cell_type": "markdown",
   "metadata": {},
   "source": [
    "If a field just exists, you can change it value like for a Python dict:"
   ]
  },
  {
   "cell_type": "code",
   "execution_count": null,
   "metadata": {
    "collapsed": false
   },
   "outputs": [],
   "source": [
    "forrest_gump[\"box_office_Mdol\"] = 677.9\n",
    "forrest_gump"
   ]
  },
  {
   "cell_type": "markdown",
   "metadata": {},
   "source": [
    "### Updating commands:\n",
    "\n",
    "The `update()` method replaces the whole document so be careful! If instead we want to modify specific fields of the document we can use MongoDB's update operators like `set`, `inc`, `push`, `pull` and many [more](https://docs.mongodb.org/manual/reference/operator/update/) together with `replace_one()`, `update_one()` or `update_many()` methods.\n",
    "\n",
    "**Update operator `set`:**\n",
    "\n",
    "This statement updates in the document in collection where field matches value1 by replacing the value of the field field1 with value2. This operator will add the specified field or fields if they do not exist in this document or replace the existing value of the specified field(s) if they already exist."
   ]
  },
  {
   "cell_type": "code",
   "execution_count": null,
   "metadata": {
    "collapsed": false
   },
   "outputs": [],
   "source": [
    "collection.update_one({\"title\": \"Taxi\"}, {\"$set\":{\"box_office_Mdol\": 10, \"continuation\": None}})\n",
    "collection.find_one({\"title\": \"Taxi\"})"
   ]
  },
  {
   "cell_type": "markdown",
   "metadata": {},
   "source": [
    "By default MongoDB only modifies the first document that matches the query. If you want to modify all documents that match the query add `multi=True`.\n",
    "\n",
    "**Update operator `inc`:**\n",
    "\n",
    "The `inc` operator increments a value by a specified amount if field is present in the document. If the field does not exist, `inc` sets field to the number value."
   ]
  },
  {
   "cell_type": "code",
   "execution_count": null,
   "metadata": {
    "collapsed": false
   },
   "outputs": [],
   "source": [
    "collection.update_one({\"title\": \"Taxi\"}, {\"$inc\":{\"box_office_Mdol\": 100}})\n",
    "# Look at how the value of \"box_office_Mdol\" changed\n",
    "collection.find_one({\"title\": \"Taxi\"})"
   ]
  },
  {
   "cell_type": "markdown",
   "metadata": {},
   "source": [
    "**Update operator `unset`:**\n",
    "\n",
    "The `unset` operator deletes a particular field. If documents match the initial query but do not have the field specified in the unset operation, there the statement has no effect on the document."
   ]
  },
  {
   "cell_type": "code",
   "execution_count": null,
   "metadata": {
    "collapsed": false
   },
   "outputs": [],
   "source": [
    "collection.update_one({\"title\": \"Taxi\"}, {\"$unset\":{\"box_office_Mdol\": \"\"}})\n",
    "collection.find_one({\"title\": \"Taxi\"})"
   ]
  },
  {
   "cell_type": "markdown",
   "metadata": {},
   "source": [
    "**Update operator `rename`:**\n",
    "\n",
    "The `rename` operator updates the name of a field. The new field name must differ from the existing field name."
   ]
  },
  {
   "cell_type": "code",
   "execution_count": null,
   "metadata": {
    "collapsed": false
   },
   "outputs": [],
   "source": [
    "collection.update_one({\"title\": \"Taxi\"}, {\"$rename\":{\"lang\": \"language\"}})\n",
    "collection.find_one({\"title\": \"Taxi\"})"
   ]
  },
  {
   "cell_type": "markdown",
   "metadata": {},
   "source": [
    "**Update operator `push`:**\n",
    "\n",
    "The `push` operator appends a specified value to an array. Be aware of the following behaviors:\n",
    "\n",
    "* If the field specified in the push statement (e.g. `{$push: {field: value1}}`) does not exist in the matched document, the operation adds a new array with the specified field and value (e.g. `value1`) to the matched document.\n",
    "\n",
    "* The operation will fail if the field specified in the push statement is not an array. `$push` does not fail when pushing a value to a non-existent field.\n",
    "\n",
    "* If value1 is an array itself, push appends the whole array as an element in the identified array. To add multiple items to an array, use `pushAll`."
   ]
  },
  {
   "cell_type": "code",
   "execution_count": null,
   "metadata": {
    "collapsed": false
   },
   "outputs": [],
   "source": [
    "# The next command will generate an error because \"language\" field is not an array\n",
    "collection.update_one({\"title\": \"Taxi\"}, {\"$push\":{\"language\": \"Hindi\"}})\n",
    "collection.find_one({\"title\": \"Taxi\"})"
   ]
  },
  {
   "cell_type": "code",
   "execution_count": null,
   "metadata": {
    "collapsed": false
   },
   "outputs": [],
   "source": [
    "collection.update_one({\"title\": \"Taxi\"}, \n",
    "                      {\"$push\":{\"persons\": {'name': 'Frédéric Diefenthal', 'born': 1968, 'country': 'France'} }})\n",
    "collection.find_one({\"title\": \"Taxi\"})"
   ]
  },
  {
   "cell_type": "markdown",
   "metadata": {},
   "source": [
    "**Update operator `pop`:**\n",
    "\n",
    "The `pop` operator removes the first or last element of an array. Pass `pop` a value of 1 to remove the last element in an array and a value of -1 to remove the first element of an array. Be aware of the following pop behaviors:\n",
    "\n",
    "* The `pop` operation fails if field is not an array.\n",
    "* `pop` will successfully remove the last item in an array. field will then hold an empty array."
   ]
  },
  {
   "cell_type": "code",
   "execution_count": null,
   "metadata": {
    "collapsed": false
   },
   "outputs": [],
   "source": [
    "# Let's create a new array field in the document for \"Taxi\" film \n",
    "import random \n",
    "\n",
    "collection.update_one({\"title\": \"Taxi\"}, {\"$set\":{\"array\": \n",
    "                                                  [{\"item1\": random.randint(0,10), \"item2\": random.choice('abcdef')} \n",
    "                                                   for i in range(5)]\n",
    "                                                }})\n",
    "collection.find_one({\"title\": \"Taxi\"})"
   ]
  },
  {
   "cell_type": "code",
   "execution_count": null,
   "metadata": {
    "collapsed": false
   },
   "outputs": [],
   "source": [
    "collection.update_one({\"title\": \"Taxi\"}, {\"$pop\":{\"array\": 1}})\n",
    "collection.find_one({\"title\": \"Taxi\"})"
   ]
  },
  {
   "cell_type": "markdown",
   "metadata": {},
   "source": [
    "**Update operator `pull`:**\n",
    "\n",
    "The `pull` operator removes all instances of a value from an existing array. If the value existed multiple times in the field array, `pull` would remove all instances of this value in this array. It is very handy when you exactly what value you want to remove."
   ]
  },
  {
   "cell_type": "code",
   "execution_count": null,
   "metadata": {
    "collapsed": false
   },
   "outputs": [],
   "source": [
    "collection.update_one({\"title\": \"Taxi\"}, {\"$set\":{\"episodes\": [\"Taxi\", \"Taxi 2\", \"Taxi 3\", \"Taxi 4\"] }})\n",
    "collection.find_one({\"title\": \"Taxi\"})"
   ]
  },
  {
   "cell_type": "code",
   "execution_count": null,
   "metadata": {
    "collapsed": false
   },
   "outputs": [],
   "source": [
    "collection.update_one({\"title\": \"Taxi\"}, {\"$pull\":{\"episodes\": \"Taxi 3\"}})\n",
    "collection.find_one({\"title\": \"Taxi\"})"
   ]
  },
  {
   "cell_type": "markdown",
   "metadata": {},
   "source": [
    "**Update operator `addToSet`:**\n",
    "\n",
    "The `addToSet` operator adds a value to an array only if the value is not in the array already. If the value is in the array, addToSet returns without modifying the array. Otherwise, `addToSet` behaves the same as push."
   ]
  },
  {
   "cell_type": "code",
   "execution_count": null,
   "metadata": {
    "collapsed": false
   },
   "outputs": [],
   "source": [
    "collection.update_one({\"title\": \"Taxi\"}, {\"$addToSet\":{\"episodes\": \"Taxi 2\"}})\n",
    "collection.find_one({\"title\": \"Taxi\"})"
   ]
  },
  {
   "cell_type": "code",
   "execution_count": null,
   "metadata": {
    "collapsed": false
   },
   "outputs": [],
   "source": [
    "collection.update_one({\"title\": \"Taxi\"}, {\"$addToSet\":{\"episodes\": \"Taxi 3\"}})\n",
    "collection.find_one({\"title\": \"Taxi\"})"
   ]
  },
  {
   "cell_type": "markdown",
   "metadata": {},
   "source": [
    "**Update operator $:**\n",
    "\n",
    "The positional $ operator identifies an element in an array field to update without explicitly specifying the position of the element in the array. The positional operator, when used with the `update()` method and acts as a placeholder for the first match of the update query selector."
   ]
  },
  {
   "cell_type": "code",
   "execution_count": null,
   "metadata": {
    "collapsed": false
   },
   "outputs": [],
   "source": [
    "# Update \"Taxi 2\" to \"Taxi 5\"\n",
    "collection.update_one({\"title\": \"Taxi\", \"episodes\": \"Taxi 2\"}, {\"$set\":{\"episodes.$\": \"Taxi 5\"}})\n",
    "collection.find_one({\"title\": \"Taxi\"})"
   ]
  },
  {
   "cell_type": "code",
   "execution_count": null,
   "metadata": {
    "collapsed": false
   },
   "outputs": [],
   "source": [
    "# Use the positional $ operator to update the value of the \"item2\" field to zero \n",
    "# in the embedded document with the \"item1\" less than 9:\n",
    "collection.update_one({\"title\": \"Taxi\", \"array.item1\": {\"$lt\": 9}}, {\"$set\":{\"array.$.item2\": 0}})\n",
    "collection.find_one({\"title\": \"Taxi\"})\n",
    "# As you may see only one value was updated"
   ]
  },
  {
   "cell_type": "markdown",
   "metadata": {},
   "source": [
    "### Aggregation:\n",
    "\n",
    "Aggregations operations process data records and return computed results. Aggregation operations group values from multiple documents together, and can perform a variety of operations on the grouped data to return a single result. \n",
    "\n",
    "`aggregate()` method performs an aggregation using the aggregation framework on this collection. The `aggregate()` method accepts as its argument an array of stages, where each stage, processed sequentially, describes a data processing step.\n",
    "\n",
    "Following are the basic pipeline operators and let us make use of these operators over the sample data which we created. We are not going to discuss about Map-Reduce in this post.\n",
    "\n",
    "* `$match`: this is similar to `find_one()` or `find_many()` methods and SQL's `WHERE` clause; basically this filters the data which is passed on to the next operator. There can be multiple `$match` operators in the pipeline.\n",
    "* `$unwind`: this is used to unwind document that are using arrays; when using an array the data is kind of pre-joinded and this operation will be undone with this to have individual documents again. \n",
    "* `$group`: the group pipeline operator is similar to the SQL's `GROUP BY` clause; is equivalent to `group()` method. The full list of Group Accumulator Operators you can find [here](https://docs.mongodb.org/manual/reference/operator/aggregation/group/).\n",
    "* `$skip`: with this it is possible to skip forward in the list of documents for a given amount of documents; is equivalent to `skip()` method mentioned above.\n",
    "* `$limit`: this limits the amount of documents to look at by the given number starting from the current position; is equivalent to `limit()` method.\n",
    "* `$sort`: sorts the documents; is equivalent to `sort()` method.\n",
    "* `$project`: used to select some specific fields from a collection."
   ]
  },
  {
   "cell_type": "code",
   "execution_count": null,
   "metadata": {
    "collapsed": false
   },
   "outputs": [],
   "source": [
    "list(collection.aggregate([{\"$match\": {\"title\": \"Taxi\"}}]))\n",
    "# The same as collection.find_one({\"title\": \"Taxi\"})"
   ]
  },
  {
   "cell_type": "code",
   "execution_count": null,
   "metadata": {
    "collapsed": false
   },
   "outputs": [],
   "source": [
    "# Find all movies on English where Tom Hanks was acked in\n",
    "list(collection.aggregate([\n",
    "            {\"$match\": {\"lang\": \"English\"}},\n",
    "            {\"$match\": {\"persons.name\": \"Tom Hanks\"}}\n",
    "        ]))"
   ]
  },
  {
   "cell_type": "code",
   "execution_count": null,
   "metadata": {
    "collapsed": false
   },
   "outputs": [],
   "source": [
    "# Calculate movies amount with different languages using $group\n",
    "list(collection.aggregate([\n",
    "            {\"$group\": {\"_id\": \"$lang\", \"count\": {\"$sum\": 1}, \"titles\": {\"$push\": \"$title\"}}}\n",
    "        ]))"
   ]
  },
  {
   "cell_type": "code",
   "execution_count": null,
   "metadata": {
    "collapsed": false
   },
   "outputs": [],
   "source": [
    "# Include only \"title\" and \"name\" of \"persons\" and sort them by  \n",
    "list(collection.aggregate([\n",
    "            {\"$project\": {\"title\": 1, \"persons.name\": 1, \"released\": 1, \"size\": {\"$size\": \"$persons\"}}},\n",
    "            {\"$sort\": {\"released\": -1,   # descending order\n",
    "                       \"size\": 1}},      # ascending order\n",
    "            {\"$limit\": 4}\n",
    "        ]))"
   ]
  },
  {
   "cell_type": "markdown",
   "metadata": {},
   "source": [
    "### Some helpfull commands:\n",
    "\n",
    "1\\) If you need to get some statistics about your databases."
   ]
  },
  {
   "cell_type": "code",
   "execution_count": null,
   "metadata": {
    "collapsed": false
   },
   "outputs": [],
   "source": [
    "db.command({'dbstats': 1})"
   ]
  },
  {
   "cell_type": "markdown",
   "metadata": {},
   "source": [
    "2\\) To get collection statistics use the collstats command:"
   ]
  },
  {
   "cell_type": "code",
   "execution_count": null,
   "metadata": {
    "collapsed": false
   },
   "outputs": [],
   "source": [
    "db.command({'collstats': 'movies'})"
   ]
  },
  {
   "cell_type": "markdown",
   "metadata": {},
   "source": [
    "3\\) `mongodump` is a utility for creating a binary export of the contents of a database. \n",
    "\n",
    "To dump your database for backup you call one of these commands on your terminal\n",
    "\n",
    "    mongodump --db <database_name> --collection <collection_name>\n",
    "\n",
    "This command will make a dump of given database in JSON and BSON formats. To import your backup file to mongodb you can use the following command on your terminal\n",
    "\n",
    "    mongorestore --db <database_name> <path_to_bson_file>\n",
    "\n",
    "You can also use gzip for taking backup of one collection and compressing the backup on the fly:\n",
    "\n",
    "    mongodump --db <database_name> --collection <collection_name> --out - | gzip > <dump_name>.gz\n",
    "\n",
    "or with a date in the file name:\n",
    "\n",
    "    mongodump --db <database_name> --collection <collection_name> --out - | gzip > dump_`date \"+%Y-%m-%d\"`.gz"
   ]
  },
  {
   "cell_type": "markdown",
   "metadata": {},
   "source": [
    "---\n",
    ">### Exersice:\n",
    "> Many Internet companies, such as Facebook, Google, and Twitter provides\n",
    "Application Programming Interfaces (or API's) that you can use to build your\n",
    "own applications. \n",
    "\n",
    "> An API is a set of  programming instructions and standards for accessing web\n",
    "based software applications. A wrapper is an API client, that are commonly used\n",
    "to wrap the API into easy to use functions by doing the API calls itself.\n",
    "\n",
    "> The large list of API's which Python provides wrappers are available [here](http://www.pythonapi.com/).\n",
    "\n",
    "> We have met with API's in the previous lessons and the following tasks are based on usage of Twitter API (including streaming). We are using it here, because requests returning by queries to Twitter API are available in JSON format particularly. As you know now, it is a very comfortable file format for conversion and storage data to the MongoDB.\n",
    "\n",
    "> **1\\.** Create a new MongoDB database \"twitter\" with two new collections \"tweets\" and \"users\". The collection \"tweets\" will contain data about last appeared 10000 tweets with hashtags _\"BigData\"_ and _\"DataScience\"_. The collection \"users\" will contain data about users which created the tweet, i.e. authors. \n",
    "\n",
    "> **2\\.** Using `requests` URL queries or `tweepy`'s `search()` method collect last appeared 10000 tweets with hashtags _\"BigData\"_ and _\"DataScience\"_. It may be easily done as follows:\n",
    "\n",
    ">    `tweets = []`<br></br>\n",
    ">    `last_id = 0`<br></br>\n",
    "\n",
    ">    `while len(tweets) < 10000:`<br></br>\n",
    ">    <span style=\"margin-left:2em\"></span>`response = api.search(q=['BigData', 'DataScience'], since_id=last_id, count=100)`<br></br>\n",
    ">    <span style=\"margin-left:2em\"></span>`last_id = str(results[-1].id)`<br></br>\n",
    ">    <span style=\"margin-left:2em\"></span>`tweets.extend(response)`\n",
    "\n",
    "> where `api = tweepy.API(auth)`. Try go get this result also using `requests` library.\n",
    "\n",
    "> **3\\.** Collection \"tweets\" should contain the following fields from available tweet fields:\n",
    "\n",
    ">    * `'created_at'`;\n",
    ">    * `'author_id'` (corresponds to author.id);\n",
    ">    * `'author_name'` (corresponds to autor.name);\n",
    ">    * `'retweet_count'`;\n",
    ">    * `'id'`;\n",
    ">    * `'lang'`;\n",
    ">    * `'source'`;\n",
    ">    * `'text'`.\n",
    "\n",
    "> Necessary fields in the collection \"users\":\n",
    "\n",
    ">    * `'created_at'`;\n",
    ">    * `'id'`;\n",
    ">    * `'name'`;\n",
    ">    * `'description'`;\n",
    ">    * `'followers_count'`;\n",
    ">    * `'friends_count'`;\n",
    ">    * `'lang'`;\n",
    ">    * `'profile_image_url'`;\n",
    ">    * `'profile_banner_url'`;\n",
    ">    * `'location'`;\n",
    ">    * `'time_zone'`;\n",
    ">    * `'tweets'` (is an array of tweets ids from \"tweets\" colection).\n",
    "\n",
    "> On this step you need fill both collection with respect data. Pay your attention, one user could create more than one tweet from \"tweets\" collection. IDs of all these tweets should be written to `'tweets'` field for the respective user.\n",
    "\n",
    "> **4\\.** Check that both collections contain only unique tweets and users. <br></br>\n",
    "> _**Hint:**_ You may use, for example, method `distinct()`.\n",
    "\n",
    "> **5\\.** Create a new collection \"bigdata\\_tweets\\_#date1#\\_#date2#\" with tweets that contain only \"#BigData\" hashtag, are written in English, where not retweeted and was created during the last 30 minutes. #date1# corresponds the full date in format 'YYYY-MM-DD hh:mm:ss' of the first created tweet and #date2# is the full date of last created tweet. <br></br>\n",
    "> _**Hint:**_ The value of `'created_at'` field has the form and type of datetime.datetime object. \n",
    "\n",
    "> **6\\.** Find TOP 5 tweets (from \"tweets\" collection) with the largest amount of retweets for each language. If there a few tweets with the same retweets amount, sort them by `\"created_at\"` in descending order. Display its text, author name and date of creation.\n",
    "\n",
    "> **7\\.** For each timezone find the user with maximal average value of friends and followers who pointed out \"en\" or \"es\" or \"fr\" in the field `\"lang\"`. Display his name, avatar and the list of tweets (text and date of creation of the tweet) from \"tweets\" collection. <br></br>\n",
    "> _**Hint:**_ You may display image by url in the following way:\n",
    "\n",
    "> `In [1]: from IPython.display import HTML`<br></br>\n",
    "> <span style=\"margin-left:4.5em\"></span>`bg = api.get_user(\"BillGates\")`<br></br>\n",
    "> <span style=\"margin-left:4.5em\"></span>`print bg.name`<br></br>\n",
    "> <span style=\"margin-left:4.5em\"></span>`HTML('<img src=\"' + bg.profile_banner_url + '\" width=\"700\">')`<br></br>\n",
    "> <span style=\"margin-left:4.5em\"></span>`Bill Gates`<br></br>\n",
    "> `Out [1]:`\n",
    "> <img src=\"images/bill_gates.jpg\">"
   ]
  },
  {
   "cell_type": "code",
   "execution_count": null,
   "metadata": {
    "collapsed": true
   },
   "outputs": [],
   "source": []
  }
 ],
 "metadata": {
  "kernelspec": {
   "display_name": "Python 2",
   "language": "python",
   "name": "python2"
  },
  "language_info": {
   "codemirror_mode": {
    "name": "ipython",
    "version": 2
   },
   "file_extension": ".py",
   "mimetype": "text/x-python",
   "name": "python",
   "nbconvert_exporter": "python",
   "pygments_lexer": "ipython2",
   "version": "2.7.6"
  }
 },
 "nbformat": 4,
 "nbformat_minor": 0
}
