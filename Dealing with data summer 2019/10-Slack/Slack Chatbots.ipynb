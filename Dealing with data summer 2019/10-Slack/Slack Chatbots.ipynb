{
 "cells": [
  {
   "cell_type": "markdown",
   "metadata": {
    "deletable": true,
    "editable": true
   },
   "source": [
    "---\n",
    "<center><u><h1>Slack Chatbots</h1></u></center>\n",
    "---\n",
    "\n",
    "---"
   ]
  },
  {
   "cell_type": "markdown",
   "metadata": {
    "deletable": true,
    "editable": true
   },
   "source": [
    "# What is chatbot?\n",
    "\n",
    "A chatbot is a service, powered by rules and sometimes artificial intelligence, that you interact with via a chat interface. The chatbots based on rules, tend to be limited in functionality, and are as smart as they are programmed to be. On the other end, chatbots that use artificial intelligence, understands language, not just commands, and continuously gets smarter as it learns from conversations it has with people. The service could be any number of things, ranging from functional to fun, and it could live in any major chat product (Slack, Facebook Messenger, Text Messages, etc.)\n",
    "\n",
    "Here are some examples of chatbots\n",
    "\n",
    "* [WeatherBot](https://www.messenger.com/login.php?next=https%3A%2F%2Fwww.messenger.com%2Ft%2Fhiponcho%2F\") will get you the weather whenever you ask\n",
    "* [NewsBot](https://www.messenger.com/login.php?next=https%3A%2F%2Fwww.messenger.com%2Ft%2FCNN%2F) will update you with news\n",
    "* [Scheduling bot](https://x.ai/) is a personal assistant, which schedules meetings for you\n",
    "* In China there is a bot called [Xiaoice](https://en.wikipedia.org/wiki/Xiaoice), build by Microsoft, over 20 million people are talking with it."
   ]
  },
  {
   "cell_type": "markdown",
   "metadata": {
    "deletable": true,
    "editable": true
   },
   "source": [
    "# Slack Chatbots\n",
    "\n",
    "[Slack](https://slack.com) Bot users have many of the same qualities as their human counterparts: they have profile photos, names, and bios, they exist in the team directory, they can be direct messaged or mentioned, they can post messages and upload files, and they can be invited to and kicked out of channels and private groups.\n",
    "\n",
    "\n",
    "The biggest difference between bot users and regular users in Slack is that instead of interacting with a team via one of Slack's mobile or desktop apps, bot users are controlled programmatically via a bot user token that accesses one or more of [Slack's APIs](https://api.slack.com).\n"
   ]
  },
  {
   "cell_type": "markdown",
   "metadata": {
    "deletable": true,
    "editable": true
   },
   "source": [
    "# Instruction of creation of a chatbot in Slack\n",
    "\n",
    "# <u>Part I. Create a team</u>\n",
    "\n",
    "Here we will set our Slack team up.\n",
    "\n",
    "* First go to [slack.com](https://slack.com/)\n",
    "* Enter your e-mail and click **Crete a new team**\n",
    "![alt text](images/1.jpg)\n",
    "* Now you have to check your inbox for an e-mail with a confirmation code.\n",
    "* Enter the code to the form, then you will be redirected to the next step.\n",
    "![alt text](images/2.jpg)\n",
    "* Now fill in your name, last name, and the username. Then click **Continue to Password**\n",
    "![alt text](images/3.jpg)\n",
    "* Make yourself a password, and click **Continue to Team Info**\n",
    "![alt text](images/4.jpg)\n",
    "* Now fill info about your team, click **Continue to Group Name**\n",
    "![alt text](images/5.jpg)\n",
    "* Come up with a name for your group, click **Continue to Team Domain**\n",
    "![alt text](images/6.jpg)\n",
    "* Here you can change the domain for your team, but it is filled automatically for you. Click **Create Team**\n",
    "* You will be asked if you wish to send invitaions, click **Skip**"
   ]
  },
  {
   "cell_type": "markdown",
   "metadata": {
    "deletable": true,
    "editable": true
   },
   "source": [
    "# <u>Part II. Create a chatbot</u>\n",
    "Now, when you have created your team, you can start creating your bot.\n",
    "\n",
    "* First click on drop-down in upper left corner.\n",
    "![alt text](images/8.jpg)\n",
    "* Now click on **Apps & Integration**\n",
    "![alt text](images/9.jpg)\n",
    "* This will open a new tab, there click on **Build**\n",
    "![alt text](images/10.jpg)\n",
    "* Now click on **Make a Custom Integration**\n",
    "![alt text](images/11.jpg)\n",
    "* Click on **bots**\n",
    "![alt text](images/12.jpg)\n",
    "* Make a bot name, and click **Add Bot Integration**\n",
    "![alt text](images/13.jpg)\n",
    "* Here you will find API Token for your bot\n",
    "![alt text](images/14.jpg)\n",
    "* Now scroll down the page and click **Save Integration**\n",
    "![alt text](images/15.jpg)\n",
    "* Please, be aware, that Slack Tokens **should** be kept safe!"
   ]
  },
  {
   "cell_type": "markdown",
   "metadata": {
    "deletable": true,
    "editable": true
   },
   "source": [
    "# Interaction with Slack using Python\n",
    "\n",
    "First we will take a look on how to send and recieve messages using [SlackClient](https://github.com/slackapi/python-slackclient) python package. \n",
    "\n",
    "You have to install it, do it with\n",
    "```\n",
    "pip install slackclient\n",
    "```\n",
    "\n",
    "Now let's import our dependencies and set `SlackClient` up.\n",
    "The documentation for SlackClient can be found [here](http://slackapi.github.io/python-slackclient/)."
   ]
  },
  {
   "cell_type": "code",
   "execution_count": null,
   "metadata": {
    "collapsed": false,
    "deletable": true,
    "editable": true
   },
   "outputs": [],
   "source": [
    "from slackclient import SlackClient\n",
    "# Paste the token here\n",
    "# Generally it is a bad practice, to hardcode it,\n",
    "# But it is ok for demonstrational purposes\n",
    "access_token = \"PUT YOUR BOT'S TOKEN HERE\"\n",
    "slack_client = SlackClient(access_token)"
   ]
  },
  {
   "cell_type": "markdown",
   "metadata": {
    "deletable": true,
    "editable": true
   },
   "source": [
    "To send a message, you have to use\n",
    "`api_call` function specifying the API method, channel to which you would like to send the message and text of message you want to send. Additional info for SlackClient's functions could be found [here](http://slackapi.github.io/python-slackclient/basic_usage.html)."
   ]
  },
  {
   "cell_type": "code",
   "execution_count": null,
   "metadata": {
    "collapsed": false,
    "deletable": true,
    "editable": true,
    "scrolled": true
   },
   "outputs": [],
   "source": [
    "slack_client.api_call(\n",
    "    \"chat.postMessage\",\n",
    "    channel=\"#general\",\n",
    "    text=\"Hello from Python!\")"
   ]
  },
  {
   "cell_type": "markdown",
   "metadata": {
    "deletable": true,
    "editable": true
   },
   "source": [
    "Here is an exapmle of how will it look in Slack.\n",
    "<img src=\"images/16.jpg\">"
   ]
  },
  {
   "cell_type": "markdown",
   "metadata": {
    "deletable": true,
    "editable": true
   },
   "source": [
    "Recieving messages is a bit different though. It requires history to be fetched. Here we will recieve the last message."
   ]
  },
  {
   "cell_type": "code",
   "execution_count": null,
   "metadata": {
    "collapsed": false,
    "deletable": true,
    "editable": true
   },
   "outputs": [],
   "source": [
    "# First you have to get a list of channels,\n",
    "channels = slack_client.api_call(\"channels.list\",\n",
    "                                 exclude_archived = 1)\n",
    "# and find the needed channel\n",
    "# for example \"general\", and take it's ID\n",
    "for channel in channels.get('channels'):\n",
    "    if channel['name'] == 'general':\n",
    "        channel_id = channel['id']\n",
    "\n",
    "# Fetch last one message from channel history\n",
    "message = slack_client.api_call(\"channels.history\",\n",
    "                                channel = channel_id,\n",
    "                                count = 1)\n",
    "\n",
    "print(message.get('messages')[0]['text'])"
   ]
  },
  {
   "cell_type": "markdown",
   "metadata": {
    "deletable": true,
    "editable": true
   },
   "source": [
    "There are much more methods available for API calls, you can find them [here](https://api.slack.com/methods)."
   ]
  },
  {
   "cell_type": "markdown",
   "metadata": {
    "deletable": true,
    "editable": true
   },
   "source": [
    "# Birthday Bot\n",
    "\n",
    "Now, let's build a new bot called Birthday bot. We want it to be able to fetch data about the users from simple [SQLite](https://en.wikipedia.org/wiki/SQLite) database, and if somebody has a birthday today, bot will reach with congratulations. Our bot will also be able to add users with their birthdays to database."
   ]
  },
  {
   "cell_type": "code",
   "execution_count": null,
   "metadata": {
    "collapsed": true,
    "deletable": true,
    "editable": true
   },
   "outputs": [],
   "source": [
    "# Paste name of your bot here\n",
    "BOT_NAME = 'birthday-bot'"
   ]
  },
  {
   "cell_type": "markdown",
   "metadata": {
    "deletable": true,
    "editable": true
   },
   "source": [
    "Here we'll fetch list of all users from our Slack by `api_call` function with `\"users.list\"` method. Then we'll find our bot's ID in the list."
   ]
  },
  {
   "cell_type": "code",
   "execution_count": null,
   "metadata": {
    "collapsed": false,
    "deletable": true,
    "editable": true
   },
   "outputs": [],
   "source": [
    "users = slack_client.api_call(\"users.list\")\n",
    "if users.get('ok'):\n",
    "    # retrieve all users so we can find our bot's ID\n",
    "    members = users.get('members')\n",
    "    for member in members:\n",
    "        # check that 'name' word is in member and the name is our bot's name\n",
    "        if 'name' in member and member.get('name') == BOT_NAME:\n",
    "            print(\"Bot ID for '\" + member['name'] + \"' is \" + member.get('id'))\n",
    "            BOT_ID = member.get('id')\n",
    "else:\n",
    "    print(\"could not find bot user with the name \" + BOT_NAME)"
   ]
  },
  {
   "cell_type": "code",
   "execution_count": null,
   "metadata": {
    "collapsed": true,
    "deletable": true,
    "editable": true
   },
   "outputs": [],
   "source": [
    "# Define string of form \"<@U3XKPG90X>\"\n",
    "# to be able to cut it from text inputs\n",
    "AT_BOT = \"<@\" + BOT_ID + \">\""
   ]
  },
  {
   "cell_type": "markdown",
   "metadata": {
    "deletable": true,
    "editable": true
   },
   "source": [
    "Here we will define some basic functions for our bot. Functions to work with database: add somebody to database, and read data. Function to \"say\" something to a specific channel.\n",
    "\n",
    "First, let's create a function to add a user to database. It will connect to `users.db` SQLite database using Python's [sqlite3](https://docs.python.org/3.5/library/sqlite3.html) library. And using SQL queries create a table in the base if it doesn't exist and add a user into this table."
   ]
  },
  {
   "cell_type": "markdown",
   "metadata": {
    "deletable": true,
    "editable": true
   },
   "source": [
    "SQL Queries are quite simple. They are just like English.\n",
    "\n",
    "* The query to create table is:\n",
    "```\n",
    "CREATE TABLE table_name (column_name column_type, column2_name column2_type,...)\n",
    "```\n",
    "\n",
    "* The query to insert a row is:\n",
    "```\n",
    "INSERT INTO table_name VALUES (value1, value2,...)\n",
    "```\n",
    "\n",
    "* Query to select rows from table is:\n",
    "```\n",
    "SELECT column_name, column2_name,... FROM table_name\n",
    "```\n",
    "\n",
    "* To use SQL with `sqlite3` in Python you have to first create a connection to database.\n",
    "```\n",
    "conn = sqlite3.connect(\"database_file_name.db\")\n",
    "```\n",
    "\n",
    "* Create a cursor.\n",
    "```\n",
    "c = conn.cursor()\n",
    "```\n",
    "\n",
    "* All SQL commands are executed by cursor's `execute` method.\n",
    "```\n",
    "c.execute(\" some sql query \")\n",
    "```\n",
    "You may find very good reference for SQLite in python [here](http://pythoncentral.io/introduction-to-sqlite-in-python/)."
   ]
  },
  {
   "cell_type": "code",
   "execution_count": null,
   "metadata": {
    "collapsed": true,
    "deletable": true,
    "editable": true
   },
   "outputs": [],
   "source": [
    "import sqlite3\n",
    "def add_to_db(name, date):\n",
    "    try:\n",
    "        # This function writes name and date of birth entry to database\n",
    "        conn = sqlite3.connect('users.db')\n",
    "        c = conn.cursor()\n",
    "        c.execute(\"CREATE TABLE IF NOT EXISTS users (name text, date text)\")\n",
    "        c.execute(\"INSERT INTO users VALUES (?,?)\", [name, date])\n",
    "        conn.commit()\n",
    "        # After any action connection should be closed\n",
    "        conn.close()\n",
    "        return True\n",
    "    except:\n",
    "        return False"
   ]
  },
  {
   "cell_type": "code",
   "execution_count": null,
   "metadata": {
    "collapsed": false,
    "deletable": true,
    "editable": true
   },
   "outputs": [],
   "source": [
    "from datetime import datetime, date\n",
    "\n",
    "# Let's add a user to our database,\n",
    "add_to_db('jason','1986-1-29')\n",
    "# And another one with birthday today. You may change the year if any\n",
    "# Retrieve today's date\n",
    "today = date.today()\n",
    "add_to_db('eric', '1990-{0:02d}-{1:02d}'.format(today.month, today.day))"
   ]
  },
  {
   "cell_type": "markdown",
   "metadata": {
    "deletable": true,
    "editable": true
   },
   "source": [
    "Now let's create a function that will get all users from our database, check if anybody has a birthday today, based on this the function generates some output message, to congratulate users, or to state that there are no birthdays today."
   ]
  },
  {
   "cell_type": "code",
   "execution_count": null,
   "metadata": {
    "collapsed": true,
    "deletable": true,
    "editable": true
   },
   "outputs": [],
   "source": [
    "def congratulate():\n",
    "    # This function allows our bot to take a look on users' database, and if any user has a birthday today,  \n",
    "    # it will make our bot to 'say' congratulations for that user    \n",
    "    \n",
    "    # Read our data from sqlite database\n",
    "    try:\n",
    "        # Try-except wrapping is used for the case when the database is empty.\n",
    "        conn = sqlite3.connect('users.db')\n",
    "        c = conn.cursor()\n",
    "        data = c.execute(\"SELECT * FROM USERS\").fetchall()\n",
    "        conn.close()\n",
    "    except:\n",
    "        data = []\n",
    "        \n",
    "    # Retrieve today's date\n",
    "    today = date.today()    \n",
    "    \n",
    "    # Define simple indicator, whether there are any birthdays today.\n",
    "    birthdays = False    \n",
    "    messages = \"\"\n",
    "    for user in data:\n",
    "        # datetime.strptime can convert a string with specific formatting to date\n",
    "        check = datetime.strptime(user[1],\"%Y-%m-%d\").date()\n",
    "        if check.day == today.day and check.month == today.month:\n",
    "            birthdays = True\n",
    "            message = \"Happy Birthday, @\" + user[0] + \"! :tada:\"\n",
    "            messages += message + \"\\n\"         \n",
    "    \n",
    "    if birthdays == False:\n",
    "        return \"Sadly there are no Birthdays today!\"\n",
    "    else:\n",
    "        return messages"
   ]
  },
  {
   "cell_type": "markdown",
   "metadata": {
    "deletable": true,
    "editable": true
   },
   "source": [
    "And here's a function to let our bot `say` something. It will connect to Slack Realtime Messaging, and post a message to a specific channel from our bot."
   ]
  },
  {
   "cell_type": "code",
   "execution_count": null,
   "metadata": {
    "collapsed": false,
    "deletable": true,
    "editable": true
   },
   "outputs": [],
   "source": [
    "def say(message, channel):\n",
    "    # This function allows our bot to 'say' something. Function posts a message into the channel by bot\n",
    "    if slack_client.rtm_connect():\n",
    "        slack_client.api_call(\"chat.postMessage\",\n",
    "                              channel = channel,\n",
    "                              as_user = \"true:\",\n",
    "                              text = message)"
   ]
  },
  {
   "cell_type": "markdown",
   "metadata": {
    "deletable": true,
    "editable": true
   },
   "source": [
    "Now let's add a function to parse Slack output. It will cut the text, removing our bot's name from it, leaving only command we want to give him."
   ]
  },
  {
   "cell_type": "code",
   "execution_count": null,
   "metadata": {
    "collapsed": true,
    "deletable": true,
    "editable": true
   },
   "outputs": [],
   "source": [
    "def parse_slack_output(slack_rtm_output):\n",
    "    # This function will take Slack's messages\n",
    "    for output in slack_rtm_output:\n",
    "        # test if there is 'text' word and name of bot in the message\n",
    "        if output and 'text' in output and AT_BOT in output['text']:\n",
    "            # and return only the part of 'text' after the name of bot\n",
    "            return output['text'].split(AT_BOT)[1].strip(), output['channel']\n",
    "    # or it will return nothing in other cases\n",
    "    return None, None"
   ]
  },
  {
   "cell_type": "markdown",
   "metadata": {
    "deletable": true,
    "editable": true
   },
   "source": [
    "Now we need to make a function to extract name and date of birth from a string. We'll implement it simply by splitting the string by words, and taking the word following the 'name' word as a name, and the word following the 'birthday' word as a date of birth.\n",
    "\n",
    "For example, for the string `\"add user to database name john birthday 1980-10-1\"` the function will return ('john', '1980-10-1')"
   ]
  },
  {
   "cell_type": "code",
   "execution_count": null,
   "metadata": {
    "collapsed": false,
    "deletable": true,
    "editable": true
   },
   "outputs": [],
   "source": [
    "# This function will extract name and date of birth from text\n",
    "def retrieve_name_bday(text):    \n",
    "    words = text.split() # Split text by spaces\n",
    "    # This is quite straightforward, if there is a word 'name', then the next entry is the name itself, same for date of birth\n",
    "    for i in range(0, len(words)):\n",
    "        if words[i] == 'name':\n",
    "            name = words[i+1]\n",
    "        elif words[i] == 'birthday':\n",
    "            bday = words[i+1]\n",
    "    return name, bday\n",
    "\n",
    "# For example\n",
    "print(retrieve_name_bday('name john birthday 1980-10-1'))"
   ]
  },
  {
   "cell_type": "markdown",
   "metadata": {
    "deletable": true,
    "editable": true
   },
   "source": [
    "Now let's make a function to let our bot to react to commands. Our bot is able to react to few expressions. Depending on the input strings, our bot will react differently.\n",
    "\n",
    "* The input strings containing `'add'` and `'user'` substrings would lead to call of `retrieve_name_bday` and `add_to_db` functions, which will extract name and date of birth and paste this info to database. The bot will `say` informational message about success of this operation.\n",
    "\n",
    "* The input strings containing `'bday'` or `'birth'` would lead to call of `congratulate` function, thus making our bot to congratulate any user, who has birthday today, if any.\n",
    "* The input string with `'help'` word will make our bot to `say` out the special help message about it's usage.\n",
    "* In any another case, our bot will not be able to process and understand our command, and will `say` `'I dont get it, sorry!'` error message.\n",
    "\n"
   ]
  },
  {
   "cell_type": "code",
   "execution_count": null,
   "metadata": {
    "collapsed": true,
    "deletable": true,
    "editable": true
   },
   "outputs": [],
   "source": [
    "# Help message about our bot\n",
    "help_message = \"\"\"My commands are quite simple:\n",
    "call me with *bday* or *birth*, to congratulate all people who have birthday today!\n",
    "call me with *add user name NAME birthday YYYY-MM-DD* to add new user to database, please, pay attention to words order\n",
    "call me with 'help' to see this fancy help message.\"\"\"\n",
    "\n",
    "\n",
    "def act(text, channel):\n",
    "    # This function is responsible for bot's reactions to our input\n",
    "    try:\n",
    "        # Try-except is used for cases, when text is None\n",
    "        # We have to convert text to lowercase to ensure that all commands are processed correctly\n",
    "        text = text.lower()\n",
    "        if 'add' in text and 'user' in text:\n",
    "            name, bday = retrieve_name_bday(text)\n",
    "            if add_to_db(name, bday):\n",
    "                say('Added ' + name.title() +\" who is born at \" + bday + \" to db\", channel)\n",
    "        elif 'bday' in text or 'birth' in text:\n",
    "            say(congratulate(),channel)\n",
    "        elif 'help' in text:\n",
    "            say(help_message, channel)\n",
    "        else:\n",
    "            say('I dont get it, sorry!',channel)\n",
    "    except:\n",
    "        pass"
   ]
  },
  {
   "cell_type": "markdown",
   "metadata": {
    "deletable": true,
    "editable": true
   },
   "source": [
    "And here is the code to make our bot 'live'. This code will take messages from slack and parse them. Then our bot will react to these messages.\n",
    "\n",
    "This is an **infinite** loop, you may stop it with Interrupt Kernel button. ![alt text](images/17.jpg)"
   ]
  },
  {
   "cell_type": "code",
   "execution_count": null,
   "metadata": {
    "collapsed": false,
    "deletable": true,
    "editable": true
   },
   "outputs": [],
   "source": [
    "import time\n",
    "# This is the delay which will define how often our bot reads slack's output\n",
    "READ_WEBSOCKET_DELAY = 0.5\n",
    "\n",
    "if slack_client.rtm_connect():\n",
    "    while True:\n",
    "        text, channel = parse_slack_output(slack_client.rtm_read())\n",
    "        act(text, channel)\n",
    "        time.sleep(READ_WEBSOCKET_DELAY)"
   ]
  },
  {
   "cell_type": "markdown",
   "metadata": {
    "collapsed": true,
    "deletable": true,
    "editable": true
   },
   "source": [
    "Here are examples of Bot's work.\n",
    "\n",
    "* Bot's reaction for a message with 'help' word.\n",
    "![alt text](images/18.jpg)\n",
    "* Bot's reaction for a message with 'add' and 'user' words.\n",
    "![alt text](images/19.jpg)\n",
    "* Bot's reaction for a message with 'bday' or 'birth' words.\n",
    "![alt text](images/20.jpg)\n",
    "* Bot's reaction for a message with some unknown command.\n",
    "![alt text](images/21.jpg)"
   ]
  },
  {
   "cell_type": "markdown",
   "metadata": {
    "collapsed": true,
    "deletable": true,
    "editable": true
   },
   "source": [
    "> # Exercise 1\n",
    "\n",
    "> Make a function that will calculate user's age based on username. The data should be taken from database."
   ]
  },
  {
   "cell_type": "code",
   "execution_count": null,
   "metadata": {
    "collapsed": true,
    "deletable": true,
    "editable": true
   },
   "outputs": [],
   "source": [
    "# type your code here"
   ]
  },
  {
   "cell_type": "markdown",
   "metadata": {
    "collapsed": true,
    "deletable": true,
    "editable": true
   },
   "source": [
    "> # Exercise 2\n",
    "\n",
    "> Add a new action to `act` function that will allow our bot to answer question about Age."
   ]
  },
  {
   "cell_type": "code",
   "execution_count": null,
   "metadata": {
    "collapsed": true,
    "deletable": true,
    "editable": true
   },
   "outputs": [],
   "source": [
    "# type your code here"
   ]
  }
 ],
 "metadata": {
  "anaconda-cloud": {},
  "kernelspec": {
   "display_name": "Python 3",
   "language": "python",
   "name": "python3"
  },
  "language_info": {
   "codemirror_mode": {
    "name": "ipython",
    "version": 3
   },
   "file_extension": ".py",
   "mimetype": "text/x-python",
   "name": "python",
   "nbconvert_exporter": "python",
   "pygments_lexer": "ipython3",
   "version": "3.5.2"
  }
 },
 "nbformat": 4,
 "nbformat_minor": 0
}
