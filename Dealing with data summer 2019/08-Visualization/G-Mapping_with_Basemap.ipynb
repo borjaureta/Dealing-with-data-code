{
 "cells": [
  {
   "cell_type": "code",
   "execution_count": null,
   "metadata": {},
   "outputs": [],
   "source": [
    "# Note: New development should be using Cartopy instead of basemap\n",
    "# See https://matplotlib.org/basemap/\n",
    "!sudo apt-get -y install libgeos-dev libgeos++-dev python3-mpltoolkits.basemap"
   ]
  },
  {
   "cell_type": "code",
   "execution_count": null,
   "metadata": {},
   "outputs": [],
   "source": [
    "!sudo pip3 install -U pysal"
   ]
  },
  {
   "cell_type": "markdown",
   "metadata": {},
   "source": [
    "---\n",
    "# Visualization using maps in Python\n",
    "\n",
    "---"
   ]
  },
  {
   "cell_type": "code",
   "execution_count": null,
   "metadata": {},
   "outputs": [],
   "source": [
    "%matplotlib inline\n",
    "%config InlineBackend.figure_format = 'retina'"
   ]
  },
  {
   "cell_type": "markdown",
   "metadata": {},
   "source": [
    "In the Python world, there are multiple tools for data visualizing:\n",
    "* [**matplotlib**](http://matplotlib.org) produces publication quality figures in a variety of hardcopy formats and interactive environments across platforms; you can generate plots, histograms, power spectra, bar charts, errorcharts, scatterplots, etc., with just a few lines of code;\n",
    "* [**Seaborn**](http://stanford.edu/~mwaskom/software/seaborn/index.html) is a library for making attractive and informative statistical graphics in Python;\n",
    "* [**Bokeh**](http://bokeh.pydata.org/en/latest/) targets modern web browsers for presentation; its goal is to provide elegant, concise construction of novel graphics in the style of D3.js, but also deliver this capability with high-performance interactivity over very large or streaming datasets;\n",
    "* [**plotly**](https://plot.ly) generates the most interactive graphs; allows saving them offline and create very rich web-based visualizations;\n",
    "* [**folium**](http://folium.readthedocs.org/en/latest) builds on the data wrangling strengths of the Python ecosystem and the mapping strengths of the [Leaflet.js](http://leafletjs.com) JavaScript library;\n",
    "* [**ggplot**](http://ggplot.yhathq.com) is built for making profressional looking, plots quickly with minimal code;\n",
    "* [**pygal**](http://www.pygal.org/en/latest) features various graph types like bar charts, line charts, XY charts, pie charts, radar charts, dot charts, pyramid charts, funnel charts, gauge charts; is used for creating svg charts\n",
    "\n",
    "and others (particularly, pandas also possesses with its own visualization funtionality). Many of above libraries contains various and powerful tools for geovisualization (using maps or globes). We will consider many examples of such visualization kind.\n",
    "\n",
    "Among all mentioned above libraries only matplotlib is included to [Anaconda](https://www.continuum.io/). The instruction of the library instalation can be found on sites, links to which we have provided above. \n",
    "\n",
    "So, before going to the next paragraph, you need install _matplotlib_ (see installation guide [here](http://matplotlib.org/users/installing.html)) together with _basemap_ toolkit for matplotlib (is a library for plotting 2D data on maps in Python) (installation guide can be found [here](http://matplotlib.org/basemap/users/installing.html) and the recommendations for installing of basemap on Windows OS [here](http://stackoverflow.com/questions/18109859/how-to-install-matplotlib-basemap-module-on-windows-7-with-winpython-or-any-pyt)) and _folium_ (also pip using: `pip install folium`)."
   ]
  },
  {
   "cell_type": "markdown",
   "metadata": {},
   "source": [
    "## Datasets reading and processing data"
   ]
  },
  {
   "cell_type": "markdown",
   "metadata": {},
   "source": [
    "We’ll be using route, airport, and airline data from [openflights](http://openflights.org/data.html). Each row in the route data corresponds to an airline route between two airports. Each row in the airport data corresponds to an airport in the world, and has information about it. Each row in the airline data represents a single airline. The description and signification of each column you may see [here](http://openflights.org/data.html)."
   ]
  },
  {
   "cell_type": "code",
   "execution_count": null,
   "metadata": {},
   "outputs": [],
   "source": [
    "import pandas as pd\n",
    "\n",
    "# Create a DataFrame for airports data \n",
    "airports = pd.read_csv('/data/airports.csv')\n",
    "print(\"Dataset contains\",len(airports), \"rows.\")\n",
    "airports.head()"
   ]
  },
  {
   "cell_type": "code",
   "execution_count": null,
   "metadata": {},
   "outputs": [],
   "source": [
    "# Create a DataFrame for airlines data\n",
    "airlines = pd.read_csv('/data/airlines.csv')\n",
    "print(\"Dataset contains {} rows.\".format(len(airlines.index)))\n",
    "airlines.head()"
   ]
  },
  {
   "cell_type": "code",
   "execution_count": null,
   "metadata": {},
   "outputs": [],
   "source": [
    "# And a separate DataFrame for routes\n",
    "routes = pd.read_csv('/data/routes.csv')\n",
    "# Some rows contain undefined `airline_id`, `source_airport_id` and `destination_airport_id`,\n",
    "# which are equal to \"\\\\N\". Let's drop rows containing these value\n",
    "routes = routes[(routes['airline_id'] != \"\\\\N\") & \n",
    "                (routes['source_airport_id'] != \"\\\\N\") & \n",
    "                (routes['destination_airport_id'] != \"\\\\N\")\n",
    "               ]\n",
    "# and change its type from `str` to `int`\n",
    "for col in ['airline_id', 'source_airport_id', 'destination_airport_id']:\n",
    "    routes[col] = routes[col].astype(int)\n",
    "print(\"Dataset contains {} rows.\".format(len(routes.index)))\n",
    "routes.head()"
   ]
  },
  {
   "cell_type": "markdown",
   "metadata": {},
   "source": [
    "The chosen data is inherently a good fit for mapping – we have latitude and longitude pairs for airports, and for source and destination airports.\n",
    "\n",
    "The first map we can make is one that shows all the airports all over the world. We can do this with the basemap extension to matplotlib. This enables drawing world maps and adding points, and is very customizable."
   ]
  },
  {
   "cell_type": "code",
   "execution_count": null,
   "metadata": {},
   "outputs": [],
   "source": [
    "import matplotlib\n",
    "import matplotlib.pyplot as plt\n",
    "import numpy as np\n",
    "from mpl_toolkits.basemap import Basemap\n",
    "\n",
    "# This defines the size of the image below\n",
    "plt.rcParams['figure.figsize'] = (18, 12)\n",
    "\n",
    "# Create a map on which to draw. \n",
    "# \n",
    "# First, we select the projection. See https://matplotlib.org/basemap/users/mapsetup.html\n",
    "# We're using the Gall Stereographic projection https://matplotlib.org/basemap/users/gall.html\n",
    "# and showing the whole world.\n",
    "# \n",
    "# resolution: the resolution of he included coastlines, lakes, and so on.\n",
    "# Possible resolutions: c (crude), l (low), i (intermediate), h (high), f (full) \n",
    "# \n",
    "# area_thresh: the threshold under what no coast line or lake will be drawn.\n",
    "# lat_0, lon_0: latitude and longitude of map center.\n",
    "m = Basemap(projection='gall', resolution = 'i', area_thresh = 1000.0, lat_0=0, lon_0=0)\n",
    " \n",
    "# Draw coastlines, borders of countries and the edges of the map.\n",
    "m.drawcoastlines(linewidth=0.5)\n",
    "m.drawcountries(linewidth=0.5)\n",
    "m.fillcontinents(color='#F0F0F0')\n",
    "m.drawparallels(np.arange(-90.,91.,30.))\n",
    "m.drawmeridians(np.arange(-180.,181.,60.))\n",
    "m.drawmapboundary(fill_color='#67C8FF')\n",
    "m.drawmapboundary()\n",
    "\n",
    "# Use matplotlib to draw the points onto the map.\n",
    "x, y = m(list(airports[\"lon\"]), list(airports[\"lat\"]))\n",
    "m.plot(x, y, 'x', color=\"red\", markersize=1, alpha=0.5)\n",
    "\n",
    "plt.show()"
   ]
  },
  {
   "cell_type": "markdown",
   "metadata": {},
   "source": [
    "The map may be more informative if we will manage markers color, shape and size."
   ]
  },
  {
   "cell_type": "code",
   "execution_count": null,
   "metadata": {},
   "outputs": [],
   "source": [
    "# Define marker color depending on the altitude of airport\n",
    "def get_marker_color(altitude):\n",
    "    if altitude <= 200:\n",
    "        return 'green'\n",
    "    elif altitude <= 500:\n",
    "        return 'lightgreen'\n",
    "    elif altitude <= 1000:\n",
    "        return 'yellow'\n",
    "    elif altitude <= 2000:\n",
    "        return 'orange'\n",
    "    else:\n",
    "        return 'red'\n",
    "\n",
    "# Define marker size and shape based on the amount of outgoing and incoming flights of the airport \n",
    "def get_marker_size(airport_id):\n",
    "    count = routes[(routes['source_airport_id'] == airport_id) | (routes['destination_airport_id'] == airport_id)].shape[0]\n",
    "    if count < 10:\n",
    "        shape = 's'   # square\n",
    "    elif count < 50:\n",
    "        shape = 'p'   # pentagon\n",
    "    elif count < 100:\n",
    "        shape = 'D'   # diamond\n",
    "    else:\n",
    "        shape = 'o'   # circle\n",
    "        \n",
    "    count = 2 * np.log10(count+1) + 3\n",
    "    \n",
    "    return count, shape\n",
    "\n",
    "# Zoom map on Europe\n",
    "themap = Basemap(projection='gall',\n",
    "                 llcrnrlon=-12,              # lower-left corner longitude\n",
    "                 llcrnrlat=30,               # lower-left corner latitude\n",
    "                 urcrnrlon=45,               # upper-right corner longitude\n",
    "                 urcrnrlat=73,               # upper-right corner latitude\n",
    "                 resolution='i',             # low resolution\n",
    "                 area_thresh = 1000.0,\n",
    "                )\n",
    "\n",
    "themap.drawcoastlines(linewidth=0.5)\n",
    "themap.drawcountries(linewidth=0.5)\n",
    "themap.fillcontinents(color='#F0F0F0')\n",
    "themap.drawmapboundary(fill_color='#67C8FF')\n",
    "# Draw rivers\n",
    "themap.drawrivers(color='blue')\n",
    "\n",
    "# Draw markers with various size and color for respective airport \n",
    "for i in airports.index.values:\n",
    "    x, y = themap(airports.loc[i, \"lon\"], airports.loc[i, \"lat\"])\n",
    "    size, shape = get_marker_size(airports.loc[i, \"airport_id\"])\n",
    "    themap.plot(x, y, \n",
    "                marker=shape, \n",
    "                color=get_marker_color(airports.loc[i, \"altitude\"]), \n",
    "                markersize=size\n",
    "               )\n",
    "\n",
    "plt.show()"
   ]
  },
  {
   "cell_type": "markdown",
   "metadata": {},
   "source": [
    "Adding of text label on the map makes it just more informative. Let's draw top 10 airports by amount of serving airlines "
   ]
  },
  {
   "cell_type": "code",
   "execution_count": null,
   "metadata": {},
   "outputs": [],
   "source": [
    "import numpy as np\n",
    "import random\n",
    "\n",
    "# Find ID of top `n` airports with the largest amount of airlines\n",
    "def get_top_n_airports(n=10):\n",
    "    gl = routes.groupby(\"source_airport_id\")[\"airline_id\"].apply(set).apply(len)   # `apply(set)` drops duplicates\n",
    "    gl.sort_values(ascending=False)\n",
    "    return gl[:n]\n",
    "\n",
    "\n",
    "themap = Basemap(projection='robin', resolution = 'i', area_thresh = 1000.0, lat_0=0, lon_0=90)\n",
    "\n",
    "# Display blue marble image (from http://visibleearth.nasa.gov) as map background\n",
    "themap.bluemarble(scale=0.5)\n",
    "\n",
    "# draw lat/lon grid lines every 30 degrees.\n",
    "themap.drawmeridians(np.arange(0,360,30), linewidth=1, dashes=[4, 2], labels=[1,0,0,1], color='g')\n",
    "themap.drawparallels(np.arange(-90,90,30), linewidth=1, dashes=[4, 2], labels=[1,0,0,1], color='g')\n",
    "\n",
    "top = get_top_n_airports()\n",
    "for _id in top.index.values:\n",
    "    res = airports[airports[\"airport_id\"] == _id][[\"lon\", \"lat\", \"name\"]]\n",
    "    x, y = themap(res['lon'].values[0], res['lat'].values[0])\n",
    "    themap.plot(x, y, 'yo', markersize=top[_id] // 5)\n",
    "    plt.text((1 + 0.02) * x, \n",
    "             (1 + random.choice(range(-3,3)) * 0.01) * y, \n",
    "             res['name'].values[0], color='r', fontsize=16\n",
    "            )\n",
    "\n",
    "plt.show()"
   ]
  },
  {
   "cell_type": "markdown",
   "metadata": {},
   "source": [
    "It would be pretty cool to see all the air routes on a map. Luckily, we can use basemap to do this. We’ll draw great circles connecting source and destination airports. Each circle will show the route of a single airliner. Unfortunately, there are so many routes that showing them all would be a mess. Instead, we’ll show some random 200 routes."
   ]
  },
  {
   "cell_type": "code",
   "execution_count": null,
   "metadata": {},
   "outputs": [],
   "source": [
    "themap = Basemap(projection='robin', resolution = 'c', area_thresh = 10000.0, lat_0=0, lon_0=-90)\n",
    " \n",
    "themap.fillcontinents(color='lightgray', lake_color='lightblue')\n",
    "themap.drawmapboundary(fill_color='lightblue')\n",
    "themap.drawcountries()\n",
    "themap.drawcoastlines()\n",
    "\n",
    "# Iterate through the some random 200 rows\n",
    "for name, row in routes.sample(200).iterrows():\n",
    "    try:\n",
    "        # Get the source and destination airports\n",
    "        source = airports[airports[\"airport_id\"] == row[\"source_airport_id\"]].iloc[0]\n",
    "        dest = airports[airports[\"airport_id\"] == row[\"destination_airport_id\"]].iloc[0]\n",
    "        # Draw a great circle between source and dest airports\n",
    "        themap.drawgreatcircle(source[\"lon\"], source[\"lat\"], \n",
    "                               dest[\"lon\"], dest[\"lat\"],\n",
    "                               linewidth=1, color='b')\n",
    "    except (ValueError, IndexError):\n",
    "        pass\n",
    "\n",
    "plt.show()"
   ]
  },
  {
   "cell_type": "code",
   "execution_count": null,
   "metadata": {},
   "outputs": [],
   "source": [
    "# And now we may implement our plan about updated map\n",
    "def get_routes_for_airport(airport_code):\n",
    "    # Draw the map\n",
    "    themap = Basemap(projection='robin', resolution = 'c', area_thresh = 10000.0, lat_0=0, lon_0=10)\n",
    "    themap.fillcontinents(color='lightgray', lake_color='lightblue')\n",
    "    themap.drawmapboundary(fill_color='lightblue')\n",
    "    themap.drawcountries()\n",
    "    themap.drawcoastlines()\n",
    "    \n",
    "    # Find the airport\n",
    "    source = airports[ airports[\"IATA_FAA\"] == airport_code ].iloc[0]\n",
    "    \n",
    "    # Find all destination airports where source airport is `source`\n",
    "    dest_codes = routes[routes.source_airport == airport_code].destination_airport.values\n",
    "    dest_codes = sorted(set(dest_codes))\n",
    "    destinations = airports [ airports.IATA_FAA.isin(dest_codes) ]\n",
    "    \n",
    "    # Draw a great circle between source and dest airports.\n",
    "    for index, destination in destinations.iterrows():\n",
    "        themap.drawgreatcircle(source[\"lon\"], source[\"lat\"],\n",
    "                               destination[\"lon\"], destination[\"lat\"],\n",
    "                               linewidth=1, color='b')\n",
    "    \n",
    "    display(plt.show())"
   ]
  },
  {
   "cell_type": "code",
   "execution_count": null,
   "metadata": {},
   "outputs": [],
   "source": [
    "get_routes_for_airport('JFK')"
   ]
  },
  {
   "cell_type": "markdown",
   "metadata": {},
   "source": [
    "Often very informative geovisualization can be reached with the help of globes. `basemap` also provides the possibility of the globe using. Let's build an interactive rotating globe where we random 100 airports with the help of markers. "
   ]
  },
  {
   "cell_type": "code",
   "execution_count": null,
   "metadata": {},
   "outputs": [],
   "source": [
    "import numpy as np\n",
    "\n",
    "# Random choice of 100 rows from `airports` DataFrame \n",
    "array = []\n",
    "for i, row in airports.sample(100).iterrows():\n",
    "    array.append((row['lon'], row['lat']))\n",
    "    \n",
    "# Change the size of the image for globe\n",
    "plt.rcParams['figure.figsize'] = (8, 8)\n",
    "\n",
    "def globe(lon, lat):\n",
    "    themap = Basemap(projection='ortho', lon_0=lon, lat_0=lat, resolution='c', area_thresh=10000.0)\n",
    "    \n",
    "    themap.drawcoastlines()\n",
    "    themap.fillcontinents(color='coral', lake_color='lightblue')\n",
    "    themap.drawparallels(np.arange(-80.,81.,20.))\n",
    "    themap.drawmeridians(np.arange(-180.,180.,20.))\n",
    "    themap.drawmapboundary(fill_color='lightblue')\n",
    "    themap.drawcountries()\n",
    "    \n",
    "    # Add markers\n",
    "    for i in array:\n",
    "        x, y = themap(i[0], i[1])\n",
    "        themap.plot(x, y, 'o', color=\"blue\", markersize=8)\n",
    "    \n",
    "\n",
    "    clear_output(wait=True)\n",
    "    display(plt.show())\n",
    "    \n",
    "globe(lon=-75, lat=42)"
   ]
  },
  {
   "cell_type": "markdown",
   "metadata": {},
   "source": [
    "---\n",
    "## Exercises\n",
    "---"
   ]
  },
  {
   "cell_type": "markdown",
   "metadata": {},
   "source": [
    "## Exercise #1: \n",
    "\n",
    "> `basemap`'s method `shadedrelief(scale=0.1, origin='lower')` allows drawing maps with Earth relief. Note, attributes in brackets correspond to minimal performance requirements. Find TOP 10 airports wich are situated on the greatest height and TOP 10 airports with the lowest altitude. Display the list of this airports showing its name and country. Also draw the map of Miller projection (`projection=\"mill\"`) using `shadedrelief()` method and show these airports using colored markers. The marker's color depends on the airport's altitude and can be defined with the help of `get_marker_color(altitude)` function which we have used earlier. Marker's size is 10 units. As result, you should get the map like this:\n",
    "\n",
    "> <img src=\"images/ex1.png\">"
   ]
  },
  {
   "cell_type": "markdown",
   "metadata": {},
   "source": [
    "## Exercise #2: \n",
    "\n",
    "> `routes` DataFrame contains many routes between two airports. Let's caclulate its lengths and draw, for example, 10 the longest of them trajectories on the map (you may choice projection, resolution, etc. yourself). \n",
    "\n",
    ">In order to do this, you need to first calculate route lengths. We may use [haversine distance](https://en.wikipedia.org/wiki/Haversine_formula), which calculates the distance between latitude, longitude pairs (in our case, between latitude and longitude values of source and destination airports):\n",
    "$$d = 2 r \\arcsin\\left(\\sqrt{\\sin^2\\left(\\frac{\\varphi_2 - \\varphi_1}{2}\\right) + \\cos(\\varphi_1) \\cos(\\varphi_2)\\sin^2\\left(\\frac{\\lambda_2 - \\lambda_1}{2}\\right)}\\right),$$\n",
    "$\\varphi_1$ and $\\varphi_2$: latitude of point 1 and latitude of point 2; <br></br>\n",
    "$\\lambda_1$ and $\\lambda_2$: longitude of point 1 and longitude of point 2; <br></br>\n",
    "let's consider the average Earth radius $r$ is equal to 6367 km. "
   ]
  },
  {
   "cell_type": "markdown",
   "metadata": {},
   "source": [
    "## Exercise #3: \n",
    "\n",
    "> Find TOP 10 countries with the largest and the lowest amounts of airports on their territory and show all airports of these countries using markers on the `folium` map. Circle markers correspond to TOP 10 countries with the largest amount and diamond markers define TOP 10 countries with the lowest amount of airports. Red markers should denote the airports which have no connections with some others, i.e. thay are absent in `routes` DataFrames; blue markers correspond to all others. Marker's size is fixed and equals, for example, to 1000."
   ]
  },
  {
   "cell_type": "code",
   "execution_count": null,
   "metadata": {},
   "outputs": [],
   "source": []
  }
 ],
 "metadata": {
  "kernelspec": {
   "display_name": "Python 3",
   "language": "python",
   "name": "python3"
  },
  "language_info": {
   "codemirror_mode": {
    "name": "ipython",
    "version": 3
   },
   "file_extension": ".py",
   "mimetype": "text/x-python",
   "name": "python",
   "nbconvert_exporter": "python",
   "pygments_lexer": "ipython3",
   "version": "3.5.2"
  }
 },
 "nbformat": 4,
 "nbformat_minor": 1
}
