{
 "cells": [
  {
   "cell_type": "markdown",
   "metadata": {},
   "source": [
    "### Common Pandas Operations\n",
    "\n",
    "We will use the data set from NYC OpenData called \"New York City Leading Causes of Death\"."
   ]
  },
  {
   "cell_type": "code",
   "execution_count": null,
   "metadata": {},
   "outputs": [],
   "source": [
    "%matplotlib inline\n",
    "import requests\n",
    "import pandas as pd\n",
    "import numpy as np"
   ]
  },
  {
   "cell_type": "markdown",
   "metadata": {},
   "source": [
    "#### Fetching the data\n",
    "\n",
    "\n",
    "We fetch the data in JSON format using the NYC OpenData API:"
   ]
  },
  {
   "cell_type": "code",
   "execution_count": null,
   "metadata": {},
   "outputs": [],
   "source": [
    "# Data set: New York City Leading Causes of Death\n",
    "# https://data.cityofnewyork.us/Health/New-York-City-Leading-Causes-of-Death/jb7j-dtam\n",
    "url = 'http://data.cityofnewyork.us/api/views/jb7j-dtam/rows.json'\n",
    "results = requests.get(url).json()"
   ]
  },
  {
   "cell_type": "code",
   "execution_count": null,
   "metadata": {},
   "outputs": [],
   "source": [
    "results.keys()"
   ]
  },
  {
   "cell_type": "markdown",
   "metadata": {},
   "source": [
    "There are two main fields in the returned JSON. The `meta` part that describes the metadata, and the actual `data`."
   ]
  },
  {
   "cell_type": "code",
   "execution_count": null,
   "metadata": {},
   "outputs": [],
   "source": [
    "results['meta']['view'].keys()"
   ]
  },
  {
   "cell_type": "code",
   "execution_count": null,
   "metadata": {},
   "outputs": [],
   "source": [
    "results['data']"
   ]
  },
  {
   "cell_type": "markdown",
   "metadata": {},
   "source": [
    "### Creating a DataFrame from JSON data\n",
    "\n",
    "Let's create a pandas dataframe from the `results[\"data\"]` part."
   ]
  },
  {
   "cell_type": "code",
   "execution_count": null,
   "metadata": {},
   "outputs": [],
   "source": [
    "df = pd.DataFrame(results[\"data\"])\n",
    "df"
   ]
  },
  {
   "cell_type": "markdown",
   "metadata": {},
   "source": [
    "### Adding Column Names\n",
    "\n",
    "Hm, this is kind of ugly without column names...\n",
    "\n",
    "We need to peek at the \"meta\" part to find information about the columns."
   ]
  },
  {
   "cell_type": "code",
   "execution_count": null,
   "metadata": {},
   "outputs": [],
   "source": [
    "# This part of the results contains the description and names for the columns\n",
    "columns = results[\"meta\"][\"view\"][\"columns\"]\n",
    "columns"
   ]
  },
  {
   "cell_type": "code",
   "execution_count": null,
   "metadata": {},
   "outputs": [],
   "source": [
    "# We will create a list of the column names, to reuse it when creating our dataframe\n",
    "headers = [c[\"fieldName\"] for c in columns]\n",
    "headers"
   ]
  },
  {
   "cell_type": "code",
   "execution_count": null,
   "metadata": {},
   "outputs": [],
   "source": [
    "# Now we also pass a list of column names\n",
    "df = pd.DataFrame(results[\"data\"], columns=headers)\n",
    "df"
   ]
  },
  {
   "cell_type": "markdown",
   "metadata": {},
   "source": [
    "### Deleting Columns and/or Rows\n",
    "\n",
    "We do not need all these columns. Let's drop a few that we will definitely not use. For that, we will use the `drop` command"
   ]
  },
  {
   "cell_type": "code",
   "execution_count": null,
   "metadata": {},
   "outputs": [],
   "source": [
    "df.drop(labels = [':sid', ':position', ':meta', ':created_meta', ':updated_meta'], \n",
    "        axis='columns', inplace=True)\n",
    "df"
   ]
  },
  {
   "cell_type": "markdown",
   "metadata": {},
   "source": [
    "##### Common Patterns: axis and inplace\n",
    "\n",
    "* The `axis='columns'` says that we are looking to drop columns. If we had `axis='index'` we would be dropping rows with the passed id's. The ids for the row is the index value for the row.\n",
    "\n",
    "* The `inplace=True` specifies that we will not be creating a new dataframe, but we just replace the current one, with the new dataframe that has fewer columns."
   ]
  },
  {
   "cell_type": "code",
   "execution_count": null,
   "metadata": {},
   "outputs": [],
   "source": [
    "df"
   ]
  },
  {
   "cell_type": "markdown",
   "metadata": {},
   "source": [
    "### Renaming Columns\n",
    "\n",
    "We do not like some of these column names. Let's rename them.\n",
    "\n",
    "We will use a dictionary, for specifying the existing and the new names for the columns."
   ]
  },
  {
   "cell_type": "code",
   "execution_count": null,
   "metadata": {},
   "outputs": [],
   "source": [
    "# This dictionary specifies as a key the existing name of the column, and as value the new name\n",
    "renaming_dict = {\n",
    "    ':id': 'key', \n",
    "    ':created_at': 'created_at', \n",
    "    ':updated_at': 'updated_at'\n",
    "}\n",
    "\n",
    "df.rename(columns=renaming_dict, inplace=True)\n",
    "df"
   ]
  },
  {
   "cell_type": "markdown",
   "metadata": {},
   "source": [
    "### Converting Data Types"
   ]
  },
  {
   "cell_type": "code",
   "execution_count": null,
   "metadata": {},
   "outputs": [],
   "source": [
    "df.dtypes"
   ]
  },
  {
   "cell_type": "code",
   "execution_count": null,
   "metadata": {},
   "outputs": [],
   "source": [
    "# Let's convert to the right data types the year,count,percent\n",
    "df[\"year\"] = pd.to_numeric(df[\"year\"])\n",
    "df.dtypes"
   ]
  },
  {
   "cell_type": "markdown",
   "metadata": {},
   "source": [
    "Sometimes, during the conversion of data, the cells contain values that cannot be properly converted. We can specify how we want pandas to handle such cases. By default, it will raise an exception, and will not allow us to convert the data to a new data type."
   ]
  },
  {
   "cell_type": "code",
   "execution_count": null,
   "metadata": {},
   "outputs": [],
   "source": [
    "# This one will cause an error, as the \"deaths\" column contains non-numeric values.\n",
    "# Try by uncommenting\n",
    "# df[\"deaths\"] = pd.to_numeric(df[\"deaths\"])"
   ]
  },
  {
   "cell_type": "markdown",
   "metadata": {},
   "source": [
    "We can pass the `errors` command to specify what should happen. From the [documentation of to_numeric](http://pandas.pydata.org/pandas-docs/stable/generated/pandas.to_numeric.html), we get:\n",
    "* If ‘raise’, then invalid parsing will raise an exception\n",
    "* If ‘coerce’, then invalid parsing will be set as NaN\n",
    "* If ‘ignore’, then invalid parsing will return the input"
   ]
  },
  {
   "cell_type": "code",
   "execution_count": null,
   "metadata": {},
   "outputs": [],
   "source": [
    "df[\"deaths\"] = pd.to_numeric(df[\"deaths\"], errors='coerce')\n",
    "df[\"death_rate\"] = pd.to_numeric(df[\"death_rate\"], errors='coerce')\n",
    "df[\"age_adjusted_death_rate\"] = pd.to_numeric(df[\"age_adjusted_death_rate\"], errors='coerce')\n",
    "df.dtypes"
   ]
  },
  {
   "cell_type": "code",
   "execution_count": null,
   "metadata": {},
   "outputs": [],
   "source": [
    "df"
   ]
  },
  {
   "cell_type": "markdown",
   "metadata": {},
   "source": [
    "We will also mark the other values as Categorical."
   ]
  },
  {
   "cell_type": "code",
   "execution_count": null,
   "metadata": {},
   "outputs": [],
   "source": [
    "df[\"sex\"] = pd.Categorical(df[\"sex\"])\n",
    "df[\"race_ethnicity\"] = pd.Categorical(df[\"race_ethnicity\"])\n",
    "df[\"leading_cause\"] = pd.Categorical(df[\"leading_cause\"])\n",
    "df.dtypes"
   ]
  },
  {
   "cell_type": "markdown",
   "metadata": {},
   "source": [
    "And we will also convert the timestamps to dates. Notice that we specify the unit to be `s` which is seconds since 1970."
   ]
  },
  {
   "cell_type": "code",
   "execution_count": null,
   "metadata": {},
   "outputs": [],
   "source": [
    "df[\"created_at\"] = pd.to_datetime(df[\"created_at\"], unit='s')\n",
    "df[\"updated_at\"] = pd.to_datetime(df[\"updated_at\"], unit='s')\n",
    "df.dtypes"
   ]
  },
  {
   "cell_type": "code",
   "execution_count": null,
   "metadata": {},
   "outputs": [],
   "source": [
    "df"
   ]
  },
  {
   "cell_type": "markdown",
   "metadata": {},
   "source": [
    "### Exploratory Data Analysis"
   ]
  },
  {
   "cell_type": "code",
   "execution_count": null,
   "metadata": {},
   "outputs": [],
   "source": [
    "df[\"race_ethnicity\"].value_counts()"
   ]
  },
  {
   "cell_type": "code",
   "execution_count": null,
   "metadata": {},
   "outputs": [],
   "source": [
    "df[\"sex\"].value_counts()"
   ]
  },
  {
   "cell_type": "code",
   "execution_count": null,
   "metadata": {},
   "outputs": [],
   "source": [
    "df[\"leading_cause\"].value_counts()"
   ]
  },
  {
   "cell_type": "markdown",
   "metadata": {},
   "source": [
    "### Pivot Tables\n",
    "\n",
    "Let's create a pivot table now. We are going to put the \"leading cause\" as the row, with sex and race as columns. For the cell values we will use the number of deaths, and we are going to sum (`np.sum`) the values.\n",
    "\n",
    "_Note: You will also find the `pivot` and `crosstab` functions in Pandas. The `pivot_table` function is typically a more general version of both._"
   ]
  },
  {
   "cell_type": "code",
   "execution_count": null,
   "metadata": {},
   "outputs": [],
   "source": [
    "\n",
    "import numpy as np\n",
    "pivot = pd.pivot_table(df, \n",
    "                       values='deaths', \n",
    "                       index=['leading_cause'], # rows\n",
    "                       columns=['sex', 'race_ethnicity'], # columns\n",
    "                       aggfunc=np.mean) # aggregation function\n",
    "pivot"
   ]
  },
  {
   "cell_type": "markdown",
   "metadata": {},
   "source": [
    "And we can easily transpose the dataframe"
   ]
  },
  {
   "cell_type": "code",
   "execution_count": null,
   "metadata": {},
   "outputs": [],
   "source": [
    "pivot.transpose()\n",
    "# alternatively\n",
    "# pivot.T"
   ]
  },
  {
   "cell_type": "code",
   "execution_count": null,
   "metadata": {},
   "outputs": [],
   "source": [
    "# And we can of course, plot:\n",
    "pivot.transpose()[\"Diseases of Heart (I00-I09, I11, I13, I20-I51)\"].plot.bar()"
   ]
  },
  {
   "cell_type": "markdown",
   "metadata": {},
   "source": [
    "#### Exercises\n",
    "\n",
    "* Write a function that will change the values for the \"leading cause\" column, and make them shorter. For example, we want to eliminate the codes within the parentheses; the value \"Alzheimer's Disease (G30)\" should become \"Alzheimer's Disease\". Use the `apply` function and/or the `map` function to create a new column with the shortened values. Then use the `drop` command to delete the old `leading_cause` column. \n",
    "* Change the pivot_table to compute the average `age_adjusted_death_rate` instead of the sum of deaths. (Hint: you can use the `numpy.mean` function to compute averages."
   ]
  },
  {
   "cell_type": "code",
   "execution_count": null,
   "metadata": {},
   "outputs": [],
   "source": [
    "# Example input: \n",
    "# 'Accidents Except Drug Posioning (V01-X39, X43, X45-X59, Y85-Y86)\n",
    "# Example output\n",
    "# 'Accidents Except Drug Posioning'\n",
    "import re\n",
    "\n",
    "def shorten(cause):\n",
    "    # Get everything before the parentheses\n",
    "    regex_expression = r'(.*)\\(.*\\)' # notice that we escape the parentheses\n",
    "    regex= re.compile(regex_expression)\n",
    "    matches = regex.finditer(cause)\n",
    "    for m in matches:\n",
    "        return m.group(1).strip()[:30]\n",
    "    return cause[:30]\n",
    "\n",
    "shorten('Accidents Except Drug Posioning (V01-X39, X43, X45-X59, Y85-Y86)')"
   ]
  },
  {
   "cell_type": "code",
   "execution_count": null,
   "metadata": {},
   "outputs": [],
   "source": [
    "[shorten(cause) for cause in set(df['leading_cause'].values)]"
   ]
  },
  {
   "cell_type": "code",
   "execution_count": null,
   "metadata": {},
   "outputs": [],
   "source": [
    "df[\"cause\"] = df[\"leading_cause\"].apply(shorten)\n",
    "df"
   ]
  },
  {
   "cell_type": "code",
   "execution_count": null,
   "metadata": {},
   "outputs": [],
   "source": [
    "\n",
    "import numpy as np\n",
    "pivot = pd.pivot_table(df, \n",
    "                       values='deaths', \n",
    "                       index=['cause'], # rows\n",
    "                       columns=['sex', 'race_ethnicity'], # columns\n",
    "                       aggfunc=np.mean) # aggregation function\n",
    "pivot"
   ]
  },
  {
   "cell_type": "markdown",
   "metadata": {},
   "source": [
    "#### Exercise\n",
    "\n",
    "* Get a new dataset from NYC Open Data. (Go for something small.) Fetch it and load it into a dataframe. Put the right column names into the dataframe, eliminate columns and rows that you do not need. Create a basic plot that summarizes some aspect of the dataset."
   ]
  },
  {
   "cell_type": "code",
   "execution_count": null,
   "metadata": {},
   "outputs": [],
   "source": []
  }
 ],
 "metadata": {
  "kernelspec": {
   "display_name": "Python 3",
   "language": "python",
   "name": "python3"
  },
  "language_info": {
   "codemirror_mode": {
    "name": "ipython",
    "version": 3
   },
   "file_extension": ".py",
   "mimetype": "text/x-python",
   "name": "python",
   "nbconvert_exporter": "python",
   "pygments_lexer": "ipython3",
   "version": "3.5.2"
  }
 },
 "nbformat": 4,
 "nbformat_minor": 1
}
