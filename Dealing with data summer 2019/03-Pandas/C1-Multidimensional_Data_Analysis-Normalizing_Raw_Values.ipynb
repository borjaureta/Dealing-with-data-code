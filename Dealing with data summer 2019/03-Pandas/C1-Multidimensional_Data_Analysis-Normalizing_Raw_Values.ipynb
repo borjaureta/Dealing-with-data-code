{
 "cells": [
  {
   "cell_type": "markdown",
   "metadata": {},
   "source": [
    "# Multidimensional data analysis"
   ]
  },
  {
   "cell_type": "code",
   "execution_count": null,
   "metadata": {},
   "outputs": [],
   "source": [
    "%matplotlib inline\n",
    "%config InlineBackend.figure_format = 'retina'\n",
    "\n",
    "import pandas as pd\n",
    "import matplotlib\n",
    "import matplotlib.pyplot as plt\n",
    "from sqlalchemy import create_engine\n",
    "\n",
    "# Make the graphs a bit prettier, and bigger\n",
    "matplotlib.style.use(['seaborn-talk', 'seaborn-ticks', 'seaborn-whitegrid'])\n",
    "plt.rcParams['figure.figsize'] = (15, 7)"
   ]
  },
  {
   "cell_type": "code",
   "execution_count": null,
   "metadata": {},
   "outputs": [],
   "source": [
    "conn_string_fb = 'mysql://{user}:{password}@{host}:{port}/{db}'.format(\n",
    "    user='student',\n",
    "    password='dwdstudent2015',\n",
    "    host='db.ipeirotis.org',\n",
    "    port=3306,\n",
    "    db='facebook')\n",
    "engine_fb = create_engine(conn_string_fb)"
   ]
  },
  {
   "cell_type": "markdown",
   "metadata": {},
   "source": [
    "## Multidimesnional data analysis: From raw counts to percentages"
   ]
  },
  {
   "cell_type": "markdown",
   "metadata": {},
   "source": [
    "Now let's run a query to get the political views of Facebook users, broken down by gender."
   ]
  },
  {
   "cell_type": "code",
   "execution_count": null,
   "metadata": {},
   "outputs": [],
   "source": [
    "polviews_by_gender = '''\n",
    "SELECT Sex, PoliticalViews, COUNT(*) AS cnt \n",
    "FROM Profiles \n",
    "WHERE Sex IS NOT NULL AND PoliticalViews IS NOT NULL \n",
    "GROUP BY Sex, PoliticalViews\n",
    "ORDER BY  PoliticalViews, Sex\n",
    "'''"
   ]
  },
  {
   "cell_type": "markdown",
   "metadata": {},
   "source": [
    "And let's get the dataframe:"
   ]
  },
  {
   "cell_type": "code",
   "execution_count": null,
   "metadata": {},
   "outputs": [],
   "source": [
    "df = pd.read_sql(polviews_by_gender, con=engine_fb)\n",
    "df"
   ]
  },
  {
   "cell_type": "code",
   "execution_count": null,
   "metadata": {},
   "outputs": [],
   "source": [
    "df.dtypes"
   ]
  },
  {
   "cell_type": "code",
   "execution_count": null,
   "metadata": {},
   "outputs": [],
   "source": [
    "# Let's plot this!\n",
    "# Bleh, this is ugly...\n",
    "# Remember that the index of the dataframe becomes the default x-axis\n",
    "df.plot(kind='bar')"
   ]
  },
  {
   "cell_type": "code",
   "execution_count": null,
   "metadata": {},
   "outputs": [],
   "source": [
    "# Pivot, baby!\n",
    "# Now the index contains the Political Views, which will be our x-axis\n",
    "dfp = pd.pivot_table(\n",
    "    data = df, \n",
    "    index='PoliticalViews', \n",
    "    columns='Sex', \n",
    "    values='cnt', \n",
    "    aggfunc='sum'\n",
    ")\n",
    "dfp"
   ]
  },
  {
   "cell_type": "markdown",
   "metadata": {},
   "source": [
    "We will now convert the PoliticalViews column into an **ordered Categorical variable**. This is not strictly necessary, but it will be useful later.\n",
    " It ensures that Political Views appear in an order according to their political spectrum, as opposed to alphabetical."
   ]
  },
  {
   "cell_type": "code",
   "execution_count": null,
   "metadata": {},
   "outputs": [],
   "source": [
    "df.PoliticalViews = pd.Categorical(df.PoliticalViews,\n",
    "    categories = ['Very Liberal', 'Liberal', 'Moderate', 'Conservative', 'Very Conservative', 'Libertarian', 'Apathetic', 'Other'], \n",
    "    ordered=True\n",
    ")\n",
    "\n",
    "dfp = pd.pivot_table(data = df, index='PoliticalViews', columns='Sex', values='cnt', aggfunc='sum')\n",
    "dfp"
   ]
  },
  {
   "cell_type": "code",
   "execution_count": null,
   "metadata": {},
   "outputs": [],
   "source": [
    "dfp.plot(kind='bar')"
   ]
  },
  {
   "cell_type": "markdown",
   "metadata": {},
   "source": [
    "## Normalizing values: From raw counts to percentages\n",
    "\n",
    "Now, let's see a bit how we can normalize the values in Pandas, by performing operations on the columns and rows."
   ]
  },
  {
   "cell_type": "code",
   "execution_count": null,
   "metadata": {},
   "outputs": [],
   "source": [
    "dfp"
   ]
  },
  {
   "cell_type": "code",
   "execution_count": null,
   "metadata": {},
   "outputs": [],
   "source": [
    "# the .T is a shortcut for .transpose()\n",
    "# and returns the transposed table\n",
    "dfp.T"
   ]
  },
  {
   "cell_type": "code",
   "execution_count": null,
   "metadata": {},
   "outputs": [],
   "source": [
    "# sums the columns\n",
    "dfp.sum() \n",
    "\n",
    "# Equivalent commands:\n",
    "# dfp.sum(axis='index')  # summing 'across the index'\n",
    "# dfp.sum(axis=0)        # axis=0 is equivalent to summing axis='index'"
   ]
  },
  {
   "cell_type": "code",
   "execution_count": null,
   "metadata": {},
   "outputs": [],
   "source": [
    "# Summing the transpose is same as \n",
    "# summing the rows of the original\n",
    "dfp.T.sum()\n",
    "\n",
    "# Equivalent commands\n",
    "# dfp.sum(axis='columns') \n",
    "# dfp.sum(axis=1)"
   ]
  },
  {
   "cell_type": "code",
   "execution_count": null,
   "metadata": {},
   "outputs": [],
   "source": [
    "# Let's normalize the columns, as we have more females than males, and it seems that there are always more women\n",
    "dfp_norm = dfp / dfp.sum()\n",
    "# Columns (ie Sex) sum up to 1\n",
    "dfp_norm"
   ]
  },
  {
   "cell_type": "code",
   "execution_count": null,
   "metadata": {},
   "outputs": [],
   "source": [
    "# Instead of dfp / dfp.sum(), we can also use the .div() method, for dividing the entries with the sum()\n",
    "# Note that, by definition, the dfp / dfp.sum() operation divides  column-wise, not row-wise.\n",
    "# dfp_norm = dfp.div( dfp.sum(), axis='columns' )\n",
    "# dfp_norm"
   ]
  },
  {
   "cell_type": "code",
   "execution_count": null,
   "metadata": {},
   "outputs": [],
   "source": [
    "dfp_norm.plot(kind='bar')"
   ]
  },
  {
   "cell_type": "code",
   "execution_count": null,
   "metadata": {},
   "outputs": [],
   "source": [
    "# We will now normalize across the rows\n",
    "dfp_norm2 = dfp.T / dfp.T.sum()\n",
    "dfp_norm2.T"
   ]
  },
  {
   "cell_type": "code",
   "execution_count": null,
   "metadata": {},
   "outputs": [],
   "source": [
    "# Same operation as above, but with the .div() function\n",
    "# to find the fraction of males/females within each political category\n",
    "# dfp_norm2 = dfp.div( dfp.sum(axis='columns'), axis='index' )\n",
    "# dfp_norm2"
   ]
  },
  {
   "cell_type": "code",
   "execution_count": null,
   "metadata": {},
   "outputs": [],
   "source": [
    "dfp_norm2.plot(kind='bar', rot=45)"
   ]
  },
  {
   "cell_type": "code",
   "execution_count": null,
   "metadata": {},
   "outputs": [],
   "source": [
    "dfp_norm2.T.plot(kind='bar', stacked=True, rot=45)"
   ]
  },
  {
   "cell_type": "markdown",
   "metadata": {},
   "source": [
    "## Exercise on Normalizing Values\n",
    "\n",
    "a. Use the tables `RelationshipStatus` and `LookingFor`, and show create a plot with a breakdown of what people in different relationship statuses are looking for. To make things more readable (and to practice a bit SQL), remove from the output all combinations that have less than 10 students in them. The plot can use the absolute counts.\n",
    " "
   ]
  },
  {
   "cell_type": "markdown",
   "metadata": {},
   "source": [
    "\n",
    "b. Normalize the results and plot again. To get experience with normalization, try to normalize both by Status (eg \"80% of the people who are in a relationship are looking for Friendship\") and by Relationship Status (eg \"70% of the people who are looking for Random Play are Single\")."
   ]
  },
  {
   "cell_type": "code",
   "execution_count": null,
   "metadata": {},
   "outputs": [],
   "source": []
  },
  {
   "cell_type": "markdown",
   "metadata": {
    "solution2": "hidden",
    "solution2_first": true
   },
   "source": [
    "### Solution (Part a)"
   ]
  },
  {
   "cell_type": "code",
   "execution_count": null,
   "metadata": {
    "solution2": "hidden"
   },
   "outputs": [],
   "source": [
    "query = '''\n",
    "SELECT R.Status, L.LookingFor, COUNT(*) AS cnt\n",
    "FROM Relationship R INNER JOIN LookingFor L ON R.ProfileID = L.ProfileID\n",
    "GROUP BY R.Status, L.LookingFor\n",
    "HAVING cnt>10\n",
    "'''\n",
    "df = pd.read_sql(query, con=engine_fb)\n",
    "df"
   ]
  },
  {
   "cell_type": "code",
   "execution_count": null,
   "metadata": {
    "solution2": "hidden"
   },
   "outputs": [],
   "source": [
    "pivot = df.pivot_table(\n",
    "    index='Status',\n",
    "    columns='LookingFor',\n",
    "    values='cnt'\n",
    ")\n",
    "pivot"
   ]
  },
  {
   "cell_type": "code",
   "execution_count": null,
   "metadata": {
    "solution2": "hidden"
   },
   "outputs": [],
   "source": [
    "# Raw numbers, by relationship status\n",
    "pivot.plot(kind='barh', figsize=(10,5))"
   ]
  },
  {
   "cell_type": "code",
   "execution_count": null,
   "metadata": {
    "solution2": "hidden"
   },
   "outputs": [],
   "source": [
    "# Raw numbers, by looking for (taking the transpose)\n",
    "pivot.T.plot(kind='barh', figsize=(10,5))"
   ]
  },
  {
   "cell_type": "code",
   "execution_count": null,
   "metadata": {
    "solution2": "hidden"
   },
   "outputs": [],
   "source": []
  },
  {
   "cell_type": "code",
   "execution_count": null,
   "metadata": {
    "solution2": "hidden"
   },
   "outputs": [],
   "source": [
    "# Every column (LookingFor) sums up to 1\n",
    "normed1 = pivot / pivot.sum()\n",
    "normed1"
   ]
  },
  {
   "cell_type": "code",
   "execution_count": null,
   "metadata": {
    "solution2": "hidden"
   },
   "outputs": [],
   "source": [
    "# For every LookingFor value, show the breakdown among relationship statuses\n",
    "normed1.T.plot.barh()"
   ]
  },
  {
   "cell_type": "code",
   "execution_count": null,
   "metadata": {
    "solution2": "hidden"
   },
   "outputs": [],
   "source": [
    "# Every column (Status) sums up to 1\n",
    "normed2 = (pivot.T / pivot.T.sum())\n",
    "normed2"
   ]
  },
  {
   "cell_type": "code",
   "execution_count": null,
   "metadata": {
    "solution2": "hidden"
   },
   "outputs": [],
   "source": [
    "# For every relationship status, show the breakdown among \"LookingFor\" values\n",
    "normed2.T.plot.barh()"
   ]
  },
  {
   "cell_type": "code",
   "execution_count": null,
   "metadata": {},
   "outputs": [],
   "source": []
  }
 ],
 "metadata": {
  "kernelspec": {
   "display_name": "Python 3",
   "language": "python",
   "name": "python3"
  },
  "language_info": {
   "codemirror_mode": {
    "name": "ipython",
    "version": 3
   },
   "file_extension": ".py",
   "mimetype": "text/x-python",
   "name": "python",
   "nbconvert_exporter": "python",
   "pygments_lexer": "ipython3",
   "version": "3.6.7"
  }
 },
 "nbformat": 4,
 "nbformat_minor": 1
}
