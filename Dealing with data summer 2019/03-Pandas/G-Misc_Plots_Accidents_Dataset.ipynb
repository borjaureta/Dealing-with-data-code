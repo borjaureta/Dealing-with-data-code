{
 "cells": [
  {
   "cell_type": "markdown",
   "metadata": {},
   "source": [
    "We start this notebook by typing a \"magic\" command that allows iPython notebooks to display plots directly in the browser."
   ]
  },
  {
   "cell_type": "code",
   "execution_count": null,
   "metadata": {},
   "outputs": [],
   "source": [
    "# Render our plots inline\n",
    "%matplotlib inline"
   ]
  },
  {
   "cell_type": "code",
   "execution_count": null,
   "metadata": {},
   "outputs": [],
   "source": [
    "import pandas as pd\n",
    "import matplotlib\n",
    "import matplotlib.pyplot as plt\n",
    "import seaborn as sns\n",
    "import geopandas as gpd\n"
   ]
  },
  {
   "cell_type": "code",
   "execution_count": null,
   "metadata": {},
   "outputs": [],
   "source": [
    "sns.set_style(\"whitegrid\")\n",
    "sns.set(rc={'figure.figsize':(20,20)})\n",
    "matplotlib.style.use(['seaborn-talk', 'seaborn-ticks'])"
   ]
  },
  {
   "cell_type": "markdown",
   "metadata": {},
   "source": [
    "### Using plotting for data analysis\n",
    "\n",
    "We finished our earlier notebook by analyzing the [NYPD Vehicle Collissions](https://data.cityofnewyork.us/Public-Safety/NYPD-Motor-Vehicle-Collisions/h9gi-nx95/data) data set. We continue our analysis now, focusing on plotting.\n"
   ]
  },
  {
   "cell_type": "markdown",
   "metadata": {},
   "source": [
    "Just in case you do not have the dataset, you can run the command below, to download the latest version:"
   ]
  },
  {
   "cell_type": "code",
   "execution_count": null,
   "metadata": {},
   "outputs": [],
   "source": [
    "# !curl 'https://data.cityofnewyork.us/api/views/h9gi-nx95/rows.csv?accessType=DOWNLOAD' -o accidents.csv"
   ]
  },
  {
   "cell_type": "markdown",
   "metadata": {},
   "source": [
    "Now let's load the dataset."
   ]
  },
  {
   "cell_type": "code",
   "execution_count": null,
   "metadata": {},
   "outputs": [],
   "source": [
    "import pandas as pd\n",
    "df = pd.read_csv(\"accidents.csv\", parse_dates = True, infer_datetime_format = True, low_memory=False)"
   ]
  },
  {
   "cell_type": "markdown",
   "metadata": {},
   "source": [
    "And check the datatypes to see if there is something that needs to be coverted."
   ]
  },
  {
   "cell_type": "code",
   "execution_count": null,
   "metadata": {},
   "outputs": [],
   "source": [
    "df.dtypes"
   ]
  },
  {
   "cell_type": "code",
   "execution_count": null,
   "metadata": {},
   "outputs": [],
   "source": [
    "df['DATETIME'] = df.DATE + ' ' + df.TIME"
   ]
  },
  {
   "cell_type": "code",
   "execution_count": null,
   "metadata": {},
   "outputs": [],
   "source": [
    "df.DATETIME = pd.to_datetime(df.DATETIME, format=\"%m/%d/%Y %H:%M\")"
   ]
  },
  {
   "cell_type": "code",
   "execution_count": null,
   "metadata": {},
   "outputs": [],
   "source": [
    "df.TIME = pd.to_datetime(df.TIME, format=\"%H:%M\")"
   ]
  },
  {
   "cell_type": "code",
   "execution_count": null,
   "metadata": {},
   "outputs": [],
   "source": [
    "df.DATE = pd.to_datetime(df.DATE, format=\"%m/%d/%Y\")"
   ]
  },
  {
   "cell_type": "markdown",
   "metadata": {},
   "source": [
    "### Dealing with overplotting\n",
    "\n",
    "In our last exercise, we finished by creating a scatterplot of the accidents."
   ]
  },
  {
   "cell_type": "code",
   "execution_count": null,
   "metadata": {},
   "outputs": [],
   "source": [
    "df.plot (\n",
    "    kind='scatter',\n",
    "    x = 'LONGITUDE',\n",
    "    y = 'LATITUDE'\n",
    ")"
   ]
  },
  {
   "cell_type": "markdown",
   "metadata": {},
   "source": [
    "Unfortunately, there were cases in the dataset where longitude and latitude were incorrect. Therefore, we create a selection condition to keep only the entries that are valid. We often call such conditions as **masks**."
   ]
  },
  {
   "cell_type": "code",
   "execution_count": null,
   "metadata": {},
   "outputs": [],
   "source": [
    "clean_mask = (df.LATITUDE > 40) & (df.LATITUDE < 41) & (df.LONGITUDE < -72) & (df.LONGITUDE > -74.5)\n",
    "cleandf = df[ clean_mask ]"
   ]
  },
  {
   "cell_type": "markdown",
   "metadata": {},
   "source": [
    "Now we created the new dataframe `cleandf` and we plot again:"
   ]
  },
  {
   "cell_type": "code",
   "execution_count": null,
   "metadata": {},
   "outputs": [],
   "source": [
    "cleandf.plot (\n",
    "    kind='scatter',\n",
    "    x = 'LONGITUDE',\n",
    "    y = 'LATITUDE'\n",
    ")"
   ]
  },
  {
   "cell_type": "markdown",
   "metadata": {},
   "source": [
    "We start seeing the shape of NYC now. Let's make the plot a bit bigger, using the `figsize = (20,15)` option, asking the size of the figure to have length 20 on the x axis and 15 on the y axis."
   ]
  },
  {
   "cell_type": "code",
   "execution_count": null,
   "metadata": {},
   "outputs": [],
   "source": [
    "cleandf.plot (\n",
    "    kind='scatter',\n",
    "    x = 'LONGITUDE',\n",
    "    y = 'LATITUDE',\n",
    "    figsize = (20,15)\n",
    ")"
   ]
  },
  {
   "cell_type": "markdown",
   "metadata": {},
   "source": [
    "### Addressing Overplotting\n",
    "\n",
    "The picture above is showing us that accidents happen in all places in NYC, except maybe some areas of Staten Island. But we have so many data points (~1 million), that we cannot tell anything more beyond that. This is called **overplotting**. The issue becomes increasingly common with the emergence of even medium-sized datasets, such as this one.\n",
    "\n",
    "Below, we are doing to examine a set of techniques for addressing the issue."
   ]
  },
  {
   "cell_type": "markdown",
   "metadata": {},
   "source": [
    "##### Sampling\n",
    "\n",
    "One solution, that is commonly used when we have too many data points, is to simply take a subset of the data. Below, by keeping just 1% of the dataset, we can get a feeling of the density if the accidents in Manhattan, especially around midtown."
   ]
  },
  {
   "cell_type": "code",
   "execution_count": null,
   "metadata": {},
   "outputs": [],
   "source": [
    "# We can either specify the number of data points, \n",
    "# or the percentage of the dataset that we want to keep.\n",
    "\n",
    "# Keep 10,000 data points\n",
    "# sample = cleandf.sample(n=10000)\n",
    "\n",
    "# Keep 1% of the dataset\n",
    "sample = cleandf.sample(frac=0.01)\n",
    "\n",
    "sample.plot (\n",
    "    kind='scatter',\n",
    "    x = 'LONGITUDE',\n",
    "    y = 'LATITUDE',\n",
    "    figsize = (20,15)\n",
    ")"
   ]
  },
  {
   "cell_type": "markdown",
   "metadata": {},
   "source": [
    "#### Changing marker size\n",
    "\n",
    "Another technique that we can use is to reduce the market size. By default, in Pandas, the marker size for scatterplots is 5 pixels. We can reduce it to 1 pixel by setting `s=1`, or even smaller, eg., `s=0.5`. With this setting, we start seeting that there is a higher density of accidents among major highways. "
   ]
  },
  {
   "cell_type": "code",
   "execution_count": null,
   "metadata": {},
   "outputs": [],
   "source": [
    "cleandf.plot (\n",
    "    kind='scatter',\n",
    "    x = 'LONGITUDE',\n",
    "    y = 'LATITUDE',\n",
    "    figsize = (20, 15),\n",
    "    s = 0.5\n",
    ")"
   ]
  },
  {
   "cell_type": "markdown",
   "metadata": {},
   "source": [
    "#### Changing Marker Transparency\n",
    "\n",
    "Another common technique is to change the  transparency of the  markers. Using semi-transparent markers we can then optically separate areas where there are many points (the area will still look densely plotted), from areas where there are only a few markers. We can set the transparency using the `alpha` parameter. Setting `alpha=1` means no transparency, while `alpha=0` is full transparency."
   ]
  },
  {
   "cell_type": "code",
   "execution_count": null,
   "metadata": {},
   "outputs": [],
   "source": [
    "cleandf.plot (\n",
    "    kind='scatter',\n",
    "    x = 'LONGITUDE',\n",
    "    y = 'LATITUDE',\n",
    "    figsize = (20, 15),\n",
    "    s = 0.5,\n",
    "    alpha = 0.2\n",
    ")"
   ]
  },
  {
   "cell_type": "markdown",
   "metadata": {},
   "source": [
    "#### Creating 2d histograms, density plots, and contour plots\n",
    "\n",
    "In the picture above, we can visually see that Manhattan, especially eastern midtown, and the area downtown near the entrance to the bridges, has a higher density. We can actually directly histograms and density plots on 2-dimensions.\n",
    "\n",
    "##### Hexagonal bin plot\n",
    "\n",
    "The hexbin plot created a 2-d histogram, where the color signals the number of points within a particular area. The `gridsize` parameter chooses the size of each bin. Higher values offer higher granularity, but very high values tend to create sparsity, when we do not have enough data points."
   ]
  },
  {
   "cell_type": "code",
   "execution_count": null,
   "metadata": {},
   "outputs": [],
   "source": [
    "# Hexbin plot\n",
    "cleandf.plot(\n",
    "    kind='hexbin',\n",
    "    x='LONGITUDE', \n",
    "    y='LATITUDE', \n",
    "    gridsize=50, \n",
    "    cmap=plt.cm.Blues,\n",
    "    figsize = (20, 15)\n",
    ")"
   ]
  },
  {
   "cell_type": "markdown",
   "metadata": {},
   "source": [
    "##### 2d density  and contour plots\n",
    "\n",
    "An alternative to the hexbin plots is to use density plots in two dimensions."
   ]
  },
  {
   "cell_type": "code",
   "execution_count": null,
   "metadata": {},
   "outputs": [],
   "source": [
    "# Basic 2D density plot\n",
    "plt.subplots(figsize=(20,15))\n",
    "\n",
    "# We take a sample, because density plots take a long time to compute\n",
    "# and a sample is typically as good as the full dataset\n",
    "sample = cleandf.sample(10000)\n",
    "\n",
    "sns.kdeplot(sample.LONGITUDE, sample.LATITUDE, \n",
    "            gridsize=100, # controls the resolution\n",
    "            cmap=plt.cm.Blues,  # color scheme\n",
    "            shade=True, # whether to have a density plot (True), or just the contours (False)\n",
    "            alpha = 0.5,\n",
    "            shade_lowest=False, \n",
    "            n_levels=20 # How many contours/levels to have\n",
    ")"
   ]
  },
  {
   "cell_type": "code",
   "execution_count": null,
   "metadata": {},
   "outputs": [],
   "source": [
    "# Basic 2D contour plot\n",
    "plt.subplots(figsize=(20,15))\n",
    "\n",
    "# We take a sample, because density plots take a long time to compute\n",
    "# and a sample is typically as good as the full dataset\n",
    "sample = cleandf.sample(10000)\n",
    "\n",
    "sns.kdeplot(sample.LONGITUDE, sample.LATITUDE, \n",
    "            gridsize=100,\n",
    "            cmap=plt.cm.Blues, \n",
    "            shade=False, \n",
    "            shade_lowest=False, \n",
    "            n_levels=15\n",
    ")"
   ]
  },
  {
   "cell_type": "markdown",
   "metadata": {},
   "source": [
    "#### Combining plots\n",
    "\n",
    "So far, we examined how to create individual plots. We can even combine multiple plots together, using the `ax` parameter. (Historically, `ax` is the term used in MATLAB to refer to an individual plot.) So, let's say that we want to combine the scatter plots with the contour plot above:"
   ]
  },
  {
   "cell_type": "code",
   "execution_count": null,
   "metadata": {},
   "outputs": [],
   "source": [
    "scatterplot = cleandf.plot (\n",
    "    kind='scatter',\n",
    "    x = 'LONGITUDE',\n",
    "    y = 'LATITUDE',\n",
    "    figsize = (20, 15),\n",
    "    s = 0.5,\n",
    "    alpha = 0.1\n",
    ")\n",
    "\n",
    "sample = cleandf.sample(10000)\n",
    "\n",
    "sns.kdeplot(sample.LONGITUDE, sample.LATITUDE, \n",
    "            gridsize=200,\n",
    "            cmap=plt.cm.Reds, \n",
    "            shade=False, \n",
    "            shade_lowest=False, \n",
    "            n_levels=15,\n",
    "            ax = scatterplot\n",
    ")"
   ]
  },
  {
   "cell_type": "markdown",
   "metadata": {},
   "source": [
    "#### Adding Geographic Boundaries\n",
    "\n",
    "When dealing with spatial data, it is often useful to be able to add geographical details in our analysis. While we will not go in details here about the analysis of spatial data, let me mention the concept of **shapefiles**. Shapefiles are files that describe boundaries of geographical areas. Once we have a shapefile, we can then generate various spatial analyses but we will leave that discussion for another session. For now we will simply examine how to add some geographical detail in our plot.\n",
    "\n",
    "The first step is to identify a shapefile for NYC. From the NYC Open data, we can get a shapefile of the NYC neighborhoods:"
   ]
  },
  {
   "cell_type": "code",
   "execution_count": null,
   "metadata": {},
   "outputs": [],
   "source": [
    "# Dataset from NYC Open Data: https://data.cityofnewyork.us/City-Government/Neighborhood-Tabulation-Areas/cpf4-rkhq\n",
    "!curl 'https://data.cityofnewyork.us/api/geospatial/cpf4-rkhq?method=export&format=GeoJSON' -o nyc-neighborhoods.geojson"
   ]
  },
  {
   "cell_type": "markdown",
   "metadata": {},
   "source": [
    "We can then use _GeoPandas_ to load the *geojson* file into Python:"
   ]
  },
  {
   "cell_type": "code",
   "execution_count": null,
   "metadata": {},
   "outputs": [],
   "source": [
    "df_nyc = gpd.GeoDataFrame.from_file('data/nyc-neighborhoods.geojson')"
   ]
  },
  {
   "cell_type": "markdown",
   "metadata": {},
   "source": [
    "The file contains the name of each neighborhood, some other details, and a (set of) polygons that describe the shape of each neighborhood."
   ]
  },
  {
   "cell_type": "code",
   "execution_count": null,
   "metadata": {},
   "outputs": [],
   "source": [
    "df_nyc.head()"
   ]
  },
  {
   "cell_type": "code",
   "execution_count": null,
   "metadata": {},
   "outputs": [],
   "source": [
    "We can plot the polugons, using a standard plot command:"
   ]
  },
  {
   "cell_type": "code",
   "execution_count": null,
   "metadata": {},
   "outputs": [],
   "source": [
    "df_nyc.plot(linewidth=0.5, color='White',edgecolor = 'Black', figsize = (20,15), alpha=0.5)"
   ]
  },
  {
   "cell_type": "markdown",
   "metadata": {},
   "source": [
    "Now let's combine the geo-plot with our earlier plots:"
   ]
  },
  {
   "cell_type": "code",
   "execution_count": null,
   "metadata": {},
   "outputs": [],
   "source": [
    "base = df_nyc.plot(linewidth=0.5, color='White',edgecolor = 'Black', figsize = (20,15), alpha=0.5)\n",
    "\n",
    "scatterplot = cleandf.plot(kind='scatter', \n",
    "    x = 'LONGITUDE', y = 'LATITUDE',\n",
    "    figsize = (20, 15),\n",
    "    s = 0.5, alpha = 0.1,\n",
    "    ax = base\n",
    ")\n",
    "\n",
    "sample = cleandf.sample(10000)\n",
    "sns.kdeplot(sample.LONGITUDE, sample.LATITUDE, \n",
    "            gridsize=200, n_levels=15, \n",
    "            shade=False, alpha = 0.8,\n",
    "            cmap=plt.cm.Reds,  shade_lowest=False, \n",
    "            ax = scatterplot\n",
    ")"
   ]
  },
  {
   "cell_type": "code",
   "execution_count": null,
   "metadata": {},
   "outputs": [],
   "source": [
    "# plt.subplots(figsize=(20,20))\n",
    "\n",
    "sns.lmplot( data=cleandf, \n",
    "           x=\"LONGITUDE\", y=\"LATITUDE\", \n",
    "           fit_reg=False, hue='BOROUGH', legend=False, \n",
    "           size=15, aspect=1.33, # controls the size of the figure\n",
    "           scatter_kws={\"alpha\":0.8,\"s\":1.5} )\n"
   ]
  },
  {
   "cell_type": "code",
   "execution_count": null,
   "metadata": {},
   "outputs": [],
   "source": [
    "df_bronx     = cleandf[cleandf.BOROUGH == 'BRONX']\n",
    "df_brooklyn  = cleandf[cleandf.BOROUGH == 'BROOKLYN']\n",
    "df_queens    = cleandf[cleandf.BOROUGH == 'QUEENS']\n",
    "df_manhattan = cleandf[cleandf.BOROUGH == 'MANHATTAN']\n",
    "df_staten    = cleandf[cleandf.BOROUGH == 'STATEN ISLAND']\n",
    "\n",
    "args = dict(kind='scatter',\n",
    "    x = 'LONGITUDE',\n",
    "    y = 'LATITUDE',\n",
    "    figsize = (20, 20),\n",
    "    s = 1,\n",
    "    alpha = 0.2 )\n",
    "\n",
    "plot1 = df_manhattan.plot(color='blue', **args)\n",
    "plot2 = df_bronx.plot(ax = plot1, color='red', **args)\n",
    "plot3 = df_brooklyn.plot(ax = plot2, color='green', **args)\n",
    "plot4 = df_queens.plot(ax = plot3, color='orange', **args)\n",
    "plot5 = df_staten.plot(ax = plot4, color='purple', **args)"
   ]
  },
  {
   "cell_type": "code",
   "execution_count": null,
   "metadata": {},
   "outputs": [],
   "source": [
    "# Keep the top-3 most common contributing factors for accidents\n",
    "# We skip the element at position 0, because it is \"undefined\"\n",
    "top_vehicles = cleandf['VEHICLE TYPE CODE 1'].value_counts()[:4].index.tolist()\n",
    "top_vehicles"
   ]
  },
  {
   "cell_type": "code",
   "execution_count": null,
   "metadata": {},
   "outputs": [],
   "source": [
    "mask = cleandf['VEHICLE TYPE CODE 1'].isin(top_vehicles)"
   ]
  },
  {
   "cell_type": "code",
   "execution_count": null,
   "metadata": {},
   "outputs": [],
   "source": [
    "sns.lmplot(x=\"LONGITUDE\", y=\"LATITUDE\", data=cleandf[mask],\n",
    "    col='VEHICLE TYPE CODE 1', hue=\"BOROUGH\",  fit_reg=False,\n",
    "           col_wrap=2, ci=None, palette=\"muted\", size=10, aspect = 1,\n",
    "           scatter_kws={\"s\": 1, \"alpha\": 1})"
   ]
  },
  {
   "cell_type": "code",
   "execution_count": null,
   "metadata": {},
   "outputs": [],
   "source": [
    "mask = cleandf['VEHICLE TYPE CODE 1'].isin(top_vehicles)\n",
    "sns.lmplot( x=\"LONGITUDE\", y=\"LATITUDE\", data=cleandf[mask], \n",
    "           fit_reg=False, hue='VEHICLE TYPE CODE 1', legend=False, \n",
    "           palette = \"hls\",\n",
    "           size=15, aspect=1, # control the size of the figure\n",
    "           scatter_kws={\"alpha\":0.75,\"s\":1} ) "
   ]
  },
  {
   "cell_type": "code",
   "execution_count": null,
   "metadata": {},
   "outputs": [],
   "source": [
    "\n",
    "plt.axis('equal')\n",
    "sns.kdeplot(sample.LONGITUDE, sample.LATITUDE, \n",
    "            gridsize=100,\n",
    "            cmap=plt.cm.Blues, \n",
    "            shade=True, \n",
    "            shade_lowest=False, \n",
    "            n_levels=20,\n",
    "            alpha=0.5,\n",
    "            ax = base\n",
    ")"
   ]
  },
  {
   "cell_type": "code",
   "execution_count": null,
   "metadata": {},
   "outputs": [],
   "source": [
    "# Basic 2D density plot\n",
    "plt.subplots(figsize=(20,20))\n",
    "# plt.axis('equal')\n",
    "\n",
    "cars =  cleandf[ cleandf['VEHICLE TYPE CODE 1'] == 'PASSENGER VEHICLE' ].sample(10000)\n",
    "taxis = cleandf[ cleandf['VEHICLE TYPE CODE 1'] == 'TAXI' ].sample(10000)\n",
    "\n",
    "base = df_nyc.plot(linewidth=0.5, color='White',edgecolor = 'Black', figsize = (20,20), alpha=0.5)\n",
    "carplot = sns.kdeplot(cars.LONGITUDE, cars.LATITUDE, \n",
    "            gridsize=100,\n",
    "            cmap=plt.cm.Blues, \n",
    "            shade=True, \n",
    "            alpha = 0.5,\n",
    "            shade_lowest=False, \n",
    "            n_levels=20,\n",
    "            ax = base\n",
    ")\n",
    "taxiplot = sns.kdeplot(taxis.LONGITUDE, taxis.LATITUDE, \n",
    "            gridsize=100,\n",
    "            cmap=plt.cm.Reds, \n",
    "            shade=True, \n",
    "            alpha = 0.5,\n",
    "            shade_lowest=False, \n",
    "            n_levels=20,\n",
    "            ax = base\n",
    ")\n",
    "\n",
    "taxiplot"
   ]
  },
  {
   "cell_type": "markdown",
   "metadata": {},
   "source": [
    "### Bonus plot"
   ]
  },
  {
   "cell_type": "code",
   "execution_count": null,
   "metadata": {},
   "outputs": [],
   "source": [
    "# In the code below, we create three plots\n",
    "# One with  all the accidents (in black)\n",
    "# One with all accidents that resulted in an injury (with orange)\n",
    "# One with all the accidents with deaths (with red dots) \n",
    "# Then wen combine the  plots using the \"ax\" parameter\n",
    "\n",
    "# df = pd.read_csv(\"accidents.csv\", low_memory=False)\n",
    "\n",
    "# We put conditions to keep only rows that \n",
    "# have reasonable values for LONGITUDE and LATITUDE\n",
    "# The & character is the \"AND\" in Pandas\n",
    "# the df.LATITUDE is equivalent to df['LATITUDE']\n",
    "cleandf = df[ (df.LATITUDE > 40) & (df.LATITUDE < 41) & (df.LONGITUDE < -72) & (df.LONGITUDE > -74.5) ]\n",
    "\n",
    "\n",
    "all_accidents_plot = cleandf.plot (\n",
    "    kind='scatter',\n",
    "    x = 'LONGITUDE',\n",
    "    y = 'LATITUDE',\n",
    "    figsize = (20, 20), # changes the size of the plot to be bigger and square\n",
    "    color = 'black',\n",
    "    alpha = 0.05, # makes the data points transparent (1 = opaque, 0 fully transparent)\n",
    "    s = 0.5 # make the size of the market just 0.5 pixel\n",
    ")\n",
    "\n",
    "\n",
    "injured_plot = cleandf[\n",
    "    cleandf['NUMBER OF PERSONS INJURED']>=1\n",
    "    # note that we cannot use the df.NUMBER OF PERSON INJURED notation\n",
    "    # because the attribute contains spaces.\n",
    "].plot (\n",
    "    kind='scatter',\n",
    "    x = 'LONGITUDE',\n",
    "    y = 'LATITUDE',\n",
    "    figsize = (20, 20), # changes the size of the plot to be bigger and square\n",
    "    alpha = 0.1, # makes the data points transparent (1 = opaque, 0 fully transparent)\n",
    "    color = 'orange',\n",
    "    ax = all_accidents_plot, # the ax parameter allows us to combine plots\n",
    "    s = 1 # make the size of the market just 1 pixel\n",
    ")\n",
    "\n",
    "cleandf[\n",
    "    cleandf['NUMBER OF PERSONS KILLED']>=1 # we want only accidents with at least one death\n",
    "    # note that we cannot use the df.NUMBER OF PERSON KILLED notation\n",
    "    # because the attribute contains spaces.\n",
    "].plot (\n",
    "    kind='scatter',\n",
    "    x = 'LONGITUDE',\n",
    "    y = 'LATITUDE',\n",
    "    figsize = (20, 20), # changes the size of the plot to be bigger and square\n",
    "    alpha = 0.85, # makes the data points transparent (1 = opaque, 0 fully transparent)\n",
    "    s = 5, # make the size of the market just 1 pixel\n",
    "    color = 'red',\n",
    "    ax = injured_plot # the ax parameter allows us to combine plots\n",
    ")"
   ]
  },
  {
   "cell_type": "code",
   "execution_count": null,
   "metadata": {},
   "outputs": [],
   "source": [
    "import numpy as np\n",
    "import matplotlib.pyplot as plt\n",
    "from scipy.stats import kde\n"
   ]
  },
  {
   "cell_type": "code",
   "execution_count": null,
   "metadata": {},
   "outputs": [],
   "source": [
    "from scipy.stats import kde\n",
    "\n",
    "cleandf = df[ (df.LATITUDE > 40) & (df.LATITUDE < 41) & (df.LONGITUDE < -72) & (df.LONGITUDE > -74.5) ]\n",
    "x, y = cleandf.as_matrix(columns=['LONGITUDE', 'LATITUDE']).T"
   ]
  },
  {
   "cell_type": "code",
   "execution_count": null,
   "metadata": {},
   "outputs": [],
   "source": [
    "# Create a figure with 6 plot areas\n",
    "fig, axes = plt.subplots(ncols=2, nrows=1, figsize=(20, 10))\n",
    "nbins = 30\n",
    "\n",
    "data = cleandf.as_matrix(columns=['LONGITUDE', 'LATITUDE']).T\n",
    "# Evaluate a gaussian kde on a regular grid of nbins x nbins over data extents\n",
    "k = kde.gaussian_kde(data)\n",
    "xi, yi = np.mgrid[x.min():x.max():nbins*1j, y.min():y.max():nbins*1j]\n",
    "zi = k(np.vstack([xi.flatten(), yi.flatten()]))\n",
    " \n",
    "# plot a density\n",
    "axes[0].set_title('Calculate Gaussian KDE')\n",
    "axes[0].pcolormesh(xi, yi, zi.reshape(xi.shape), cmap=plt.cm.BuGn_r)\n",
    " \n",
    "# add shading\n",
    "axes[1].set_title('2D Density with shading')\n",
    "axes[1].pcolormesh(xi, yi, zi.reshape(xi.shape), shading='gouraud', cmap=plt.cm.BuGn_r)\n"
   ]
  },
  {
   "cell_type": "code",
   "execution_count": null,
   "metadata": {},
   "outputs": [],
   "source": [
    "fig, ax = plt.subplots(ncols=1, nrows=1, figsize=(10, 10))\n",
    "nbins = 100\n",
    "\n",
    "sample = cleandf.sample(10000)\n",
    "data = sample.as_matrix(columns=['LONGITUDE', 'LATITUDE']).T\n",
    "# Evaluate a gaussian kde on a regular grid of nbins x nbins over data extents\n",
    "k = kde.gaussian_kde(data)\n",
    "xi, yi = np.mgrid[x.min():x.max():nbins*1j, y.min():y.max():nbins*1j]\n",
    "zi = k(np.vstack([xi.flatten(), yi.flatten()]))\n",
    "\n",
    "# contour\n",
    "ax.set_title('Contour')\n",
    "ax.pcolormesh(xi, yi, zi.reshape(xi.shape), shading='gouraud', cmap=plt.cm.BuGn_r)\n",
    "levels = 30\n",
    "ax.contour(xi, yi, zi.reshape(xi.shape), levels, cmap=plt.cm.BuGn_r )\n"
   ]
  },
  {
   "cell_type": "code",
   "execution_count": null,
   "metadata": {},
   "outputs": [],
   "source": [
    "# In the code below, we create three plots\n",
    "# One with  all the accidents (in black)\n",
    "# One with all accidents that resulted in an injury (with orange)\n",
    "# One with all the accidents with deaths (with red dots) \n",
    "# Then wen combine the  plots using the \"ax\" parameter\n",
    "\n",
    "# df = pd.read_csv(\"accidents.csv\", low_memory=False)\n",
    "\n",
    "# We put conditions to keep only rows that \n",
    "# have reasonable values for LONGITUDE and LATITUDE\n",
    "# The & character is the \"AND\" in Pandas\n",
    "# the df.LATITUDE is equivalent to df['LATITUDE']\n",
    "cleandf = df[ (df.LATITUDE > 40) & (df.LATITUDE < 41) & (df.LONGITUDE < -72) & (df.LONGITUDE > -74.5) ]\n",
    "\n",
    "\n",
    "all_accidents_plot = cleandf.plot (\n",
    "    kind='scatter',\n",
    "    x = 'LONGITUDE',\n",
    "    y = 'LATITUDE',\n",
    "    figsize = (20, 20), # changes the size of the plot to be bigger and square\n",
    "    color = 'black',\n",
    "    alpha = 0.05, # makes the data points transparent (1 = opaque, 0 fully transparent)\n",
    "    s = 0.5 # make the size of the market just 0.5 pixel\n",
    ")\n",
    "\n",
    "\n",
    "injured_plot = cleandf[\n",
    "    cleandf['NUMBER OF PERSONS INJURED']>=1\n",
    "    # note that we cannot use the df.NUMBER OF PERSON INJURED notation\n",
    "    # because the attribute contains spaces.\n",
    "].plot (\n",
    "    kind='scatter',\n",
    "    x = 'LONGITUDE',\n",
    "    y = 'LATITUDE',\n",
    "    figsize = (20, 20), # changes the size of the plot to be bigger and square\n",
    "    alpha = 0.1, # makes the data points transparent (1 = opaque, 0 fully transparent)\n",
    "    color = 'orange',\n",
    "    ax = all_accidents_plot, # the ax parameter allows us to combine plots\n",
    "    s = 1 # make the size of the market just 1 pixel\n",
    ")\n",
    "\n",
    "ax = cleandf[\n",
    "    cleandf['NUMBER OF PERSONS KILLED']>=1 # we want only accidents with at least one death\n",
    "    # note that we cannot use the df.NUMBER OF PERSON KILLED notation\n",
    "    # because the attribute contains spaces.\n",
    "].plot (\n",
    "    kind='scatter',\n",
    "    x = 'LONGITUDE',\n",
    "    y = 'LATITUDE',\n",
    "    figsize = (20, 20), # changes the size of the plot to be bigger and square\n",
    "    alpha = 0.85, # makes the data points transparent (1 = opaque, 0 fully transparent)\n",
    "    s = 5, # make the size of the market just 1 pixel\n",
    "    color = 'red',\n",
    "    ax = injured_plot # the ax parameter allows us to combine plots\n",
    ")\n",
    "\n",
    "sns.set_style(\"white\")\n",
    "mask = cleandf['NUMBER OF PERSONS INJURED']>=1\n",
    "sample = cleandf[mask].sample(10000)\n",
    "\n",
    "sns.kdeplot(sample.LONGITUDE, sample.LATITUDE, gridsize=100, alpha=0.5,\n",
    "            cmap=plt.cm.Reds, shade=True, shade_lowest=False, n_levels=15, ax = ax)\n"
   ]
  },
  {
   "cell_type": "code",
   "execution_count": null,
   "metadata": {},
   "outputs": [],
   "source": [
    "%matplotlib inline\n",
    "import matplotlib\n",
    "import matplotlib.pyplot as plt\n",
    "import seaborn as sns\n",
    "df_nyc = gpd.GeoDataFrame.from_file('data/nyc-neighborhoods.geojson')\n",
    "base = df_nyc.plot(linewidth=0.5, color='White',edgecolor = 'Black', figsize = (20,20), alpha=0.75)\n",
    "\n",
    "cleandf = df[ (df.LATITUDE > 40) & (df.LATITUDE < 41) & (df.LONGITUDE < -72) & (df.LONGITUDE > -74.5) ]\n",
    "\n",
    "\n",
    "all_accidents_plot = cleandf.plot (\n",
    "    kind='scatter',\n",
    "    x = 'LONGITUDE',\n",
    "    y = 'LATITUDE',\n",
    "    figsize = (20, 20), # changes the size of the plot to be bigger and square\n",
    "    color = 'black',\n",
    "    alpha = 0.05, # makes the data points transparent (1 = opaque, 0 fully transparent)\n",
    "    s = 0.5, # make the size of the market just 0.5 pixel\n",
    "    ax = base\n",
    ")\n",
    "\n",
    "\n",
    "injured_plot = cleandf[\n",
    "    cleandf['NUMBER OF PERSONS INJURED']>=1\n",
    "    # note that we cannot use the df.NUMBER OF PERSON INJURED notation\n",
    "    # because the attribute contains spaces.\n",
    "].plot (\n",
    "    kind='scatter',\n",
    "    x = 'LONGITUDE',\n",
    "    y = 'LATITUDE',\n",
    "    figsize = (20, 20), # changes the size of the plot to be bigger and square\n",
    "    alpha = 0.05, # makes the data points transparent (1 = opaque, 0 fully transparent)\n",
    "    color = 'orange',\n",
    "    ax = all_accidents_plot, # the ax parameter allows us to combine plots\n",
    "    s = 1 # make the size of the market just 1 pixel\n",
    ")\n",
    "\n",
    "ax = cleandf[\n",
    "    cleandf['NUMBER OF PERSONS KILLED']>=1 # we want only accidents with at least one death\n",
    "    # note that we cannot use the df.NUMBER OF PERSON KILLED notation\n",
    "    # because the attribute contains spaces.\n",
    "].plot (\n",
    "    kind='scatter',\n",
    "    x = 'LONGITUDE',\n",
    "    y = 'LATITUDE',\n",
    "    figsize = (20, 20), # changes the size of the plot to be bigger and square\n",
    "    alpha = 0.85, # makes the data points transparent (1 = opaque, 0 fully transparent)\n",
    "    s = 5, # make the size of the market just 1 pixel\n",
    "    color = 'red',\n",
    "    ax = injured_plot # the ax parameter allows us to combine plots\n",
    ")\n",
    "\n",
    "sns.set_style(\"white\")\n",
    "mask = cleandf['NUMBER OF PERSONS KILLED']>=1\n",
    "sample = cleandf[mask] # .sample(10000)\n",
    "\n",
    "sns.kdeplot(sample.LONGITUDE, sample.LATITUDE, gridsize=100, alpha=0.35,\n",
    "            cmap=plt.cm.Reds, shade=True, shade_lowest=False, n_levels=15, ax = ax)\n",
    "\n",
    "plt.axis('equal')"
   ]
  },
  {
   "cell_type": "code",
   "execution_count": null,
   "metadata": {},
   "outputs": [],
   "source": []
  }
 ],
 "metadata": {
  "kernelspec": {
   "display_name": "Python 3",
   "language": "python",
   "name": "python3"
  },
  "language_info": {
   "codemirror_mode": {
    "name": "ipython",
    "version": 3
   },
   "file_extension": ".py",
   "mimetype": "text/x-python",
   "name": "python",
   "nbconvert_exporter": "python",
   "pygments_lexer": "ipython3",
   "version": "3.5.2"
  }
 },
 "nbformat": 4,
 "nbformat_minor": 1
}
