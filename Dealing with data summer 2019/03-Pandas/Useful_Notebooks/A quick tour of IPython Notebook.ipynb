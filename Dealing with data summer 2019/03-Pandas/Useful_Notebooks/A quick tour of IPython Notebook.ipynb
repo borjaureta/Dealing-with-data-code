{
 "cells": [
  {
   "cell_type": "markdown",
   "metadata": {},
   "source": [
    "# A quick tour of IPython Notebook"
   ]
  },
  {
   "cell_type": "markdown",
   "metadata": {},
   "source": [
    "This tour show you how to use IPython notebooks. \n",
    "\n",
    "There are two basics types of entries: Text cells, and code cells. \n",
    "\n",
    "You can edit a text cell, by double clicking on it. You can get it back to the display mode by pressing the \"Play\" ( ▶ ) button from the toolbar. Try it!"
   ]
  },
  {
   "cell_type": "markdown",
   "metadata": {},
   "source": [
    "Let's add a little bit more text\n",
    "\n",
    "You can use *asterisks* to emphasize things\n",
    "\n",
    "Or you can use _underscore_ to italicize.\n",
    "\n",
    "Or a bullet list:\n",
    "* One\n",
    "* Two\n",
    "* Three\n",
    "\n",
    "Or numbered list:\n",
    "1. One\n",
    "2. Two \n",
    "3. Three"
   ]
  },
  {
   "cell_type": "markdown",
   "metadata": {},
   "source": [
    "How, we will see a \"code\" cell. See the cell below!"
   ]
  },
  {
   "cell_type": "code",
   "execution_count": null,
   "metadata": {
    "collapsed": false
   },
   "outputs": [],
   "source": [
    "import pandas as pd\n",
    "\n",
    "print \"Hi! This is a cell. Press the ▶ button above to run it\""
   ]
  },
  {
   "cell_type": "markdown",
   "metadata": {},
   "source": [
    "You can also run a cell with Ctrl+Enter or Shift+Enter. Experiment a bit with that."
   ]
  },
  {
   "cell_type": "markdown",
   "metadata": {},
   "source": [
    "One of the most useful things about IPython notebook is its tab completion. \n",
    "\n",
    "Try this: click just after read_csv( in the cell below and press Shift+Tab (or Tab if you're using IPython 1.x) 4 times, slowly"
   ]
  },
  {
   "cell_type": "code",
   "execution_count": null,
   "metadata": {
    "collapsed": false
   },
   "outputs": [],
   "source": [
    "pd.read_csv("
   ]
  },
  {
   "cell_type": "markdown",
   "metadata": {},
   "source": [
    "After the first time, you should see this:\n",
    "<div align=\"center\">\n",
    "<img src=\"files/images/tab-once.png\" width=\"75%\">\n",
    "</div>\n",
    "\n",
    "After the second time:\n",
    "<div align=\"center\">\n",
    "<img src=\"files/images/tab-twice.png\" width=\"75%\">\n",
    "</div>\n",
    "\n",
    "After the fourth time, a big help box should pop up at the bottom of the screen, with the full documentation for the `read_csv` function:\n",
    "<div align=\"center\">\n",
    "<img src=\"files/images/tab-4-times.png\" width=\"90%\">\n",
    "</div>"
   ]
  },
  {
   "cell_type": "markdown",
   "metadata": {},
   "source": [
    "I find this amazingly useful. I think of this as \"the more confused I am, the more times I should press Shift+Tab\". Nothing bad will happen if you tab complete 12 times.\n",
    "\n",
    "Okay, let's try tab completion for function names!"
   ]
  },
  {
   "cell_type": "code",
   "execution_count": null,
   "metadata": {
    "collapsed": false
   },
   "outputs": [],
   "source": [
    "pd.r"
   ]
  },
  {
   "cell_type": "markdown",
   "metadata": {},
   "source": [
    "You should see this:\n",
    "\n",
    "<div align=\"center\">\n",
    "<img src=\"files/images/function-completion.png\" width=\"30%\">\n",
    "</div>"
   ]
  },
  {
   "cell_type": "markdown",
   "metadata": {},
   "source": [
    "# Writing code"
   ]
  },
  {
   "cell_type": "markdown",
   "metadata": {},
   "source": [
    "Writing code in the notebook is pretty normal."
   ]
  },
  {
   "cell_type": "code",
   "execution_count": null,
   "metadata": {
    "collapsed": false
   },
   "outputs": [],
   "source": [
    "def print_10_nums():\n",
    "    for i in range(10):\n",
    "        print i,"
   ]
  },
  {
   "cell_type": "code",
   "execution_count": null,
   "metadata": {
    "collapsed": false
   },
   "outputs": [],
   "source": [
    "print_10_nums()"
   ]
  },
  {
   "cell_type": "markdown",
   "metadata": {},
   "source": [
    "# Saving"
   ]
  },
  {
   "cell_type": "markdown",
   "metadata": {},
   "source": [
    "As of the latest stable version, the notebook autosaves. You should use the latest stable version. Really."
   ]
  },
  {
   "cell_type": "markdown",
   "metadata": {},
   "source": [
    "# Magic functions"
   ]
  },
  {
   "cell_type": "markdown",
   "metadata": {},
   "source": [
    "IPython has all kinds of magic functions. Here's an example of comparing `sum()` with a list comprehension to a generator comprehension using the `%time` magic."
   ]
  },
  {
   "cell_type": "code",
   "execution_count": null,
   "metadata": {
    "collapsed": false
   },
   "outputs": [],
   "source": [
    "%time sum([x for x in range(100000)])"
   ]
  },
  {
   "cell_type": "code",
   "execution_count": null,
   "metadata": {
    "collapsed": false
   },
   "outputs": [],
   "source": [
    "%time sum(x for x in range(100000))"
   ]
  },
  {
   "cell_type": "markdown",
   "metadata": {},
   "source": [
    "The magics I use most are `%time` and `%prun` for profiling. You can run `%magic` to get a list of all of them, and `%quickref` for a reference sheet."
   ]
  },
  {
   "cell_type": "code",
   "execution_count": null,
   "metadata": {
    "collapsed": false
   },
   "outputs": [],
   "source": [
    "%quickref"
   ]
  },
  {
   "cell_type": "markdown",
   "metadata": {},
   "source": [
    "You can also do nutty things like run Perl code in the notebook with cell magics. This is especially cool for things like Cython code, where you can try out Cython really fast with the `%%cython` magic (you'll need to install it)."
   ]
  },
  {
   "cell_type": "code",
   "execution_count": null,
   "metadata": {
    "collapsed": false
   },
   "outputs": [],
   "source": [
    "%%perl\n",
    "\n",
    "$_ = \"whoa, python!\";\n",
    "s/python/perl/;\n",
    "print\n",
    "\n",
    "import matplotlib.pyplot as plt\n",
    "plt.plot([1,2,3,2])\n"
   ]
  },
  {
   "cell_type": "markdown",
   "metadata": {},
   "source": [
    "That's it for now!"
   ]
  }
 ],
 "metadata": {
  "kernelspec": {
   "display_name": "Python 2",
   "language": "python",
   "name": "python2"
  },
  "language_info": {
   "codemirror_mode": {
    "name": "ipython",
    "version": 2
   },
   "file_extension": ".py",
   "mimetype": "text/x-python",
   "name": "python",
   "nbconvert_exporter": "python",
   "pygments_lexer": "ipython2",
   "version": "2.7.6"
  }
 },
 "nbformat": 4,
 "nbformat_minor": 0
}
