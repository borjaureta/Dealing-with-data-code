{
 "cells": [
  {
   "cell_type": "markdown",
   "metadata": {},
   "source": [
    "# Introduction to Pandas"
   ]
  },
  {
   "cell_type": "markdown",
   "metadata": {},
   "source": [
    "## Setup and preliminaries"
   ]
  },
  {
   "cell_type": "code",
   "execution_count": 2,
   "metadata": {},
   "outputs": [],
   "source": [
    "# Render our plots inline\n",
    "%matplotlib inline\n",
    "%config InlineBackend.figure_format = 'retina'\n",
    "\n",
    "import pandas as pd\n",
    "import matplotlib\n",
    "import matplotlib.pyplot as plt\n",
    "import seaborn as sns\n",
    "\n",
    "# Make the graphs a bit bigger\n",
    "matplotlib.style.use(['seaborn-talk', 'seaborn-ticks', 'seaborn-whitegrid'])"
   ]
  },
  {
   "cell_type": "markdown",
   "metadata": {},
   "source": [
    "## Exercise: NYPD Vehicle Collisions\n",
    "\n",
    "* We interacted with the NYC Restaurant Inspection Data. Now, let's download another dataset, and do some analysis. We will focus on the [NYPD Vehicle Collisions](https://data.cityofnewyork.us/Public-Safety/NYPD-Motor-Vehicle-Collisions/h9gi-nx95/data) data set.\n"
   ]
  },
  {
   "cell_type": "markdown",
   "metadata": {
    "heading_collapsed": true
   },
   "source": [
    "### Task 1: \n",
    "\n",
    "Download the dataset. Use the \"Export\" view, get the URL for the CSV file, and dowload it using curl. (See the top of the notebook for guidance.) \n"
   ]
  },
  {
   "cell_type": "code",
   "execution_count": null,
   "metadata": {
    "hidden": true
   },
   "outputs": [],
   "source": []
  },
  {
   "cell_type": "code",
   "execution_count": null,
   "metadata": {
    "hidden": true
   },
   "outputs": [],
   "source": []
  },
  {
   "cell_type": "markdown",
   "metadata": {
    "hidden": true,
    "solution2": "hidden",
    "solution2_first": true
   },
   "source": [
    "#### Solution"
   ]
  },
  {
   "cell_type": "code",
   "execution_count": 5,
   "metadata": {
    "hidden": true,
    "solution2": "hidden"
   },
   "outputs": [
    {
     "name": "stdout",
     "output_type": "stream",
     "text": [
      "  % Total    % Received % Xferd  Average Speed   Time    Time     Time  Current\n",
      "                                 Dload  Upload   Total   Spent    Left  Speed\n",
      "100  318M    0  318M    0     0  3181k      0 --:--:--  0:01:42 --:--:-- 3296k 0  3163k      0 --:--:--  0:01:27 --:--:-- 3254k0  279M    0     0  3166k      0 --:--:--  0:01:30 --:--:-- 3236k\n"
     ]
    }
   ],
   "source": [
    "# It is a big file, ~270Mb. It will take 2-3 minutes to download\n",
    "!curl https://data.cityofnewyork.us/api/views/h9gi-nx95/rows.csv?accessType=DOWNLOAD -o accidents.csv"
   ]
  },
  {
   "cell_type": "code",
   "execution_count": 6,
   "metadata": {
    "hidden": true,
    "solution2": "hidden"
   },
   "outputs": [],
   "source": [
    "df = pd.read_csv(\"accidents.csv\", low_memory=False)"
   ]
  },
  {
   "cell_type": "code",
   "execution_count": 7,
   "metadata": {
    "hidden": true,
    "solution2": "hidden"
   },
   "outputs": [
    {
     "data": {
      "text/plain": [
       "DATE                              object\n",
       "TIME                              object\n",
       "BOROUGH                           object\n",
       "ZIP CODE                          object\n",
       "LATITUDE                         float64\n",
       "LONGITUDE                        float64\n",
       "LOCATION                          object\n",
       "ON STREET NAME                    object\n",
       "CROSS STREET NAME                 object\n",
       "OFF STREET NAME                   object\n",
       "NUMBER OF PERSONS INJURED        float64\n",
       "NUMBER OF PERSONS KILLED         float64\n",
       "NUMBER OF PEDESTRIANS INJURED      int64\n",
       "NUMBER OF PEDESTRIANS KILLED       int64\n",
       "NUMBER OF CYCLIST INJURED          int64\n",
       "NUMBER OF CYCLIST KILLED           int64\n",
       "NUMBER OF MOTORIST INJURED         int64\n",
       "NUMBER OF MOTORIST KILLED          int64\n",
       "CONTRIBUTING FACTOR VEHICLE 1     object\n",
       "CONTRIBUTING FACTOR VEHICLE 2     object\n",
       "CONTRIBUTING FACTOR VEHICLE 3     object\n",
       "CONTRIBUTING FACTOR VEHICLE 4     object\n",
       "CONTRIBUTING FACTOR VEHICLE 5     object\n",
       "UNIQUE KEY                         int64\n",
       "VEHICLE TYPE CODE 1               object\n",
       "VEHICLE TYPE CODE 2               object\n",
       "VEHICLE TYPE CODE 3               object\n",
       "VEHICLE TYPE CODE 4               object\n",
       "VEHICLE TYPE CODE 5               object\n",
       "dtype: object"
      ]
     },
     "execution_count": 7,
     "metadata": {},
     "output_type": "execute_result"
    }
   ],
   "source": [
    "df.dtypes"
   ]
  },
  {
   "cell_type": "markdown",
   "metadata": {
    "heading_collapsed": true
   },
   "source": [
    "### Task 2: \n",
    "\n",
    "Find out the most common contributing factors to the collisions. \n",
    " "
   ]
  },
  {
   "cell_type": "code",
   "execution_count": null,
   "metadata": {
    "hidden": true
   },
   "outputs": [],
   "source": []
  },
  {
   "cell_type": "code",
   "execution_count": null,
   "metadata": {
    "hidden": true
   },
   "outputs": [],
   "source": []
  },
  {
   "cell_type": "markdown",
   "metadata": {
    "hidden": true,
    "solution2": "hidden",
    "solution2_first": true
   },
   "source": [
    "#### Solution"
   ]
  },
  {
   "cell_type": "code",
   "execution_count": null,
   "metadata": {
    "hidden": true,
    "solution2": "hidden"
   },
   "outputs": [],
   "source": [
    "# Task 2: Find out the most common contributing factors to the collisions.\n",
    "# Notice that we skip the first element (0) of the list, and we get the elements 1:10\n",
    "df['CONTRIBUTING FACTOR VEHICLE 1'].value_counts()[1:10].plot(kind='barh')"
   ]
  },
  {
   "cell_type": "markdown",
   "metadata": {
    "heading_collapsed": true
   },
   "source": [
    "### Task 3: \n",
    "\n",
    "Break down the number of collisions by borough.\n",
    "\n",
    "\n",
    "\n"
   ]
  },
  {
   "cell_type": "code",
   "execution_count": null,
   "metadata": {
    "hidden": true
   },
   "outputs": [],
   "source": []
  },
  {
   "cell_type": "markdown",
   "metadata": {
    "hidden": true,
    "solution2": "hidden",
    "solution2_first": true
   },
   "source": [
    "#### Solution"
   ]
  },
  {
   "cell_type": "code",
   "execution_count": null,
   "metadata": {
    "hidden": true,
    "solution2": "hidden"
   },
   "outputs": [],
   "source": [
    "# Task 3: Break down the number of collisions by borough.\n",
    "df['BOROUGH'].value_counts().plot(kind='barh')"
   ]
  },
  {
   "cell_type": "markdown",
   "metadata": {
    "heading_collapsed": true
   },
   "source": [
    "### Task 4\n",
    "\n",
    "Find out the how many collisions had 0 persons injured, 1 persons injured, etc. persons injured in each accident. Use the `value_counts()` approach. You may also find the `.plot(logy=True)` option useful when you create the plot to make the y-axis logarigthmic.\n",
    " "
   ]
  },
  {
   "cell_type": "code",
   "execution_count": null,
   "metadata": {
    "hidden": true
   },
   "outputs": [],
   "source": []
  },
  {
   "cell_type": "code",
   "execution_count": null,
   "metadata": {
    "hidden": true
   },
   "outputs": [],
   "source": []
  },
  {
   "cell_type": "markdown",
   "metadata": {
    "hidden": true,
    "solution2": "hidden",
    "solution2_first": true
   },
   "source": [
    "#### Solution"
   ]
  },
  {
   "cell_type": "code",
   "execution_count": null,
   "metadata": {
    "hidden": true,
    "solution2": "hidden"
   },
   "outputs": [],
   "source": [
    "# \"Chain\" style of writing data maniputation operations\n",
    "plot = (\n",
    "    df['NUMBER OF PERSONS INJURED'] # take the num of injuries column\n",
    "    .value_counts() # compure the freuquency of each value\n",
    "    .sort_index() # sort the results based on the index value instead of the frequency, \n",
    "                  # which is the default for value_counts\n",
    "    .plot( # and plot the results\n",
    "        kind='line', # we use a line plot because the x-axis is numeric/continuous\n",
    "        marker='o',  # we use a marker to mark where we have data points \n",
    "        logy=True # make the y-axis logarithmic\n",
    "    )\n",
    ")\n",
    "plot.set_xlabel(\"Number of injuries\")\n",
    "plot.set_ylabel(\"Number of collisions\")\n",
    "plot.set_title(\"Analysis of number of injuries per collision\")"
   ]
  },
  {
   "cell_type": "code",
   "execution_count": null,
   "metadata": {
    "hidden": true
   },
   "outputs": [],
   "source": []
  },
  {
   "cell_type": "markdown",
   "metadata": {
    "heading_collapsed": true
   },
   "source": [
    "### Task 5\n",
    "\n",
    "(a) Compute the average number of injuries and deaths per accident, broken down by borough. Use the `pivot_table` functionality, putting `BOROUGH` as the index. You can answer this query by generating two separate tables, or you can create a single table by using the fact that you can pass a list of attributes/columns to the `values` parameter of the pivot table.\n",
    "\n",
    "(b) Repeat the exercise above, but break down the average number of deaths and injuries using the contributing factor for the accident. Use the `sort_values` command to sort the results, putting on top the contributing factors that generate the highest number of deaths."
   ]
  },
  {
   "cell_type": "code",
   "execution_count": null,
   "metadata": {
    "hidden": true
   },
   "outputs": [],
   "source": []
  },
  {
   "cell_type": "markdown",
   "metadata": {
    "hidden": true,
    "solution2": "hidden",
    "solution2_first": true
   },
   "source": [
    "#### Solution"
   ]
  },
  {
   "cell_type": "code",
   "execution_count": 9,
   "metadata": {
    "hidden": true,
    "solution2": "hidden"
   },
   "outputs": [
    {
     "data": {
      "text/html": [
       "<div>\n",
       "<style scoped>\n",
       "    .dataframe tbody tr th:only-of-type {\n",
       "        vertical-align: middle;\n",
       "    }\n",
       "\n",
       "    .dataframe tbody tr th {\n",
       "        vertical-align: top;\n",
       "    }\n",
       "\n",
       "    .dataframe thead th {\n",
       "        text-align: right;\n",
       "    }\n",
       "</style>\n",
       "<table border=\"1\" class=\"dataframe\">\n",
       "  <thead>\n",
       "    <tr style=\"text-align: right;\">\n",
       "      <th></th>\n",
       "      <th>NUMBER OF PERSONS INJURED</th>\n",
       "      <th>NUMBER OF PERSONS KILLED</th>\n",
       "    </tr>\n",
       "    <tr>\n",
       "      <th>BOROUGH</th>\n",
       "      <th></th>\n",
       "      <th></th>\n",
       "    </tr>\n",
       "  </thead>\n",
       "  <tbody>\n",
       "    <tr>\n",
       "      <th>BRONX</th>\n",
       "      <td>0.284300</td>\n",
       "      <td>0.001045</td>\n",
       "    </tr>\n",
       "    <tr>\n",
       "      <th>BROOKLYN</th>\n",
       "      <td>0.289539</td>\n",
       "      <td>0.001135</td>\n",
       "    </tr>\n",
       "    <tr>\n",
       "      <th>MANHATTAN</th>\n",
       "      <td>0.172707</td>\n",
       "      <td>0.000828</td>\n",
       "    </tr>\n",
       "    <tr>\n",
       "      <th>QUEENS</th>\n",
       "      <td>0.260617</td>\n",
       "      <td>0.001221</td>\n",
       "    </tr>\n",
       "    <tr>\n",
       "      <th>STATEN ISLAND</th>\n",
       "      <td>0.244310</td>\n",
       "      <td>0.001356</td>\n",
       "    </tr>\n",
       "  </tbody>\n",
       "</table>\n",
       "</div>"
      ],
      "text/plain": [
       "               NUMBER OF PERSONS INJURED  NUMBER OF PERSONS KILLED\n",
       "BOROUGH                                                           \n",
       "BRONX                           0.284300                  0.001045\n",
       "BROOKLYN                        0.289539                  0.001135\n",
       "MANHATTAN                       0.172707                  0.000828\n",
       "QUEENS                          0.260617                  0.001221\n",
       "STATEN ISLAND                   0.244310                  0.001356"
      ]
     },
     "execution_count": 9,
     "metadata": {},
     "output_type": "execute_result"
    }
   ],
   "source": [
    "pd.pivot_table(\n",
    "    data = df,\n",
    "    index = 'BOROUGH',\n",
    "    aggfunc = 'mean',\n",
    "    values = ['NUMBER OF PERSONS INJURED', 'NUMBER OF PERSONS KILLED']\n",
    ")"
   ]
  },
  {
   "cell_type": "code",
   "execution_count": 10,
   "metadata": {
    "hidden": true,
    "solution2": "hidden"
   },
   "outputs": [
    {
     "data": {
      "text/html": [
       "<div>\n",
       "<style scoped>\n",
       "    .dataframe tbody tr th:only-of-type {\n",
       "        vertical-align: middle;\n",
       "    }\n",
       "\n",
       "    .dataframe tbody tr th {\n",
       "        vertical-align: top;\n",
       "    }\n",
       "\n",
       "    .dataframe thead th {\n",
       "        text-align: right;\n",
       "    }\n",
       "</style>\n",
       "<table border=\"1\" class=\"dataframe\">\n",
       "  <thead>\n",
       "    <tr style=\"text-align: right;\">\n",
       "      <th></th>\n",
       "      <th>NUMBER OF PERSONS INJURED</th>\n",
       "      <th>NUMBER OF PERSONS KILLED</th>\n",
       "    </tr>\n",
       "    <tr>\n",
       "      <th>CONTRIBUTING FACTOR VEHICLE 1</th>\n",
       "      <th></th>\n",
       "      <th></th>\n",
       "    </tr>\n",
       "  </thead>\n",
       "  <tbody>\n",
       "    <tr>\n",
       "      <th>Illnes</th>\n",
       "      <td>0.851485</td>\n",
       "      <td>0.037129</td>\n",
       "    </tr>\n",
       "    <tr>\n",
       "      <th>Drugs (illegal)</th>\n",
       "      <td>0.803783</td>\n",
       "      <td>0.014184</td>\n",
       "    </tr>\n",
       "    <tr>\n",
       "      <th>Unsafe Speed</th>\n",
       "      <td>0.612718</td>\n",
       "      <td>0.010269</td>\n",
       "    </tr>\n",
       "    <tr>\n",
       "      <th>Pedestrian/Bicyclist/Other Pedestrian Error/Confusion</th>\n",
       "      <td>0.746296</td>\n",
       "      <td>0.008727</td>\n",
       "    </tr>\n",
       "    <tr>\n",
       "      <th>Passenger Distraction</th>\n",
       "      <td>0.529045</td>\n",
       "      <td>0.007299</td>\n",
       "    </tr>\n",
       "    <tr>\n",
       "      <th>Traffic Control Disregarded</th>\n",
       "      <td>0.621926</td>\n",
       "      <td>0.007286</td>\n",
       "    </tr>\n",
       "    <tr>\n",
       "      <th>Drugs (Illegal)</th>\n",
       "      <td>0.482100</td>\n",
       "      <td>0.007160</td>\n",
       "    </tr>\n",
       "    <tr>\n",
       "      <th>Tow Hitch Defective</th>\n",
       "      <td>0.116883</td>\n",
       "      <td>0.006494</td>\n",
       "    </tr>\n",
       "    <tr>\n",
       "      <th>Alcohol Involvement</th>\n",
       "      <td>0.462344</td>\n",
       "      <td>0.004188</td>\n",
       "    </tr>\n",
       "    <tr>\n",
       "      <th>Physical Disability</th>\n",
       "      <td>0.614375</td>\n",
       "      <td>0.003282</td>\n",
       "    </tr>\n",
       "    <tr>\n",
       "      <th>Driverless/Runaway Vehicle</th>\n",
       "      <td>0.163237</td>\n",
       "      <td>0.002743</td>\n",
       "    </tr>\n",
       "    <tr>\n",
       "      <th>Pavement Defective</th>\n",
       "      <td>0.336408</td>\n",
       "      <td>0.002713</td>\n",
       "    </tr>\n",
       "    <tr>\n",
       "      <th>Fell Asleep</th>\n",
       "      <td>0.433631</td>\n",
       "      <td>0.002591</td>\n",
       "    </tr>\n",
       "    <tr>\n",
       "      <th>Failure to Yield Right-of-Way</th>\n",
       "      <td>0.420672</td>\n",
       "      <td>0.001911</td>\n",
       "    </tr>\n",
       "    <tr>\n",
       "      <th>View Obstructed/Limited</th>\n",
       "      <td>0.333483</td>\n",
       "      <td>0.001347</td>\n",
       "    </tr>\n",
       "    <tr>\n",
       "      <th>Other Electronic Device</th>\n",
       "      <td>0.255580</td>\n",
       "      <td>0.001313</td>\n",
       "    </tr>\n",
       "    <tr>\n",
       "      <th>Tire Failure/Inadequate</th>\n",
       "      <td>0.333538</td>\n",
       "      <td>0.001229</td>\n",
       "    </tr>\n",
       "    <tr>\n",
       "      <th>Aggressive Driving/Road Rage</th>\n",
       "      <td>0.398471</td>\n",
       "      <td>0.001216</td>\n",
       "    </tr>\n",
       "    <tr>\n",
       "      <th>Unspecified</th>\n",
       "      <td>0.235552</td>\n",
       "      <td>0.001131</td>\n",
       "    </tr>\n",
       "    <tr>\n",
       "      <th>Lost Consciousness</th>\n",
       "      <td>0.137376</td>\n",
       "      <td>0.001127</td>\n",
       "    </tr>\n",
       "    <tr>\n",
       "      <th>Failure to Keep Right</th>\n",
       "      <td>0.312150</td>\n",
       "      <td>0.001121</td>\n",
       "    </tr>\n",
       "    <tr>\n",
       "      <th>Driver Inexperience</th>\n",
       "      <td>0.242203</td>\n",
       "      <td>0.001086</td>\n",
       "    </tr>\n",
       "    <tr>\n",
       "      <th>Driver Inattention/Distraction</th>\n",
       "      <td>0.266850</td>\n",
       "      <td>0.000757</td>\n",
       "    </tr>\n",
       "    <tr>\n",
       "      <th>Obstruction/Debris</th>\n",
       "      <td>0.203135</td>\n",
       "      <td>0.000640</td>\n",
       "    </tr>\n",
       "    <tr>\n",
       "      <th>Glare</th>\n",
       "      <td>0.474969</td>\n",
       "      <td>0.000626</td>\n",
       "    </tr>\n",
       "    <tr>\n",
       "      <th>Backing Unsafely</th>\n",
       "      <td>0.100133</td>\n",
       "      <td>0.000524</td>\n",
       "    </tr>\n",
       "    <tr>\n",
       "      <th>Outside Car Distraction</th>\n",
       "      <td>0.261383</td>\n",
       "      <td>0.000517</td>\n",
       "    </tr>\n",
       "    <tr>\n",
       "      <th>Prescription Medication</th>\n",
       "      <td>0.198071</td>\n",
       "      <td>0.000456</td>\n",
       "    </tr>\n",
       "    <tr>\n",
       "      <th>Pavement Slippery</th>\n",
       "      <td>0.292110</td>\n",
       "      <td>0.000452</td>\n",
       "    </tr>\n",
       "    <tr>\n",
       "      <th>Other Vehicular</th>\n",
       "      <td>0.205155</td>\n",
       "      <td>0.000434</td>\n",
       "    </tr>\n",
       "    <tr>\n",
       "      <th>...</th>\n",
       "      <td>...</td>\n",
       "      <td>...</td>\n",
       "    </tr>\n",
       "    <tr>\n",
       "      <th>Reaction to Uninvolved Vehicle</th>\n",
       "      <td>0.292438</td>\n",
       "      <td>0.000323</td>\n",
       "    </tr>\n",
       "    <tr>\n",
       "      <th>Following Too Closely</th>\n",
       "      <td>0.314445</td>\n",
       "      <td>0.000279</td>\n",
       "    </tr>\n",
       "    <tr>\n",
       "      <th>Turning Improperly</th>\n",
       "      <td>0.163864</td>\n",
       "      <td>0.000256</td>\n",
       "    </tr>\n",
       "    <tr>\n",
       "      <th>Unsafe Lane Changing</th>\n",
       "      <td>0.151271</td>\n",
       "      <td>0.000252</td>\n",
       "    </tr>\n",
       "    <tr>\n",
       "      <th>Passing Too Closely</th>\n",
       "      <td>0.060883</td>\n",
       "      <td>0.000065</td>\n",
       "    </tr>\n",
       "    <tr>\n",
       "      <th>Fatigued/Drowsy</th>\n",
       "      <td>0.257360</td>\n",
       "      <td>0.000064</td>\n",
       "    </tr>\n",
       "    <tr>\n",
       "      <th>Traffic Control Device Improper/Non-Working</th>\n",
       "      <td>0.537008</td>\n",
       "      <td>0.000000</td>\n",
       "    </tr>\n",
       "    <tr>\n",
       "      <th>Vehicle Vandalism</th>\n",
       "      <td>0.152778</td>\n",
       "      <td>0.000000</td>\n",
       "    </tr>\n",
       "    <tr>\n",
       "      <th>Steering Failure</th>\n",
       "      <td>0.297297</td>\n",
       "      <td>0.000000</td>\n",
       "    </tr>\n",
       "    <tr>\n",
       "      <th>Using On Board Navigation Device</th>\n",
       "      <td>0.208791</td>\n",
       "      <td>0.000000</td>\n",
       "    </tr>\n",
       "    <tr>\n",
       "      <th>Texting</th>\n",
       "      <td>0.272727</td>\n",
       "      <td>0.000000</td>\n",
       "    </tr>\n",
       "    <tr>\n",
       "      <th>Tinted Windows</th>\n",
       "      <td>0.426667</td>\n",
       "      <td>0.000000</td>\n",
       "    </tr>\n",
       "    <tr>\n",
       "      <th>Shoulders Defective/Improper</th>\n",
       "      <td>0.514286</td>\n",
       "      <td>0.000000</td>\n",
       "    </tr>\n",
       "    <tr>\n",
       "      <th>1</th>\n",
       "      <td>0.100000</td>\n",
       "      <td>0.000000</td>\n",
       "    </tr>\n",
       "    <tr>\n",
       "      <th>Reaction to Other Uninvolved Vehicle</th>\n",
       "      <td>0.180254</td>\n",
       "      <td>0.000000</td>\n",
       "    </tr>\n",
       "    <tr>\n",
       "      <th>Oversized Vehicle</th>\n",
       "      <td>0.069951</td>\n",
       "      <td>0.000000</td>\n",
       "    </tr>\n",
       "    <tr>\n",
       "      <th>Other Lighting Defects</th>\n",
       "      <td>0.447761</td>\n",
       "      <td>0.000000</td>\n",
       "    </tr>\n",
       "    <tr>\n",
       "      <th>80</th>\n",
       "      <td>0.257426</td>\n",
       "      <td>0.000000</td>\n",
       "    </tr>\n",
       "    <tr>\n",
       "      <th>Listening/Using Headphones</th>\n",
       "      <td>0.600000</td>\n",
       "      <td>0.000000</td>\n",
       "    </tr>\n",
       "    <tr>\n",
       "      <th>Lane Marking Improper/Inadequate</th>\n",
       "      <td>0.135897</td>\n",
       "      <td>0.000000</td>\n",
       "    </tr>\n",
       "    <tr>\n",
       "      <th>Illness</th>\n",
       "      <td>0.234940</td>\n",
       "      <td>0.000000</td>\n",
       "    </tr>\n",
       "    <tr>\n",
       "      <th>Headlights Defective</th>\n",
       "      <td>0.436782</td>\n",
       "      <td>0.000000</td>\n",
       "    </tr>\n",
       "    <tr>\n",
       "      <th>Eating or Drinking</th>\n",
       "      <td>0.263889</td>\n",
       "      <td>0.000000</td>\n",
       "    </tr>\n",
       "    <tr>\n",
       "      <th>Cell Phone (hands-free)</th>\n",
       "      <td>0.279835</td>\n",
       "      <td>0.000000</td>\n",
       "    </tr>\n",
       "    <tr>\n",
       "      <th>Cell Phone (hand-held)</th>\n",
       "      <td>0.367089</td>\n",
       "      <td>0.000000</td>\n",
       "    </tr>\n",
       "    <tr>\n",
       "      <th>Cell Phone (hand-Held)</th>\n",
       "      <td>0.459732</td>\n",
       "      <td>0.000000</td>\n",
       "    </tr>\n",
       "    <tr>\n",
       "      <th>Brakes Defective</th>\n",
       "      <td>0.463069</td>\n",
       "      <td>0.000000</td>\n",
       "    </tr>\n",
       "    <tr>\n",
       "      <th>Animals Action</th>\n",
       "      <td>0.197318</td>\n",
       "      <td>0.000000</td>\n",
       "    </tr>\n",
       "    <tr>\n",
       "      <th>Accelerator Defective</th>\n",
       "      <td>0.456790</td>\n",
       "      <td>0.000000</td>\n",
       "    </tr>\n",
       "    <tr>\n",
       "      <th>Windshield Inadequate</th>\n",
       "      <td>0.287879</td>\n",
       "      <td>0.000000</td>\n",
       "    </tr>\n",
       "  </tbody>\n",
       "</table>\n",
       "<p>61 rows × 2 columns</p>\n",
       "</div>"
      ],
      "text/plain": [
       "                                                    NUMBER OF PERSONS INJURED  \\\n",
       "CONTRIBUTING FACTOR VEHICLE 1                                                   \n",
       "Illnes                                                               0.851485   \n",
       "Drugs (illegal)                                                      0.803783   \n",
       "Unsafe Speed                                                         0.612718   \n",
       "Pedestrian/Bicyclist/Other Pedestrian Error/Con...                   0.746296   \n",
       "Passenger Distraction                                                0.529045   \n",
       "Traffic Control Disregarded                                          0.621926   \n",
       "Drugs (Illegal)                                                      0.482100   \n",
       "Tow Hitch Defective                                                  0.116883   \n",
       "Alcohol Involvement                                                  0.462344   \n",
       "Physical Disability                                                  0.614375   \n",
       "Driverless/Runaway Vehicle                                           0.163237   \n",
       "Pavement Defective                                                   0.336408   \n",
       "Fell Asleep                                                          0.433631   \n",
       "Failure to Yield Right-of-Way                                        0.420672   \n",
       "View Obstructed/Limited                                              0.333483   \n",
       "Other Electronic Device                                              0.255580   \n",
       "Tire Failure/Inadequate                                              0.333538   \n",
       "Aggressive Driving/Road Rage                                         0.398471   \n",
       "Unspecified                                                          0.235552   \n",
       "Lost Consciousness                                                   0.137376   \n",
       "Failure to Keep Right                                                0.312150   \n",
       "Driver Inexperience                                                  0.242203   \n",
       "Driver Inattention/Distraction                                       0.266850   \n",
       "Obstruction/Debris                                                   0.203135   \n",
       "Glare                                                                0.474969   \n",
       "Backing Unsafely                                                     0.100133   \n",
       "Outside Car Distraction                                              0.261383   \n",
       "Prescription Medication                                              0.198071   \n",
       "Pavement Slippery                                                    0.292110   \n",
       "Other Vehicular                                                      0.205155   \n",
       "...                                                                       ...   \n",
       "Reaction to Uninvolved Vehicle                                       0.292438   \n",
       "Following Too Closely                                                0.314445   \n",
       "Turning Improperly                                                   0.163864   \n",
       "Unsafe Lane Changing                                                 0.151271   \n",
       "Passing Too Closely                                                  0.060883   \n",
       "Fatigued/Drowsy                                                      0.257360   \n",
       "Traffic Control Device Improper/Non-Working                          0.537008   \n",
       "Vehicle Vandalism                                                    0.152778   \n",
       "Steering Failure                                                     0.297297   \n",
       "Using On Board Navigation Device                                     0.208791   \n",
       "Texting                                                              0.272727   \n",
       "Tinted Windows                                                       0.426667   \n",
       "Shoulders Defective/Improper                                         0.514286   \n",
       "1                                                                    0.100000   \n",
       "Reaction to Other Uninvolved Vehicle                                 0.180254   \n",
       "Oversized Vehicle                                                    0.069951   \n",
       "Other Lighting Defects                                               0.447761   \n",
       "80                                                                   0.257426   \n",
       "Listening/Using Headphones                                           0.600000   \n",
       "Lane Marking Improper/Inadequate                                     0.135897   \n",
       "Illness                                                              0.234940   \n",
       "Headlights Defective                                                 0.436782   \n",
       "Eating or Drinking                                                   0.263889   \n",
       "Cell Phone (hands-free)                                              0.279835   \n",
       "Cell Phone (hand-held)                                               0.367089   \n",
       "Cell Phone (hand-Held)                                               0.459732   \n",
       "Brakes Defective                                                     0.463069   \n",
       "Animals Action                                                       0.197318   \n",
       "Accelerator Defective                                                0.456790   \n",
       "Windshield Inadequate                                                0.287879   \n",
       "\n",
       "                                                    NUMBER OF PERSONS KILLED  \n",
       "CONTRIBUTING FACTOR VEHICLE 1                                                 \n",
       "Illnes                                                              0.037129  \n",
       "Drugs (illegal)                                                     0.014184  \n",
       "Unsafe Speed                                                        0.010269  \n",
       "Pedestrian/Bicyclist/Other Pedestrian Error/Con...                  0.008727  \n",
       "Passenger Distraction                                               0.007299  \n",
       "Traffic Control Disregarded                                         0.007286  \n",
       "Drugs (Illegal)                                                     0.007160  \n",
       "Tow Hitch Defective                                                 0.006494  \n",
       "Alcohol Involvement                                                 0.004188  \n",
       "Physical Disability                                                 0.003282  \n",
       "Driverless/Runaway Vehicle                                          0.002743  \n",
       "Pavement Defective                                                  0.002713  \n",
       "Fell Asleep                                                         0.002591  \n",
       "Failure to Yield Right-of-Way                                       0.001911  \n",
       "View Obstructed/Limited                                             0.001347  \n",
       "Other Electronic Device                                             0.001313  \n",
       "Tire Failure/Inadequate                                             0.001229  \n",
       "Aggressive Driving/Road Rage                                        0.001216  \n",
       "Unspecified                                                         0.001131  \n",
       "Lost Consciousness                                                  0.001127  \n",
       "Failure to Keep Right                                               0.001121  \n",
       "Driver Inexperience                                                 0.001086  \n",
       "Driver Inattention/Distraction                                      0.000757  \n",
       "Obstruction/Debris                                                  0.000640  \n",
       "Glare                                                               0.000626  \n",
       "Backing Unsafely                                                    0.000524  \n",
       "Outside Car Distraction                                             0.000517  \n",
       "Prescription Medication                                             0.000456  \n",
       "Pavement Slippery                                                   0.000452  \n",
       "Other Vehicular                                                     0.000434  \n",
       "...                                                                      ...  \n",
       "Reaction to Uninvolved Vehicle                                      0.000323  \n",
       "Following Too Closely                                               0.000279  \n",
       "Turning Improperly                                                  0.000256  \n",
       "Unsafe Lane Changing                                                0.000252  \n",
       "Passing Too Closely                                                 0.000065  \n",
       "Fatigued/Drowsy                                                     0.000064  \n",
       "Traffic Control Device Improper/Non-Working                         0.000000  \n",
       "Vehicle Vandalism                                                   0.000000  \n",
       "Steering Failure                                                    0.000000  \n",
       "Using On Board Navigation Device                                    0.000000  \n",
       "Texting                                                             0.000000  \n",
       "Tinted Windows                                                      0.000000  \n",
       "Shoulders Defective/Improper                                        0.000000  \n",
       "1                                                                   0.000000  \n",
       "Reaction to Other Uninvolved Vehicle                                0.000000  \n",
       "Oversized Vehicle                                                   0.000000  \n",
       "Other Lighting Defects                                              0.000000  \n",
       "80                                                                  0.000000  \n",
       "Listening/Using Headphones                                          0.000000  \n",
       "Lane Marking Improper/Inadequate                                    0.000000  \n",
       "Illness                                                             0.000000  \n",
       "Headlights Defective                                                0.000000  \n",
       "Eating or Drinking                                                  0.000000  \n",
       "Cell Phone (hands-free)                                             0.000000  \n",
       "Cell Phone (hand-held)                                              0.000000  \n",
       "Cell Phone (hand-Held)                                              0.000000  \n",
       "Brakes Defective                                                    0.000000  \n",
       "Animals Action                                                      0.000000  \n",
       "Accelerator Defective                                               0.000000  \n",
       "Windshield Inadequate                                               0.000000  \n",
       "\n",
       "[61 rows x 2 columns]"
      ]
     },
     "execution_count": 10,
     "metadata": {},
     "output_type": "execute_result"
    }
   ],
   "source": [
    "pd.pivot_table(\n",
    "    data = df,\n",
    "    index = 'CONTRIBUTING FACTOR VEHICLE 1',\n",
    "    aggfunc = 'mean',\n",
    "    values = ['NUMBER OF PERSONS INJURED', 'NUMBER OF PERSONS KILLED']\n",
    ").sort_values('NUMBER OF PERSONS KILLED', ascending=False)"
   ]
  },
  {
   "cell_type": "code",
   "execution_count": null,
   "metadata": {
    "hidden": true
   },
   "outputs": [],
   "source": []
  },
  {
   "cell_type": "markdown",
   "metadata": {
    "heading_collapsed": true
   },
   "source": [
    "### Task 6\n",
    "\n",
    "Break down the accidents by borough and contributing factor. Use the `pivot_table` function of Pandas\n",
    " "
   ]
  },
  {
   "cell_type": "code",
   "execution_count": null,
   "metadata": {
    "hidden": true
   },
   "outputs": [],
   "source": []
  },
  {
   "cell_type": "markdown",
   "metadata": {
    "hidden": true,
    "solution2": "hidden",
    "solution2_first": true
   },
   "source": [
    "#### Solution"
   ]
  },
  {
   "cell_type": "code",
   "execution_count": null,
   "metadata": {
    "hidden": true,
    "solution2": "hidden"
   },
   "outputs": [],
   "source": [
    "pivot = pd.pivot_table(\n",
    "    data = df, # we analyze the df (accidents) dataframe\n",
    "    index = 'CONTRIBUTING FACTOR VEHICLE 1', \n",
    "    columns = 'BOROUGH', \n",
    "    values = 'UNIQUE KEY', \n",
    "    aggfunc = 'count'\n",
    ")\n",
    "pivot"
   ]
  },
  {
   "cell_type": "markdown",
   "metadata": {
    "heading_collapsed": true
   },
   "source": [
    "### Task 7\n",
    "\n",
    "Find the dates with the most accidents. Can you figure out what happened on these days? \n"
   ]
  },
  {
   "cell_type": "code",
   "execution_count": null,
   "metadata": {
    "hidden": true
   },
   "outputs": [],
   "source": []
  },
  {
   "cell_type": "markdown",
   "metadata": {
    "hidden": true,
    "solution2": "hidden",
    "solution2_first": true
   },
   "source": [
    "#### Solution"
   ]
  },
  {
   "cell_type": "code",
   "execution_count": null,
   "metadata": {
    "hidden": true,
    "solution2": "hidden"
   },
   "outputs": [],
   "source": [
    "df.DATE.value_counts()"
   ]
  },
  {
   "cell_type": "markdown",
   "metadata": {
    "heading_collapsed": true
   },
   "source": [
    "### Task 8\n",
    "\n",
    "Plot the number of accidents per day. (Hint: Ensure that your date column is in the right datatype and that it is properly sorted, before plotting)\n"
   ]
  },
  {
   "cell_type": "code",
   "execution_count": null,
   "metadata": {
    "hidden": true
   },
   "outputs": [],
   "source": []
  },
  {
   "cell_type": "code",
   "execution_count": null,
   "metadata": {
    "hidden": true
   },
   "outputs": [],
   "source": []
  },
  {
   "cell_type": "markdown",
   "metadata": {
    "hidden": true,
    "solution2": "hidden",
    "solution2_first": true
   },
   "source": [
    "#### Solution "
   ]
  },
  {
   "cell_type": "code",
   "execution_count": null,
   "metadata": {
    "hidden": true,
    "solution2": "hidden"
   },
   "outputs": [],
   "source": [
    "df['DATE'] = pd.to_datetime(df['DATE'], format=\"%m/%d/%Y\")"
   ]
  },
  {
   "cell_type": "code",
   "execution_count": 11,
   "metadata": {
    "hidden": true,
    "solution2": "hidden"
   },
   "outputs": [
    {
     "ename": "TypeError",
     "evalue": "Only valid with DatetimeIndex, TimedeltaIndex or PeriodIndex, but got an instance of 'Index'",
     "output_type": "error",
     "traceback": [
      "\u001b[0;31m---------------------------------------------------------------------------\u001b[0m",
      "\u001b[0;31mTypeError\u001b[0m                                 Traceback (most recent call last)",
      "\u001b[0;32m<ipython-input-11-737536e9961e>\u001b[0m in \u001b[0;36m<module>\u001b[0;34m\u001b[0m\n\u001b[1;32m      2\u001b[0m     \u001b[0mdf\u001b[0m\u001b[0;34m.\u001b[0m\u001b[0mDATE\u001b[0m\u001b[0;34m.\u001b[0m\u001b[0mvalue_counts\u001b[0m\u001b[0;34m(\u001b[0m\u001b[0;34m)\u001b[0m \u001b[0;31m# count the number of accidents per day\u001b[0m\u001b[0;34m\u001b[0m\u001b[0;34m\u001b[0m\u001b[0m\n\u001b[1;32m      3\u001b[0m     \u001b[0;34m.\u001b[0m\u001b[0msort_index\u001b[0m\u001b[0;34m(\u001b[0m\u001b[0;34m)\u001b[0m \u001b[0;31m# sort the dates\u001b[0m\u001b[0;34m\u001b[0m\u001b[0;34m\u001b[0m\u001b[0m\n\u001b[0;32m----> 4\u001b[0;31m     \u001b[0;34m.\u001b[0m\u001b[0mresample\u001b[0m\u001b[0;34m(\u001b[0m\u001b[0;34m'1M'\u001b[0m\u001b[0;34m)\u001b[0m \u001b[0;31m# take periods of 1 month\u001b[0m\u001b[0;34m\u001b[0m\u001b[0;34m\u001b[0m\u001b[0m\n\u001b[0m\u001b[1;32m      5\u001b[0m     \u001b[0;34m.\u001b[0m\u001b[0msum\u001b[0m\u001b[0;34m(\u001b[0m\u001b[0;34m)\u001b[0m \u001b[0;31m# sum the number of accidents per month\u001b[0m\u001b[0;34m\u001b[0m\u001b[0;34m\u001b[0m\u001b[0m\n\u001b[1;32m      6\u001b[0m     \u001b[0;34m.\u001b[0m\u001b[0mdrop\u001b[0m\u001b[0;34m(\u001b[0m\u001b[0mpd\u001b[0m\u001b[0;34m.\u001b[0m\u001b[0mto_datetime\u001b[0m\u001b[0;34m(\u001b[0m\u001b[0;34m'2019-05-31'\u001b[0m\u001b[0;34m)\u001b[0m\u001b[0;34m,\u001b[0m \u001b[0maxis\u001b[0m\u001b[0;34m=\u001b[0m\u001b[0;34m'index'\u001b[0m\u001b[0;34m)\u001b[0m \u001b[0;31m# drop the current month\u001b[0m\u001b[0;34m\u001b[0m\u001b[0;34m\u001b[0m\u001b[0m\n",
      "\u001b[0;32m/usr/local/lib/python3.6/dist-packages/pandas/core/generic.py\u001b[0m in \u001b[0;36mresample\u001b[0;34m(self, rule, how, axis, fill_method, closed, label, convention, kind, loffset, limit, base, on, level)\u001b[0m\n\u001b[1;32m   8153\u001b[0m                      \u001b[0maxis\u001b[0m\u001b[0;34m=\u001b[0m\u001b[0maxis\u001b[0m\u001b[0;34m,\u001b[0m \u001b[0mkind\u001b[0m\u001b[0;34m=\u001b[0m\u001b[0mkind\u001b[0m\u001b[0;34m,\u001b[0m \u001b[0mloffset\u001b[0m\u001b[0;34m=\u001b[0m\u001b[0mloffset\u001b[0m\u001b[0;34m,\u001b[0m\u001b[0;34m\u001b[0m\u001b[0;34m\u001b[0m\u001b[0m\n\u001b[1;32m   8154\u001b[0m                      \u001b[0mconvention\u001b[0m\u001b[0;34m=\u001b[0m\u001b[0mconvention\u001b[0m\u001b[0;34m,\u001b[0m\u001b[0;34m\u001b[0m\u001b[0;34m\u001b[0m\u001b[0m\n\u001b[0;32m-> 8155\u001b[0;31m                      base=base, key=on, level=level)\n\u001b[0m\u001b[1;32m   8156\u001b[0m         return _maybe_process_deprecations(r,\n\u001b[1;32m   8157\u001b[0m                                            \u001b[0mhow\u001b[0m\u001b[0;34m=\u001b[0m\u001b[0mhow\u001b[0m\u001b[0;34m,\u001b[0m\u001b[0;34m\u001b[0m\u001b[0;34m\u001b[0m\u001b[0m\n",
      "\u001b[0;32m/usr/local/lib/python3.6/dist-packages/pandas/core/resample.py\u001b[0m in \u001b[0;36mresample\u001b[0;34m(obj, kind, **kwds)\u001b[0m\n\u001b[1;32m   1248\u001b[0m     \"\"\"\n\u001b[1;32m   1249\u001b[0m     \u001b[0mtg\u001b[0m \u001b[0;34m=\u001b[0m \u001b[0mTimeGrouper\u001b[0m\u001b[0;34m(\u001b[0m\u001b[0;34m**\u001b[0m\u001b[0mkwds\u001b[0m\u001b[0;34m)\u001b[0m\u001b[0;34m\u001b[0m\u001b[0;34m\u001b[0m\u001b[0m\n\u001b[0;32m-> 1250\u001b[0;31m     \u001b[0;32mreturn\u001b[0m \u001b[0mtg\u001b[0m\u001b[0;34m.\u001b[0m\u001b[0m_get_resampler\u001b[0m\u001b[0;34m(\u001b[0m\u001b[0mobj\u001b[0m\u001b[0;34m,\u001b[0m \u001b[0mkind\u001b[0m\u001b[0;34m=\u001b[0m\u001b[0mkind\u001b[0m\u001b[0;34m)\u001b[0m\u001b[0;34m\u001b[0m\u001b[0;34m\u001b[0m\u001b[0m\n\u001b[0m\u001b[1;32m   1251\u001b[0m \u001b[0;34m\u001b[0m\u001b[0m\n\u001b[1;32m   1252\u001b[0m \u001b[0;34m\u001b[0m\u001b[0m\n",
      "\u001b[0;32m/usr/local/lib/python3.6/dist-packages/pandas/core/resample.py\u001b[0m in \u001b[0;36m_get_resampler\u001b[0;34m(self, obj, kind)\u001b[0m\n\u001b[1;32m   1378\u001b[0m         raise TypeError(\"Only valid with DatetimeIndex, \"\n\u001b[1;32m   1379\u001b[0m                         \u001b[0;34m\"TimedeltaIndex or PeriodIndex, \"\u001b[0m\u001b[0;34m\u001b[0m\u001b[0;34m\u001b[0m\u001b[0m\n\u001b[0;32m-> 1380\u001b[0;31m                         \"but got an instance of %r\" % type(ax).__name__)\n\u001b[0m\u001b[1;32m   1381\u001b[0m \u001b[0;34m\u001b[0m\u001b[0m\n\u001b[1;32m   1382\u001b[0m     \u001b[0;32mdef\u001b[0m \u001b[0m_get_grouper\u001b[0m\u001b[0;34m(\u001b[0m\u001b[0mself\u001b[0m\u001b[0;34m,\u001b[0m \u001b[0mobj\u001b[0m\u001b[0;34m,\u001b[0m \u001b[0mvalidate\u001b[0m\u001b[0;34m=\u001b[0m\u001b[0;32mTrue\u001b[0m\u001b[0;34m)\u001b[0m\u001b[0;34m:\u001b[0m\u001b[0;34m\u001b[0m\u001b[0;34m\u001b[0m\u001b[0m\n",
      "\u001b[0;31mTypeError\u001b[0m: Only valid with DatetimeIndex, TimedeltaIndex or PeriodIndex, but got an instance of 'Index'"
     ]
    }
   ],
   "source": [
    "(\n",
    "    df.DATE.value_counts() # count the number of accidents per day\n",
    "    .sort_index() # sort the dates\n",
    "    .resample('1M') # take periods of 1 month\n",
    "    .sum() # sum the number of accidents per month\n",
    "    .plot() # plot the result\n",
    ")"
   ]
  },
  {
   "cell_type": "code",
   "execution_count": null,
   "metadata": {
    "hidden": true
   },
   "outputs": [],
   "source": []
  }
 ],
 "metadata": {
  "kernelspec": {
   "display_name": "Python 3",
   "language": "python",
   "name": "python3"
  },
  "language_info": {
   "codemirror_mode": {
    "name": "ipython",
    "version": 3
   },
   "file_extension": ".py",
   "mimetype": "text/x-python",
   "name": "python",
   "nbconvert_exporter": "python",
   "pygments_lexer": "ipython3",
   "version": "3.6.7"
  }
 },
 "nbformat": 4,
 "nbformat_minor": 1
}
