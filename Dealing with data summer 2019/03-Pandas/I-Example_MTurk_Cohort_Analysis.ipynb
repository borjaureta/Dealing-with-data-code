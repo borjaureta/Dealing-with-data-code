{
 "cells": [
  {
   "cell_type": "markdown",
   "metadata": {},
   "source": [
    "### Cohort Analysis"
   ]
  },
  {
   "cell_type": "code",
   "execution_count": null,
   "metadata": {},
   "outputs": [],
   "source": [
    "%matplotlib inline\n",
    "import matplotlib.pyplot as plt\n"
   ]
  },
  {
   "cell_type": "code",
   "execution_count": null,
   "metadata": {},
   "outputs": [],
   "source": [
    "!curl https://dl.dropboxusercontent.com/u/16006464/client_secret.json -o client_secret.json"
   ]
  },
  {
   "cell_type": "code",
   "execution_count": null,
   "metadata": {},
   "outputs": [],
   "source": [
    "# Connect to the BigQuery API\n",
    "from googleapiclient.discovery import build\n",
    "from oauth2client import client\n",
    "credentials = client._get_application_default_credential_from_file('client_secret.json')\n",
    "credentials = credentials.create_scoped('https://www.googleapis.com/auth/bigquery')\n",
    "bigquery_service = build('bigquery', 'v2', credentials=credentials)"
   ]
  },
  {
   "cell_type": "code",
   "execution_count": null,
   "metadata": {},
   "outputs": [],
   "source": [
    "# Run a SQL query\n",
    "#\n",
    "# The first subquery S computes the total amount of rewards posted by a requester\n",
    "# which we then aggregate by month.\n",
    "# The second subquery C computes the cohort of the requester; we define as cohort_id\n",
    "# the month in which we have first seen a requester in our data.\n",
    "#\n",
    "# The string manipulation is just to get the dates\n",
    "# represented as YYYY-MM\n",
    "# \n",
    "# For efficiency, we store the results in a BigQuery table first, retrieve on Python directly\n",
    "# from the materialized table.\n",
    "'''\n",
    "SELECT\n",
    "  SUM(S.reward) AS reward, S.year_month AS year_month, S.requesterId AS requesterId, C.cohort AS cohort\n",
    "FROM (\n",
    "  SELECT\n",
    "    -I.rewardDiff/100 AS reward,\n",
    "    STRING(YEAR(I.timestamp)) + '-' + RIGHT('0' + STRING(MONTH(I.timestamp)), 2) AS year_month,\n",
    "    G.requesterId AS requesterId\n",
    "  FROM\n",
    "    entities.HITinstance I\n",
    "  INNER JOIN\n",
    "    entities.HITgroup G\n",
    "  ON\n",
    "    G.groupId=I.groupId\n",
    "  WHERE\n",
    "    I.rewardDiff<0 AND I.rewardDiff>-1000000) S\n",
    "INNER JOIN (\n",
    "  SELECT\n",
    "    requesterId,\n",
    "    STRING(YEAR(MIN(firstSeen))) + '-' + RIGHT('0' + STRING(MONTH(MIN(firstSeen))), 2) AS cohort\n",
    "  FROM\n",
    "    entities.HITgroup\n",
    "  GROUP BY\n",
    "    requesterId) C\n",
    "ON\n",
    "  S. requesterId = C.requesterId\n",
    "GROUP BY\n",
    "  requesterId, year_month, cohort\n",
    "ORDER BY\n",
    "  requesterId, year_month\n",
    "'''\n",
    "\n",
    "\n",
    "query_request = bigquery_service.jobs()\n",
    "query_data = {\n",
    "    'query': (\n",
    "        '''\n",
    "SELECT * FROM entities.m_cohort_rewards_per_month\n",
    "WHERE year_month!='2016-03' AND cohort!='2014-05'\n",
    "ORDER BY cohort, requesterId, year_month\n",
    "        ''')\n",
    "}\n",
    "\n",
    "query_response = query_request.query(\n",
    "            projectId='crowd-power',\n",
    "            body=query_data).execute()"
   ]
  },
  {
   "cell_type": "code",
   "execution_count": null,
   "metadata": {},
   "outputs": [],
   "source": [
    "# Put the SQL results in a Pandas Dataframe\n",
    "import pandas as pd\n",
    "import numpy as np\n",
    "columns = [f.get('name') for f in query_response['schema']['fields']]\n",
    "rows = [tuple([row['f'][i]['v'] for i in range(len(row['f']))]) for row in query_response['rows']]\n",
    "df = pd.DataFrame(data=rows, columns=columns, dtype=float)\n",
    "df.to_csv(\"cohort-analysis-rewards.csv\")\n",
    "df"
   ]
  },
  {
   "cell_type": "code",
   "execution_count": null,
   "metadata": {},
   "outputs": [],
   "source": [
    "# Transform the dataframe into a table with cohorts as rows and year_month of activity columns. Each cell contains the \n",
    "# sum of \n",
    "pivot = pd.pivot_table(df, \n",
    "                       values='requesterId', \n",
    "                       index=['year_month'], \n",
    "                       columns=['cohort'], \n",
    "                       aggfunc=lambda x: len(x.unique()))\n",
    "pivot"
   ]
  },
  {
   "cell_type": "code",
   "execution_count": null,
   "metadata": {},
   "outputs": [],
   "source": [
    "f = plt.figure(edgecolor='k')\n",
    "ax=f.gca()\n",
    "pivot.plot(kind='area', stacked=True, legend=True, figsize=(16,8), cmap='Paired', grid=True, ax=ax);\n",
    "\n",
    "plt.title('Amazon Mechanical Turk Cohort Analysis', color='black')\n",
    "plt.legend(loc='lower center', ncol=8, bbox_to_anchor=[0.5, -0.25])\n",
    "ax.set_ylabel(\"Requesters active at least once within the month\")\n",
    "ax.set_xlabel(\"Date\")\n",
    "plt.show()\n",
    "\n",
    "f.savefig('mturk-cohort-analysis.png', bbox_inches='tight')"
   ]
  },
  {
   "cell_type": "code",
   "execution_count": null,
   "metadata": {},
   "outputs": [],
   "source": [
    "# Transform the dataframe into a table with cohorts as rows and year_month of activity columns. Each cell contains the \n",
    "# sum of \n",
    "pivot = pd.pivot_table(df, values='reward', index=['year_month'], columns=['cohort'], aggfunc=np.sum)\n",
    "pivot"
   ]
  },
  {
   "cell_type": "code",
   "execution_count": null,
   "metadata": {},
   "outputs": [],
   "source": [
    "f = plt.figure(edgecolor='k')\n",
    "ax=f.gca()\n",
    "pivot.plot(kind='area', stacked=True, legend=True, figsize=(16,8), cmap='Paired', grid=True, ax=ax);\n",
    "\n",
    "plt.title('Amazon Mechanical Turk Cohort Analysis', color='black')\n",
    "plt.legend(loc='lower center', ncol=8, bbox_to_anchor=[0.5, -0.25])\n",
    "ax.set_ylabel(\"Rewards Posted\")\n",
    "ax.set_xlabel(\"Date\")\n",
    "plt.show()\n",
    "\n",
    "f.savefig('mturk-cohort-analysis.png', bbox_inches='tight')"
   ]
  },
  {
   "cell_type": "code",
   "execution_count": null,
   "metadata": {},
   "outputs": [],
   "source": []
  }
 ],
 "metadata": {
  "kernelspec": {
   "display_name": "Python 3",
   "language": "python",
   "name": "python3"
  },
  "language_info": {
   "codemirror_mode": {
    "name": "ipython",
    "version": 3
   },
   "file_extension": ".py",
   "mimetype": "text/x-python",
   "name": "python",
   "nbconvert_exporter": "python",
   "pygments_lexer": "ipython3",
   "version": "3.5.2"
  }
 },
 "nbformat": 4,
 "nbformat_minor": 1
}
