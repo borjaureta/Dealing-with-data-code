{
 "cells": [
  {
   "cell_type": "code",
   "execution_count": null,
   "metadata": {},
   "outputs": [],
   "source": [
    "import requests"
   ]
  },
  {
   "cell_type": "markdown",
   "metadata": {},
   "source": [
    "We are going to use the \"Client Credentials Flow\" from https://developer.spotify.com/web-api/authorization-guide/#client_credentials_flow"
   ]
  },
  {
   "cell_type": "code",
   "execution_count": null,
   "metadata": {},
   "outputs": [],
   "source": [
    "# We first create an app on https://developer.spotify.com\n",
    "# and we get the client ID and client secret\n",
    "# NOTE/PANOS: I have disabled my client_secret. \n",
    "# Please register and get your own credentials if you want to run the code\n",
    "client_id = 'f50bb3a5dd0946fdb02c6c6459d69aea'\n",
    "client_secret = '3e72b403842a4713afef76c5aefddbe0'"
   ]
  },
  {
   "cell_type": "code",
   "execution_count": null,
   "metadata": {},
   "outputs": [],
   "source": [
    "# We use the \"Client Credentials Flow\" from https://developer.spotify.com/web-api/authorization-guide/#client_credentials_flow\n",
    "# We will submit the client id and client secret, to get back our \"access token\"\n",
    "body_params = {'grant_type' : 'client_credentials'}\n",
    "url = 'https://accounts.spotify.com/api/token'\n",
    "auth_data = requests.post(url, data=body_params, auth=(client_id, client_secret)).json()\n",
    "auth_data"
   ]
  },
  {
   "cell_type": "code",
   "execution_count": null,
   "metadata": {},
   "outputs": [],
   "source": [
    "# We will be using now the access_token to authenticate our app with Spotify\n",
    "#\n",
    "# We test this API call https://developer.spotify.com/web-api/search-item/\n",
    "url = 'https://api.spotify.com/v1/search'\n",
    "auth_header = {'Authorization': 'Bearer ' + auth_data['access_token']}\n",
    "parameters = {\n",
    "    \"q\"     : \"November Rain\",\n",
    "    \"type\"  : \"track\",\n",
    "    \"limit\" : 50\n",
    "}\n",
    "response = requests.get(url, headers=auth_header, params=parameters).json()\n",
    "response"
   ]
  },
  {
   "cell_type": "code",
   "execution_count": null,
   "metadata": {},
   "outputs": [],
   "source": [
    "response.keys()"
   ]
  },
  {
   "cell_type": "code",
   "execution_count": null,
   "metadata": {},
   "outputs": [],
   "source": [
    "response['tracks'].keys()"
   ]
  },
  {
   "cell_type": "code",
   "execution_count": null,
   "metadata": {},
   "outputs": [],
   "source": [
    "response['tracks']['next']"
   ]
  },
  {
   "cell_type": "code",
   "execution_count": null,
   "metadata": {},
   "outputs": [],
   "source": [
    "response['tracks']['total']"
   ]
  },
  {
   "cell_type": "code",
   "execution_count": null,
   "metadata": {},
   "outputs": [],
   "source": [
    "response['tracks']['items']"
   ]
  },
  {
   "cell_type": "code",
   "execution_count": null,
   "metadata": {},
   "outputs": [],
   "source": [
    "# Let's take a look at the first returned result\n",
    "first_returned_track = response['tracks']['items'][0]"
   ]
  },
  {
   "cell_type": "code",
   "execution_count": null,
   "metadata": {},
   "outputs": [],
   "source": [
    "first_returned_track.keys()"
   ]
  },
  {
   "cell_type": "code",
   "execution_count": null,
   "metadata": {},
   "outputs": [],
   "source": [
    "first_returned_track['artists']"
   ]
  },
  {
   "cell_type": "code",
   "execution_count": null,
   "metadata": {},
   "outputs": [],
   "source": [
    "first_returned_track['album']"
   ]
  },
  {
   "cell_type": "code",
   "execution_count": null,
   "metadata": {},
   "outputs": [],
   "source": [
    "first_returned_track['popularity']"
   ]
  },
  {
   "cell_type": "code",
   "execution_count": null,
   "metadata": {},
   "outputs": [],
   "source": [
    "# Now, let's create a dataframe to see all the returned data\n",
    "import pandas as pd\n",
    "\n",
    "df = pd.DataFrame(response['tracks']['items'])\n",
    "df"
   ]
  },
  {
   "cell_type": "code",
   "execution_count": null,
   "metadata": {},
   "outputs": [],
   "source": [
    "# And we will use json_normalize to flatten the elements that are dictionaries\n",
    "# We will still have elements that contain lists\n",
    "from pandas.io.json import json_normalize\n",
    "\n",
    "df_normalized = json_normalize(response['tracks']['items'])\n",
    "df_normalized.dtypes"
   ]
  },
  {
   "cell_type": "code",
   "execution_count": null,
   "metadata": {},
   "outputs": [],
   "source": [
    "df_normalized"
   ]
  },
  {
   "cell_type": "code",
   "execution_count": null,
   "metadata": {},
   "outputs": [],
   "source": []
  }
 ],
 "metadata": {
  "kernelspec": {
   "display_name": "Python 3",
   "language": "python",
   "name": "python3"
  },
  "language_info": {
   "codemirror_mode": {
    "name": "ipython",
    "version": 3
   },
   "file_extension": ".py",
   "mimetype": "text/x-python",
   "name": "python",
   "nbconvert_exporter": "python",
   "pygments_lexer": "ipython3",
   "version": "3.6.7"
  }
 },
 "nbformat": 4,
 "nbformat_minor": 2
}
