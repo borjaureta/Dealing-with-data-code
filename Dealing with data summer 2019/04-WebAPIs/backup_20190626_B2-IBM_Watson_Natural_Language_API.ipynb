{
 "cells": [
  {
   "cell_type": "markdown",
   "metadata": {},
   "source": [
    "# Interacting with the IBM Watson Natural Language Understanding API; POST vs GET\n",
    "\n",
    "Another useful API, especially when dealing with text, is the [IBM Watson  Natural Language Understanding API](https://console.bluemix.net/catalog/services/natural-language-understanding), which offers a variety of text analysis functionalities, such as sentiment analysis, entity extraction, keyword extraction, etc.\n",
    "\n",
    "We will give a couple of examples below, to understand how we can take an unstructured piece of text (either the text alone, or a URL with text), and extract some \"semi-structured\" representation of its content.\n",
    "\n",
    "\n",
    "\n",
    "## /analyze call\n",
    "\n",
    "We will first start with the `GET /analyze` API call ([documentation](https://www.ibm.com/watson/developercloud/natural-language-understanding/api/v1/#get-analyze)), which takes as input a piece of text, and returns an analysis across various dimensions.\n",
    "\n",
    "The call below gets as input a \"text\" variable, and returns back the sentiment of the text."
   ]
  },
  {
   "cell_type": "code",
   "execution_count": 1,
   "metadata": {},
   "outputs": [],
   "source": [
    "import requests\n",
    "import json\n",
    "\n",
    "def getSentiment(text):\n",
    "    endpoint = \"https://gateway.watsonplatform.net/natural-language-understanding/api/v1/analyze\"\n",
    "\n",
    "    # You can register and get your own credentials\n",
    "    # The ones below have a quota of 1000 calls per day \n",
    "    # and can run out quickly if multiple people use these\n",
    "    username = \"711b4792-170d-490f-ac0e-5d785a271868\"\n",
    "    password = \"No7JUOE1UOYu\"\n",
    "    \n",
    "    parameters = {\n",
    "        'features': 'emotion,sentiment',\n",
    "        'version' : '2017-02-27',\n",
    "        'text': text,\n",
    "        'language' : 'en',\n",
    "        # url = url_to_analyze, this is an alternative to sending the text\n",
    "    }\n",
    "\n",
    "    resp = requests.get(endpoint, params=parameters, auth=(username, password))\n",
    "    \n",
    "    return resp.json()"
   ]
  },
  {
   "cell_type": "code",
   "execution_count": 10,
   "metadata": {},
   "outputs": [],
   "source": [
    "# Some text from http://www.espn.com/nba/story/_/id/26833423/giannis-wants-bucks-free-agents-back-next-year\n",
    "\n",
    "# We will analyze the text below using the IBM Watson API\n",
    "\n",
    "text = '''\n",
    "There are certain people you meet throughout your life that make a (positive) difference. Chris is definitely one of them. Since I moved to the U.S. he has been one of my closest and dearest friends. I think he is an admirable and exemplary person in every possible aspect, on top of being really fun and sharing all the “Aussie traits” mentioned earlier. Yes, that’s right! He is an Aussie and he loves to travel!\n",
    "\n",
    "So who would be best to talk about Australia than one of its expat locals, who has lived in Perth and Sydney and has traveled the country upside down?\n",
    "\n",
    "I hope you enjoy this post. I couldn’t thank Chris enough for devoting his time to preparing such a great amount of valuable information. If I had the power to send everybody that reads this a treasure, it would be a friend like Chris.\n",
    "'''"
   ]
  },
  {
   "cell_type": "code",
   "execution_count": 11,
   "metadata": {},
   "outputs": [],
   "source": [
    "data = getSentiment(text)"
   ]
  },
  {
   "cell_type": "markdown",
   "metadata": {},
   "source": [
    "Now, let's try to understand the structure of the answer. First, we check the high-level keys."
   ]
  },
  {
   "cell_type": "code",
   "execution_count": 12,
   "metadata": {},
   "outputs": [
    {
     "data": {
      "text/plain": [
       "dict_keys(['usage', 'sentiment', 'language', 'emotion'])"
      ]
     },
     "execution_count": 12,
     "metadata": {},
     "output_type": "execute_result"
    }
   ],
   "source": [
    "data.keys()"
   ]
  },
  {
   "cell_type": "markdown",
   "metadata": {},
   "source": [
    "Now, let's check the content of these keys:"
   ]
  },
  {
   "cell_type": "code",
   "execution_count": 13,
   "metadata": {},
   "outputs": [
    {
     "data": {
      "text/plain": [
       "'en'"
      ]
     },
     "execution_count": 13,
     "metadata": {},
     "output_type": "execute_result"
    }
   ],
   "source": [
    "data['language']"
   ]
  },
  {
   "cell_type": "code",
   "execution_count": 14,
   "metadata": {},
   "outputs": [
    {
     "data": {
      "text/plain": [
       "{'document': {'score': 0.880418, 'label': 'positive'}}"
      ]
     },
     "execution_count": 14,
     "metadata": {},
     "output_type": "execute_result"
    }
   ],
   "source": [
    "data['sentiment']"
   ]
  },
  {
   "cell_type": "code",
   "execution_count": 15,
   "metadata": {},
   "outputs": [
    {
     "data": {
      "text/plain": [
       "{'document': {'emotion': {'sadness': 0.472408,\n",
       "   'joy': 0.700614,\n",
       "   'fear': 0.049824,\n",
       "   'disgust': 0.05452,\n",
       "   'anger': 0.070944}}}"
      ]
     },
     "execution_count": 15,
     "metadata": {},
     "output_type": "execute_result"
    }
   ],
   "source": [
    "data['emotion']"
   ]
  },
  {
   "cell_type": "code",
   "execution_count": 16,
   "metadata": {},
   "outputs": [
    {
     "data": {
      "text/plain": [
       "{'emotion': {'sadness': 0.472408,\n",
       "  'joy': 0.700614,\n",
       "  'fear': 0.049824,\n",
       "  'disgust': 0.05452,\n",
       "  'anger': 0.070944}}"
      ]
     },
     "execution_count": 16,
     "metadata": {},
     "output_type": "execute_result"
    }
   ],
   "source": [
    "# Let's go deeper into the 'emotion' dictionary\n",
    "data['emotion']['document']"
   ]
  },
  {
   "cell_type": "code",
   "execution_count": 17,
   "metadata": {},
   "outputs": [
    {
     "data": {
      "text/plain": [
       "{'sadness': 0.472408,\n",
       " 'joy': 0.700614,\n",
       " 'fear': 0.049824,\n",
       " 'disgust': 0.05452,\n",
       " 'anger': 0.070944}"
      ]
     },
     "execution_count": 17,
     "metadata": {},
     "output_type": "execute_result"
    }
   ],
   "source": [
    "# And a bit more\n",
    "data['emotion']['document']['emotion']"
   ]
  },
  {
   "cell_type": "markdown",
   "metadata": {},
   "source": [
    "### Exercise\n",
    "\n",
    "Type your own piece of text, and analyze it to extract sentiment and emotions. Discuss your findings"
   ]
  },
  {
   "cell_type": "code",
   "execution_count": null,
   "metadata": {},
   "outputs": [],
   "source": []
  },
  {
   "cell_type": "markdown",
   "metadata": {},
   "source": [
    "## Entities call\n",
    "\n",
    "[Full Documentation of the call](https://www.ibm.com/watson/developercloud/natural-language-understanding/api/v1/#entities)\n",
    "\n",
    "This is a an API call that extracts entities from the text, and also the sentiment and emotion for each of these entities.\n",
    "\n",
    "There are two new technical aspects with this API. First of all, we use the command `requests.post` as opposed to `requests.get`. This happens because `GET` is designed to handle limited amount of data. When we have a large volume of data to send as parameters, then the HTTP protocol requires the use of the `POST` command. You will also see that the parameters that we pass are not \"flat\" as they used to be. Instead we submit the `watson_options` as the set of parameters, which is itself semi-structured.\n",
    "\n",
    "In terms of natural language processing, we will examine a couple of capabilities of the API. First, you will see that there is the capability of \"normalizing\" each entity, so that two different ways of saying the same thing get mapped to the same entity. So for example, \"President Trump\" and \"Donald Trump\" get mapped to the same Knowledge Graph entity."
   ]
  },
  {
   "cell_type": "code",
   "execution_count": 18,
   "metadata": {},
   "outputs": [],
   "source": [
    "import requests\n",
    "import json\n",
    "\n",
    "def processURL(url_to_analyze):\n",
    "    endpoint_watson = \"https://gateway.watsonplatform.net/natural-language-understanding/api/v1/analyze\"\n",
    "    params = {\n",
    "        'version': '2017-02-27',\n",
    "    }\n",
    "    headers = { \n",
    "        'Content-Type': 'application/json',\n",
    "    }\n",
    "    watson_options = {\n",
    "      \"url\": url_to_analyze,\n",
    "      \"features\": {\n",
    "        \"entities\": {\n",
    "          \"sentiment\": True,\n",
    "          \"emotion\": True,\n",
    "          \"limit\": 10\n",
    "        }\n",
    "      }\n",
    "    }\n",
    "    username = \"711b4792-170d-490f-ac0e-5d785a271868\"\n",
    "    password = \"No7JUOE1UOYu\"\n",
    "\n",
    "    resp = requests.post(endpoint_watson, \n",
    "                         data=json.dumps(watson_options), \n",
    "                         headers=headers, \n",
    "                         params=params, \n",
    "                         auth=(username, password) \n",
    "                        )\n",
    "    return resp.json()"
   ]
  },
  {
   "cell_type": "code",
   "execution_count": 19,
   "metadata": {},
   "outputs": [],
   "source": [
    "url_to_analyze = 'https://www.aljazeera.com/news/2019/05/iran-hits-trump-nuclear-weapons-comment-190527234526280.html'\n",
    "\n",
    "data = processURL(url_to_analyze)"
   ]
  },
  {
   "cell_type": "code",
   "execution_count": 20,
   "metadata": {},
   "outputs": [
    {
     "data": {
      "text/plain": [
       "dict_keys(['usage', 'retrieved_url', 'language', 'entities'])"
      ]
     },
     "execution_count": 20,
     "metadata": {},
     "output_type": "execute_result"
    }
   ],
   "source": [
    "# Let's see what we get back as top-level attributes\n",
    "data.keys()"
   ]
  },
  {
   "cell_type": "code",
   "execution_count": 21,
   "metadata": {
    "scrolled": true
   },
   "outputs": [
    {
     "data": {
      "text/plain": [
       "[{'type': 'Location',\n",
       "  'text': 'Iran',\n",
       "  'sentiment': {'score': -0.469293, 'label': 'negative'},\n",
       "  'relevance': 0.938809,\n",
       "  'emotion': {'sadness': 0.211997,\n",
       "   'joy': 0.161907,\n",
       "   'fear': 0.149669,\n",
       "   'disgust': 0.111536,\n",
       "   'anger': 0.522634},\n",
       "  'disambiguation': {'subtype': ['Country'],\n",
       "   'name': 'Iran',\n",
       "   'dbpedia_resource': 'http://dbpedia.org/resource/Iran'},\n",
       "  'count': 15},\n",
       " {'type': 'Person',\n",
       "  'text': 'President Donald Trump',\n",
       "  'sentiment': {'score': -0.013948, 'label': 'negative'},\n",
       "  'relevance': 0.861917,\n",
       "  'emotion': {'sadness': 0.520429,\n",
       "   'joy': 0.136396,\n",
       "   'fear': 0.12346,\n",
       "   'disgust': 0.15311,\n",
       "   'anger': 0.11295},\n",
       "  'disambiguation': {'subtype': ['AwardNominee',\n",
       "    'AwardWinner',\n",
       "    'Celebrity',\n",
       "    'CompanyFounder',\n",
       "    'TVPersonality',\n",
       "    'TVProducer',\n",
       "    'FilmActor',\n",
       "    'TVActor'],\n",
       "   'name': 'Donald Trump',\n",
       "   'dbpedia_resource': 'http://dbpedia.org/resource/Donald_Trump'},\n",
       "  'count': 11},\n",
       " {'type': 'Location',\n",
       "  'text': 'United States',\n",
       "  'sentiment': {'score': -0.372395, 'label': 'negative'},\n",
       "  'relevance': 0.589748,\n",
       "  'emotion': {'sadness': 0.512962,\n",
       "   'joy': 0.140457,\n",
       "   'fear': 0.476988,\n",
       "   'disgust': 0.142002,\n",
       "   'anger': 0.600808},\n",
       "  'disambiguation': {'subtype': ['Region',\n",
       "    'AdministrativeDivision',\n",
       "    'GovernmentalJurisdiction',\n",
       "    'FilmEditor',\n",
       "    'Country'],\n",
       "   'name': 'United States',\n",
       "   'dbpedia_resource': 'http://dbpedia.org/resource/United_States'},\n",
       "  'count': 12},\n",
       " {'type': 'Person',\n",
       "  'text': 'Mohammad Javad Zarif',\n",
       "  'sentiment': {'score': 0.103872, 'label': 'positive'},\n",
       "  'relevance': 0.56003,\n",
       "  'emotion': {'sadness': 0.166097,\n",
       "   'joy': 0.235473,\n",
       "   'fear': 0.088432,\n",
       "   'disgust': 0.199449,\n",
       "   'anger': 0.593167},\n",
       "  'disambiguation': {'subtype': [],\n",
       "   'name': 'Mohammad Javad Zarif',\n",
       "   'dbpedia_resource': 'http://dbpedia.org/resource/Mohammad_Javad_Zarif'},\n",
       "  'count': 6},\n",
       " {'type': 'Location',\n",
       "  'text': 'Tehran',\n",
       "  'sentiment': {'score': -0.524519, 'label': 'negative'},\n",
       "  'relevance': 0.393307,\n",
       "  'emotion': {'sadness': 0.238526,\n",
       "   'joy': 0.375608,\n",
       "   'fear': 0.247103,\n",
       "   'disgust': 0.033539,\n",
       "   'anger': 0.162626},\n",
       "  'disambiguation': {'subtype': ['Country']},\n",
       "  'count': 4},\n",
       " {'type': 'Facility',\n",
       "  'text': 'Trump White House',\n",
       "  'sentiment': {'score': 0.0, 'label': 'neutral'},\n",
       "  'relevance': 0.360216,\n",
       "  'emotion': {'sadness': 0.157637,\n",
       "   'joy': 0.115796,\n",
       "   'fear': 0.08514,\n",
       "   'disgust': 0.234971,\n",
       "   'anger': 0.169918},\n",
       "  'count': 1},\n",
       " {'type': 'Location',\n",
       "  'text': 'Middle East',\n",
       "  'sentiment': {'score': -0.479708, 'label': 'negative'},\n",
       "  'relevance': 0.339989,\n",
       "  'emotion': {'sadness': 0.236164,\n",
       "   'joy': 0.224154,\n",
       "   'fear': 0.290825,\n",
       "   'disgust': 0.119935,\n",
       "   'anger': 0.175556},\n",
       "  'disambiguation': {'subtype': ['Region'],\n",
       "   'name': 'Middle East',\n",
       "   'dbpedia_resource': 'http://dbpedia.org/resource/Middle_East'},\n",
       "  'count': 3},\n",
       " {'type': 'Location',\n",
       "  'text': 'Japan',\n",
       "  'sentiment': {'score': -0.185211, 'label': 'negative'},\n",
       "  'relevance': 0.312142,\n",
       "  'emotion': {'sadness': 0.548579,\n",
       "   'joy': 0.17272,\n",
       "   'fear': 0.112423,\n",
       "   'disgust': 0.048439,\n",
       "   'anger': 0.047455},\n",
       "  'disambiguation': {'subtype': ['Country']},\n",
       "  'count': 6},\n",
       " {'type': 'Person',\n",
       "  'text': 'Iranian President Hassan Rouhani',\n",
       "  'sentiment': {'score': 0.0, 'label': 'neutral'},\n",
       "  'relevance': 0.300373,\n",
       "  'emotion': {'sadness': 0.27687,\n",
       "   'joy': 0.397583,\n",
       "   'fear': 0.070792,\n",
       "   'disgust': 0.172658,\n",
       "   'anger': 0.096145},\n",
       "  'count': 1}]"
      ]
     },
     "execution_count": 21,
     "metadata": {},
     "output_type": "execute_result"
    }
   ],
   "source": [
    "# Let' see the entities list\n",
    "data[\"entities\"]"
   ]
  },
  {
   "cell_type": "code",
   "execution_count": 22,
   "metadata": {},
   "outputs": [
    {
     "data": {
      "text/plain": [
       "{'type': 'Location',\n",
       " 'text': 'Iran',\n",
       " 'sentiment': {'score': -0.469293, 'label': 'negative'},\n",
       " 'relevance': 0.938809,\n",
       " 'emotion': {'sadness': 0.211997,\n",
       "  'joy': 0.161907,\n",
       "  'fear': 0.149669,\n",
       "  'disgust': 0.111536,\n",
       "  'anger': 0.522634},\n",
       " 'disambiguation': {'subtype': ['Country'],\n",
       "  'name': 'Iran',\n",
       "  'dbpedia_resource': 'http://dbpedia.org/resource/Iran'},\n",
       " 'count': 15}"
      ]
     },
     "execution_count": 22,
     "metadata": {},
     "output_type": "execute_result"
    }
   ],
   "source": [
    "# Let' see the first entity. Notice the \"disambiguated\" attribute that\n",
    "# points to \"canonical\" versions of the entity, in DBPedia, Freebase, OpenCYC, YAGO, etc\n",
    "data[\"entities\"][0]"
   ]
  },
  {
   "cell_type": "code",
   "execution_count": 23,
   "metadata": {},
   "outputs": [
    {
     "data": {
      "text/plain": [
       "['Iran',\n",
       " 'President Donald Trump',\n",
       " 'United States',\n",
       " 'Mohammad Javad Zarif',\n",
       " 'Tehran',\n",
       " 'Trump White House',\n",
       " 'Middle East',\n",
       " 'Japan',\n",
       " 'Iranian President Hassan Rouhani']"
      ]
     },
     "execution_count": 23,
     "metadata": {},
     "output_type": "execute_result"
    }
   ],
   "source": [
    "# This function takes as input the result\n",
    "# from the IBM Watson API and returns a list\n",
    "# of entities that are relevant (above threshold)\n",
    "# to the article\n",
    "def getEntities(data, threshold):\n",
    "    result = []\n",
    "    for entity in data[\"entities\"]:\n",
    "        relevance = float(entity['relevance'])\n",
    "        if relevance > threshold:\n",
    "            result.append(entity['text'])\n",
    "    return result\n",
    "\n",
    "getEntities(data, 0.25)"
   ]
  },
  {
   "cell_type": "markdown",
   "metadata": {
    "collapsed": true
   },
   "source": [
    "### Exercise\n",
    "\n",
    "* First of all, **get your own credentials for the IBM Watson API**. The demo key that we use above has a limited quota.\n",
    "* Use an API to get news articles. \n",
    "    * Option 1: Use the API at https://newsapi.org to fetch the news from various sources. Print the entities that are currently being discussed in the news, together with their relevance value and the associated sentiment.\n",
    "    * Option 2: Use the NY Times API to fetch the Top Stories News. You can register and get an API key at https://developer.nytimes.com/. The `Top Stories V2 API` provides the details of the news of the day: (The API call documentation is at https://developer.nytimes.com/top_stories_v2.json and the API Call is  https://api.nytimes.com/svc/topstories/v2/home.json?api-key=PUTYOURKEYHERE). Repeat the entity extraction process from above.\n",
    "    * Option 3: Use the Guardian API at https://open-platform.theguardian.com/documentation/ to fetch news from The Guardian.\n"
   ]
  },
  {
   "cell_type": "code",
   "execution_count": null,
   "metadata": {},
   "outputs": [],
   "source": []
  }
 ],
 "metadata": {
  "kernelspec": {
   "display_name": "Python 3",
   "language": "python",
   "name": "python3"
  },
  "language_info": {
   "codemirror_mode": {
    "name": "ipython",
    "version": 3
   },
   "file_extension": ".py",
   "mimetype": "text/x-python",
   "name": "python",
   "nbconvert_exporter": "python",
   "pygments_lexer": "ipython3",
   "version": "3.6.7"
  },
  "toc": {
   "nav_menu": {},
   "number_sections": true,
   "sideBar": true,
   "skip_h1_title": false,
   "title_cell": "Table of Contents",
   "title_sidebar": "Contents",
   "toc_cell": false,
   "toc_position": {},
   "toc_section_display": true,
   "toc_window_display": false
  }
 },
 "nbformat": 4,
 "nbformat_minor": 1
}
