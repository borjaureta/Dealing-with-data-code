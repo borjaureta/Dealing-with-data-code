{
 "cells": [
  {
   "cell_type": "markdown",
   "metadata": {},
   "source": [
    "# Interacting with Web APIs\n",
    "\n"
   ]
  },
  {
   "cell_type": "markdown",
   "metadata": {},
   "source": [
    "We are going to examine now the concept of a Web API. A web API is similar to a function call, but the \"function\" that we call is located in another machine, and we submit the parameters of the function through the web.\n",
    "\n"
   ]
  },
  {
   "cell_type": "markdown",
   "metadata": {},
   "source": [
    "## First Example: GeoIP resolution"
   ]
  },
  {
   "cell_type": "markdown",
   "metadata": {},
   "source": [
    "We will start with an example that is doing a \"geoIP\" resolution: it takes the IP of a computer and returns back its location."
   ]
  },
  {
   "cell_type": "code",
   "execution_count": null,
   "metadata": {},
   "outputs": [],
   "source": [
    "# !sudo -H pip3 install -U requests\n",
    "# import requests\n",
    "# requests.__version__"
   ]
  },
  {
   "cell_type": "code",
   "execution_count": 1,
   "metadata": {},
   "outputs": [],
   "source": [
    "# We first import the requests library\n",
    "import requests\n",
    "url = 'http://api.ipstack.com/check?access_key=dd4cbbbe9d6b9f2709e5f0533644e547'\n",
    "resp = requests.get(url)"
   ]
  },
  {
   "cell_type": "code",
   "execution_count": 2,
   "metadata": {},
   "outputs": [
    {
     "data": {
      "text/plain": [
       "<Response [200]>"
      ]
     },
     "execution_count": 2,
     "metadata": {},
     "output_type": "execute_result"
    }
   ],
   "source": [
    "# The resp object encapsulates the \"response\" of the server\n",
    "# Notice the status code that is displayed. \n",
    "# Code 200 means that things went fine\n",
    "# Code 404 means that the URL was not found\n",
    "# Codes 5xx mean that something went wrong\n",
    "resp"
   ]
  },
  {
   "cell_type": "code",
   "execution_count": 3,
   "metadata": {},
   "outputs": [
    {
     "name": "stdout",
     "output_type": "stream",
     "text": [
      "Everything was ok: 200\n"
     ]
    }
   ],
   "source": [
    "if (resp.status_code == 200):\n",
    "    print(\"Everything was ok:\", resp.status_code)\n",
    "else:\n",
    "    print(\"There was a problem:\", resp.status_code)"
   ]
  },
  {
   "cell_type": "code",
   "execution_count": 4,
   "metadata": {},
   "outputs": [
    {
     "data": {
      "text/plain": [
       "'{\"ip\":\"128.122.217.142\",\"type\":\"ipv4\",\"continent_code\":\"NA\",\"continent_name\":\"North America\",\"country_code\":\"US\",\"country_name\":\"United States\",\"region_code\":\"NY\",\"region_name\":\"New York\",\"city\":\"New York\",\"zip\":\"10003\",\"latitude\":40.7359,\"longitude\":-73.9904,\"location\":{\"geoname_id\":5128581,\"capital\":\"Washington D.C.\",\"languages\":[{\"code\":\"en\",\"name\":\"English\",\"native\":\"English\"}],\"country_flag\":\"http:\\\\/\\\\/assets.ipstack.com\\\\/flags\\\\/us.svg\",\"country_flag_emoji\":\"\\\\ud83c\\\\uddfa\\\\ud83c\\\\uddf8\",\"country_flag_emoji_unicode\":\"U+1F1FA U+1F1F8\",\"calling_code\":\"1\",\"is_eu\":false}}'"
      ]
     },
     "execution_count": 4,
     "metadata": {},
     "output_type": "execute_result"
    }
   ],
   "source": [
    "# Let's see the content of the response\n",
    "# As you can see, it contain the JSON response\n",
    "data = resp.text\n",
    "data"
   ]
  },
  {
   "cell_type": "code",
   "execution_count": 5,
   "metadata": {},
   "outputs": [],
   "source": [
    "# We want to transform the JSON file into a Python dictionary object\n",
    "# We use the response.json() command to get back a dictionary\n",
    "data = resp.json()"
   ]
  },
  {
   "cell_type": "code",
   "execution_count": 6,
   "metadata": {},
   "outputs": [
    {
     "data": {
      "text/plain": [
       "{'ip': '128.122.217.142',\n",
       " 'type': 'ipv4',\n",
       " 'continent_code': 'NA',\n",
       " 'continent_name': 'North America',\n",
       " 'country_code': 'US',\n",
       " 'country_name': 'United States',\n",
       " 'region_code': 'NY',\n",
       " 'region_name': 'New York',\n",
       " 'city': 'New York',\n",
       " 'zip': '10003',\n",
       " 'latitude': 40.7359,\n",
       " 'longitude': -73.9904,\n",
       " 'location': {'geoname_id': 5128581,\n",
       "  'capital': 'Washington D.C.',\n",
       "  'languages': [{'code': 'en', 'name': 'English', 'native': 'English'}],\n",
       "  'country_flag': 'http://assets.ipstack.com/flags/us.svg',\n",
       "  'country_flag_emoji': '🇺🇸',\n",
       "  'country_flag_emoji_unicode': 'U+1F1FA U+1F1F8',\n",
       "  'calling_code': '1',\n",
       "  'is_eu': False}}"
      ]
     },
     "execution_count": 6,
     "metadata": {},
     "output_type": "execute_result"
    }
   ],
   "source": [
    "# Now data is a Python dictionary\n",
    "data"
   ]
  },
  {
   "cell_type": "code",
   "execution_count": 7,
   "metadata": {},
   "outputs": [
    {
     "name": "stdout",
     "output_type": "stream",
     "text": [
      "Lon: -73.9904 Lat: 40.7359\n"
     ]
    }
   ],
   "source": [
    "# And we can access the fields of the JSON as we normally access Python dictionary entries\n",
    "print(\"Lon:\", data[\"longitude\"], \"Lat:\", data[\"latitude\"])"
   ]
  },
  {
   "cell_type": "markdown",
   "metadata": {},
   "source": [
    "And in one piece:"
   ]
  },
  {
   "cell_type": "code",
   "execution_count": 8,
   "metadata": {},
   "outputs": [
    {
     "name": "stdout",
     "output_type": "stream",
     "text": [
      "Lon: -73.9904 Lat: 40.7359\n"
     ]
    }
   ],
   "source": [
    "import requests\n",
    "url = 'http://api.ipstack.com/check?access_key=dd4cbbbe9d6b9f2709e5f0533644e547'\n",
    "resp = requests.get(url)\n",
    "data = resp.json()\n",
    "print(\"Lon:\", data[\"longitude\"], \"Lat:\", data[\"latitude\"])"
   ]
  },
  {
   "cell_type": "markdown",
   "metadata": {},
   "source": [
    "## Using Parameters with API Calls\n"
   ]
  },
  {
   "cell_type": "markdown",
   "metadata": {},
   "source": [
    "\n",
    "The first API call that we tried was very simple. We just fetched a URL. Now let's see a URL that accepts as input a set of **parameters**. We have already seen this concept with functions; the parameters of the API calls are the exact equivalent but for Web APIs, which are, at their core, functions that we call over the web. "
   ]
  },
  {
   "cell_type": "markdown",
   "metadata": {},
   "source": [
    "### Example: OpenWeatherMap"
   ]
  },
  {
   "cell_type": "markdown",
   "metadata": {},
   "source": [
    "Let's try to query OpenWeatherMap now, to get data about the weather. [Documentation](http://openweathermap.org/current#geo). Below you can find the URL that you can copy and paste in your browser, to get the weather for New York. You will notice that it contains parameters as part of the URL, including an `appid` which is a key that is used to limit the number of calls that can be issued by a single application. \n",
    "\n",
    "Try the URL in your browser. Also try to change the query parameter `q` and change it from `New%20York,NY` to something different. (Note: The `%20` is a transformation for the space (` `) character in URLs.)"
   ]
  },
  {
   "cell_type": "raw",
   "metadata": {},
   "source": [
    "http://api.openweathermap.org/data/2.5/weather #API \"endpoint\" aka address\n",
    "? #Below the parameters\n",
    "q=New%20York,NY,USA\n",
    "&\n",
    "units=imperial\n",
    "&\n",
    "mode=json\n",
    "&\n",
    "appid=ffb7b9808e07c9135bdcc7d1e867253d"
   ]
  },
  {
   "cell_type": "markdown",
   "metadata": {},
   "source": [
    "Below you can find the same code, but now we have a Python dictionary to organize and list the parameters."
   ]
  },
  {
   "cell_type": "code",
   "execution_count": 11,
   "metadata": {},
   "outputs": [
    {
     "data": {
      "text/plain": [
       "{'coord': {'lon': -73.99, 'lat': 40.73},\n",
       " 'weather': [{'id': 501,\n",
       "   'main': 'Rain',\n",
       "   'description': 'moderate rain',\n",
       "   'icon': '10d'},\n",
       "  {'id': 701, 'main': 'Mist', 'description': 'mist', 'icon': '50d'},\n",
       "  {'id': 300,\n",
       "   'main': 'Drizzle',\n",
       "   'description': 'light intensity drizzle',\n",
       "   'icon': '09d'}],\n",
       " 'base': 'stations',\n",
       " 'main': {'temp': 62.94,\n",
       "  'pressure': 1012,\n",
       "  'humidity': 93,\n",
       "  'temp_min': 61,\n",
       "  'temp_max': 64.99},\n",
       " 'visibility': 16093,\n",
       " 'wind': {'speed': 9.17, 'deg': 140},\n",
       " 'rain': {'1h': 1.15},\n",
       " 'clouds': {'all': 90},\n",
       " 'dt': 1559060035,\n",
       " 'sys': {'type': 1,\n",
       "  'id': 4610,\n",
       "  'message': 0.0107,\n",
       "  'country': 'US',\n",
       "  'sunrise': 1559035756,\n",
       "  'sunset': 1559089050},\n",
       " 'timezone': -14400,\n",
       " 'id': 5128581,\n",
       " 'name': 'New York',\n",
       " 'cod': 200}"
      ]
     },
     "execution_count": 11,
     "metadata": {},
     "output_type": "execute_result"
    }
   ],
   "source": [
    "import requests\n",
    "\n",
    "openweathermap_url = \"http://api.openweathermap.org/data/2.5/weather\"\n",
    "parameters = {\n",
    "    'q'     : 'New York, NY, USA',\n",
    "    'units' : 'imperial',\n",
    "    'mode'  : 'json',\n",
    "    'appid' : 'ffb7b9808e07c9135bdcc7d1e867253d'\n",
    "}\n",
    "resp = requests.get(openweathermap_url, params=parameters)\n",
    "data = resp.json()\n",
    "data"
   ]
  },
  {
   "cell_type": "markdown",
   "metadata": {},
   "source": [
    "## Exercise 1"
   ]
  },
  {
   "cell_type": "markdown",
   "metadata": {},
   "source": [
    "\n",
    "a. Extract the current temperature from the returned JSON response.\n"
   ]
  },
  {
   "cell_type": "code",
   "execution_count": 22,
   "metadata": {},
   "outputs": [
    {
     "data": {
      "text/plain": [
       "dict_values([{'lon': -73.99, 'lat': 40.73}, [{'id': 501, 'main': 'Rain', 'description': 'moderate rain', 'icon': '10d'}, {'id': 701, 'main': 'Mist', 'description': 'mist', 'icon': '50d'}, {'id': 300, 'main': 'Drizzle', 'description': 'light intensity drizzle', 'icon': '09d'}], 'stations', {'temp': 62.94, 'pressure': 1012, 'humidity': 93, 'temp_min': 61, 'temp_max': 64.99}, 16093, {'speed': 9.17, 'deg': 140}, {'1h': 1.15}, {'all': 90}, 1559060035, {'type': 1, 'id': 4610, 'message': 0.0107, 'country': 'US', 'sunrise': 1559035756, 'sunset': 1559089050}, -14400, 5128581, 'New York', 200])"
      ]
     },
     "execution_count": 22,
     "metadata": {},
     "output_type": "execute_result"
    }
   ],
   "source": [
    "# your code here\n",
    "data[\"main\"]\n",
    "data[\"main\"][\"temp\"]\n",
    "#data.keys()\n",
    "#data.values()"
   ]
  },
  {
   "cell_type": "code",
   "execution_count": 23,
   "metadata": {},
   "outputs": [
    {
     "data": {
      "text/plain": [
       "62.94"
      ]
     },
     "execution_count": 23,
     "metadata": {},
     "output_type": "execute_result"
    }
   ],
   "source": [
    "data.get(\"main\").get(\"temp\") #another way"
   ]
  },
  {
   "cell_type": "markdown",
   "metadata": {},
   "source": [
    "b. Extract the description of the current weather"
   ]
  },
  {
   "cell_type": "code",
   "execution_count": 31,
   "metadata": {},
   "outputs": [
    {
     "data": {
      "text/plain": [
       "'moderate rain'"
      ]
     },
     "execution_count": 31,
     "metadata": {},
     "output_type": "execute_result"
    }
   ],
   "source": [
    "# your code here\n",
    "#data.get(\"weather\")\n",
    "data[\"weather\"]\n",
    "data[\"weather\"][0]\n",
    "data[\"weather\"][0][\"description\"]"
   ]
  },
  {
   "cell_type": "code",
   "execution_count": 32,
   "metadata": {},
   "outputs": [
    {
     "name": "stdout",
     "output_type": "stream",
     "text": [
      "moderate rain\n",
      "mist\n",
      "light intensity drizzle\n"
     ]
    }
   ],
   "source": [
    "#To access all of them\n",
    "for w in data[\"weather\"]:\n",
    "    print(w[\"description\"])"
   ]
  },
  {
   "cell_type": "markdown",
   "metadata": {},
   "source": [
    "c. Try to change the units to `metric` and repeat\n"
   ]
  },
  {
   "cell_type": "code",
   "execution_count": null,
   "metadata": {},
   "outputs": [],
   "source": [
    "# your code here"
   ]
  },
  {
   "cell_type": "markdown",
   "metadata": {},
   "source": [
    "d. Get the weather for San Francisco, CA\n",
    "\n"
   ]
  },
  {
   "cell_type": "code",
   "execution_count": null,
   "metadata": {},
   "outputs": [],
   "source": [
    "# your code here"
   ]
  },
  {
   "cell_type": "markdown",
   "metadata": {
    "solution2": "hidden",
    "solution2_first": true
   },
   "source": [
    "### Solution for Exercise 1"
   ]
  },
  {
   "cell_type": "code",
   "execution_count": null,
   "metadata": {
    "solution2": "hidden"
   },
   "outputs": [],
   "source": [
    "print(f\"Temperature: {data['main']['temp']}F\")"
   ]
  },
  {
   "cell_type": "code",
   "execution_count": null,
   "metadata": {
    "solution2": "hidden"
   },
   "outputs": [],
   "source": [
    "print(f\"Description: {data['weather'][0]['description']}\")"
   ]
  },
  {
   "cell_type": "code",
   "execution_count": null,
   "metadata": {
    "solution2": "hidden"
   },
   "outputs": [],
   "source": [
    "openweathermap_url = \"http://api.openweathermap.org/data/2.5/weather\"\n",
    "parameters = {\n",
    "    'q'     : 'New York, NY, USA',\n",
    "    'units' : 'metric',\n",
    "    'mode'  : 'json',\n",
    "    'appid' : 'ffb7b9808e07c9135bdcc7d1e867253d'\n",
    "}\n",
    "resp = requests.get(openweathermap_url, params=parameters)\n",
    "data = resp.json()\n",
    "print(f\"Temperature in {data['name']}: {data['main']['temp']}C\")\n",
    "print(f\"Description: {data['weather'][0]['description']}\")     "
   ]
  },
  {
   "cell_type": "code",
   "execution_count": null,
   "metadata": {
    "solution2": "hidden"
   },
   "outputs": [],
   "source": [
    "openweathermap_url = \"http://api.openweathermap.org/data/2.5/weather\"\n",
    "parameters = {\n",
    "    'q'     : 'San Francisco, CA, USA',\n",
    "    'units' : 'imperial',\n",
    "    'mode'  : 'json',\n",
    "    'appid' : 'ffb7b9808e07c9135bdcc7d1e867253d'\n",
    "}\n",
    "resp = requests.get(openweathermap_url, params=parameters)\n",
    "data = resp.json()\n",
    "print(f\"Temperature in {data['name']}: {data['main']['temp']}C\")\n",
    "print(f\"Description: {data['weather'][0]['description']}\")     "
   ]
  },
  {
   "cell_type": "markdown",
   "metadata": {},
   "source": [
    "## Exercise 2\n",
    "\n"
   ]
  },
  {
   "cell_type": "markdown",
   "metadata": {},
   "source": [
    "* Study the documentation of the API ([Documentation](http://openweathermap.org/current#geo)). Change the API call to use the longitute and latitude."
   ]
  },
  {
   "cell_type": "code",
   "execution_count": null,
   "metadata": {},
   "outputs": [],
   "source": [
    "# your code here"
   ]
  },
  {
   "cell_type": "markdown",
   "metadata": {
    "solution2": "hidden",
    "solution2_first": true
   },
   "source": [
    "### Solution for Exercise 2"
   ]
  },
  {
   "cell_type": "code",
   "execution_count": null,
   "metadata": {
    "solution2": "hidden"
   },
   "outputs": [],
   "source": [
    "openweathermap_url = \"http://api.openweathermap.org/data/2.5/weather\"\n",
    "parameters = {\n",
    "    'lat'   : 40.7288962,\n",
    "    'lon'   : -73.9966509,\n",
    "    'units' : 'imperial',\n",
    "    'mode'  : 'json',\n",
    "    'appid' : 'ffb7b9808e07c9135bdcc7d1e867253d'\n",
    "}\n",
    "resp = requests.get(openweathermap_url, params=parameters)\n",
    "data = resp.json()\n",
    "data"
   ]
  },
  {
   "cell_type": "markdown",
   "metadata": {},
   "source": [
    "## Exercise 3\n",
    "\n"
   ]
  },
  {
   "cell_type": "markdown",
   "metadata": {},
   "source": [
    "Read the location of your computer using the GeoIP API. Then use the OpenWeatherMap to query the API and fetch the temperature for the location returned by the GeoIP API. For this exercise, you will need to learn to read variables from a Web API (geoip) and use them as input in another (openweathermap)"
   ]
  },
  {
   "cell_type": "code",
   "execution_count": null,
   "metadata": {},
   "outputs": [],
   "source": [
    "#your code here"
   ]
  },
  {
   "cell_type": "markdown",
   "metadata": {
    "solution2": "hidden",
    "solution2_first": true
   },
   "source": [
    "### Solution for Exercise 3"
   ]
  },
  {
   "cell_type": "code",
   "execution_count": null,
   "metadata": {
    "scrolled": true,
    "solution2": "hidden"
   },
   "outputs": [],
   "source": [
    "import requests\n",
    "geoip_url = 'http://api.ipstack.com/check?access_key=dd4cbbbe9d6b9f2709e5f0533644e547'\n",
    "resp = requests.get(geoip_url)\n",
    "data = resp.json()\n",
    "lon = data[\"longitude\"]\n",
    "lat = data[\"latitude\"]\n",
    "\n",
    "openweathermap_url = \"http://api.openweathermap.org/data/2.5/weather\"\n",
    "parameters = {\n",
    "    'lat'   : str(lat),\n",
    "    'lon'   : str(lon),\n",
    "    'units' : 'imperial',\n",
    "    'mode'  : 'json',\n",
    "    'appid' : 'ffb7b9808e07c9135bdcc7d1e867253d'\n",
    "}\n",
    "resp = requests.get(openweathermap_url, params=parameters)\n",
    "data = resp.json()\n",
    "print(\"Location:\", data['name'])\n",
    "print(\"Weather:\", data['weather'][0]['description'])\n",
    "print(\"Temperature:\", data['main']['temp'])"
   ]
  }
 ],
 "metadata": {
  "kernelspec": {
   "display_name": "Python 3",
   "language": "python",
   "name": "python3"
  },
  "language_info": {
   "codemirror_mode": {
    "name": "ipython",
    "version": 3
   },
   "file_extension": ".py",
   "mimetype": "text/x-python",
   "name": "python",
   "nbconvert_exporter": "python",
   "pygments_lexer": "ipython3",
   "version": "3.6.7"
  },
  "toc": {
   "nav_menu": {},
   "number_sections": true,
   "sideBar": true,
   "skip_h1_title": false,
   "title_cell": "Table of Contents",
   "title_sidebar": "Contents",
   "toc_cell": false,
   "toc_position": {},
   "toc_section_display": true,
   "toc_window_display": false
  }
 },
 "nbformat": 4,
 "nbformat_minor": 1
}
